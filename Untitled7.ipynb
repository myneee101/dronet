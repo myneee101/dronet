{
 "cells": [
  {
   "cell_type": "code",
   "execution_count": null,
   "id": "1490f343",
   "metadata": {},
   "outputs": [],
   "source": []
  },
  {
   "cell_type": "code",
   "execution_count": null,
   "id": "499075e3",
   "metadata": {},
   "outputs": [],
   "source": [
    "'age','education','cigsPerDay','BPMeds','totChol','BMI','heartRate','glucose'"
   ]
  },
  {
   "cell_type": "code",
   "execution_count": 25,
   "id": "6f894320",
   "metadata": {},
   "outputs": [
    {
     "name": "stdout",
     "output_type": "stream",
     "text": [
      "SVM: 0.933333 (0.133333)\n"
     ]
    },
    {
     "name": "stderr",
     "output_type": "stream",
     "text": [
      "C:\\Users\\myneee101\\anaconda3\\lib\\site-packages\\sklearn\\model_selection\\_split.py:666: UserWarning: The least populated class in y has only 2 members, which is less than n_splits=10.\n",
      "  warnings.warn((\"The least populated class in y has only %d\"\n"
     ]
    }
   ],
   "source": [
    "import pandas as pd\n",
    "import numpy as np\n",
    "from sklearn.svm import SVC \n",
    "from sklearn.model_selection import cross_val_score\n",
    "from sklearn.model_selection import StratifiedKFold\n",
    "from sklearn.model_selection import train_test_split\n",
    "data = pd.read_csv(\"framingham_Balu_edits.csv\")\n",
    "data[[ 'age','education','cigsPerDay','BPMeds','totChol','BMI','heartRate','glucose']] = data[[ 'age','education','cigsPerDay','BPMeds','totChol','BMI','heartRate','glucose']].replace(0, np.NaN)\n",
    "data[[ 'age','education','cigsPerDay','BPMeds','totChol','BMI','heartRate','glucose']] = data[[ 'age','education','cigsPerDay','BPMeds','totChol','BMI','heartRate','glucose']].replace(99999, np.NaN)\n",
    "data.dropna(inplace=True)\n",
    "array = data.values\n",
    "X = array[:,0:8]\n",
    "Y = array[:,8]\n",
    "X_train, X_validation, Y_train, Y_validation = train_test_split(X, Y, test_size=0.20, random_state=1)\n",
    "models = []\n",
    "models.append(('SVM', SVC(gamma='auto')))\n",
    "results = []\n",
    "names = []\n",
    "for name, model in models:\n",
    "      kfold = StratifiedKFold(n_splits=10, random_state=1, shuffle=True) \n",
    "      cv_results = cross_val_score(model, X_train, Y_train, cv=kfold, scoring='accuracy')\n",
    "      results.append(cv_results)\n",
    "      names.append(name)\n",
    "      print('%s: %f (%f)' % (name, cv_results.mean(), cv_results.std()))"
   ]
  },
  {
   "cell_type": "code",
   "execution_count": null,
   "id": "4f6e78ad",
   "metadata": {},
   "outputs": [],
   "source": []
  },
  {
   "cell_type": "code",
   "execution_count": null,
   "id": "814819e9",
   "metadata": {},
   "outputs": [],
   "source": []
  },
  {
   "cell_type": "code",
   "execution_count": null,
   "id": "7d4847d9",
   "metadata": {},
   "outputs": [],
   "source": []
  },
  {
   "cell_type": "code",
   "execution_count": null,
   "id": "8dbc9ba1",
   "metadata": {},
   "outputs": [],
   "source": []
  },
  {
   "cell_type": "code",
   "execution_count": null,
   "id": "5fa57ce7",
   "metadata": {},
   "outputs": [],
   "source": []
  },
  {
   "cell_type": "code",
   "execution_count": null,
   "id": "eb35a9c7",
   "metadata": {},
   "outputs": [],
   "source": []
  }
 ],
 "metadata": {
  "kernelspec": {
   "display_name": "Python 3 (ipykernel)",
   "language": "python",
   "name": "python3"
  },
  "language_info": {
   "codemirror_mode": {
    "name": "ipython",
    "version": 3
   },
   "file_extension": ".py",
   "mimetype": "text/x-python",
   "name": "python",
   "nbconvert_exporter": "python",
   "pygments_lexer": "ipython3",
   "version": "3.9.7"
  }
 },
 "nbformat": 4,
 "nbformat_minor": 5
}
