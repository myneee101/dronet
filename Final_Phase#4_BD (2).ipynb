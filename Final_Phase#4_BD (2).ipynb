{
 "cells": [
  {
   "cell_type": "markdown",
   "metadata": {},
   "source": [
    "# Import Libraries"
   ]
  },
  {
   "cell_type": "code",
   "execution_count": 2,
   "metadata": {
    "executionInfo": {
     "elapsed": 3187,
     "status": "ok",
     "timestamp": 1663916300572,
     "user": {
      "displayName": "Shima Bala",
      "userId": "16644015687034852305"
     },
     "user_tz": -360
    },
    "id": "CC1P_qSlWpy_"
   },
   "outputs": [],
   "source": [
    "import sys\n",
    "import keras\n",
    "import sklearn\n",
    "import itertools\n",
    "import numpy as np\n",
    "import pandas as pd\n",
    "import seaborn as sns\n",
    "from sklearn import metrics\n",
    "import sklearn.preprocessing\n",
    "from scipy.stats import zscore\n",
    "import matplotlib.pyplot as plt\n",
    "from keras.models import Sequential\n",
    "from tensorflow.keras.utils import to_categorical\n",
    "from tensorflow.keras.utils import get_file, plot_model\n",
    "from sklearn.model_selection import train_test_split\n",
    "from tensorflow.keras.callbacks import EarlyStopping\n",
    "from keras.layers import Dense, Dropout, Activation, Embedding\n",
    "from keras.layers import LSTM, SimpleRNN, GRU, Bidirectional, BatchNormalization,Convolution1D,MaxPooling1D, Reshape, GlobalAveragePooling1D\n",
    "from sklearn.metrics import accuracy_score, f1_score, precision_score,recall_score, confusion_matrix\n",
    "from sklearn.model_selection import StratifiedKFold\n",
    "from sklearn.linear_model import Perceptron\n",
    "from sklearn.linear_model import LogisticRegression\n",
    "from sklearn.neural_network import MLPClassifier\n",
    "from sklearn.tree import DecisionTreeClassifier\n",
    "from sklearn.ensemble import RandomForestClassifier, VotingClassifier\n",
    "from sklearn.ensemble import BaggingClassifier\n",
    "from sklearn.ensemble import AdaBoostClassifier\n",
    "import sklearn.metrics as metrics\n",
    "from sklearn import svm, datasets\n",
    "from sklearn.utils.multiclass import unique_labels\n",
    "from sklearn.preprocessing import label_binarize\n",
    "from sklearn.multiclass import OneVsRestClassifier\n",
    "from scipy import interp\n",
    "from itertools import cycle\n",
    "from sklearn.datasets import make_classification\n",
    "from sklearn.neighbors import KNeighborsClassifier\n",
    "import warnings\n",
    "warnings.filterwarnings('ignore')"
   ]
  },
  {
   "cell_type": "markdown",
   "metadata": {},
   "source": [
    "# Load Dataset"
   ]
  },
  {
   "cell_type": "code",
   "execution_count": 3,
   "metadata": {
    "_cell_guid": "79c7e3d0-c299-4dcb-8224-4455121ee9b0",
    "_uuid": "d629ff2d2480ee46fbb7e2d37f6b5fab8052498a",
    "colab": {
     "base_uri": "https://localhost:8080/",
     "height": 236
    },
    "executionInfo": {
     "elapsed": 1498,
     "status": "ok",
     "timestamp": 1663916344701,
     "user": {
      "displayName": "Shima Bala",
      "userId": "16644015687034852305"
     },
     "user_tz": -360
    },
    "id": "ZR4fiHTHWpzC",
    "outputId": "52dba3cc-2b32-4829-f4ff-4e4bf9ba8b02"
   },
   "outputs": [
    {
     "data": {
      "text/html": [
       "<div>\n",
       "<style scoped>\n",
       "    .dataframe tbody tr th:only-of-type {\n",
       "        vertical-align: middle;\n",
       "    }\n",
       "\n",
       "    .dataframe tbody tr th {\n",
       "        vertical-align: top;\n",
       "    }\n",
       "\n",
       "    .dataframe thead th {\n",
       "        text-align: right;\n",
       "    }\n",
       "</style>\n",
       "<table border=\"1\" class=\"dataframe\">\n",
       "  <thead>\n",
       "    <tr style=\"text-align: right;\">\n",
       "      <th></th>\n",
       "      <th>0</th>\n",
       "      <th>1</th>\n",
       "      <th>2</th>\n",
       "      <th>3</th>\n",
       "      <th>4</th>\n",
       "      <th>5</th>\n",
       "      <th>6</th>\n",
       "      <th>7</th>\n",
       "      <th>8</th>\n",
       "      <th>9</th>\n",
       "      <th>...</th>\n",
       "      <th>33</th>\n",
       "      <th>34</th>\n",
       "      <th>35</th>\n",
       "      <th>36</th>\n",
       "      <th>37</th>\n",
       "      <th>38</th>\n",
       "      <th>39</th>\n",
       "      <th>40</th>\n",
       "      <th>41</th>\n",
       "      <th>42</th>\n",
       "    </tr>\n",
       "  </thead>\n",
       "  <tbody>\n",
       "    <tr>\n",
       "      <th>0</th>\n",
       "      <td>0</td>\n",
       "      <td>tcp</td>\n",
       "      <td>ftp_data</td>\n",
       "      <td>SF</td>\n",
       "      <td>491</td>\n",
       "      <td>0</td>\n",
       "      <td>0</td>\n",
       "      <td>0</td>\n",
       "      <td>0</td>\n",
       "      <td>0</td>\n",
       "      <td>...</td>\n",
       "      <td>0.17</td>\n",
       "      <td>0.03</td>\n",
       "      <td>0.17</td>\n",
       "      <td>0.00</td>\n",
       "      <td>0.00</td>\n",
       "      <td>0.00</td>\n",
       "      <td>0.05</td>\n",
       "      <td>0.00</td>\n",
       "      <td>normal</td>\n",
       "      <td>20</td>\n",
       "    </tr>\n",
       "    <tr>\n",
       "      <th>1</th>\n",
       "      <td>0</td>\n",
       "      <td>udp</td>\n",
       "      <td>other</td>\n",
       "      <td>SF</td>\n",
       "      <td>146</td>\n",
       "      <td>0</td>\n",
       "      <td>0</td>\n",
       "      <td>0</td>\n",
       "      <td>0</td>\n",
       "      <td>0</td>\n",
       "      <td>...</td>\n",
       "      <td>0.00</td>\n",
       "      <td>0.60</td>\n",
       "      <td>0.88</td>\n",
       "      <td>0.00</td>\n",
       "      <td>0.00</td>\n",
       "      <td>0.00</td>\n",
       "      <td>0.00</td>\n",
       "      <td>0.00</td>\n",
       "      <td>normal</td>\n",
       "      <td>15</td>\n",
       "    </tr>\n",
       "    <tr>\n",
       "      <th>2</th>\n",
       "      <td>0</td>\n",
       "      <td>tcp</td>\n",
       "      <td>private</td>\n",
       "      <td>S0</td>\n",
       "      <td>0</td>\n",
       "      <td>0</td>\n",
       "      <td>0</td>\n",
       "      <td>0</td>\n",
       "      <td>0</td>\n",
       "      <td>0</td>\n",
       "      <td>...</td>\n",
       "      <td>0.10</td>\n",
       "      <td>0.05</td>\n",
       "      <td>0.00</td>\n",
       "      <td>0.00</td>\n",
       "      <td>1.00</td>\n",
       "      <td>1.00</td>\n",
       "      <td>0.00</td>\n",
       "      <td>0.00</td>\n",
       "      <td>neptune</td>\n",
       "      <td>19</td>\n",
       "    </tr>\n",
       "    <tr>\n",
       "      <th>3</th>\n",
       "      <td>0</td>\n",
       "      <td>tcp</td>\n",
       "      <td>http</td>\n",
       "      <td>SF</td>\n",
       "      <td>232</td>\n",
       "      <td>8153</td>\n",
       "      <td>0</td>\n",
       "      <td>0</td>\n",
       "      <td>0</td>\n",
       "      <td>0</td>\n",
       "      <td>...</td>\n",
       "      <td>1.00</td>\n",
       "      <td>0.00</td>\n",
       "      <td>0.03</td>\n",
       "      <td>0.04</td>\n",
       "      <td>0.03</td>\n",
       "      <td>0.01</td>\n",
       "      <td>0.00</td>\n",
       "      <td>0.01</td>\n",
       "      <td>normal</td>\n",
       "      <td>21</td>\n",
       "    </tr>\n",
       "    <tr>\n",
       "      <th>4</th>\n",
       "      <td>0</td>\n",
       "      <td>tcp</td>\n",
       "      <td>http</td>\n",
       "      <td>SF</td>\n",
       "      <td>199</td>\n",
       "      <td>420</td>\n",
       "      <td>0</td>\n",
       "      <td>0</td>\n",
       "      <td>0</td>\n",
       "      <td>0</td>\n",
       "      <td>...</td>\n",
       "      <td>1.00</td>\n",
       "      <td>0.00</td>\n",
       "      <td>0.00</td>\n",
       "      <td>0.00</td>\n",
       "      <td>0.00</td>\n",
       "      <td>0.00</td>\n",
       "      <td>0.00</td>\n",
       "      <td>0.00</td>\n",
       "      <td>normal</td>\n",
       "      <td>21</td>\n",
       "    </tr>\n",
       "  </tbody>\n",
       "</table>\n",
       "<p>5 rows × 43 columns</p>\n",
       "</div>"
      ],
      "text/plain": [
       "   0    1         2   3    4     5   6   7   8   9   ...    33    34    35  \\\n",
       "0   0  tcp  ftp_data  SF  491     0   0   0   0   0  ...  0.17  0.03  0.17   \n",
       "1   0  udp     other  SF  146     0   0   0   0   0  ...  0.00  0.60  0.88   \n",
       "2   0  tcp   private  S0    0     0   0   0   0   0  ...  0.10  0.05  0.00   \n",
       "3   0  tcp      http  SF  232  8153   0   0   0   0  ...  1.00  0.00  0.03   \n",
       "4   0  tcp      http  SF  199   420   0   0   0   0  ...  1.00  0.00  0.00   \n",
       "\n",
       "     36    37    38    39    40       41  42  \n",
       "0  0.00  0.00  0.00  0.05  0.00   normal  20  \n",
       "1  0.00  0.00  0.00  0.00  0.00   normal  15  \n",
       "2  0.00  1.00  1.00  0.00  0.00  neptune  19  \n",
       "3  0.04  0.03  0.01  0.00  0.01   normal  21  \n",
       "4  0.00  0.00  0.00  0.00  0.00   normal  21  \n",
       "\n",
       "[5 rows x 43 columns]"
      ]
     },
     "execution_count": 3,
     "metadata": {},
     "output_type": "execute_result"
    }
   ],
   "source": [
    "df = pd.read_csv('NSL-KDD-Dataset-master/KDDTrain+.txt', header=None)\n",
    "df.head()"
   ]
  },
  {
   "cell_type": "code",
   "execution_count": 4,
   "metadata": {
    "colab": {
     "base_uri": "https://localhost:8080/",
     "height": 236
    },
    "executionInfo": {
     "elapsed": 28,
     "status": "ok",
     "timestamp": 1663916365578,
     "user": {
      "displayName": "Shima Bala",
      "userId": "16644015687034852305"
     },
     "user_tz": -360
    },
    "id": "vIVhsN2zWpzF",
    "outputId": "6d4229e0-9fb2-4450-a1a3-2b79a01be709"
   },
   "outputs": [
    {
     "data": {
      "text/html": [
       "<div>\n",
       "<style scoped>\n",
       "    .dataframe tbody tr th:only-of-type {\n",
       "        vertical-align: middle;\n",
       "    }\n",
       "\n",
       "    .dataframe tbody tr th {\n",
       "        vertical-align: top;\n",
       "    }\n",
       "\n",
       "    .dataframe thead th {\n",
       "        text-align: right;\n",
       "    }\n",
       "</style>\n",
       "<table border=\"1\" class=\"dataframe\">\n",
       "  <thead>\n",
       "    <tr style=\"text-align: right;\">\n",
       "      <th></th>\n",
       "      <th>0</th>\n",
       "      <th>1</th>\n",
       "      <th>2</th>\n",
       "      <th>3</th>\n",
       "      <th>4</th>\n",
       "      <th>5</th>\n",
       "      <th>6</th>\n",
       "      <th>7</th>\n",
       "      <th>8</th>\n",
       "      <th>9</th>\n",
       "      <th>...</th>\n",
       "      <th>33</th>\n",
       "      <th>34</th>\n",
       "      <th>35</th>\n",
       "      <th>36</th>\n",
       "      <th>37</th>\n",
       "      <th>38</th>\n",
       "      <th>39</th>\n",
       "      <th>40</th>\n",
       "      <th>41</th>\n",
       "      <th>42</th>\n",
       "    </tr>\n",
       "  </thead>\n",
       "  <tbody>\n",
       "    <tr>\n",
       "      <th>0</th>\n",
       "      <td>0</td>\n",
       "      <td>tcp</td>\n",
       "      <td>private</td>\n",
       "      <td>REJ</td>\n",
       "      <td>0</td>\n",
       "      <td>0</td>\n",
       "      <td>0</td>\n",
       "      <td>0</td>\n",
       "      <td>0</td>\n",
       "      <td>0</td>\n",
       "      <td>...</td>\n",
       "      <td>0.04</td>\n",
       "      <td>0.06</td>\n",
       "      <td>0.00</td>\n",
       "      <td>0.00</td>\n",
       "      <td>0.0</td>\n",
       "      <td>0.0</td>\n",
       "      <td>1.00</td>\n",
       "      <td>1.00</td>\n",
       "      <td>neptune</td>\n",
       "      <td>21</td>\n",
       "    </tr>\n",
       "    <tr>\n",
       "      <th>1</th>\n",
       "      <td>0</td>\n",
       "      <td>tcp</td>\n",
       "      <td>private</td>\n",
       "      <td>REJ</td>\n",
       "      <td>0</td>\n",
       "      <td>0</td>\n",
       "      <td>0</td>\n",
       "      <td>0</td>\n",
       "      <td>0</td>\n",
       "      <td>0</td>\n",
       "      <td>...</td>\n",
       "      <td>0.00</td>\n",
       "      <td>0.06</td>\n",
       "      <td>0.00</td>\n",
       "      <td>0.00</td>\n",
       "      <td>0.0</td>\n",
       "      <td>0.0</td>\n",
       "      <td>1.00</td>\n",
       "      <td>1.00</td>\n",
       "      <td>neptune</td>\n",
       "      <td>21</td>\n",
       "    </tr>\n",
       "    <tr>\n",
       "      <th>2</th>\n",
       "      <td>2</td>\n",
       "      <td>tcp</td>\n",
       "      <td>ftp_data</td>\n",
       "      <td>SF</td>\n",
       "      <td>12983</td>\n",
       "      <td>0</td>\n",
       "      <td>0</td>\n",
       "      <td>0</td>\n",
       "      <td>0</td>\n",
       "      <td>0</td>\n",
       "      <td>...</td>\n",
       "      <td>0.61</td>\n",
       "      <td>0.04</td>\n",
       "      <td>0.61</td>\n",
       "      <td>0.02</td>\n",
       "      <td>0.0</td>\n",
       "      <td>0.0</td>\n",
       "      <td>0.00</td>\n",
       "      <td>0.00</td>\n",
       "      <td>normal</td>\n",
       "      <td>21</td>\n",
       "    </tr>\n",
       "    <tr>\n",
       "      <th>3</th>\n",
       "      <td>0</td>\n",
       "      <td>icmp</td>\n",
       "      <td>eco_i</td>\n",
       "      <td>SF</td>\n",
       "      <td>20</td>\n",
       "      <td>0</td>\n",
       "      <td>0</td>\n",
       "      <td>0</td>\n",
       "      <td>0</td>\n",
       "      <td>0</td>\n",
       "      <td>...</td>\n",
       "      <td>1.00</td>\n",
       "      <td>0.00</td>\n",
       "      <td>1.00</td>\n",
       "      <td>0.28</td>\n",
       "      <td>0.0</td>\n",
       "      <td>0.0</td>\n",
       "      <td>0.00</td>\n",
       "      <td>0.00</td>\n",
       "      <td>saint</td>\n",
       "      <td>15</td>\n",
       "    </tr>\n",
       "    <tr>\n",
       "      <th>4</th>\n",
       "      <td>1</td>\n",
       "      <td>tcp</td>\n",
       "      <td>telnet</td>\n",
       "      <td>RSTO</td>\n",
       "      <td>0</td>\n",
       "      <td>15</td>\n",
       "      <td>0</td>\n",
       "      <td>0</td>\n",
       "      <td>0</td>\n",
       "      <td>0</td>\n",
       "      <td>...</td>\n",
       "      <td>0.31</td>\n",
       "      <td>0.17</td>\n",
       "      <td>0.03</td>\n",
       "      <td>0.02</td>\n",
       "      <td>0.0</td>\n",
       "      <td>0.0</td>\n",
       "      <td>0.83</td>\n",
       "      <td>0.71</td>\n",
       "      <td>mscan</td>\n",
       "      <td>11</td>\n",
       "    </tr>\n",
       "  </tbody>\n",
       "</table>\n",
       "<p>5 rows × 43 columns</p>\n",
       "</div>"
      ],
      "text/plain": [
       "   0     1         2     3      4   5   6   7   8   9   ...    33    34    35  \\\n",
       "0   0   tcp   private   REJ      0   0   0   0   0   0  ...  0.04  0.06  0.00   \n",
       "1   0   tcp   private   REJ      0   0   0   0   0   0  ...  0.00  0.06  0.00   \n",
       "2   2   tcp  ftp_data    SF  12983   0   0   0   0   0  ...  0.61  0.04  0.61   \n",
       "3   0  icmp     eco_i    SF     20   0   0   0   0   0  ...  1.00  0.00  1.00   \n",
       "4   1   tcp    telnet  RSTO      0  15   0   0   0   0  ...  0.31  0.17  0.03   \n",
       "\n",
       "     36   37   38    39    40       41  42  \n",
       "0  0.00  0.0  0.0  1.00  1.00  neptune  21  \n",
       "1  0.00  0.0  0.0  1.00  1.00  neptune  21  \n",
       "2  0.02  0.0  0.0  0.00  0.00   normal  21  \n",
       "3  0.28  0.0  0.0  0.00  0.00    saint  15  \n",
       "4  0.02  0.0  0.0  0.83  0.71    mscan  11  \n",
       "\n",
       "[5 rows x 43 columns]"
      ]
     },
     "execution_count": 4,
     "metadata": {},
     "output_type": "execute_result"
    }
   ],
   "source": [
    "qp = pd.read_csv('NSL-KDD-Dataset-master/KDDTest+.txt', header=None)\n",
    "qp.head()"
   ]
  },
  {
   "cell_type": "code",
   "execution_count": 5,
   "metadata": {
    "colab": {
     "base_uri": "https://localhost:8080/",
     "height": 300
    },
    "executionInfo": {
     "elapsed": 469,
     "status": "ok",
     "timestamp": 1663916372992,
     "user": {
      "displayName": "Shima Bala",
      "userId": "16644015687034852305"
     },
     "user_tz": -360
    },
    "id": "RLxEUsBjWpzH",
    "outputId": "17eae4e3-b695-419f-da5c-5a41be0e961d"
   },
   "outputs": [
    {
     "data": {
      "text/html": [
       "<div>\n",
       "<style scoped>\n",
       "    .dataframe tbody tr th:only-of-type {\n",
       "        vertical-align: middle;\n",
       "    }\n",
       "\n",
       "    .dataframe tbody tr th {\n",
       "        vertical-align: top;\n",
       "    }\n",
       "\n",
       "    .dataframe thead th {\n",
       "        text-align: right;\n",
       "    }\n",
       "</style>\n",
       "<table border=\"1\" class=\"dataframe\">\n",
       "  <thead>\n",
       "    <tr style=\"text-align: right;\">\n",
       "      <th></th>\n",
       "      <th>duration</th>\n",
       "      <th>protocol_type</th>\n",
       "      <th>service</th>\n",
       "      <th>flag</th>\n",
       "      <th>src_bytes</th>\n",
       "      <th>dst_bytes</th>\n",
       "      <th>land</th>\n",
       "      <th>wrong_fragment</th>\n",
       "      <th>urgent</th>\n",
       "      <th>hot</th>\n",
       "      <th>...</th>\n",
       "      <th>dst_host_same_srv_rate</th>\n",
       "      <th>dst_host_diff_srv_rate</th>\n",
       "      <th>dst_host_same_src_port_rate</th>\n",
       "      <th>dst_host_srv_diff_host_rate</th>\n",
       "      <th>dst_host_serror_rate</th>\n",
       "      <th>dst_host_srv_serror_rate</th>\n",
       "      <th>dst_host_rerror_rate</th>\n",
       "      <th>dst_host_srv_rerror_rate</th>\n",
       "      <th>subclass</th>\n",
       "      <th>difficulty_level</th>\n",
       "    </tr>\n",
       "  </thead>\n",
       "  <tbody>\n",
       "    <tr>\n",
       "      <th>0</th>\n",
       "      <td>0</td>\n",
       "      <td>tcp</td>\n",
       "      <td>ftp_data</td>\n",
       "      <td>SF</td>\n",
       "      <td>491</td>\n",
       "      <td>0</td>\n",
       "      <td>0</td>\n",
       "      <td>0</td>\n",
       "      <td>0</td>\n",
       "      <td>0</td>\n",
       "      <td>...</td>\n",
       "      <td>0.17</td>\n",
       "      <td>0.03</td>\n",
       "      <td>0.17</td>\n",
       "      <td>0.00</td>\n",
       "      <td>0.00</td>\n",
       "      <td>0.00</td>\n",
       "      <td>0.05</td>\n",
       "      <td>0.00</td>\n",
       "      <td>normal</td>\n",
       "      <td>20</td>\n",
       "    </tr>\n",
       "    <tr>\n",
       "      <th>1</th>\n",
       "      <td>0</td>\n",
       "      <td>udp</td>\n",
       "      <td>other</td>\n",
       "      <td>SF</td>\n",
       "      <td>146</td>\n",
       "      <td>0</td>\n",
       "      <td>0</td>\n",
       "      <td>0</td>\n",
       "      <td>0</td>\n",
       "      <td>0</td>\n",
       "      <td>...</td>\n",
       "      <td>0.00</td>\n",
       "      <td>0.60</td>\n",
       "      <td>0.88</td>\n",
       "      <td>0.00</td>\n",
       "      <td>0.00</td>\n",
       "      <td>0.00</td>\n",
       "      <td>0.00</td>\n",
       "      <td>0.00</td>\n",
       "      <td>normal</td>\n",
       "      <td>15</td>\n",
       "    </tr>\n",
       "    <tr>\n",
       "      <th>2</th>\n",
       "      <td>0</td>\n",
       "      <td>tcp</td>\n",
       "      <td>private</td>\n",
       "      <td>S0</td>\n",
       "      <td>0</td>\n",
       "      <td>0</td>\n",
       "      <td>0</td>\n",
       "      <td>0</td>\n",
       "      <td>0</td>\n",
       "      <td>0</td>\n",
       "      <td>...</td>\n",
       "      <td>0.10</td>\n",
       "      <td>0.05</td>\n",
       "      <td>0.00</td>\n",
       "      <td>0.00</td>\n",
       "      <td>1.00</td>\n",
       "      <td>1.00</td>\n",
       "      <td>0.00</td>\n",
       "      <td>0.00</td>\n",
       "      <td>neptune</td>\n",
       "      <td>19</td>\n",
       "    </tr>\n",
       "    <tr>\n",
       "      <th>3</th>\n",
       "      <td>0</td>\n",
       "      <td>tcp</td>\n",
       "      <td>http</td>\n",
       "      <td>SF</td>\n",
       "      <td>232</td>\n",
       "      <td>8153</td>\n",
       "      <td>0</td>\n",
       "      <td>0</td>\n",
       "      <td>0</td>\n",
       "      <td>0</td>\n",
       "      <td>...</td>\n",
       "      <td>1.00</td>\n",
       "      <td>0.00</td>\n",
       "      <td>0.03</td>\n",
       "      <td>0.04</td>\n",
       "      <td>0.03</td>\n",
       "      <td>0.01</td>\n",
       "      <td>0.00</td>\n",
       "      <td>0.01</td>\n",
       "      <td>normal</td>\n",
       "      <td>21</td>\n",
       "    </tr>\n",
       "    <tr>\n",
       "      <th>4</th>\n",
       "      <td>0</td>\n",
       "      <td>tcp</td>\n",
       "      <td>http</td>\n",
       "      <td>SF</td>\n",
       "      <td>199</td>\n",
       "      <td>420</td>\n",
       "      <td>0</td>\n",
       "      <td>0</td>\n",
       "      <td>0</td>\n",
       "      <td>0</td>\n",
       "      <td>...</td>\n",
       "      <td>1.00</td>\n",
       "      <td>0.00</td>\n",
       "      <td>0.00</td>\n",
       "      <td>0.00</td>\n",
       "      <td>0.00</td>\n",
       "      <td>0.00</td>\n",
       "      <td>0.00</td>\n",
       "      <td>0.00</td>\n",
       "      <td>normal</td>\n",
       "      <td>21</td>\n",
       "    </tr>\n",
       "  </tbody>\n",
       "</table>\n",
       "<p>5 rows × 43 columns</p>\n",
       "</div>"
      ],
      "text/plain": [
       "   duration protocol_type   service flag  src_bytes  dst_bytes  land  \\\n",
       "0         0           tcp  ftp_data   SF        491          0     0   \n",
       "1         0           udp     other   SF        146          0     0   \n",
       "2         0           tcp   private   S0          0          0     0   \n",
       "3         0           tcp      http   SF        232       8153     0   \n",
       "4         0           tcp      http   SF        199        420     0   \n",
       "\n",
       "   wrong_fragment  urgent  hot  ...  dst_host_same_srv_rate  \\\n",
       "0               0       0    0  ...                    0.17   \n",
       "1               0       0    0  ...                    0.00   \n",
       "2               0       0    0  ...                    0.10   \n",
       "3               0       0    0  ...                    1.00   \n",
       "4               0       0    0  ...                    1.00   \n",
       "\n",
       "   dst_host_diff_srv_rate  dst_host_same_src_port_rate  \\\n",
       "0                    0.03                         0.17   \n",
       "1                    0.60                         0.88   \n",
       "2                    0.05                         0.00   \n",
       "3                    0.00                         0.03   \n",
       "4                    0.00                         0.00   \n",
       "\n",
       "   dst_host_srv_diff_host_rate  dst_host_serror_rate  \\\n",
       "0                         0.00                  0.00   \n",
       "1                         0.00                  0.00   \n",
       "2                         0.00                  1.00   \n",
       "3                         0.04                  0.03   \n",
       "4                         0.00                  0.00   \n",
       "\n",
       "   dst_host_srv_serror_rate  dst_host_rerror_rate  dst_host_srv_rerror_rate  \\\n",
       "0                      0.00                  0.05                      0.00   \n",
       "1                      0.00                  0.00                      0.00   \n",
       "2                      1.00                  0.00                      0.00   \n",
       "3                      0.01                  0.00                      0.01   \n",
       "4                      0.00                  0.00                      0.00   \n",
       "\n",
       "   subclass  difficulty_level  \n",
       "0    normal                20  \n",
       "1    normal                15  \n",
       "2   neptune                19  \n",
       "3    normal                21  \n",
       "4    normal                21  \n",
       "\n",
       "[5 rows x 43 columns]"
      ]
     },
     "execution_count": 5,
     "metadata": {},
     "output_type": "execute_result"
    }
   ],
   "source": [
    "df.columns = ['duration', 'protocol_type', 'service', 'flag', 'src_bytes',\n",
    "'dst_bytes', 'land', 'wrong_fragment', 'urgent', 'hot',\n",
    "'num_failed_logins', 'logged_in', 'num_compromised', 'root_shell',\n",
    "'su_attempted', 'num_root', 'num_file_creations', 'num_shells',\n",
    "'num_access_files', 'num_outbound_cmds', 'is_host_login',\n",
    "'is_guest_login', 'count', 'srv_count', 'serror_rate',\n",
    "'srv_serror_rate', 'rerror_rate', 'srv_rerror_rate', 'same_srv_rate',\n",
    "'diff_srv_rate', 'srv_diff_host_rate', 'dst_host_count',\n",
    "'dst_host_srv_count', 'dst_host_same_srv_rate','dst_host_diff_srv_rate', 'dst_host_same_src_port_rate',\n",
    "'dst_host_srv_diff_host_rate', 'dst_host_serror_rate',\n",
    "'dst_host_srv_serror_rate', 'dst_host_rerror_rate',\n",
    "'dst_host_srv_rerror_rate', 'subclass', 'difficulty_level']\n",
    "df.head()"
   ]
  },
  {
   "cell_type": "code",
   "execution_count": 6,
   "metadata": {
    "colab": {
     "base_uri": "https://localhost:8080/",
     "height": 300
    },
    "executionInfo": {
     "elapsed": 475,
     "status": "ok",
     "timestamp": 1663916379103,
     "user": {
      "displayName": "Shima Bala",
      "userId": "16644015687034852305"
     },
     "user_tz": -360
    },
    "id": "LdxJa_6DWpzJ",
    "outputId": "9422aba2-e882-4c92-d85e-1d98d464fd3c"
   },
   "outputs": [
    {
     "data": {
      "text/html": [
       "<div>\n",
       "<style scoped>\n",
       "    .dataframe tbody tr th:only-of-type {\n",
       "        vertical-align: middle;\n",
       "    }\n",
       "\n",
       "    .dataframe tbody tr th {\n",
       "        vertical-align: top;\n",
       "    }\n",
       "\n",
       "    .dataframe thead th {\n",
       "        text-align: right;\n",
       "    }\n",
       "</style>\n",
       "<table border=\"1\" class=\"dataframe\">\n",
       "  <thead>\n",
       "    <tr style=\"text-align: right;\">\n",
       "      <th></th>\n",
       "      <th>duration</th>\n",
       "      <th>protocol_type</th>\n",
       "      <th>service</th>\n",
       "      <th>flag</th>\n",
       "      <th>src_bytes</th>\n",
       "      <th>dst_bytes</th>\n",
       "      <th>land</th>\n",
       "      <th>wrong_fragment</th>\n",
       "      <th>urgent</th>\n",
       "      <th>hot</th>\n",
       "      <th>...</th>\n",
       "      <th>dst_host_same_srv_rate</th>\n",
       "      <th>dst_host_diff_srv_rate</th>\n",
       "      <th>dst_host_same_src_port_rate</th>\n",
       "      <th>dst_host_srv_diff_host_rate</th>\n",
       "      <th>dst_host_serror_rate</th>\n",
       "      <th>dst_host_srv_serror_rate</th>\n",
       "      <th>dst_host_rerror_rate</th>\n",
       "      <th>dst_host_srv_rerror_rate</th>\n",
       "      <th>subclass</th>\n",
       "      <th>difficulty_level</th>\n",
       "    </tr>\n",
       "  </thead>\n",
       "  <tbody>\n",
       "    <tr>\n",
       "      <th>0</th>\n",
       "      <td>0</td>\n",
       "      <td>tcp</td>\n",
       "      <td>private</td>\n",
       "      <td>REJ</td>\n",
       "      <td>0</td>\n",
       "      <td>0</td>\n",
       "      <td>0</td>\n",
       "      <td>0</td>\n",
       "      <td>0</td>\n",
       "      <td>0</td>\n",
       "      <td>...</td>\n",
       "      <td>0.04</td>\n",
       "      <td>0.06</td>\n",
       "      <td>0.00</td>\n",
       "      <td>0.00</td>\n",
       "      <td>0.0</td>\n",
       "      <td>0.0</td>\n",
       "      <td>1.00</td>\n",
       "      <td>1.00</td>\n",
       "      <td>neptune</td>\n",
       "      <td>21</td>\n",
       "    </tr>\n",
       "    <tr>\n",
       "      <th>1</th>\n",
       "      <td>0</td>\n",
       "      <td>tcp</td>\n",
       "      <td>private</td>\n",
       "      <td>REJ</td>\n",
       "      <td>0</td>\n",
       "      <td>0</td>\n",
       "      <td>0</td>\n",
       "      <td>0</td>\n",
       "      <td>0</td>\n",
       "      <td>0</td>\n",
       "      <td>...</td>\n",
       "      <td>0.00</td>\n",
       "      <td>0.06</td>\n",
       "      <td>0.00</td>\n",
       "      <td>0.00</td>\n",
       "      <td>0.0</td>\n",
       "      <td>0.0</td>\n",
       "      <td>1.00</td>\n",
       "      <td>1.00</td>\n",
       "      <td>neptune</td>\n",
       "      <td>21</td>\n",
       "    </tr>\n",
       "    <tr>\n",
       "      <th>2</th>\n",
       "      <td>2</td>\n",
       "      <td>tcp</td>\n",
       "      <td>ftp_data</td>\n",
       "      <td>SF</td>\n",
       "      <td>12983</td>\n",
       "      <td>0</td>\n",
       "      <td>0</td>\n",
       "      <td>0</td>\n",
       "      <td>0</td>\n",
       "      <td>0</td>\n",
       "      <td>...</td>\n",
       "      <td>0.61</td>\n",
       "      <td>0.04</td>\n",
       "      <td>0.61</td>\n",
       "      <td>0.02</td>\n",
       "      <td>0.0</td>\n",
       "      <td>0.0</td>\n",
       "      <td>0.00</td>\n",
       "      <td>0.00</td>\n",
       "      <td>normal</td>\n",
       "      <td>21</td>\n",
       "    </tr>\n",
       "    <tr>\n",
       "      <th>3</th>\n",
       "      <td>0</td>\n",
       "      <td>icmp</td>\n",
       "      <td>eco_i</td>\n",
       "      <td>SF</td>\n",
       "      <td>20</td>\n",
       "      <td>0</td>\n",
       "      <td>0</td>\n",
       "      <td>0</td>\n",
       "      <td>0</td>\n",
       "      <td>0</td>\n",
       "      <td>...</td>\n",
       "      <td>1.00</td>\n",
       "      <td>0.00</td>\n",
       "      <td>1.00</td>\n",
       "      <td>0.28</td>\n",
       "      <td>0.0</td>\n",
       "      <td>0.0</td>\n",
       "      <td>0.00</td>\n",
       "      <td>0.00</td>\n",
       "      <td>saint</td>\n",
       "      <td>15</td>\n",
       "    </tr>\n",
       "    <tr>\n",
       "      <th>4</th>\n",
       "      <td>1</td>\n",
       "      <td>tcp</td>\n",
       "      <td>telnet</td>\n",
       "      <td>RSTO</td>\n",
       "      <td>0</td>\n",
       "      <td>15</td>\n",
       "      <td>0</td>\n",
       "      <td>0</td>\n",
       "      <td>0</td>\n",
       "      <td>0</td>\n",
       "      <td>...</td>\n",
       "      <td>0.31</td>\n",
       "      <td>0.17</td>\n",
       "      <td>0.03</td>\n",
       "      <td>0.02</td>\n",
       "      <td>0.0</td>\n",
       "      <td>0.0</td>\n",
       "      <td>0.83</td>\n",
       "      <td>0.71</td>\n",
       "      <td>mscan</td>\n",
       "      <td>11</td>\n",
       "    </tr>\n",
       "  </tbody>\n",
       "</table>\n",
       "<p>5 rows × 43 columns</p>\n",
       "</div>"
      ],
      "text/plain": [
       "   duration protocol_type   service  flag  src_bytes  dst_bytes  land  \\\n",
       "0         0           tcp   private   REJ          0          0     0   \n",
       "1         0           tcp   private   REJ          0          0     0   \n",
       "2         2           tcp  ftp_data    SF      12983          0     0   \n",
       "3         0          icmp     eco_i    SF         20          0     0   \n",
       "4         1           tcp    telnet  RSTO          0         15     0   \n",
       "\n",
       "   wrong_fragment  urgent  hot  ...  dst_host_same_srv_rate  \\\n",
       "0               0       0    0  ...                    0.04   \n",
       "1               0       0    0  ...                    0.00   \n",
       "2               0       0    0  ...                    0.61   \n",
       "3               0       0    0  ...                    1.00   \n",
       "4               0       0    0  ...                    0.31   \n",
       "\n",
       "   dst_host_diff_srv_rate  dst_host_same_src_port_rate  \\\n",
       "0                    0.06                         0.00   \n",
       "1                    0.06                         0.00   \n",
       "2                    0.04                         0.61   \n",
       "3                    0.00                         1.00   \n",
       "4                    0.17                         0.03   \n",
       "\n",
       "   dst_host_srv_diff_host_rate  dst_host_serror_rate  \\\n",
       "0                         0.00                   0.0   \n",
       "1                         0.00                   0.0   \n",
       "2                         0.02                   0.0   \n",
       "3                         0.28                   0.0   \n",
       "4                         0.02                   0.0   \n",
       "\n",
       "   dst_host_srv_serror_rate  dst_host_rerror_rate  dst_host_srv_rerror_rate  \\\n",
       "0                       0.0                  1.00                      1.00   \n",
       "1                       0.0                  1.00                      1.00   \n",
       "2                       0.0                  0.00                      0.00   \n",
       "3                       0.0                  0.00                      0.00   \n",
       "4                       0.0                  0.83                      0.71   \n",
       "\n",
       "   subclass  difficulty_level  \n",
       "0   neptune                21  \n",
       "1   neptune                21  \n",
       "2    normal                21  \n",
       "3     saint                15  \n",
       "4     mscan                11  \n",
       "\n",
       "[5 rows x 43 columns]"
      ]
     },
     "execution_count": 6,
     "metadata": {},
     "output_type": "execute_result"
    }
   ],
   "source": [
    "qp.columns = ['duration', 'protocol_type', 'service', 'flag', 'src_bytes',\n",
    "'dst_bytes', 'land', 'wrong_fragment', 'urgent', 'hot',\n",
    "'num_failed_logins', 'logged_in', 'num_compromised', 'root_shell',\n",
    "'su_attempted', 'num_root', 'num_file_creations', 'num_shells',\n",
    "'num_access_files', 'num_outbound_cmds', 'is_host_login',\n",
    "'is_guest_login', 'count', 'srv_count', 'serror_rate',\n",
    "'srv_serror_rate', 'rerror_rate', 'srv_rerror_rate', 'same_srv_rate',\n",
    "'diff_srv_rate', 'srv_diff_host_rate', 'dst_host_count',\n",
    "'dst_host_srv_count', 'dst_host_same_srv_rate','dst_host_diff_srv_rate', 'dst_host_same_src_port_rate',\n",
    "'dst_host_srv_diff_host_rate', 'dst_host_serror_rate',\n",
    "'dst_host_srv_serror_rate', 'dst_host_rerror_rate',\n",
    "'dst_host_srv_rerror_rate', 'subclass', 'difficulty_level']\n",
    "qp.head()"
   ]
  },
  {
   "cell_type": "code",
   "execution_count": 7,
   "metadata": {
    "colab": {
     "base_uri": "https://localhost:8080/"
    },
    "executionInfo": {
     "elapsed": 10,
     "status": "ok",
     "timestamp": 1663916387957,
     "user": {
      "displayName": "Shima Bala",
      "userId": "16644015687034852305"
     },
     "user_tz": -360
    },
    "id": "rw0BbZwBWpzL",
    "outputId": "035b57d5-c52d-45a4-e52a-2bef76e17fd8"
   },
   "outputs": [
    {
     "data": {
      "text/plain": [
       "Index(['duration', 'protocol_type', 'service', 'flag', 'src_bytes',\n",
       "       'dst_bytes', 'land', 'wrong_fragment', 'urgent', 'hot',\n",
       "       'num_failed_logins', 'logged_in', 'num_compromised', 'root_shell',\n",
       "       'su_attempted', 'num_root', 'num_file_creations', 'num_shells',\n",
       "       'num_access_files', 'num_outbound_cmds', 'is_host_login',\n",
       "       'is_guest_login', 'count', 'srv_count', 'serror_rate',\n",
       "       'srv_serror_rate', 'rerror_rate', 'srv_rerror_rate', 'same_srv_rate',\n",
       "       'diff_srv_rate', 'srv_diff_host_rate', 'dst_host_count',\n",
       "       'dst_host_srv_count', 'dst_host_same_srv_rate',\n",
       "       'dst_host_diff_srv_rate', 'dst_host_same_src_port_rate',\n",
       "       'dst_host_srv_diff_host_rate', 'dst_host_serror_rate',\n",
       "       'dst_host_srv_serror_rate', 'dst_host_rerror_rate',\n",
       "       'dst_host_srv_rerror_rate', 'subclass', 'difficulty_level'],\n",
       "      dtype='object')"
      ]
     },
     "execution_count": 7,
     "metadata": {},
     "output_type": "execute_result"
    }
   ],
   "source": [
    "lst_names = df.columns # column names\n",
    "lst_names"
   ]
  },
  {
   "cell_type": "code",
   "execution_count": 8,
   "metadata": {
    "colab": {
     "base_uri": "https://localhost:8080/"
    },
    "executionInfo": {
     "elapsed": 456,
     "status": "ok",
     "timestamp": 1663916393591,
     "user": {
      "displayName": "Shima Bala",
      "userId": "16644015687034852305"
     },
     "user_tz": -360
    },
    "id": "S4rV9Q61WpzN",
    "outputId": "654cc127-6962-4a3d-bac7-83c6a0ce9e9e"
   },
   "outputs": [
    {
     "data": {
      "text/plain": [
       "Index(['duration', 'protocol_type', 'service', 'flag', 'src_bytes',\n",
       "       'dst_bytes', 'land', 'wrong_fragment', 'urgent', 'hot',\n",
       "       'num_failed_logins', 'logged_in', 'num_compromised', 'root_shell',\n",
       "       'su_attempted', 'num_root', 'num_file_creations', 'num_shells',\n",
       "       'num_access_files', 'num_outbound_cmds', 'is_host_login',\n",
       "       'is_guest_login', 'count', 'srv_count', 'serror_rate',\n",
       "       'srv_serror_rate', 'rerror_rate', 'srv_rerror_rate', 'same_srv_rate',\n",
       "       'diff_srv_rate', 'srv_diff_host_rate', 'dst_host_count',\n",
       "       'dst_host_srv_count', 'dst_host_same_srv_rate',\n",
       "       'dst_host_diff_srv_rate', 'dst_host_same_src_port_rate',\n",
       "       'dst_host_srv_diff_host_rate', 'dst_host_serror_rate',\n",
       "       'dst_host_srv_serror_rate', 'dst_host_rerror_rate',\n",
       "       'dst_host_srv_rerror_rate', 'subclass', 'difficulty_level'],\n",
       "      dtype='object')"
      ]
     },
     "execution_count": 8,
     "metadata": {},
     "output_type": "execute_result"
    }
   ],
   "source": [
    "testlst_names = qp.columns\n",
    "testlst_names"
   ]
  },
  {
   "cell_type": "code",
   "execution_count": 8,
   "metadata": {
    "colab": {
     "base_uri": "https://localhost:8080/"
    },
    "executionInfo": {
     "elapsed": 9,
     "status": "ok",
     "timestamp": 1663916397526,
     "user": {
      "displayName": "Shima Bala",
      "userId": "16644015687034852305"
     },
     "user_tz": -360
    },
    "id": "3Dpf-0YRWpzQ",
    "outputId": "5ae8822f-10d4-4598-bc49-8a1284adba95"
   },
   "outputs": [
    {
     "data": {
      "text/plain": [
       "(125973, 42)"
      ]
     },
     "execution_count": 8,
     "metadata": {},
     "output_type": "execute_result"
    }
   ],
   "source": [
    "df = df.drop('difficulty_level', 1)\n",
    "df.shape"
   ]
  },
  {
   "cell_type": "code",
   "execution_count": 9,
   "metadata": {
    "colab": {
     "base_uri": "https://localhost:8080/"
    },
    "executionInfo": {
     "elapsed": 18,
     "status": "ok",
     "timestamp": 1663916401823,
     "user": {
      "displayName": "Shima Bala",
      "userId": "16644015687034852305"
     },
     "user_tz": -360
    },
    "id": "dW5QL_0tWpzR",
    "outputId": "db7b52f4-034f-4f9a-c4d1-5c3f55934409"
   },
   "outputs": [
    {
     "data": {
      "text/plain": [
       "(22544, 42)"
      ]
     },
     "execution_count": 9,
     "metadata": {},
     "output_type": "execute_result"
    }
   ],
   "source": [
    "qp = qp.drop('difficulty_level', 1)\n",
    "qp.shape"
   ]
  },
  {
   "cell_type": "code",
   "execution_count": 10,
   "metadata": {},
   "outputs": [
    {
     "data": {
      "text/plain": [
       "normal             67343\n",
       "neptune            41214\n",
       "satan               3633\n",
       "ipsweep             3599\n",
       "portsweep           2931\n",
       "smurf               2646\n",
       "nmap                1493\n",
       "back                 956\n",
       "teardrop             892\n",
       "warezclient          890\n",
       "pod                  201\n",
       "guess_passwd          53\n",
       "buffer_overflow       30\n",
       "warezmaster           20\n",
       "land                  18\n",
       "imap                  11\n",
       "rootkit               10\n",
       "loadmodule             9\n",
       "ftp_write              8\n",
       "multihop               7\n",
       "phf                    4\n",
       "perl                   3\n",
       "spy                    2\n",
       "Name: subclass, dtype: int64"
      ]
     },
     "execution_count": 10,
     "metadata": {},
     "output_type": "execute_result"
    }
   ],
   "source": [
    "# number of attack labels \n",
    "df['subclass'].value_counts()"
   ]
  },
  {
   "cell_type": "code",
   "execution_count": 11,
   "metadata": {},
   "outputs": [
    {
     "data": {
      "text/plain": [
       "normal             67343\n",
       "neptune            41214\n",
       "satan               3633\n",
       "ipsweep             3599\n",
       "portsweep           2931\n",
       "smurf               2646\n",
       "nmap                1493\n",
       "back                 956\n",
       "teardrop             892\n",
       "warezclient          890\n",
       "pod                  201\n",
       "guess_passwd          53\n",
       "buffer_overflow       30\n",
       "warezmaster           20\n",
       "land                  18\n",
       "imap                  11\n",
       "rootkit               10\n",
       "loadmodule             9\n",
       "ftp_write              8\n",
       "multihop               7\n",
       "phf                    4\n",
       "perl                   3\n",
       "spy                    2\n",
       "Name: subclass, dtype: int64"
      ]
     },
     "execution_count": 11,
     "metadata": {},
     "output_type": "execute_result"
    }
   ],
   "source": [
    "# distribution of attack classes\n",
    "df.subclass.value_counts()"
   ]
  },
  {
   "cell_type": "code",
   "execution_count": 12,
   "metadata": {},
   "outputs": [],
   "source": [
    "# changing attack labels to their respective attack class\n",
    "def change_label(df):\n",
    "    df.subclass.replace(['apache2','back','land','neptune','mailbomb','pod','processtable','smurf','teardrop','udpstorm','worm'],'Dos',inplace=True)\n",
    "    df.subclass.replace(['ftp_write','guess_passwd','httptunnel','imap','multihop','named','phf','sendmail',\n",
    "       'snmpgetattack','snmpguess','spy','warezclient','warezmaster','xlock','xsnoop'],'R2L',inplace=True)\n",
    "    df.subclass.replace(['ipsweep','mscan','nmap','portsweep','saint','satan'],'Probe',inplace=True)\n",
    "    df.subclass.replace(['buffer_overflow','loadmodule','perl','ps','rootkit','sqlattack','xterm'],'U2R',inplace=True)\n",
    "     "
   ]
  },
  {
   "cell_type": "code",
   "execution_count": 13,
   "metadata": {},
   "outputs": [],
   "source": [
    "# calling change_label() function\n",
    "change_label(df)"
   ]
  },
  {
   "cell_type": "markdown",
   "metadata": {},
   "source": [
    "# Check Null value"
   ]
  },
  {
   "cell_type": "code",
   "execution_count": 10,
   "metadata": {
    "colab": {
     "base_uri": "https://localhost:8080/"
    },
    "executionInfo": {
     "elapsed": 7,
     "status": "ok",
     "timestamp": 1663916404965,
     "user": {
      "displayName": "Shima Bala",
      "userId": "16644015687034852305"
     },
     "user_tz": -360
    },
    "id": "CNGpJU_oWpzV",
    "outputId": "e77defa2-120a-4dd2-d198-d777468eb914"
   },
   "outputs": [
    {
     "data": {
      "text/plain": [
       "False"
      ]
     },
     "execution_count": 10,
     "metadata": {},
     "output_type": "execute_result"
    }
   ],
   "source": [
    "df.isnull().values.any()"
   ]
  },
  {
   "cell_type": "code",
   "execution_count": 11,
   "metadata": {
    "colab": {
     "base_uri": "https://localhost:8080/"
    },
    "executionInfo": {
     "elapsed": 11,
     "status": "ok",
     "timestamp": 1663916408589,
     "user": {
      "displayName": "Shima Bala",
      "userId": "16644015687034852305"
     },
     "user_tz": -360
    },
    "id": "0dcvaMKiWpzX",
    "outputId": "2f49bd3c-e487-4715-db78-6d6f557bcb82"
   },
   "outputs": [
    {
     "data": {
      "text/plain": [
       "False"
      ]
     },
     "execution_count": 11,
     "metadata": {},
     "output_type": "execute_result"
    }
   ],
   "source": [
    "qp.isnull().values.any()"
   ]
  },
  {
   "cell_type": "code",
   "execution_count": 77,
   "metadata": {},
   "outputs": [
    {
     "data": {
      "text/plain": [
       "duration                       0\n",
       "protocol_type                  0\n",
       "service                        0\n",
       "flag                           0\n",
       "src_bytes                      0\n",
       "dst_bytes                      0\n",
       "land                           0\n",
       "wrong_fragment                 0\n",
       "urgent                         0\n",
       "hot                            0\n",
       "num_failed_logins              0\n",
       "logged_in                      0\n",
       "num_compromised                0\n",
       "root_shell                     0\n",
       "su_attempted                   0\n",
       "num_root                       0\n",
       "num_file_creations             0\n",
       "num_shells                     0\n",
       "num_access_files               0\n",
       "num_outbound_cmds              0\n",
       "is_host_login                  0\n",
       "is_guest_login                 0\n",
       "count                          0\n",
       "srv_count                      0\n",
       "serror_rate                    0\n",
       "srv_serror_rate                0\n",
       "rerror_rate                    0\n",
       "srv_rerror_rate                0\n",
       "same_srv_rate                  0\n",
       "diff_srv_rate                  0\n",
       "srv_diff_host_rate             0\n",
       "dst_host_count                 0\n",
       "dst_host_srv_count             0\n",
       "dst_host_same_srv_rate         0\n",
       "dst_host_diff_srv_rate         0\n",
       "dst_host_same_src_port_rate    0\n",
       "dst_host_srv_diff_host_rate    0\n",
       "dst_host_serror_rate           0\n",
       "dst_host_srv_serror_rate       0\n",
       "dst_host_rerror_rate           0\n",
       "dst_host_srv_rerror_rate       0\n",
       "subclass                       0\n",
       "dtype: int64"
      ]
     },
     "execution_count": 77,
     "metadata": {},
     "output_type": "execute_result"
    }
   ],
   "source": [
    "df.isnull().sum()"
   ]
  },
  {
   "cell_type": "code",
   "execution_count": 78,
   "metadata": {},
   "outputs": [
    {
     "data": {
      "text/plain": [
       "duration                       0\n",
       "protocol_type                  0\n",
       "service                        0\n",
       "flag                           0\n",
       "src_bytes                      0\n",
       "dst_bytes                      0\n",
       "land                           0\n",
       "wrong_fragment                 0\n",
       "urgent                         0\n",
       "hot                            0\n",
       "num_failed_logins              0\n",
       "logged_in                      0\n",
       "num_compromised                0\n",
       "root_shell                     0\n",
       "su_attempted                   0\n",
       "num_root                       0\n",
       "num_file_creations             0\n",
       "num_shells                     0\n",
       "num_access_files               0\n",
       "num_outbound_cmds              0\n",
       "is_host_login                  0\n",
       "is_guest_login                 0\n",
       "count                          0\n",
       "srv_count                      0\n",
       "serror_rate                    0\n",
       "srv_serror_rate                0\n",
       "rerror_rate                    0\n",
       "srv_rerror_rate                0\n",
       "same_srv_rate                  0\n",
       "diff_srv_rate                  0\n",
       "srv_diff_host_rate             0\n",
       "dst_host_count                 0\n",
       "dst_host_srv_count             0\n",
       "dst_host_same_srv_rate         0\n",
       "dst_host_diff_srv_rate         0\n",
       "dst_host_same_src_port_rate    0\n",
       "dst_host_srv_diff_host_rate    0\n",
       "dst_host_serror_rate           0\n",
       "dst_host_srv_serror_rate       0\n",
       "dst_host_rerror_rate           0\n",
       "dst_host_srv_rerror_rate       0\n",
       "subclass                       0\n",
       "dtype: int64"
      ]
     },
     "execution_count": 78,
     "metadata": {},
     "output_type": "execute_result"
    }
   ],
   "source": [
    "qp.isnull().sum()"
   ]
  },
  {
   "cell_type": "markdown",
   "metadata": {},
   "source": [
    "# Correlation matrix"
   ]
  },
  {
   "cell_type": "code",
   "execution_count": 12,
   "metadata": {
    "executionInfo": {
     "elapsed": 677,
     "status": "ok",
     "timestamp": 1663916445490,
     "user": {
      "displayName": "Shima Bala",
      "userId": "16644015687034852305"
     },
     "user_tz": -360
    },
    "id": "84-EMJaMggjo"
   },
   "outputs": [],
   "source": [
    "def plotCorrelationMatrix(df, graphWidth):\n",
    "\n",
    "    df = df.dropna('columns')\n",
    "    df = df[[col for col in df if df[col].nunique() > 1]]\n",
    "    if df.shape[1] < 2:\n",
    "        print(f'No correlation plots shown: The number of non-NaN or constant columns ({df.shape[1]}) is less than 2')\n",
    "        return\n",
    "    corr = df.corr()\n",
    "    plt.figure(num=None, figsize=(graphWidth, graphWidth), dpi=80, facecolor='w', edgecolor='k')\n",
    "    corrMat = plt.matshow(corr, fignum = 1)\n",
    "    plt.xticks(range(len(corr.columns)), corr.columns, rotation=90)\n",
    "    plt.yticks(range(len(corr.columns)), corr.columns)\n",
    "    plt.gca().xaxis.tick_bottom()\n",
    "    plt.colorbar(corrMat)\n",
    "    plt.title(f'Correlation Matrix for NSL-KDD Train', fontsize=15)\n",
    "    plt.savefig('2')\n",
    "    plt.show()"
   ]
  },
  {
   "cell_type": "code",
   "execution_count": 13,
   "metadata": {
    "colab": {
     "base_uri": "https://localhost:8080/",
     "height": 875
    },
    "executionInfo": {
     "elapsed": 2625,
     "status": "ok",
     "timestamp": 1663916454222,
     "user": {
      "displayName": "Shima Bala",
      "userId": "16644015687034852305"
     },
     "user_tz": -360
    },
    "id": "ryha_XnCggjq",
    "outputId": "09dc1d0b-3a68-40c9-ac16-d1dc2bcd9044"
   },
   "outputs": [
    {
     "data": {
      "image/png": "[encoded data removed]",
      "text/plain": [
       "<Figure size 960x960 with 2 Axes>"
      ]
     },
     "metadata": {},
     "output_type": "display_data"
    }
   ],
   "source": [
    "plotCorrelationMatrix(df, 12)"
   ]
  },
  {
   "cell_type": "code",
   "execution_count": 14,
   "metadata": {
    "colab": {
     "base_uri": "https://localhost:8080/",
     "height": 390
    },
    "executionInfo": {
     "elapsed": 559,
     "status": "ok",
     "timestamp": 1663916462063,
     "user": {
      "displayName": "Shima Bala",
      "userId": "16644015687034852305"
     },
     "user_tz": -360
    },
    "id": "tGmloi7Jggjs",
    "outputId": "d7858e82-24af-4fb7-a9aa-8e4f46d5a263",
    "scrolled": true
   },
   "outputs": [
    {
     "data": {
      "image/png": "[encoded data removed]",
      "text/plain": [
       "<Figure size 1800x600 with 1 Axes>"
      ]
     },
     "metadata": {},
     "output_type": "display_data"
    }
   ],
   "source": [
    "label_counts = df['subclass'].value_counts()\n",
    "plt.figure(figsize=(18,6));\n",
    "sns.barplot(y=label_counts.index, x=label_counts.values, color='Yellow');\n",
    "plt.title('values per class');\n",
    "plt.savefig('3')\n",
    "# display(label_counts)"
   ]
  },
  {
   "cell_type": "markdown",
   "metadata": {},
   "source": [
    "# Binary traffic proportions"
   ]
  },
  {
   "cell_type": "code",
   "execution_count": 15,
   "metadata": {
    "colab": {
     "base_uri": "https://localhost:8080/",
     "height": 248
    },
    "executionInfo": {
     "elapsed": 508,
     "status": "ok",
     "timestamp": 1663916475567,
     "user": {
      "displayName": "Shima Bala",
      "userId": "16644015687034852305"
     },
     "user_tz": -360
    },
    "id": "qNbAPHm7ggjv",
    "outputId": "76a81e06-7813-49b0-fb66-b4d44642620e"
   },
   "outputs": [
    {
     "data": {
      "image/png": "[encoded data removed]",
      "text/plain": [
       "<Figure size 640x480 with 1 Axes>"
      ]
     },
     "metadata": {},
     "output_type": "display_data"
    }
   ],
   "source": [
    "binary_class = []\n",
    "for label in df['subclass']:\n",
    "    if label !='normal':\n",
    "        binary_class.append('malicious')\n",
    "    else:\n",
    "        binary_class.append('normal')\n",
    "binary_class = pd.Series(binary_class)\n",
    "plt.figure()\n",
    "binary_class.value_counts().plot(kind='pie', label='traffic proportions', autopct='%.2f%%' )\n",
    "plt.savefig('4')\n",
    "plt.show()"
   ]
  },
  {
   "cell_type": "code",
   "execution_count": 16,
   "metadata": {
    "colab": {
     "base_uri": "https://localhost:8080/",
     "height": 802
    },
    "executionInfo": {
     "elapsed": 435,
     "status": "ok",
     "timestamp": 1663916480531,
     "user": {
      "displayName": "Shima Bala",
      "userId": "16644015687034852305"
     },
     "user_tz": -360
    },
    "id": "rqs8e6jkggjw",
    "outputId": "9a4cb1f8-89da-491f-aa18-ff9d1806d29d"
   },
   "outputs": [
    {
     "data": {
      "text/html": [
       "<div>\n",
       "<style scoped>\n",
       "    .dataframe tbody tr th:only-of-type {\n",
       "        vertical-align: middle;\n",
       "    }\n",
       "\n",
       "    .dataframe tbody tr th {\n",
       "        vertical-align: top;\n",
       "    }\n",
       "\n",
       "    .dataframe thead th {\n",
       "        text-align: right;\n",
       "    }\n",
       "</style>\n",
       "<table border=\"1\" class=\"dataframe\">\n",
       "  <thead>\n",
       "    <tr style=\"text-align: right;\">\n",
       "      <th>protocol_type</th>\n",
       "      <th>icmp</th>\n",
       "      <th>tcp</th>\n",
       "      <th>udp</th>\n",
       "    </tr>\n",
       "    <tr>\n",
       "      <th>subclass</th>\n",
       "      <th></th>\n",
       "      <th></th>\n",
       "      <th></th>\n",
       "    </tr>\n",
       "  </thead>\n",
       "  <tbody>\n",
       "    <tr>\n",
       "      <th>back</th>\n",
       "      <td>0</td>\n",
       "      <td>956</td>\n",
       "      <td>0</td>\n",
       "    </tr>\n",
       "    <tr>\n",
       "      <th>buffer_overflow</th>\n",
       "      <td>0</td>\n",
       "      <td>30</td>\n",
       "      <td>0</td>\n",
       "    </tr>\n",
       "    <tr>\n",
       "      <th>ftp_write</th>\n",
       "      <td>0</td>\n",
       "      <td>8</td>\n",
       "      <td>0</td>\n",
       "    </tr>\n",
       "    <tr>\n",
       "      <th>guess_passwd</th>\n",
       "      <td>0</td>\n",
       "      <td>53</td>\n",
       "      <td>0</td>\n",
       "    </tr>\n",
       "    <tr>\n",
       "      <th>imap</th>\n",
       "      <td>0</td>\n",
       "      <td>11</td>\n",
       "      <td>0</td>\n",
       "    </tr>\n",
       "    <tr>\n",
       "      <th>ipsweep</th>\n",
       "      <td>3117</td>\n",
       "      <td>482</td>\n",
       "      <td>0</td>\n",
       "    </tr>\n",
       "    <tr>\n",
       "      <th>land</th>\n",
       "      <td>0</td>\n",
       "      <td>18</td>\n",
       "      <td>0</td>\n",
       "    </tr>\n",
       "    <tr>\n",
       "      <th>loadmodule</th>\n",
       "      <td>0</td>\n",
       "      <td>9</td>\n",
       "      <td>0</td>\n",
       "    </tr>\n",
       "    <tr>\n",
       "      <th>multihop</th>\n",
       "      <td>0</td>\n",
       "      <td>7</td>\n",
       "      <td>0</td>\n",
       "    </tr>\n",
       "    <tr>\n",
       "      <th>neptune</th>\n",
       "      <td>0</td>\n",
       "      <td>41214</td>\n",
       "      <td>0</td>\n",
       "    </tr>\n",
       "    <tr>\n",
       "      <th>nmap</th>\n",
       "      <td>981</td>\n",
       "      <td>265</td>\n",
       "      <td>247</td>\n",
       "    </tr>\n",
       "    <tr>\n",
       "      <th>normal</th>\n",
       "      <td>1309</td>\n",
       "      <td>53600</td>\n",
       "      <td>12434</td>\n",
       "    </tr>\n",
       "    <tr>\n",
       "      <th>perl</th>\n",
       "      <td>0</td>\n",
       "      <td>3</td>\n",
       "      <td>0</td>\n",
       "    </tr>\n",
       "    <tr>\n",
       "      <th>phf</th>\n",
       "      <td>0</td>\n",
       "      <td>4</td>\n",
       "      <td>0</td>\n",
       "    </tr>\n",
       "    <tr>\n",
       "      <th>pod</th>\n",
       "      <td>201</td>\n",
       "      <td>0</td>\n",
       "      <td>0</td>\n",
       "    </tr>\n",
       "    <tr>\n",
       "      <th>portsweep</th>\n",
       "      <td>5</td>\n",
       "      <td>2926</td>\n",
       "      <td>0</td>\n",
       "    </tr>\n",
       "    <tr>\n",
       "      <th>rootkit</th>\n",
       "      <td>0</td>\n",
       "      <td>7</td>\n",
       "      <td>3</td>\n",
       "    </tr>\n",
       "    <tr>\n",
       "      <th>satan</th>\n",
       "      <td>32</td>\n",
       "      <td>2184</td>\n",
       "      <td>1417</td>\n",
       "    </tr>\n",
       "    <tr>\n",
       "      <th>smurf</th>\n",
       "      <td>2646</td>\n",
       "      <td>0</td>\n",
       "      <td>0</td>\n",
       "    </tr>\n",
       "    <tr>\n",
       "      <th>spy</th>\n",
       "      <td>0</td>\n",
       "      <td>2</td>\n",
       "      <td>0</td>\n",
       "    </tr>\n",
       "    <tr>\n",
       "      <th>teardrop</th>\n",
       "      <td>0</td>\n",
       "      <td>0</td>\n",
       "      <td>892</td>\n",
       "    </tr>\n",
       "    <tr>\n",
       "      <th>warezclient</th>\n",
       "      <td>0</td>\n",
       "      <td>890</td>\n",
       "      <td>0</td>\n",
       "    </tr>\n",
       "    <tr>\n",
       "      <th>warezmaster</th>\n",
       "      <td>0</td>\n",
       "      <td>20</td>\n",
       "      <td>0</td>\n",
       "    </tr>\n",
       "  </tbody>\n",
       "</table>\n",
       "</div>"
      ],
      "text/plain": [
       "protocol_type    icmp    tcp    udp\n",
       "subclass                           \n",
       "back                0    956      0\n",
       "buffer_overflow     0     30      0\n",
       "ftp_write           0      8      0\n",
       "guess_passwd        0     53      0\n",
       "imap                0     11      0\n",
       "ipsweep          3117    482      0\n",
       "land                0     18      0\n",
       "loadmodule          0      9      0\n",
       "multihop            0      7      0\n",
       "neptune             0  41214      0\n",
       "nmap              981    265    247\n",
       "normal           1309  53600  12434\n",
       "perl                0      3      0\n",
       "phf                 0      4      0\n",
       "pod               201      0      0\n",
       "portsweep           5   2926      0\n",
       "rootkit             0      7      3\n",
       "satan              32   2184   1417\n",
       "smurf            2646      0      0\n",
       "spy                 0      2      0\n",
       "teardrop            0      0    892\n",
       "warezclient         0    890      0\n",
       "warezmaster         0     20      0"
      ]
     },
     "execution_count": 16,
     "metadata": {},
     "output_type": "execute_result"
    }
   ],
   "source": [
    "attack_vs_protocol = pd.crosstab(df.subclass, df.protocol_type)\n",
    "attack_vs_protocol"
   ]
  },
  {
   "cell_type": "markdown",
   "metadata": {},
   "source": [
    "# Multiple Charts - Helper Function"
   ]
  },
  {
   "cell_type": "code",
   "execution_count": 14,
   "metadata": {
    "executionInfo": {
     "elapsed": 7,
     "status": "ok",
     "timestamp": 1663916491157,
     "user": {
      "displayName": "Shima Bala",
      "userId": "16644015687034852305"
     },
     "user_tz": -360
    },
    "id": "YyFl950Lggjy"
   },
   "outputs": [
    {
     "data": {
      "text/plain": [
       "normal    67343\n",
       "Dos       45927\n",
       "Probe     11656\n",
       "R2L         995\n",
       "U2R          52\n",
       "Name: subclass, dtype: int64"
      ]
     },
     "execution_count": 14,
     "metadata": {},
     "output_type": "execute_result"
    }
   ],
   "source": [
    "df.subclass.value_counts()"
   ]
  },
  {
   "cell_type": "code",
   "execution_count": 15,
   "metadata": {},
   "outputs": [],
   "source": [
    "# creating a dataframe with multi-class labels (Dos,Probe,R2L,U2R,normal)\n",
    "multi_data = df.copy()\n",
    "multi_label = pd.DataFrame(multi_data.subclass)"
   ]
  },
  {
   "cell_type": "code",
   "execution_count": 16,
   "metadata": {},
   "outputs": [
    {
     "data": {
      "image/png": "[encoded data removed]",
      "text/plain": [
       "<Figure size 800x800 with 1 Axes>"
      ]
     },
     "metadata": {},
     "output_type": "display_data"
    }
   ],
   "source": [
    "# pie chart distribution of multi-class labels\n",
    "plt.figure(figsize=(8,8))\n",
    "plt.pie(multi_data.subclass.value_counts(),labels=multi_data.subclass.unique(),autopct='%0.2f%%')\n",
    "plt.title('Pie chart distribution of multi-class labels')\n",
    "plt.legend()\n",
    "plt.savefig('Pie_chart_multi.png')\n",
    "plt.show()"
   ]
  },
  {
   "cell_type": "markdown",
   "metadata": {},
   "source": [
    "# Series for each protocol"
   ]
  },
  {
   "cell_type": "code",
   "execution_count": 17,
   "metadata": {
    "colab": {
     "base_uri": "https://localhost:8080/",
     "height": 397
    },
    "executionInfo": {
     "elapsed": 2596,
     "status": "ok",
     "timestamp": 1663916499402,
     "user": {
      "displayName": "Shima Bala",
      "userId": "16644015687034852305"
     },
     "user_tz": -360
    },
    "id": "U8BP8BFnggj2",
    "outputId": "e6367b03-dc2d-40c2-dbb6-e8cf51df51ff"
   },
   "outputs": [],
   "source": [
    "icmp_attacks = attack_vs_protocol.icmp\n",
    "tcp_attacks = attack_vs_protocol.tcp\n",
    "udp_attacks = attack_vs_protocol.udp\n",
    "\n",
    "#pie_charts([icmp_attacks, tcp_attacks, udp_attacks],['icmp','tcp','udp'], '5')\n",
    "#plt.show()"
   ]
  },
  {
   "cell_type": "markdown",
   "metadata": {},
   "source": [
    "# Normal - 0, Attacks - 1"
   ]
  },
  {
   "cell_type": "code",
   "execution_count": 18,
   "metadata": {
    "colab": {
     "base_uri": "https://localhost:8080/",
     "height": 449
    },
    "executionInfo": {
     "elapsed": 2451,
     "status": "ok",
     "timestamp": 1663916521891,
     "user": {
      "displayName": "Shima Bala",
      "userId": "16644015687034852305"
     },
     "user_tz": -360
    },
    "id": "lpsTmCN8ggj3",
    "outputId": "9b1effa9-f921-48dc-cd13-76830f0aa240",
    "scrolled": true
   },
   "outputs": [],
   "source": [
    "is_attack = df.subclass.map(lambda a: 0 if a == 'normal' else 1)\n",
    "df['attack_flag'] = is_attack\n",
    "\n",
    "# count of each flag for attack and normal traffic\n",
    "normal_flags = df.loc[df.attack_flag == 0].flag.value_counts()\n",
    "attack_flags = df.loc[df.attack_flag == 1].flag.value_counts()\n",
    "\n",
    "#flag_axs = pie_charts([normal_flags, attack_flags], ['normal','attack'], '6')        \n",
    "#plt.show()"
   ]
  },
  {
   "cell_type": "markdown",
   "metadata": {},
   "source": [
    "# count of each service for attack and normal traffic"
   ]
  },
  {
   "cell_type": "code",
   "execution_count": 19,
   "metadata": {
    "colab": {
     "base_uri": "https://localhost:8080/",
     "height": 1000
    },
    "executionInfo": {
     "elapsed": 3973,
     "status": "ok",
     "timestamp": 1663916531091,
     "user": {
      "displayName": "Shima Bala",
      "userId": "16644015687034852305"
     },
     "user_tz": -360
    },
    "id": "CiFoLO7cggj4",
    "outputId": "a699431c-28a8-413c-9047-8e80b03a1072"
   },
   "outputs": [],
   "source": [
    "normal_services = df.loc[df.attack_flag == 0].service.value_counts()\n",
    "attack_services = df.loc[df.attack_flag == 1].service.value_counts()\n",
    "\n",
    "#service_axs = pie_charts([normal_services, attack_services], ['normal','attack'], '7')        \n",
    "#plt.show()"
   ]
  },
  {
   "cell_type": "code",
   "execution_count": 20,
   "metadata": {
    "colab": {
     "base_uri": "https://localhost:8080/"
    },
    "executionInfo": {
     "elapsed": 472,
     "status": "ok",
     "timestamp": 1663916544219,
     "user": {
      "displayName": "Shima Bala",
      "userId": "16644015687034852305"
     },
     "user_tz": -360
    },
    "id": "dFoUOa4zggj5",
    "outputId": "7da8d917-c6e8-46e4-b627-51e28314d74d"
   },
   "outputs": [
    {
     "data": {
      "text/plain": [
       "Index(['duration', 'protocol_type', 'service', 'flag', 'src_bytes',\n",
       "       'dst_bytes', 'land', 'wrong_fragment', 'urgent', 'hot',\n",
       "       'num_failed_logins', 'logged_in', 'num_compromised', 'root_shell',\n",
       "       'su_attempted', 'num_root', 'num_file_creations', 'num_shells',\n",
       "       'num_access_files', 'num_outbound_cmds', 'is_host_login',\n",
       "       'is_guest_login', 'count', 'srv_count', 'serror_rate',\n",
       "       'srv_serror_rate', 'rerror_rate', 'srv_rerror_rate', 'same_srv_rate',\n",
       "       'diff_srv_rate', 'srv_diff_host_rate', 'dst_host_count',\n",
       "       'dst_host_srv_count', 'dst_host_same_srv_rate',\n",
       "       'dst_host_diff_srv_rate', 'dst_host_same_src_port_rate',\n",
       "       'dst_host_srv_diff_host_rate', 'dst_host_serror_rate',\n",
       "       'dst_host_srv_serror_rate', 'dst_host_rerror_rate',\n",
       "       'dst_host_srv_rerror_rate', 'subclass'],\n",
       "      dtype='object')"
      ]
     },
     "execution_count": 20,
     "metadata": {},
     "output_type": "execute_result"
    }
   ],
   "source": [
    "df = df.drop('attack_flag', axis = 1)\n",
    "df.columns"
   ]
  },
  {
   "cell_type": "code",
   "execution_count": 21,
   "metadata": {
    "colab": {
     "base_uri": "https://localhost:8080/"
    },
    "executionInfo": {
     "elapsed": 13,
     "status": "ok",
     "timestamp": 1663916548345,
     "user": {
      "displayName": "Shima Bala",
      "userId": "16644015687034852305"
     },
     "user_tz": -360
    },
    "id": "JveJ9rssWpzY",
    "outputId": "1484c15b-98a5-4a84-b32d-d97894138864"
   },
   "outputs": [
    {
     "data": {
      "text/plain": [
       "['protocol_type', 'service', 'flag']"
      ]
     },
     "execution_count": 21,
     "metadata": {},
     "output_type": "execute_result"
    }
   ],
   "source": [
    "cols = ['protocol_type','service','flag']\n",
    "cols"
   ]
  },
  {
   "cell_type": "markdown",
   "metadata": {},
   "source": [
    "# One-hot encoding"
   ]
  },
  {
   "cell_type": "code",
   "execution_count": 22,
   "metadata": {
    "executionInfo": {
     "elapsed": 447,
     "status": "ok",
     "timestamp": 1663916552195,
     "user": {
      "displayName": "Shima Bala",
      "userId": "16644015687034852305"
     },
     "user_tz": -360
    },
    "id": "rYsBsG1XWpza"
   },
   "outputs": [],
   "source": [
    "def one_hot(df, cols):    \n",
    "    for each in cols:\n",
    "        dummies = pd.get_dummies(df[each], prefix=each, drop_first=False)\n",
    "        df = pd.concat([df, dummies], axis=1)\n",
    "        df = df.drop(each, 1)\n",
    "    return df"
   ]
  },
  {
   "cell_type": "code",
   "execution_count": 23,
   "metadata": {
    "executionInfo": {
     "elapsed": 667,
     "status": "ok",
     "timestamp": 1663916556612,
     "user": {
      "displayName": "Shima Bala",
      "userId": "16644015687034852305"
     },
     "user_tz": -360
    },
    "id": "ioHr_bvCWpzc"
   },
   "outputs": [],
   "source": [
    "combined_data = pd.concat([df,qp])"
   ]
  },
  {
   "cell_type": "code",
   "execution_count": 24,
   "metadata": {
    "executionInfo": {
     "elapsed": 873,
     "status": "ok",
     "timestamp": 1663916561450,
     "user": {
      "displayName": "Shima Bala",
      "userId": "16644015687034852305"
     },
     "user_tz": -360
    },
    "id": "Rx6wwfW5Wpze"
   },
   "outputs": [],
   "source": [
    "combined_data = one_hot(combined_data,cols)"
   ]
  },
  {
   "cell_type": "code",
   "execution_count": 25,
   "metadata": {
    "executionInfo": {
     "elapsed": 466,
     "status": "ok",
     "timestamp": 1663916565375,
     "user": {
      "displayName": "Shima Bala",
      "userId": "16644015687034852305"
     },
     "user_tz": -360
    },
    "id": "I3kfoXbtWpzg"
   },
   "outputs": [],
   "source": [
    "def normalize(df, cols):\n",
    "    \n",
    "    result = df.copy() \n",
    "    for feature_name in cols:\n",
    "        max_value = df[feature_name].max()\n",
    "        min_value = df[feature_name].min()\n",
    "        if max_value > min_value:\n",
    "            result[feature_name] = (df[feature_name] - min_value) / (max_value - min_value)\n",
    "    return result"
   ]
  },
  {
   "cell_type": "code",
   "execution_count": 26,
   "metadata": {
    "executionInfo": {
     "elapsed": 11,
     "status": "ok",
     "timestamp": 1663916569803,
     "user": {
      "displayName": "Shima Bala",
      "userId": "16644015687034852305"
     },
     "user_tz": -360
    },
    "id": "X3rVPR9UWpzh"
   },
   "outputs": [],
   "source": [
    "tmp = combined_data.pop('subclass')"
   ]
  },
  {
   "cell_type": "code",
   "execution_count": 27,
   "metadata": {
    "colab": {
     "base_uri": "https://localhost:8080/",
     "height": 488
    },
    "executionInfo": {
     "elapsed": 1016,
     "status": "ok",
     "timestamp": 1663916577129,
     "user": {
      "displayName": "Shima Bala",
      "userId": "16644015687034852305"
     },
     "user_tz": -360
    },
    "id": "NO1RBxcQWpzk",
    "outputId": "3ea81a90-d149-4aba-cbfe-d522d845627b"
   },
   "outputs": [
    {
     "data": {
      "text/html": [
       "<div>\n",
       "<style scoped>\n",
       "    .dataframe tbody tr th:only-of-type {\n",
       "        vertical-align: middle;\n",
       "    }\n",
       "\n",
       "    .dataframe tbody tr th {\n",
       "        vertical-align: top;\n",
       "    }\n",
       "\n",
       "    .dataframe thead th {\n",
       "        text-align: right;\n",
       "    }\n",
       "</style>\n",
       "<table border=\"1\" class=\"dataframe\">\n",
       "  <thead>\n",
       "    <tr style=\"text-align: right;\">\n",
       "      <th></th>\n",
       "      <th>duration</th>\n",
       "      <th>src_bytes</th>\n",
       "      <th>dst_bytes</th>\n",
       "      <th>land</th>\n",
       "      <th>wrong_fragment</th>\n",
       "      <th>urgent</th>\n",
       "      <th>hot</th>\n",
       "      <th>num_failed_logins</th>\n",
       "      <th>logged_in</th>\n",
       "      <th>num_compromised</th>\n",
       "      <th>...</th>\n",
       "      <th>flag_REJ</th>\n",
       "      <th>flag_RSTO</th>\n",
       "      <th>flag_RSTOS0</th>\n",
       "      <th>flag_RSTR</th>\n",
       "      <th>flag_S0</th>\n",
       "      <th>flag_S1</th>\n",
       "      <th>flag_S2</th>\n",
       "      <th>flag_S3</th>\n",
       "      <th>flag_SF</th>\n",
       "      <th>flag_SH</th>\n",
       "    </tr>\n",
       "  </thead>\n",
       "  <tbody>\n",
       "    <tr>\n",
       "      <th>0</th>\n",
       "      <td>0.0</td>\n",
       "      <td>3.558064e-07</td>\n",
       "      <td>0.000000e+00</td>\n",
       "      <td>0.0</td>\n",
       "      <td>0.0</td>\n",
       "      <td>0.0</td>\n",
       "      <td>0.000000</td>\n",
       "      <td>0.0</td>\n",
       "      <td>0.0</td>\n",
       "      <td>0.000000</td>\n",
       "      <td>...</td>\n",
       "      <td>0.0</td>\n",
       "      <td>0.0</td>\n",
       "      <td>0.0</td>\n",
       "      <td>0.0</td>\n",
       "      <td>0.0</td>\n",
       "      <td>0.0</td>\n",
       "      <td>0.0</td>\n",
       "      <td>0.0</td>\n",
       "      <td>1.0</td>\n",
       "      <td>0.0</td>\n",
       "    </tr>\n",
       "    <tr>\n",
       "      <th>1</th>\n",
       "      <td>0.0</td>\n",
       "      <td>1.057999e-07</td>\n",
       "      <td>0.000000e+00</td>\n",
       "      <td>0.0</td>\n",
       "      <td>0.0</td>\n",
       "      <td>0.0</td>\n",
       "      <td>0.000000</td>\n",
       "      <td>0.0</td>\n",
       "      <td>0.0</td>\n",
       "      <td>0.000000</td>\n",
       "      <td>...</td>\n",
       "      <td>0.0</td>\n",
       "      <td>0.0</td>\n",
       "      <td>0.0</td>\n",
       "      <td>0.0</td>\n",
       "      <td>0.0</td>\n",
       "      <td>0.0</td>\n",
       "      <td>0.0</td>\n",
       "      <td>0.0</td>\n",
       "      <td>1.0</td>\n",
       "      <td>0.0</td>\n",
       "    </tr>\n",
       "    <tr>\n",
       "      <th>2</th>\n",
       "      <td>0.0</td>\n",
       "      <td>0.000000e+00</td>\n",
       "      <td>0.000000e+00</td>\n",
       "      <td>0.0</td>\n",
       "      <td>0.0</td>\n",
       "      <td>0.0</td>\n",
       "      <td>0.000000</td>\n",
       "      <td>0.0</td>\n",
       "      <td>0.0</td>\n",
       "      <td>0.000000</td>\n",
       "      <td>...</td>\n",
       "      <td>0.0</td>\n",
       "      <td>0.0</td>\n",
       "      <td>0.0</td>\n",
       "      <td>0.0</td>\n",
       "      <td>1.0</td>\n",
       "      <td>0.0</td>\n",
       "      <td>0.0</td>\n",
       "      <td>0.0</td>\n",
       "      <td>0.0</td>\n",
       "      <td>0.0</td>\n",
       "    </tr>\n",
       "    <tr>\n",
       "      <th>3</th>\n",
       "      <td>0.0</td>\n",
       "      <td>1.681203e-07</td>\n",
       "      <td>6.223962e-06</td>\n",
       "      <td>0.0</td>\n",
       "      <td>0.0</td>\n",
       "      <td>0.0</td>\n",
       "      <td>0.000000</td>\n",
       "      <td>0.0</td>\n",
       "      <td>1.0</td>\n",
       "      <td>0.000000</td>\n",
       "      <td>...</td>\n",
       "      <td>0.0</td>\n",
       "      <td>0.0</td>\n",
       "      <td>0.0</td>\n",
       "      <td>0.0</td>\n",
       "      <td>0.0</td>\n",
       "      <td>0.0</td>\n",
       "      <td>0.0</td>\n",
       "      <td>0.0</td>\n",
       "      <td>1.0</td>\n",
       "      <td>0.0</td>\n",
       "    </tr>\n",
       "    <tr>\n",
       "      <th>4</th>\n",
       "      <td>0.0</td>\n",
       "      <td>1.442067e-07</td>\n",
       "      <td>3.206260e-07</td>\n",
       "      <td>0.0</td>\n",
       "      <td>0.0</td>\n",
       "      <td>0.0</td>\n",
       "      <td>0.000000</td>\n",
       "      <td>0.0</td>\n",
       "      <td>1.0</td>\n",
       "      <td>0.000000</td>\n",
       "      <td>...</td>\n",
       "      <td>0.0</td>\n",
       "      <td>0.0</td>\n",
       "      <td>0.0</td>\n",
       "      <td>0.0</td>\n",
       "      <td>0.0</td>\n",
       "      <td>0.0</td>\n",
       "      <td>0.0</td>\n",
       "      <td>0.0</td>\n",
       "      <td>1.0</td>\n",
       "      <td>0.0</td>\n",
       "    </tr>\n",
       "    <tr>\n",
       "      <th>...</th>\n",
       "      <td>...</td>\n",
       "      <td>...</td>\n",
       "      <td>...</td>\n",
       "      <td>...</td>\n",
       "      <td>...</td>\n",
       "      <td>...</td>\n",
       "      <td>...</td>\n",
       "      <td>...</td>\n",
       "      <td>...</td>\n",
       "      <td>...</td>\n",
       "      <td>...</td>\n",
       "      <td>...</td>\n",
       "      <td>...</td>\n",
       "      <td>...</td>\n",
       "      <td>...</td>\n",
       "      <td>...</td>\n",
       "      <td>...</td>\n",
       "      <td>...</td>\n",
       "      <td>...</td>\n",
       "      <td>...</td>\n",
       "      <td>...</td>\n",
       "    </tr>\n",
       "    <tr>\n",
       "      <th>22539</th>\n",
       "      <td>0.0</td>\n",
       "      <td>5.753774e-07</td>\n",
       "      <td>2.542106e-07</td>\n",
       "      <td>0.0</td>\n",
       "      <td>0.0</td>\n",
       "      <td>0.0</td>\n",
       "      <td>0.000000</td>\n",
       "      <td>0.0</td>\n",
       "      <td>1.0</td>\n",
       "      <td>0.000000</td>\n",
       "      <td>...</td>\n",
       "      <td>0.0</td>\n",
       "      <td>0.0</td>\n",
       "      <td>0.0</td>\n",
       "      <td>0.0</td>\n",
       "      <td>0.0</td>\n",
       "      <td>0.0</td>\n",
       "      <td>0.0</td>\n",
       "      <td>0.0</td>\n",
       "      <td>1.0</td>\n",
       "      <td>0.0</td>\n",
       "    </tr>\n",
       "    <tr>\n",
       "      <th>22540</th>\n",
       "      <td>0.0</td>\n",
       "      <td>2.297162e-07</td>\n",
       "      <td>7.160648e-07</td>\n",
       "      <td>0.0</td>\n",
       "      <td>0.0</td>\n",
       "      <td>0.0</td>\n",
       "      <td>0.000000</td>\n",
       "      <td>0.0</td>\n",
       "      <td>1.0</td>\n",
       "      <td>0.000000</td>\n",
       "      <td>...</td>\n",
       "      <td>0.0</td>\n",
       "      <td>0.0</td>\n",
       "      <td>0.0</td>\n",
       "      <td>0.0</td>\n",
       "      <td>0.0</td>\n",
       "      <td>0.0</td>\n",
       "      <td>0.0</td>\n",
       "      <td>0.0</td>\n",
       "      <td>1.0</td>\n",
       "      <td>0.0</td>\n",
       "    </tr>\n",
       "    <tr>\n",
       "      <th>22541</th>\n",
       "      <td>0.0</td>\n",
       "      <td>3.952277e-05</td>\n",
       "      <td>6.346868e-06</td>\n",
       "      <td>0.0</td>\n",
       "      <td>0.0</td>\n",
       "      <td>0.0</td>\n",
       "      <td>0.019802</td>\n",
       "      <td>0.0</td>\n",
       "      <td>1.0</td>\n",
       "      <td>0.000134</td>\n",
       "      <td>...</td>\n",
       "      <td>0.0</td>\n",
       "      <td>0.0</td>\n",
       "      <td>0.0</td>\n",
       "      <td>0.0</td>\n",
       "      <td>0.0</td>\n",
       "      <td>0.0</td>\n",
       "      <td>0.0</td>\n",
       "      <td>0.0</td>\n",
       "      <td>1.0</td>\n",
       "      <td>0.0</td>\n",
       "    </tr>\n",
       "    <tr>\n",
       "      <th>22542</th>\n",
       "      <td>0.0</td>\n",
       "      <td>3.043558e-08</td>\n",
       "      <td>3.206260e-08</td>\n",
       "      <td>0.0</td>\n",
       "      <td>0.0</td>\n",
       "      <td>0.0</td>\n",
       "      <td>0.000000</td>\n",
       "      <td>0.0</td>\n",
       "      <td>0.0</td>\n",
       "      <td>0.000000</td>\n",
       "      <td>...</td>\n",
       "      <td>0.0</td>\n",
       "      <td>0.0</td>\n",
       "      <td>0.0</td>\n",
       "      <td>0.0</td>\n",
       "      <td>0.0</td>\n",
       "      <td>0.0</td>\n",
       "      <td>0.0</td>\n",
       "      <td>0.0</td>\n",
       "      <td>1.0</td>\n",
       "      <td>0.0</td>\n",
       "    </tr>\n",
       "    <tr>\n",
       "      <th>22543</th>\n",
       "      <td>0.0</td>\n",
       "      <td>0.000000e+00</td>\n",
       "      <td>0.000000e+00</td>\n",
       "      <td>0.0</td>\n",
       "      <td>0.0</td>\n",
       "      <td>0.0</td>\n",
       "      <td>0.000000</td>\n",
       "      <td>0.0</td>\n",
       "      <td>0.0</td>\n",
       "      <td>0.000000</td>\n",
       "      <td>...</td>\n",
       "      <td>1.0</td>\n",
       "      <td>0.0</td>\n",
       "      <td>0.0</td>\n",
       "      <td>0.0</td>\n",
       "      <td>0.0</td>\n",
       "      <td>0.0</td>\n",
       "      <td>0.0</td>\n",
       "      <td>0.0</td>\n",
       "      <td>0.0</td>\n",
       "      <td>0.0</td>\n",
       "    </tr>\n",
       "  </tbody>\n",
       "</table>\n",
       "<p>148517 rows × 122 columns</p>\n",
       "</div>"
      ],
      "text/plain": [
       "       duration     src_bytes     dst_bytes  land  wrong_fragment  urgent  \\\n",
       "0           0.0  3.558064e-07  0.000000e+00   0.0             0.0     0.0   \n",
       "1           0.0  1.057999e-07  0.000000e+00   0.0             0.0     0.0   \n",
       "2           0.0  0.000000e+00  0.000000e+00   0.0             0.0     0.0   \n",
       "3           0.0  1.681203e-07  6.223962e-06   0.0             0.0     0.0   \n",
       "4           0.0  1.442067e-07  3.206260e-07   0.0             0.0     0.0   \n",
       "...         ...           ...           ...   ...             ...     ...   \n",
       "22539       0.0  5.753774e-07  2.542106e-07   0.0             0.0     0.0   \n",
       "22540       0.0  2.297162e-07  7.160648e-07   0.0             0.0     0.0   \n",
       "22541       0.0  3.952277e-05  6.346868e-06   0.0             0.0     0.0   \n",
       "22542       0.0  3.043558e-08  3.206260e-08   0.0             0.0     0.0   \n",
       "22543       0.0  0.000000e+00  0.000000e+00   0.0             0.0     0.0   \n",
       "\n",
       "            hot  num_failed_logins  logged_in  num_compromised  ...  flag_REJ  \\\n",
       "0      0.000000                0.0        0.0         0.000000  ...       0.0   \n",
       "1      0.000000                0.0        0.0         0.000000  ...       0.0   \n",
       "2      0.000000                0.0        0.0         0.000000  ...       0.0   \n",
       "3      0.000000                0.0        1.0         0.000000  ...       0.0   \n",
       "4      0.000000                0.0        1.0         0.000000  ...       0.0   \n",
       "...         ...                ...        ...              ...  ...       ...   \n",
       "22539  0.000000                0.0        1.0         0.000000  ...       0.0   \n",
       "22540  0.000000                0.0        1.0         0.000000  ...       0.0   \n",
       "22541  0.019802                0.0        1.0         0.000134  ...       0.0   \n",
       "22542  0.000000                0.0        0.0         0.000000  ...       0.0   \n",
       "22543  0.000000                0.0        0.0         0.000000  ...       1.0   \n",
       "\n",
       "       flag_RSTO  flag_RSTOS0  flag_RSTR  flag_S0  flag_S1  flag_S2  flag_S3  \\\n",
       "0            0.0          0.0        0.0      0.0      0.0      0.0      0.0   \n",
       "1            0.0          0.0        0.0      0.0      0.0      0.0      0.0   \n",
       "2            0.0          0.0        0.0      1.0      0.0      0.0      0.0   \n",
       "3            0.0          0.0        0.0      0.0      0.0      0.0      0.0   \n",
       "4            0.0          0.0        0.0      0.0      0.0      0.0      0.0   \n",
       "...          ...          ...        ...      ...      ...      ...      ...   \n",
       "22539        0.0          0.0        0.0      0.0      0.0      0.0      0.0   \n",
       "22540        0.0          0.0        0.0      0.0      0.0      0.0      0.0   \n",
       "22541        0.0          0.0        0.0      0.0      0.0      0.0      0.0   \n",
       "22542        0.0          0.0        0.0      0.0      0.0      0.0      0.0   \n",
       "22543        0.0          0.0        0.0      0.0      0.0      0.0      0.0   \n",
       "\n",
       "       flag_SF  flag_SH  \n",
       "0          1.0      0.0  \n",
       "1          1.0      0.0  \n",
       "2          0.0      0.0  \n",
       "3          1.0      0.0  \n",
       "4          1.0      0.0  \n",
       "...        ...      ...  \n",
       "22539      1.0      0.0  \n",
       "22540      1.0      0.0  \n",
       "22541      1.0      0.0  \n",
       "22542      1.0      0.0  \n",
       "22543      0.0      0.0  \n",
       "\n",
       "[148517 rows x 122 columns]"
      ]
     },
     "execution_count": 27,
     "metadata": {},
     "output_type": "execute_result"
    }
   ],
   "source": [
    "new_train_df = normalize(combined_data,combined_data.columns)\n",
    "new_train_df"
   ]
  },
  {
   "cell_type": "code",
   "execution_count": 28,
   "metadata": {
    "executionInfo": {
     "elapsed": 450,
     "status": "ok",
     "timestamp": 1663916583883,
     "user": {
      "displayName": "Shima Bala",
      "userId": "16644015687034852305"
     },
     "user_tz": -360
    },
    "id": "O8COqwUUWpzm"
   },
   "outputs": [],
   "source": [
    "classlist = []\n",
    "check1 = (\"apache2\",\"back\",\"land\",\"neptune\",\"mailbomb\",\"pod\",\"processtable\",\"smurf\",\"teardrop\",\"udpstorm\",\"worm\")\n",
    "check2 = (\"ipsweep\",\"mscan\",\"nmap\",\"portsweep\",\"saint\",\"satan\")\n",
    "check3 = (\"buffer_overflow\",\"loadmodule\",\"perl\",\"ps\",\"rootkit\",\"sqlattack\",\"xterm\")\n",
    "check4 = (\"ftp_write\",\"guess_passwd\",\"httptunnel\",\"imap\",\"multihop\",\"named\",\"phf\",\"sendmail\",\"Snmpgetattack\",\"spy\",\"snmpguess\",\"warezclient\",\"warezmaster\",\"xlock\",\"xsnoop\")\n",
    "\n",
    "DoSCount=0\n",
    "ProbeCount=0\n",
    "U2RCount=0\n",
    "R2LCount=0\n",
    "NormalCount=0\n",
    "\n",
    "for item in tmp:\n",
    "    if item in check1:\n",
    "        classlist.append(\"DoS\")\n",
    "        DoSCount=DoSCount+1\n",
    "    elif item in check2:\n",
    "        classlist.append(\"Probe\")\n",
    "        ProbeCount=ProbeCount+1\n",
    "    elif item in check3:\n",
    "        classlist.append(\"U2R\")\n",
    "        U2RCount=U2RCount+1\n",
    "    elif item in check4:\n",
    "        classlist.append(\"R2L\")\n",
    "        R2LCount=R2LCount+1\n",
    "    else:\n",
    "        classlist.append(\"Normal\")\n",
    "        NormalCount=NormalCount+1   "
   ]
  },
  {
   "cell_type": "code",
   "execution_count": 29,
   "metadata": {
    "colab": {
     "base_uri": "https://localhost:8080/",
     "height": 488
    },
    "executionInfo": {
     "elapsed": 512,
     "status": "ok",
     "timestamp": 1663916588999,
     "user": {
      "displayName": "Shima Bala",
      "userId": "16644015687034852305"
     },
     "user_tz": -360
    },
    "id": "NEtt8jz1Wpzp",
    "outputId": "466f2bcd-d361-4e7c-9649-dc384fde7f41"
   },
   "outputs": [
    {
     "data": {
      "text/html": [
       "<div>\n",
       "<style scoped>\n",
       "    .dataframe tbody tr th:only-of-type {\n",
       "        vertical-align: middle;\n",
       "    }\n",
       "\n",
       "    .dataframe tbody tr th {\n",
       "        vertical-align: top;\n",
       "    }\n",
       "\n",
       "    .dataframe thead th {\n",
       "        text-align: right;\n",
       "    }\n",
       "</style>\n",
       "<table border=\"1\" class=\"dataframe\">\n",
       "  <thead>\n",
       "    <tr style=\"text-align: right;\">\n",
       "      <th></th>\n",
       "      <th>duration</th>\n",
       "      <th>src_bytes</th>\n",
       "      <th>dst_bytes</th>\n",
       "      <th>land</th>\n",
       "      <th>wrong_fragment</th>\n",
       "      <th>urgent</th>\n",
       "      <th>hot</th>\n",
       "      <th>num_failed_logins</th>\n",
       "      <th>logged_in</th>\n",
       "      <th>num_compromised</th>\n",
       "      <th>...</th>\n",
       "      <th>flag_RSTO</th>\n",
       "      <th>flag_RSTOS0</th>\n",
       "      <th>flag_RSTR</th>\n",
       "      <th>flag_S0</th>\n",
       "      <th>flag_S1</th>\n",
       "      <th>flag_S2</th>\n",
       "      <th>flag_S3</th>\n",
       "      <th>flag_SF</th>\n",
       "      <th>flag_SH</th>\n",
       "      <th>Class</th>\n",
       "    </tr>\n",
       "  </thead>\n",
       "  <tbody>\n",
       "    <tr>\n",
       "      <th>0</th>\n",
       "      <td>0.0</td>\n",
       "      <td>3.558064e-07</td>\n",
       "      <td>0.000000e+00</td>\n",
       "      <td>0.0</td>\n",
       "      <td>0.0</td>\n",
       "      <td>0.0</td>\n",
       "      <td>0.000000</td>\n",
       "      <td>0.0</td>\n",
       "      <td>0.0</td>\n",
       "      <td>0.000000</td>\n",
       "      <td>...</td>\n",
       "      <td>0.0</td>\n",
       "      <td>0.0</td>\n",
       "      <td>0.0</td>\n",
       "      <td>0.0</td>\n",
       "      <td>0.0</td>\n",
       "      <td>0.0</td>\n",
       "      <td>0.0</td>\n",
       "      <td>1.0</td>\n",
       "      <td>0.0</td>\n",
       "      <td>Normal</td>\n",
       "    </tr>\n",
       "    <tr>\n",
       "      <th>1</th>\n",
       "      <td>0.0</td>\n",
       "      <td>1.057999e-07</td>\n",
       "      <td>0.000000e+00</td>\n",
       "      <td>0.0</td>\n",
       "      <td>0.0</td>\n",
       "      <td>0.0</td>\n",
       "      <td>0.000000</td>\n",
       "      <td>0.0</td>\n",
       "      <td>0.0</td>\n",
       "      <td>0.000000</td>\n",
       "      <td>...</td>\n",
       "      <td>0.0</td>\n",
       "      <td>0.0</td>\n",
       "      <td>0.0</td>\n",
       "      <td>0.0</td>\n",
       "      <td>0.0</td>\n",
       "      <td>0.0</td>\n",
       "      <td>0.0</td>\n",
       "      <td>1.0</td>\n",
       "      <td>0.0</td>\n",
       "      <td>Normal</td>\n",
       "    </tr>\n",
       "    <tr>\n",
       "      <th>2</th>\n",
       "      <td>0.0</td>\n",
       "      <td>0.000000e+00</td>\n",
       "      <td>0.000000e+00</td>\n",
       "      <td>0.0</td>\n",
       "      <td>0.0</td>\n",
       "      <td>0.0</td>\n",
       "      <td>0.000000</td>\n",
       "      <td>0.0</td>\n",
       "      <td>0.0</td>\n",
       "      <td>0.000000</td>\n",
       "      <td>...</td>\n",
       "      <td>0.0</td>\n",
       "      <td>0.0</td>\n",
       "      <td>0.0</td>\n",
       "      <td>1.0</td>\n",
       "      <td>0.0</td>\n",
       "      <td>0.0</td>\n",
       "      <td>0.0</td>\n",
       "      <td>0.0</td>\n",
       "      <td>0.0</td>\n",
       "      <td>DoS</td>\n",
       "    </tr>\n",
       "    <tr>\n",
       "      <th>3</th>\n",
       "      <td>0.0</td>\n",
       "      <td>1.681203e-07</td>\n",
       "      <td>6.223962e-06</td>\n",
       "      <td>0.0</td>\n",
       "      <td>0.0</td>\n",
       "      <td>0.0</td>\n",
       "      <td>0.000000</td>\n",
       "      <td>0.0</td>\n",
       "      <td>1.0</td>\n",
       "      <td>0.000000</td>\n",
       "      <td>...</td>\n",
       "      <td>0.0</td>\n",
       "      <td>0.0</td>\n",
       "      <td>0.0</td>\n",
       "      <td>0.0</td>\n",
       "      <td>0.0</td>\n",
       "      <td>0.0</td>\n",
       "      <td>0.0</td>\n",
       "      <td>1.0</td>\n",
       "      <td>0.0</td>\n",
       "      <td>Normal</td>\n",
       "    </tr>\n",
       "    <tr>\n",
       "      <th>4</th>\n",
       "      <td>0.0</td>\n",
       "      <td>1.442067e-07</td>\n",
       "      <td>3.206260e-07</td>\n",
       "      <td>0.0</td>\n",
       "      <td>0.0</td>\n",
       "      <td>0.0</td>\n",
       "      <td>0.000000</td>\n",
       "      <td>0.0</td>\n",
       "      <td>1.0</td>\n",
       "      <td>0.000000</td>\n",
       "      <td>...</td>\n",
       "      <td>0.0</td>\n",
       "      <td>0.0</td>\n",
       "      <td>0.0</td>\n",
       "      <td>0.0</td>\n",
       "      <td>0.0</td>\n",
       "      <td>0.0</td>\n",
       "      <td>0.0</td>\n",
       "      <td>1.0</td>\n",
       "      <td>0.0</td>\n",
       "      <td>Normal</td>\n",
       "    </tr>\n",
       "    <tr>\n",
       "      <th>...</th>\n",
       "      <td>...</td>\n",
       "      <td>...</td>\n",
       "      <td>...</td>\n",
       "      <td>...</td>\n",
       "      <td>...</td>\n",
       "      <td>...</td>\n",
       "      <td>...</td>\n",
       "      <td>...</td>\n",
       "      <td>...</td>\n",
       "      <td>...</td>\n",
       "      <td>...</td>\n",
       "      <td>...</td>\n",
       "      <td>...</td>\n",
       "      <td>...</td>\n",
       "      <td>...</td>\n",
       "      <td>...</td>\n",
       "      <td>...</td>\n",
       "      <td>...</td>\n",
       "      <td>...</td>\n",
       "      <td>...</td>\n",
       "      <td>...</td>\n",
       "    </tr>\n",
       "    <tr>\n",
       "      <th>22539</th>\n",
       "      <td>0.0</td>\n",
       "      <td>5.753774e-07</td>\n",
       "      <td>2.542106e-07</td>\n",
       "      <td>0.0</td>\n",
       "      <td>0.0</td>\n",
       "      <td>0.0</td>\n",
       "      <td>0.000000</td>\n",
       "      <td>0.0</td>\n",
       "      <td>1.0</td>\n",
       "      <td>0.000000</td>\n",
       "      <td>...</td>\n",
       "      <td>0.0</td>\n",
       "      <td>0.0</td>\n",
       "      <td>0.0</td>\n",
       "      <td>0.0</td>\n",
       "      <td>0.0</td>\n",
       "      <td>0.0</td>\n",
       "      <td>0.0</td>\n",
       "      <td>1.0</td>\n",
       "      <td>0.0</td>\n",
       "      <td>Normal</td>\n",
       "    </tr>\n",
       "    <tr>\n",
       "      <th>22540</th>\n",
       "      <td>0.0</td>\n",
       "      <td>2.297162e-07</td>\n",
       "      <td>7.160648e-07</td>\n",
       "      <td>0.0</td>\n",
       "      <td>0.0</td>\n",
       "      <td>0.0</td>\n",
       "      <td>0.000000</td>\n",
       "      <td>0.0</td>\n",
       "      <td>1.0</td>\n",
       "      <td>0.000000</td>\n",
       "      <td>...</td>\n",
       "      <td>0.0</td>\n",
       "      <td>0.0</td>\n",
       "      <td>0.0</td>\n",
       "      <td>0.0</td>\n",
       "      <td>0.0</td>\n",
       "      <td>0.0</td>\n",
       "      <td>0.0</td>\n",
       "      <td>1.0</td>\n",
       "      <td>0.0</td>\n",
       "      <td>Normal</td>\n",
       "    </tr>\n",
       "    <tr>\n",
       "      <th>22541</th>\n",
       "      <td>0.0</td>\n",
       "      <td>3.952277e-05</td>\n",
       "      <td>6.346868e-06</td>\n",
       "      <td>0.0</td>\n",
       "      <td>0.0</td>\n",
       "      <td>0.0</td>\n",
       "      <td>0.019802</td>\n",
       "      <td>0.0</td>\n",
       "      <td>1.0</td>\n",
       "      <td>0.000134</td>\n",
       "      <td>...</td>\n",
       "      <td>0.0</td>\n",
       "      <td>0.0</td>\n",
       "      <td>0.0</td>\n",
       "      <td>0.0</td>\n",
       "      <td>0.0</td>\n",
       "      <td>0.0</td>\n",
       "      <td>0.0</td>\n",
       "      <td>1.0</td>\n",
       "      <td>0.0</td>\n",
       "      <td>DoS</td>\n",
       "    </tr>\n",
       "    <tr>\n",
       "      <th>22542</th>\n",
       "      <td>0.0</td>\n",
       "      <td>3.043558e-08</td>\n",
       "      <td>3.206260e-08</td>\n",
       "      <td>0.0</td>\n",
       "      <td>0.0</td>\n",
       "      <td>0.0</td>\n",
       "      <td>0.000000</td>\n",
       "      <td>0.0</td>\n",
       "      <td>0.0</td>\n",
       "      <td>0.000000</td>\n",
       "      <td>...</td>\n",
       "      <td>0.0</td>\n",
       "      <td>0.0</td>\n",
       "      <td>0.0</td>\n",
       "      <td>0.0</td>\n",
       "      <td>0.0</td>\n",
       "      <td>0.0</td>\n",
       "      <td>0.0</td>\n",
       "      <td>1.0</td>\n",
       "      <td>0.0</td>\n",
       "      <td>Normal</td>\n",
       "    </tr>\n",
       "    <tr>\n",
       "      <th>22543</th>\n",
       "      <td>0.0</td>\n",
       "      <td>0.000000e+00</td>\n",
       "      <td>0.000000e+00</td>\n",
       "      <td>0.0</td>\n",
       "      <td>0.0</td>\n",
       "      <td>0.0</td>\n",
       "      <td>0.000000</td>\n",
       "      <td>0.0</td>\n",
       "      <td>0.0</td>\n",
       "      <td>0.000000</td>\n",
       "      <td>...</td>\n",
       "      <td>0.0</td>\n",
       "      <td>0.0</td>\n",
       "      <td>0.0</td>\n",
       "      <td>0.0</td>\n",
       "      <td>0.0</td>\n",
       "      <td>0.0</td>\n",
       "      <td>0.0</td>\n",
       "      <td>0.0</td>\n",
       "      <td>0.0</td>\n",
       "      <td>Probe</td>\n",
       "    </tr>\n",
       "  </tbody>\n",
       "</table>\n",
       "<p>148517 rows × 123 columns</p>\n",
       "</div>"
      ],
      "text/plain": [
       "       duration     src_bytes     dst_bytes  land  wrong_fragment  urgent  \\\n",
       "0           0.0  3.558064e-07  0.000000e+00   0.0             0.0     0.0   \n",
       "1           0.0  1.057999e-07  0.000000e+00   0.0             0.0     0.0   \n",
       "2           0.0  0.000000e+00  0.000000e+00   0.0             0.0     0.0   \n",
       "3           0.0  1.681203e-07  6.223962e-06   0.0             0.0     0.0   \n",
       "4           0.0  1.442067e-07  3.206260e-07   0.0             0.0     0.0   \n",
       "...         ...           ...           ...   ...             ...     ...   \n",
       "22539       0.0  5.753774e-07  2.542106e-07   0.0             0.0     0.0   \n",
       "22540       0.0  2.297162e-07  7.160648e-07   0.0             0.0     0.0   \n",
       "22541       0.0  3.952277e-05  6.346868e-06   0.0             0.0     0.0   \n",
       "22542       0.0  3.043558e-08  3.206260e-08   0.0             0.0     0.0   \n",
       "22543       0.0  0.000000e+00  0.000000e+00   0.0             0.0     0.0   \n",
       "\n",
       "            hot  num_failed_logins  logged_in  num_compromised  ...  \\\n",
       "0      0.000000                0.0        0.0         0.000000  ...   \n",
       "1      0.000000                0.0        0.0         0.000000  ...   \n",
       "2      0.000000                0.0        0.0         0.000000  ...   \n",
       "3      0.000000                0.0        1.0         0.000000  ...   \n",
       "4      0.000000                0.0        1.0         0.000000  ...   \n",
       "...         ...                ...        ...              ...  ...   \n",
       "22539  0.000000                0.0        1.0         0.000000  ...   \n",
       "22540  0.000000                0.0        1.0         0.000000  ...   \n",
       "22541  0.019802                0.0        1.0         0.000134  ...   \n",
       "22542  0.000000                0.0        0.0         0.000000  ...   \n",
       "22543  0.000000                0.0        0.0         0.000000  ...   \n",
       "\n",
       "       flag_RSTO  flag_RSTOS0  flag_RSTR  flag_S0  flag_S1  flag_S2  flag_S3  \\\n",
       "0            0.0          0.0        0.0      0.0      0.0      0.0      0.0   \n",
       "1            0.0          0.0        0.0      0.0      0.0      0.0      0.0   \n",
       "2            0.0          0.0        0.0      1.0      0.0      0.0      0.0   \n",
       "3            0.0          0.0        0.0      0.0      0.0      0.0      0.0   \n",
       "4            0.0          0.0        0.0      0.0      0.0      0.0      0.0   \n",
       "...          ...          ...        ...      ...      ...      ...      ...   \n",
       "22539        0.0          0.0        0.0      0.0      0.0      0.0      0.0   \n",
       "22540        0.0          0.0        0.0      0.0      0.0      0.0      0.0   \n",
       "22541        0.0          0.0        0.0      0.0      0.0      0.0      0.0   \n",
       "22542        0.0          0.0        0.0      0.0      0.0      0.0      0.0   \n",
       "22543        0.0          0.0        0.0      0.0      0.0      0.0      0.0   \n",
       "\n",
       "       flag_SF  flag_SH   Class  \n",
       "0          1.0      0.0  Normal  \n",
       "1          1.0      0.0  Normal  \n",
       "2          0.0      0.0     DoS  \n",
       "3          1.0      0.0  Normal  \n",
       "4          1.0      0.0  Normal  \n",
       "...        ...      ...     ...  \n",
       "22539      1.0      0.0  Normal  \n",
       "22540      1.0      0.0  Normal  \n",
       "22541      1.0      0.0     DoS  \n",
       "22542      1.0      0.0  Normal  \n",
       "22543      0.0      0.0   Probe  \n",
       "\n",
       "[148517 rows x 123 columns]"
      ]
     },
     "execution_count": 29,
     "metadata": {},
     "output_type": "execute_result"
    }
   ],
   "source": [
    "new_train_df[\"Class\"] = classlist\n",
    "new_train_df"
   ]
  },
  {
   "cell_type": "code",
   "execution_count": 30,
   "metadata": {
    "colab": {
     "base_uri": "https://localhost:8080/"
    },
    "executionInfo": {
     "elapsed": 501,
     "status": "ok",
     "timestamp": 1663916595597,
     "user": {
      "displayName": "Shima Bala",
      "userId": "16644015687034852305"
     },
     "user_tz": -360
    },
    "id": "svZwVZDHWpzr",
    "outputId": "3dc43e6c-4850-44e0-f383-cbec1f4f9891"
   },
   "outputs": [
    {
     "data": {
      "text/plain": [
       "Normal    77232\n",
       "DoS       53387\n",
       "Probe     14077\n",
       "R2L        3702\n",
       "U2R         119\n",
       "Name: Class, dtype: int64"
      ]
     },
     "execution_count": 30,
     "metadata": {},
     "output_type": "execute_result"
    }
   ],
   "source": [
    "new_train_df[\"Class\"].value_counts()"
   ]
  },
  {
   "cell_type": "code",
   "execution_count": 31,
   "metadata": {
    "colab": {
     "base_uri": "https://localhost:8080/"
    },
    "executionInfo": {
     "elapsed": 441,
     "status": "ok",
     "timestamp": 1663916601510,
     "user": {
      "displayName": "Shima Bala",
      "userId": "16644015687034852305"
     },
     "user_tz": -360
    },
    "id": "pvz6KHEyWpzs",
    "outputId": "fe31b7b6-66e4-4c65-c8f0-48077d3543bd"
   },
   "outputs": [
    {
     "data": {
      "text/plain": [
       "False"
      ]
     },
     "execution_count": 31,
     "metadata": {},
     "output_type": "execute_result"
    }
   ],
   "source": [
    "new_train_df.isnull().values.any()"
   ]
  },
  {
   "cell_type": "code",
   "execution_count": 32,
   "metadata": {
    "colab": {
     "base_uri": "https://localhost:8080/"
    },
    "executionInfo": {
     "elapsed": 487,
     "status": "ok",
     "timestamp": 1663916605556,
     "user": {
      "displayName": "Shima Bala",
      "userId": "16644015687034852305"
     },
     "user_tz": -360
    },
    "id": "YI49Yng0Wpzu",
    "outputId": "17f1f646-6600-4e52-a0a3-f39e3e5ad85f"
   },
   "outputs": [
    {
     "data": {
      "text/plain": [
       "0        Normal\n",
       "1        Normal\n",
       "2           DoS\n",
       "3        Normal\n",
       "4        Normal\n",
       "          ...  \n",
       "22539    Normal\n",
       "22540    Normal\n",
       "22541       DoS\n",
       "22542    Normal\n",
       "22543     Probe\n",
       "Name: Class, Length: 148517, dtype: object"
      ]
     },
     "execution_count": 32,
     "metadata": {},
     "output_type": "execute_result"
    }
   ],
   "source": [
    "y_train=new_train_df[\"Class\"]\n",
    "y_train"
   ]
  },
  {
   "cell_type": "code",
   "execution_count": 33,
   "metadata": {
    "colab": {
     "base_uri": "https://localhost:8080/"
    },
    "executionInfo": {
     "elapsed": 565,
     "status": "ok",
     "timestamp": 1663916611991,
     "user": {
      "displayName": "Shima Bala",
      "userId": "16644015687034852305"
     },
     "user_tz": -360
    },
    "id": "l-vU1GmxWpzw",
    "outputId": "b920083e-01b6-423b-d97f-7367249772bc"
   },
   "outputs": [
    {
     "data": {
      "text/plain": [
       "False"
      ]
     },
     "execution_count": 33,
     "metadata": {},
     "output_type": "execute_result"
    }
   ],
   "source": [
    "y_train.isnull().values.any()"
   ]
  },
  {
   "cell_type": "code",
   "execution_count": 34,
   "metadata": {
    "colab": {
     "base_uri": "https://localhost:8080/",
     "height": 488
    },
    "executionInfo": {
     "elapsed": 456,
     "status": "ok",
     "timestamp": 1663916615729,
     "user": {
      "displayName": "Shima Bala",
      "userId": "16644015687034852305"
     },
     "user_tz": -360
    },
    "id": "FFnhzcC7Wpzy",
    "outputId": "317cf64d-c7de-4513-ea87-72cc1bfcb2a1"
   },
   "outputs": [
    {
     "data": {
      "text/html": [
       "<div>\n",
       "<style scoped>\n",
       "    .dataframe tbody tr th:only-of-type {\n",
       "        vertical-align: middle;\n",
       "    }\n",
       "\n",
       "    .dataframe tbody tr th {\n",
       "        vertical-align: top;\n",
       "    }\n",
       "\n",
       "    .dataframe thead th {\n",
       "        text-align: right;\n",
       "    }\n",
       "</style>\n",
       "<table border=\"1\" class=\"dataframe\">\n",
       "  <thead>\n",
       "    <tr style=\"text-align: right;\">\n",
       "      <th></th>\n",
       "      <th>duration</th>\n",
       "      <th>src_bytes</th>\n",
       "      <th>dst_bytes</th>\n",
       "      <th>land</th>\n",
       "      <th>wrong_fragment</th>\n",
       "      <th>urgent</th>\n",
       "      <th>hot</th>\n",
       "      <th>num_failed_logins</th>\n",
       "      <th>logged_in</th>\n",
       "      <th>num_compromised</th>\n",
       "      <th>...</th>\n",
       "      <th>flag_REJ</th>\n",
       "      <th>flag_RSTO</th>\n",
       "      <th>flag_RSTOS0</th>\n",
       "      <th>flag_RSTR</th>\n",
       "      <th>flag_S0</th>\n",
       "      <th>flag_S1</th>\n",
       "      <th>flag_S2</th>\n",
       "      <th>flag_S3</th>\n",
       "      <th>flag_SF</th>\n",
       "      <th>flag_SH</th>\n",
       "    </tr>\n",
       "  </thead>\n",
       "  <tbody>\n",
       "    <tr>\n",
       "      <th>0</th>\n",
       "      <td>0.0</td>\n",
       "      <td>3.558064e-07</td>\n",
       "      <td>0.000000e+00</td>\n",
       "      <td>0.0</td>\n",
       "      <td>0.0</td>\n",
       "      <td>0.0</td>\n",
       "      <td>0.000000</td>\n",
       "      <td>0.0</td>\n",
       "      <td>0.0</td>\n",
       "      <td>0.000000</td>\n",
       "      <td>...</td>\n",
       "      <td>0.0</td>\n",
       "      <td>0.0</td>\n",
       "      <td>0.0</td>\n",
       "      <td>0.0</td>\n",
       "      <td>0.0</td>\n",
       "      <td>0.0</td>\n",
       "      <td>0.0</td>\n",
       "      <td>0.0</td>\n",
       "      <td>1.0</td>\n",
       "      <td>0.0</td>\n",
       "    </tr>\n",
       "    <tr>\n",
       "      <th>1</th>\n",
       "      <td>0.0</td>\n",
       "      <td>1.057999e-07</td>\n",
       "      <td>0.000000e+00</td>\n",
       "      <td>0.0</td>\n",
       "      <td>0.0</td>\n",
       "      <td>0.0</td>\n",
       "      <td>0.000000</td>\n",
       "      <td>0.0</td>\n",
       "      <td>0.0</td>\n",
       "      <td>0.000000</td>\n",
       "      <td>...</td>\n",
       "      <td>0.0</td>\n",
       "      <td>0.0</td>\n",
       "      <td>0.0</td>\n",
       "      <td>0.0</td>\n",
       "      <td>0.0</td>\n",
       "      <td>0.0</td>\n",
       "      <td>0.0</td>\n",
       "      <td>0.0</td>\n",
       "      <td>1.0</td>\n",
       "      <td>0.0</td>\n",
       "    </tr>\n",
       "    <tr>\n",
       "      <th>2</th>\n",
       "      <td>0.0</td>\n",
       "      <td>0.000000e+00</td>\n",
       "      <td>0.000000e+00</td>\n",
       "      <td>0.0</td>\n",
       "      <td>0.0</td>\n",
       "      <td>0.0</td>\n",
       "      <td>0.000000</td>\n",
       "      <td>0.0</td>\n",
       "      <td>0.0</td>\n",
       "      <td>0.000000</td>\n",
       "      <td>...</td>\n",
       "      <td>0.0</td>\n",
       "      <td>0.0</td>\n",
       "      <td>0.0</td>\n",
       "      <td>0.0</td>\n",
       "      <td>1.0</td>\n",
       "      <td>0.0</td>\n",
       "      <td>0.0</td>\n",
       "      <td>0.0</td>\n",
       "      <td>0.0</td>\n",
       "      <td>0.0</td>\n",
       "    </tr>\n",
       "    <tr>\n",
       "      <th>3</th>\n",
       "      <td>0.0</td>\n",
       "      <td>1.681203e-07</td>\n",
       "      <td>6.223962e-06</td>\n",
       "      <td>0.0</td>\n",
       "      <td>0.0</td>\n",
       "      <td>0.0</td>\n",
       "      <td>0.000000</td>\n",
       "      <td>0.0</td>\n",
       "      <td>1.0</td>\n",
       "      <td>0.000000</td>\n",
       "      <td>...</td>\n",
       "      <td>0.0</td>\n",
       "      <td>0.0</td>\n",
       "      <td>0.0</td>\n",
       "      <td>0.0</td>\n",
       "      <td>0.0</td>\n",
       "      <td>0.0</td>\n",
       "      <td>0.0</td>\n",
       "      <td>0.0</td>\n",
       "      <td>1.0</td>\n",
       "      <td>0.0</td>\n",
       "    </tr>\n",
       "    <tr>\n",
       "      <th>4</th>\n",
       "      <td>0.0</td>\n",
       "      <td>1.442067e-07</td>\n",
       "      <td>3.206260e-07</td>\n",
       "      <td>0.0</td>\n",
       "      <td>0.0</td>\n",
       "      <td>0.0</td>\n",
       "      <td>0.000000</td>\n",
       "      <td>0.0</td>\n",
       "      <td>1.0</td>\n",
       "      <td>0.000000</td>\n",
       "      <td>...</td>\n",
       "      <td>0.0</td>\n",
       "      <td>0.0</td>\n",
       "      <td>0.0</td>\n",
       "      <td>0.0</td>\n",
       "      <td>0.0</td>\n",
       "      <td>0.0</td>\n",
       "      <td>0.0</td>\n",
       "      <td>0.0</td>\n",
       "      <td>1.0</td>\n",
       "      <td>0.0</td>\n",
       "    </tr>\n",
       "    <tr>\n",
       "      <th>...</th>\n",
       "      <td>...</td>\n",
       "      <td>...</td>\n",
       "      <td>...</td>\n",
       "      <td>...</td>\n",
       "      <td>...</td>\n",
       "      <td>...</td>\n",
       "      <td>...</td>\n",
       "      <td>...</td>\n",
       "      <td>...</td>\n",
       "      <td>...</td>\n",
       "      <td>...</td>\n",
       "      <td>...</td>\n",
       "      <td>...</td>\n",
       "      <td>...</td>\n",
       "      <td>...</td>\n",
       "      <td>...</td>\n",
       "      <td>...</td>\n",
       "      <td>...</td>\n",
       "      <td>...</td>\n",
       "      <td>...</td>\n",
       "      <td>...</td>\n",
       "    </tr>\n",
       "    <tr>\n",
       "      <th>22539</th>\n",
       "      <td>0.0</td>\n",
       "      <td>5.753774e-07</td>\n",
       "      <td>2.542106e-07</td>\n",
       "      <td>0.0</td>\n",
       "      <td>0.0</td>\n",
       "      <td>0.0</td>\n",
       "      <td>0.000000</td>\n",
       "      <td>0.0</td>\n",
       "      <td>1.0</td>\n",
       "      <td>0.000000</td>\n",
       "      <td>...</td>\n",
       "      <td>0.0</td>\n",
       "      <td>0.0</td>\n",
       "      <td>0.0</td>\n",
       "      <td>0.0</td>\n",
       "      <td>0.0</td>\n",
       "      <td>0.0</td>\n",
       "      <td>0.0</td>\n",
       "      <td>0.0</td>\n",
       "      <td>1.0</td>\n",
       "      <td>0.0</td>\n",
       "    </tr>\n",
       "    <tr>\n",
       "      <th>22540</th>\n",
       "      <td>0.0</td>\n",
       "      <td>2.297162e-07</td>\n",
       "      <td>7.160648e-07</td>\n",
       "      <td>0.0</td>\n",
       "      <td>0.0</td>\n",
       "      <td>0.0</td>\n",
       "      <td>0.000000</td>\n",
       "      <td>0.0</td>\n",
       "      <td>1.0</td>\n",
       "      <td>0.000000</td>\n",
       "      <td>...</td>\n",
       "      <td>0.0</td>\n",
       "      <td>0.0</td>\n",
       "      <td>0.0</td>\n",
       "      <td>0.0</td>\n",
       "      <td>0.0</td>\n",
       "      <td>0.0</td>\n",
       "      <td>0.0</td>\n",
       "      <td>0.0</td>\n",
       "      <td>1.0</td>\n",
       "      <td>0.0</td>\n",
       "    </tr>\n",
       "    <tr>\n",
       "      <th>22541</th>\n",
       "      <td>0.0</td>\n",
       "      <td>3.952277e-05</td>\n",
       "      <td>6.346868e-06</td>\n",
       "      <td>0.0</td>\n",
       "      <td>0.0</td>\n",
       "      <td>0.0</td>\n",
       "      <td>0.019802</td>\n",
       "      <td>0.0</td>\n",
       "      <td>1.0</td>\n",
       "      <td>0.000134</td>\n",
       "      <td>...</td>\n",
       "      <td>0.0</td>\n",
       "      <td>0.0</td>\n",
       "      <td>0.0</td>\n",
       "      <td>0.0</td>\n",
       "      <td>0.0</td>\n",
       "      <td>0.0</td>\n",
       "      <td>0.0</td>\n",
       "      <td>0.0</td>\n",
       "      <td>1.0</td>\n",
       "      <td>0.0</td>\n",
       "    </tr>\n",
       "    <tr>\n",
       "      <th>22542</th>\n",
       "      <td>0.0</td>\n",
       "      <td>3.043558e-08</td>\n",
       "      <td>3.206260e-08</td>\n",
       "      <td>0.0</td>\n",
       "      <td>0.0</td>\n",
       "      <td>0.0</td>\n",
       "      <td>0.000000</td>\n",
       "      <td>0.0</td>\n",
       "      <td>0.0</td>\n",
       "      <td>0.000000</td>\n",
       "      <td>...</td>\n",
       "      <td>0.0</td>\n",
       "      <td>0.0</td>\n",
       "      <td>0.0</td>\n",
       "      <td>0.0</td>\n",
       "      <td>0.0</td>\n",
       "      <td>0.0</td>\n",
       "      <td>0.0</td>\n",
       "      <td>0.0</td>\n",
       "      <td>1.0</td>\n",
       "      <td>0.0</td>\n",
       "    </tr>\n",
       "    <tr>\n",
       "      <th>22543</th>\n",
       "      <td>0.0</td>\n",
       "      <td>0.000000e+00</td>\n",
       "      <td>0.000000e+00</td>\n",
       "      <td>0.0</td>\n",
       "      <td>0.0</td>\n",
       "      <td>0.0</td>\n",
       "      <td>0.000000</td>\n",
       "      <td>0.0</td>\n",
       "      <td>0.0</td>\n",
       "      <td>0.000000</td>\n",
       "      <td>...</td>\n",
       "      <td>1.0</td>\n",
       "      <td>0.0</td>\n",
       "      <td>0.0</td>\n",
       "      <td>0.0</td>\n",
       "      <td>0.0</td>\n",
       "      <td>0.0</td>\n",
       "      <td>0.0</td>\n",
       "      <td>0.0</td>\n",
       "      <td>0.0</td>\n",
       "      <td>0.0</td>\n",
       "    </tr>\n",
       "  </tbody>\n",
       "</table>\n",
       "<p>148517 rows × 122 columns</p>\n",
       "</div>"
      ],
      "text/plain": [
       "       duration     src_bytes     dst_bytes  land  wrong_fragment  urgent  \\\n",
       "0           0.0  3.558064e-07  0.000000e+00   0.0             0.0     0.0   \n",
       "1           0.0  1.057999e-07  0.000000e+00   0.0             0.0     0.0   \n",
       "2           0.0  0.000000e+00  0.000000e+00   0.0             0.0     0.0   \n",
       "3           0.0  1.681203e-07  6.223962e-06   0.0             0.0     0.0   \n",
       "4           0.0  1.442067e-07  3.206260e-07   0.0             0.0     0.0   \n",
       "...         ...           ...           ...   ...             ...     ...   \n",
       "22539       0.0  5.753774e-07  2.542106e-07   0.0             0.0     0.0   \n",
       "22540       0.0  2.297162e-07  7.160648e-07   0.0             0.0     0.0   \n",
       "22541       0.0  3.952277e-05  6.346868e-06   0.0             0.0     0.0   \n",
       "22542       0.0  3.043558e-08  3.206260e-08   0.0             0.0     0.0   \n",
       "22543       0.0  0.000000e+00  0.000000e+00   0.0             0.0     0.0   \n",
       "\n",
       "            hot  num_failed_logins  logged_in  num_compromised  ...  flag_REJ  \\\n",
       "0      0.000000                0.0        0.0         0.000000  ...       0.0   \n",
       "1      0.000000                0.0        0.0         0.000000  ...       0.0   \n",
       "2      0.000000                0.0        0.0         0.000000  ...       0.0   \n",
       "3      0.000000                0.0        1.0         0.000000  ...       0.0   \n",
       "4      0.000000                0.0        1.0         0.000000  ...       0.0   \n",
       "...         ...                ...        ...              ...  ...       ...   \n",
       "22539  0.000000                0.0        1.0         0.000000  ...       0.0   \n",
       "22540  0.000000                0.0        1.0         0.000000  ...       0.0   \n",
       "22541  0.019802                0.0        1.0         0.000134  ...       0.0   \n",
       "22542  0.000000                0.0        0.0         0.000000  ...       0.0   \n",
       "22543  0.000000                0.0        0.0         0.000000  ...       1.0   \n",
       "\n",
       "       flag_RSTO  flag_RSTOS0  flag_RSTR  flag_S0  flag_S1  flag_S2  flag_S3  \\\n",
       "0            0.0          0.0        0.0      0.0      0.0      0.0      0.0   \n",
       "1            0.0          0.0        0.0      0.0      0.0      0.0      0.0   \n",
       "2            0.0          0.0        0.0      1.0      0.0      0.0      0.0   \n",
       "3            0.0          0.0        0.0      0.0      0.0      0.0      0.0   \n",
       "4            0.0          0.0        0.0      0.0      0.0      0.0      0.0   \n",
       "...          ...          ...        ...      ...      ...      ...      ...   \n",
       "22539        0.0          0.0        0.0      0.0      0.0      0.0      0.0   \n",
       "22540        0.0          0.0        0.0      0.0      0.0      0.0      0.0   \n",
       "22541        0.0          0.0        0.0      0.0      0.0      0.0      0.0   \n",
       "22542        0.0          0.0        0.0      0.0      0.0      0.0      0.0   \n",
       "22543        0.0          0.0        0.0      0.0      0.0      0.0      0.0   \n",
       "\n",
       "       flag_SF  flag_SH  \n",
       "0          1.0      0.0  \n",
       "1          1.0      0.0  \n",
       "2          0.0      0.0  \n",
       "3          1.0      0.0  \n",
       "4          1.0      0.0  \n",
       "...        ...      ...  \n",
       "22539      1.0      0.0  \n",
       "22540      1.0      0.0  \n",
       "22541      1.0      0.0  \n",
       "22542      1.0      0.0  \n",
       "22543      0.0      0.0  \n",
       "\n",
       "[148517 rows x 122 columns]"
      ]
     },
     "execution_count": 34,
     "metadata": {},
     "output_type": "execute_result"
    }
   ],
   "source": [
    "combined_data_X = new_train_df.drop('Class', 1)\n",
    "combined_data_X"
   ]
  },
  {
   "cell_type": "code",
   "execution_count": 35,
   "metadata": {
    "executionInfo": {
     "elapsed": 1304,
     "status": "ok",
     "timestamp": 1663917008541,
     "user": {
      "displayName": "Shima Bala",
      "userId": "16644015687034852305"
     },
     "user_tz": -360
    },
    "id": "1V3qzBzyWpz5"
   },
   "outputs": [],
   "source": [
    "batch_size = 32\n",
    "model = Sequential()\n",
    "model.add(Convolution1D(64, kernel_size=122, padding=\"same\",activation=\"relu\",input_shape=(122, 1)))\n",
    "model.add(MaxPooling1D(pool_size=(5)))\n",
    "model.add(BatchNormalization())\n",
    "model.add(Bidirectional(LSTM(64, return_sequences=False))) \n",
    "model.add(Reshape((128, 1), input_shape = (128, )))\n",
    "    \n",
    "model.add(MaxPooling1D(pool_size=(5)))\n",
    "model.add(BatchNormalization())\n",
    "model.add(Bidirectional(LSTM(128, return_sequences=False))) \n",
    "    \n",
    "model.add(Dropout(0.5))\n",
    "model.add(Dense(5))\n",
    "model.add(Activation('softmax'))\n",
    "model.compile(loss='categorical_crossentropy',optimizer='adam',metrics=['accuracy'])"
   ]
  },
  {
   "cell_type": "code",
   "execution_count": 36,
   "metadata": {
    "colab": {
     "base_uri": "https://localhost:8080/"
    },
    "executionInfo": {
     "elapsed": 523,
     "status": "ok",
     "timestamp": 1663917014770,
     "user": {
      "displayName": "Shima Bala",
      "userId": "16644015687034852305"
     },
     "user_tz": -360
    },
    "id": "pN8ISLwLWpz7",
    "outputId": "4c97155a-a53b-4338-a104-715c8d543cff"
   },
   "outputs": [
    {
     "name": "stdout",
     "output_type": "stream",
     "text": [
      "(None, 122, 64)\n",
      "(None, 24, 64)\n",
      "(None, 24, 64)\n",
      "(None, 128)\n",
      "(None, 128, 1)\n",
      "(None, 25, 1)\n",
      "(None, 25, 1)\n",
      "(None, 256)\n",
      "(None, 256)\n",
      "(None, 5)\n",
      "(None, 5)\n"
     ]
    }
   ],
   "source": [
    "for layer in model.layers:\n",
    "    print(layer.output_shape)"
   ]
  },
  {
   "cell_type": "code",
   "execution_count": 37,
   "metadata": {
    "colab": {
     "base_uri": "https://localhost:8080/"
    },
    "executionInfo": {
     "elapsed": 550,
     "status": "ok",
     "timestamp": 1663917024105,
     "user": {
      "displayName": "Shima Bala",
      "userId": "16644015687034852305"
     },
     "user_tz": -360
    },
    "id": "81nEN2CkWpz8",
    "outputId": "ef2d9ddf-d930-4001-a7cc-1f9aae169caf"
   },
   "outputs": [
    {
     "name": "stdout",
     "output_type": "stream",
     "text": [
      "Model: \"sequential\"\n",
      "_________________________________________________________________\n",
      " Layer (type)                Output Shape              Param #   \n",
      "=================================================================\n",
      " conv1d (Conv1D)             (None, 122, 64)           7872      \n",
      "                                                                 \n",
      " max_pooling1d (MaxPooling1D  (None, 24, 64)           0         \n",
      " )                                                               \n",
      "                                                                 \n",
      " batch_normalization (BatchN  (None, 24, 64)           256       \n",
      " ormalization)                                                   \n",
      "                                                                 \n",
      " bidirectional (Bidirectiona  (None, 128)              66048     \n",
      " l)                                                              \n",
      "                                                                 \n",
      " reshape (Reshape)           (None, 128, 1)            0         \n",
      "                                                                 \n",
      " max_pooling1d_1 (MaxPooling  (None, 25, 1)            0         \n",
      " 1D)                                                             \n",
      "                                                                 \n",
      " batch_normalization_1 (Batc  (None, 25, 1)            4         \n",
      " hNormalization)                                                 \n",
      "                                                                 \n",
      " bidirectional_1 (Bidirectio  (None, 256)              133120    \n",
      " nal)                                                            \n",
      "                                                                 \n",
      " dropout (Dropout)           (None, 256)               0         \n",
      "                                                                 \n",
      " dense (Dense)               (None, 5)                 1285      \n",
      "                                                                 \n",
      " activation (Activation)     (None, 5)                 0         \n",
      "                                                                 \n",
      "=================================================================\n",
      "Total params: 208,585\n",
      "Trainable params: 208,455\n",
      "Non-trainable params: 130\n",
      "_________________________________________________________________\n"
     ]
    }
   ],
   "source": [
    "model.summary()"
   ]
  },
  {
   "cell_type": "code",
   "execution_count": 38,
   "metadata": {
    "executionInfo": {
     "elapsed": 477,
     "status": "ok",
     "timestamp": 1663917033446,
     "user": {
      "displayName": "Shima Bala",
      "userId": "16644015687034852305"
     },
     "user_tz": -360
    },
    "id": "ur3aCjniWpz0"
   },
   "outputs": [],
   "source": [
    "oos_pred = []\n",
    "k_dict = {'accuracy' : [], 'detectionRate' : [], 'falsepositiverate' : [], 'confusionmatrix' : []}"
   ]
  },
  {
   "cell_type": "code",
   "execution_count": 39,
   "metadata": {
    "colab": {
     "base_uri": "https://localhost:8080/"
    },
    "id": "WJzo6xdIggkL",
    "outputId": "49de5589-605a-41e3-f1b7-2f7ee2b97fc8",
    "scrolled": false
   },
   "outputs": [
    {
     "name": "stdout",
     "output_type": "stream",
     "text": [
      "Epoch 1/5\n",
      "2321/2321 [==============================] - 103s 42ms/step - loss: 0.1298 - accuracy: 0.9606 - val_loss: 0.0901 - val_accuracy: 0.9692\n",
      "Epoch 2/5\n",
      "2321/2321 [==============================] - 86s 37ms/step - loss: 0.0758 - accuracy: 0.9746 - val_loss: 0.0675 - val_accuracy: 0.9774\n",
      "Epoch 3/5\n",
      "2321/2321 [==============================] - 88s 38ms/step - loss: 0.0623 - accuracy: 0.9783 - val_loss: 0.0540 - val_accuracy: 0.9806\n",
      "Epoch 4/5\n",
      "2321/2321 [==============================] - 91s 39ms/step - loss: 0.0532 - accuracy: 0.9820 - val_loss: 0.0651 - val_accuracy: 0.9750\n",
      "Epoch 5/5\n",
      "2321/2321 [==============================] - 95s 41ms/step - loss: 0.0492 - accuracy: 0.9831 - val_loss: 0.0441 - val_accuracy: 0.9846\n",
      "2321/2321 [==============================] - 21s 9ms/step\n",
      "Validation score: 0.9845809935496034\n",
      "Epoch 1/5\n",
      "2321/2321 [==============================] - 86s 37ms/step - loss: 0.0467 - accuracy: 0.9844 - val_loss: 0.0490 - val_accuracy: 0.9821\n",
      "Epoch 2/5\n",
      "2321/2321 [==============================] - 86s 37ms/step - loss: 0.0425 - accuracy: 0.9855 - val_loss: 0.0466 - val_accuracy: 0.9837\n",
      "Epoch 3/5\n",
      "2321/2321 [==============================] - 87s 37ms/step - loss: 0.0399 - accuracy: 0.9861 - val_loss: 0.0425 - val_accuracy: 0.9837\n",
      "Epoch 4/5\n",
      "2321/2321 [==============================] - 87s 38ms/step - loss: 0.0378 - accuracy: 0.9869 - val_loss: 0.0378 - val_accuracy: 0.9871\n",
      "Epoch 5/5\n",
      "2321/2321 [==============================] - 88s 38ms/step - loss: 0.0354 - accuracy: 0.9873 - val_loss: 0.0354 - val_accuracy: 0.9871\n",
      "2321/2321 [==============================] - 23s 10ms/step\n",
      "Validation score: 0.9870855665382854\n",
      "Epoch 1/5\n",
      "3481/3481 [==============================] - 119s 34ms/step - loss: 0.0359 - accuracy: 0.9874 - val_loss: 0.0348 - val_accuracy: 0.9880\n",
      "Epoch 2/5\n",
      "3481/3481 [==============================] - 118s 34ms/step - loss: 0.0344 - accuracy: 0.9878 - val_loss: 0.0362 - val_accuracy: 0.9878\n",
      "Epoch 3/5\n",
      "3481/3481 [==============================] - 118s 34ms/step - loss: 0.0321 - accuracy: 0.9883 - val_loss: 0.0305 - val_accuracy: 0.9891\n",
      "Epoch 4/5\n",
      "3481/3481 [==============================] - 121s 35ms/step - loss: 0.0306 - accuracy: 0.9892 - val_loss: 0.0312 - val_accuracy: 0.9893\n",
      "Epoch 5/5\n",
      "3481/3481 [==============================] - 119s 34ms/step - loss: 0.0302 - accuracy: 0.9892 - val_loss: 0.0295 - val_accuracy: 0.9898\n",
      "1161/1161 [==============================] - 13s 11ms/step\n",
      "Validation score: 0.9897656881228117\n",
      "Epoch 1/5\n",
      "3481/3481 [==============================] - 126s 36ms/step - loss: 0.0305 - accuracy: 0.9892 - val_loss: 0.0267 - val_accuracy: 0.9897\n",
      "Epoch 2/5\n",
      "3481/3481 [==============================] - 126s 36ms/step - loss: 0.0291 - accuracy: 0.9895 - val_loss: 0.0285 - val_accuracy: 0.9891\n",
      "Epoch 3/5\n",
      "3481/3481 [==============================] - 126s 36ms/step - loss: 0.0290 - accuracy: 0.9892 - val_loss: 0.0248 - val_accuracy: 0.9909\n",
      "Epoch 4/5\n",
      "3481/3481 [==============================] - 128s 37ms/step - loss: 0.0275 - accuracy: 0.9899 - val_loss: 0.0304 - val_accuracy: 0.9868\n",
      "Epoch 5/5\n",
      "3481/3481 [==============================] - 130s 37ms/step - loss: 0.0270 - accuracy: 0.9899 - val_loss: 0.0234 - val_accuracy: 0.9917\n",
      "1161/1161 [==============================] - 14s 12ms/step\n",
      "Validation score: 0.9917045974844462\n",
      "Epoch 1/5\n",
      "3481/3481 [==============================] - 136s 39ms/step - loss: 0.0270 - accuracy: 0.9900 - val_loss: 0.0248 - val_accuracy: 0.9900\n",
      "Epoch 2/5\n",
      "3481/3481 [==============================] - 135s 39ms/step - loss: 0.0255 - accuracy: 0.9903 - val_loss: 0.0230 - val_accuracy: 0.9913\n",
      "Epoch 3/5\n",
      "3481/3481 [==============================] - 133s 38ms/step - loss: 0.0244 - accuracy: 0.9909 - val_loss: 0.0241 - val_accuracy: 0.9907\n",
      "Epoch 4/5\n",
      "3481/3481 [==============================] - 135s 39ms/step - loss: 0.0246 - accuracy: 0.9908 - val_loss: 0.0281 - val_accuracy: 0.9898\n",
      "Epoch 5/5\n",
      "3481/3481 [==============================] - 134s 39ms/step - loss: 0.0237 - accuracy: 0.9911 - val_loss: 0.0275 - val_accuracy: 0.9904\n",
      "1161/1161 [==============================] - 15s 13ms/step\n",
      "Validation score: 0.9904118074820222\n",
      "Epoch 1/5\n",
      "3481/3481 [==============================] - 136s 39ms/step - loss: 0.0243 - accuracy: 0.9912 - val_loss: 0.0213 - val_accuracy: 0.9915\n",
      "Epoch 2/5\n",
      "3481/3481 [==============================] - 138s 40ms/step - loss: 0.0234 - accuracy: 0.9912 - val_loss: 0.0242 - val_accuracy: 0.9908\n",
      "Epoch 3/5\n",
      "3481/3481 [==============================] - 136s 39ms/step - loss: 0.0227 - accuracy: 0.9915 - val_loss: 0.0264 - val_accuracy: 0.9903\n",
      "Epoch 4/5\n",
      "3481/3481 [==============================] - 141s 41ms/step - loss: 0.0220 - accuracy: 0.9916 - val_loss: 0.0277 - val_accuracy: 0.9895\n",
      "Epoch 5/5\n",
      "3481/3481 [==============================] - 142s 41ms/step - loss: 0.0213 - accuracy: 0.9917 - val_loss: 0.0272 - val_accuracy: 0.9901\n",
      "1161/1161 [==============================] - 17s 14ms/step\n",
      "Validation score: 0.9900886099814161\n",
      "Epoch 1/5\n",
      "3868/3868 [==============================] - 156s 40ms/step - loss: 0.0242 - accuracy: 0.9911 - val_loss: 0.0309 - val_accuracy: 0.9885\n",
      "Epoch 2/5\n",
      "3868/3868 [==============================] - 153s 40ms/step - loss: 0.0226 - accuracy: 0.9914 - val_loss: 0.0194 - val_accuracy: 0.9924\n",
      "Epoch 3/5\n",
      "3868/3868 [==============================] - 154s 40ms/step - loss: 0.0215 - accuracy: 0.9916 - val_loss: 0.0199 - val_accuracy: 0.9929\n",
      "Epoch 4/5\n",
      "3868/3868 [==============================] - 154s 40ms/step - loss: 0.0221 - accuracy: 0.9917 - val_loss: 0.0204 - val_accuracy: 0.9917\n",
      "Epoch 5/5\n",
      "3868/3868 [==============================] - 155s 40ms/step - loss: 0.0208 - accuracy: 0.9919 - val_loss: 0.0223 - val_accuracy: 0.9922\n",
      "774/774 [==============================] - 11s 15ms/step\n",
      "Validation score: 0.9922433644406738\n",
      "Epoch 1/5\n",
      "3868/3868 [==============================] - 161s 42ms/step - loss: 0.0210 - accuracy: 0.9919 - val_loss: 0.0206 - val_accuracy: 0.9922\n",
      "Epoch 2/5\n",
      "3868/3868 [==============================] - 157s 41ms/step - loss: 0.0203 - accuracy: 0.9923 - val_loss: 0.0215 - val_accuracy: 0.9924\n",
      "Epoch 3/5\n",
      "3868/3868 [==============================] - 160s 41ms/step - loss: 0.0195 - accuracy: 0.9925 - val_loss: 0.0203 - val_accuracy: 0.9924\n",
      "Epoch 4/5\n",
      "3868/3868 [==============================] - 161s 42ms/step - loss: 0.0200 - accuracy: 0.9923 - val_loss: 0.0205 - val_accuracy: 0.9916\n",
      "Epoch 5/5\n",
      "3868/3868 [==============================] - 160s 41ms/step - loss: 0.0198 - accuracy: 0.9925 - val_loss: 0.0222 - val_accuracy: 0.9910\n",
      "774/774 [==============================] - 12s 15ms/step\n",
      "Validation score: 0.9910313901345291\n",
      "Epoch 1/5\n",
      "3868/3868 [==============================] - 166s 43ms/step - loss: 0.0202 - accuracy: 0.9924 - val_loss: 0.0164 - val_accuracy: 0.9931\n",
      "Epoch 2/5\n",
      "3868/3868 [==============================] - 165s 43ms/step - loss: 0.0205 - accuracy: 0.9921 - val_loss: 0.0177 - val_accuracy: 0.9924\n",
      "Epoch 3/5\n",
      "3868/3868 [==============================] - 168s 44ms/step - loss: 0.0194 - accuracy: 0.9929 - val_loss: 0.0181 - val_accuracy: 0.9917\n",
      "Epoch 4/5\n",
      "3868/3868 [==============================] - 169s 44ms/step - loss: 0.0190 - accuracy: 0.9925 - val_loss: 0.0173 - val_accuracy: 0.9927\n",
      "Epoch 5/5\n",
      "3868/3868 [==============================] - 173s 45ms/step - loss: 0.0188 - accuracy: 0.9929 - val_loss: 0.0170 - val_accuracy: 0.9929\n",
      "774/774 [==============================] - 13s 17ms/step\n",
      "Validation score: 0.9929301498808225\n",
      "Epoch 1/5\n",
      "3868/3868 [==============================] - 180s 47ms/step - loss: 0.0189 - accuracy: 0.9925 - val_loss: 0.0180 - val_accuracy: 0.9933\n",
      "Epoch 2/5\n",
      "3868/3868 [==============================] - 178s 46ms/step - loss: 0.0189 - accuracy: 0.9930 - val_loss: 0.0222 - val_accuracy: 0.9916\n",
      "Epoch 3/5\n",
      "3868/3868 [==============================] - 178s 46ms/step - loss: 0.0186 - accuracy: 0.9930 - val_loss: 0.0208 - val_accuracy: 0.9919\n",
      "Epoch 4/5\n",
      "3868/3868 [==============================] - 179s 46ms/step - loss: 0.0179 - accuracy: 0.9930 - val_loss: 0.0203 - val_accuracy: 0.9925\n",
      "Epoch 5/5\n",
      "3868/3868 [==============================] - 181s 47ms/step - loss: 0.0180 - accuracy: 0.9931 - val_loss: 0.0189 - val_accuracy: 0.9931\n",
      "774/774 [==============================] - 14s 18ms/step\n",
      "Validation score: 0.9931321455985133\n",
      "Epoch 1/5\n",
      "3868/3868 [==============================] - 185s 48ms/step - loss: 0.0189 - accuracy: 0.9929 - val_loss: 0.0173 - val_accuracy: 0.9926\n",
      "Epoch 2/5\n",
      "3868/3868 [==============================] - 181s 47ms/step - loss: 0.0178 - accuracy: 0.9931 - val_loss: 0.0189 - val_accuracy: 0.9932\n",
      "Epoch 3/5\n",
      "3868/3868 [==============================] - 182s 47ms/step - loss: 0.0175 - accuracy: 0.9931 - val_loss: 0.0182 - val_accuracy: 0.9928\n",
      "Epoch 4/5\n",
      "3868/3868 [==============================] - 185s 48ms/step - loss: 0.0166 - accuracy: 0.9933 - val_loss: 0.0170 - val_accuracy: 0.9939\n",
      "Epoch 5/5\n",
      "3868/3868 [==============================] - 184s 48ms/step - loss: 0.0172 - accuracy: 0.9931 - val_loss: 0.0201 - val_accuracy: 0.9931\n",
      "774/774 [==============================] - 16s 21ms/step\n",
      "Validation score: 0.9931321455985133\n",
      "Epoch 1/5\n",
      "3868/3868 [==============================] - 220s 57ms/step - loss: 0.0173 - accuracy: 0.9934 - val_loss: 0.0171 - val_accuracy: 0.9928\n",
      "Epoch 2/5\n",
      "3868/3868 [==============================] - 212s 55ms/step - loss: 0.0167 - accuracy: 0.9937 - val_loss: 0.0180 - val_accuracy: 0.9934\n",
      "Epoch 3/5\n",
      "3868/3868 [==============================] - 215s 56ms/step - loss: 0.0170 - accuracy: 0.9936 - val_loss: 0.0211 - val_accuracy: 0.9920\n",
      "Epoch 4/5\n",
      "3868/3868 [==============================] - 213s 55ms/step - loss: 0.0162 - accuracy: 0.9938 - val_loss: 0.0226 - val_accuracy: 0.9916\n",
      "Epoch 5/5\n",
      "3868/3868 [==============================] - 215s 56ms/step - loss: 0.0172 - accuracy: 0.9936 - val_loss: 0.0193 - val_accuracy: 0.9928\n",
      "774/774 [==============================] - 16s 21ms/step\n",
      "Validation score: 0.9928490627020039\n",
      "Epoch 1/5\n",
      "4061/4061 [==============================] - 226s 56ms/step - loss: 0.0176 - accuracy: 0.9933 - val_loss: 0.0169 - val_accuracy: 0.9940\n",
      "Epoch 2/5\n",
      "4061/4061 [==============================] - 228s 56ms/step - loss: 0.0169 - accuracy: 0.9937 - val_loss: 0.0142 - val_accuracy: 0.9944\n",
      "Epoch 3/5\n",
      "4061/4061 [==============================] - 230s 57ms/step - loss: 0.0162 - accuracy: 0.9940 - val_loss: 0.0181 - val_accuracy: 0.9940\n",
      "Epoch 4/5\n",
      "4061/4061 [==============================] - 234s 58ms/step - loss: 0.0173 - accuracy: 0.9934 - val_loss: 0.0166 - val_accuracy: 0.9942\n",
      "Epoch 5/5\n",
      "4061/4061 [==============================] - 238s 59ms/step - loss: 0.0163 - accuracy: 0.9937 - val_loss: 0.0170 - val_accuracy: 0.9931\n",
      "581/581 [==============================] - 13s 23ms/step\n",
      "Validation score: 0.9931053056827364\n",
      "Epoch 1/5\n",
      "4061/4061 [==============================] - 240s 59ms/step - loss: 0.0168 - accuracy: 0.9935 - val_loss: 0.0165 - val_accuracy: 0.9943\n",
      "Epoch 2/5\n",
      "4061/4061 [==============================] - 241s 59ms/step - loss: 0.0162 - accuracy: 0.9935 - val_loss: 0.0185 - val_accuracy: 0.9932\n",
      "Epoch 3/5\n",
      "4061/4061 [==============================] - 245s 60ms/step - loss: 0.0163 - accuracy: 0.9934 - val_loss: 0.0214 - val_accuracy: 0.9915\n",
      "Epoch 4/5\n",
      "4061/4061 [==============================] - 247s 61ms/step - loss: 0.0160 - accuracy: 0.9937 - val_loss: 0.0196 - val_accuracy: 0.9931\n",
      "Epoch 5/5\n",
      "4061/4061 [==============================] - 249s 61ms/step - loss: 0.0158 - accuracy: 0.9938 - val_loss: 0.0178 - val_accuracy: 0.9935\n",
      "581/581 [==============================] - 14s 25ms/step\n",
      "Validation score: 0.9935362240775654\n",
      "Epoch 1/5\n",
      "4061/4061 [==============================] - 254s 62ms/step - loss: 0.0162 - accuracy: 0.9935 - val_loss: 0.0147 - val_accuracy: 0.9946\n",
      "Epoch 2/5\n",
      "4061/4061 [==============================] - 255s 63ms/step - loss: 0.0159 - accuracy: 0.9937 - val_loss: 0.0132 - val_accuracy: 0.9950\n",
      "Epoch 3/5\n",
      "4061/4061 [==============================] - 256s 63ms/step - loss: 0.0156 - accuracy: 0.9942 - val_loss: 0.0139 - val_accuracy: 0.9946\n",
      "Epoch 4/5\n",
      "4061/4061 [==============================] - 261s 64ms/step - loss: 0.0156 - accuracy: 0.9938 - val_loss: 0.0144 - val_accuracy: 0.9938\n",
      "Epoch 5/5\n",
      "4061/4061 [==============================] - 263s 65ms/step - loss: 0.0151 - accuracy: 0.9941 - val_loss: 0.0156 - val_accuracy: 0.9942\n",
      "581/581 [==============================] - 15s 26ms/step\n",
      "Validation score: 0.9942364664691624\n",
      "Epoch 1/5\n",
      "4061/4061 [==============================] - 265s 65ms/step - loss: 0.0156 - accuracy: 0.9937 - val_loss: 0.0137 - val_accuracy: 0.9939\n",
      "Epoch 2/5\n",
      "4061/4061 [==============================] - 266s 66ms/step - loss: 0.0154 - accuracy: 0.9941 - val_loss: 0.0131 - val_accuracy: 0.9943\n",
      "Epoch 3/5\n",
      "4061/4061 [==============================] - 270s 67ms/step - loss: 0.0155 - accuracy: 0.9939 - val_loss: 0.0128 - val_accuracy: 0.9948\n",
      "Epoch 4/5\n",
      "4061/4061 [==============================] - 272s 67ms/step - loss: 0.0153 - accuracy: 0.9941 - val_loss: 0.0135 - val_accuracy: 0.9938\n",
      "Epoch 5/5\n",
      "4061/4061 [==============================] - 275s 68ms/step - loss: 0.0156 - accuracy: 0.9939 - val_loss: 0.0136 - val_accuracy: 0.9947\n",
      "581/581 [==============================] - 15s 27ms/step\n",
      "Validation score: 0.9946673848639914\n",
      "Epoch 1/5\n",
      "4061/4061 [==============================] - 281s 69ms/step - loss: 0.0151 - accuracy: 0.9940 - val_loss: 0.0165 - val_accuracy: 0.9937\n",
      "Epoch 2/5\n",
      "4061/4061 [==============================] - 283s 70ms/step - loss: 0.0146 - accuracy: 0.9943 - val_loss: 0.0149 - val_accuracy: 0.9942\n",
      "Epoch 3/5\n",
      "4061/4061 [==============================] - 287s 71ms/step - loss: 0.0147 - accuracy: 0.9942 - val_loss: 0.0173 - val_accuracy: 0.9926\n",
      "Epoch 4/5\n",
      "4061/4061 [==============================] - 285s 70ms/step - loss: 0.0148 - accuracy: 0.9941 - val_loss: 0.0171 - val_accuracy: 0.9940\n",
      "Epoch 5/5\n",
      "4061/4061 [==============================] - 288s 71ms/step - loss: 0.0145 - accuracy: 0.9943 - val_loss: 0.0175 - val_accuracy: 0.9938\n",
      "581/581 [==============================] - 17s 30ms/step\n",
      "Validation score: 0.9937516832749798\n",
      "Epoch 1/5\n",
      "4062/4062 [==============================] - 292s 72ms/step - loss: 0.0148 - accuracy: 0.9943 - val_loss: 0.0112 - val_accuracy: 0.9956\n",
      "Epoch 2/5\n",
      "4062/4062 [==============================] - 293s 72ms/step - loss: 0.0146 - accuracy: 0.9940 - val_loss: 0.0123 - val_accuracy: 0.9951\n",
      "Epoch 3/5\n",
      "4062/4062 [==============================] - 300s 74ms/step - loss: 0.0151 - accuracy: 0.9941 - val_loss: 0.0120 - val_accuracy: 0.9955\n",
      "Epoch 4/5\n",
      "4062/4062 [==============================] - 305s 75ms/step - loss: 0.0144 - accuracy: 0.9940 - val_loss: 0.0141 - val_accuracy: 0.9948\n",
      "Epoch 5/5\n",
      "4062/4062 [==============================] - 306s 75ms/step - loss: 0.0143 - accuracy: 0.9942 - val_loss: 0.0134 - val_accuracy: 0.9940\n",
      "581/581 [==============================] - 20s 34ms/step\n",
      "Validation score: 0.9940206851971558\n",
      "Epoch 1/5\n",
      "4062/4062 [==============================] - 309s 76ms/step - loss: 0.0148 - accuracy: 0.9942 - val_loss: 0.0137 - val_accuracy: 0.9945\n",
      "Epoch 2/5\n",
      "4062/4062 [==============================] - 314s 77ms/step - loss: 0.0142 - accuracy: 0.9943 - val_loss: 0.0178 - val_accuracy: 0.9926\n",
      "Epoch 3/5\n",
      "4062/4062 [==============================] - 316s 78ms/step - loss: 0.0139 - accuracy: 0.9946 - val_loss: 0.0146 - val_accuracy: 0.9936\n",
      "Epoch 4/5\n",
      "4062/4062 [==============================] - 319s 79ms/step - loss: 0.0141 - accuracy: 0.9945 - val_loss: 0.0155 - val_accuracy: 0.9938\n",
      "Epoch 5/5\n",
      "4062/4062 [==============================] - 326s 80ms/step - loss: 0.0139 - accuracy: 0.9944 - val_loss: 0.0170 - val_accuracy: 0.9931\n",
      "581/581 [==============================] - 21s 36ms/step\n",
      "Validation score: 0.9931049342814049\n",
      "Epoch 1/5\n",
      "4062/4062 [==============================] - 336s 83ms/step - loss: 0.0141 - accuracy: 0.9943 - val_loss: 0.0147 - val_accuracy: 0.9942\n",
      "Epoch 2/5\n",
      "4062/4062 [==============================] - 340s 84ms/step - loss: 0.0141 - accuracy: 0.9945 - val_loss: 0.0175 - val_accuracy: 0.9927\n",
      "Epoch 3/5\n",
      "4062/4062 [==============================] - 338s 83ms/step - loss: 0.0139 - accuracy: 0.9943 - val_loss: 0.0170 - val_accuracy: 0.9942\n",
      "Epoch 4/5\n",
      "4062/4062 [==============================] - 344s 85ms/step - loss: 0.0138 - accuracy: 0.9946 - val_loss: 0.0161 - val_accuracy: 0.9936\n",
      "Epoch 5/5\n",
      "4062/4062 [==============================] - 347s 86ms/step - loss: 0.0143 - accuracy: 0.9945 - val_loss: 0.0155 - val_accuracy: 0.9936\n",
      "581/581 [==============================] - 22s 38ms/step\n",
      "Validation score: 0.9935897435897436\n",
      "Epoch 1/5\n",
      "4178/4178 [==============================] - 358s 86ms/step - loss: 0.0141 - accuracy: 0.9945 - val_loss: 0.0147 - val_accuracy: 0.9939\n",
      "Epoch 2/5\n",
      "4178/4178 [==============================] - 363s 87ms/step - loss: 0.0143 - accuracy: 0.9944 - val_loss: 0.0145 - val_accuracy: 0.9941\n",
      "Epoch 3/5\n",
      "4178/4178 [==============================] - 368s 88ms/step - loss: 0.0139 - accuracy: 0.9943 - val_loss: 0.0141 - val_accuracy: 0.9945\n",
      "Epoch 4/5\n",
      "4178/4178 [==============================] - 370s 89ms/step - loss: 0.0139 - accuracy: 0.9943 - val_loss: 0.0150 - val_accuracy: 0.9941\n",
      "Epoch 5/5\n",
      "4178/4178 [==============================] - 377s 90ms/step - loss: 0.0141 - accuracy: 0.9945 - val_loss: 0.0162 - val_accuracy: 0.9931\n",
      "465/465 [==============================] - 20s 44ms/step\n",
      "Validation score: 0.9930649070832211\n",
      "Epoch 1/5\n",
      "4178/4178 [==============================] - 379s 91ms/step - loss: 0.0142 - accuracy: 0.9943 - val_loss: 0.0136 - val_accuracy: 0.9946\n",
      "Epoch 2/5\n",
      "4178/4178 [==============================] - 384s 92ms/step - loss: 0.0141 - accuracy: 0.9942 - val_loss: 0.0131 - val_accuracy: 0.9950\n",
      "Epoch 3/5\n",
      "4178/4178 [==============================] - 391s 94ms/step - loss: 0.0139 - accuracy: 0.9945 - val_loss: 0.0159 - val_accuracy: 0.9939\n",
      "Epoch 4/5\n",
      "4178/4178 [==============================] - 391s 94ms/step - loss: 0.0140 - accuracy: 0.9945 - val_loss: 0.0133 - val_accuracy: 0.9954\n",
      "Epoch 5/5\n",
      "4178/4178 [==============================] - 397s 95ms/step - loss: 0.0139 - accuracy: 0.9944 - val_loss: 0.0143 - val_accuracy: 0.9943\n",
      "465/465 [==============================] - 21s 45ms/step\n",
      "Validation score: 0.9942768650686776\n",
      "Epoch 1/5\n",
      "4178/4178 [==============================] - 396s 95ms/step - loss: 0.0137 - accuracy: 0.9945 - val_loss: 0.0181 - val_accuracy: 0.9937\n",
      "Epoch 2/5\n",
      "4178/4178 [==============================] - 402s 96ms/step - loss: 0.0135 - accuracy: 0.9945 - val_loss: 0.0186 - val_accuracy: 0.9937\n",
      "Epoch 3/5\n",
      "4178/4178 [==============================] - 410s 98ms/step - loss: 0.0134 - accuracy: 0.9945 - val_loss: 0.0160 - val_accuracy: 0.9944\n",
      "Epoch 4/5\n",
      "4178/4178 [==============================] - 418s 100ms/step - loss: 0.0135 - accuracy: 0.9946 - val_loss: 0.0166 - val_accuracy: 0.9935\n",
      "Epoch 5/5\n",
      "4178/4178 [==============================] - 414s 99ms/step - loss: 0.0130 - accuracy: 0.9947 - val_loss: 0.0186 - val_accuracy: 0.9941\n",
      "465/465 [==============================] - 21s 46ms/step\n",
      "Validation score: 0.9941422030702936\n",
      "Epoch 1/5\n",
      "4178/4178 [==============================] - 419s 100ms/step - loss: 0.0142 - accuracy: 0.9944 - val_loss: 0.0117 - val_accuracy: 0.9944\n",
      "Epoch 2/5\n",
      "4178/4178 [==============================] - 430s 103ms/step - loss: 0.0133 - accuracy: 0.9946 - val_loss: 0.0113 - val_accuracy: 0.9954\n",
      "Epoch 3/5\n",
      "4178/4178 [==============================] - 437s 105ms/step - loss: 0.0141 - accuracy: 0.9943 - val_loss: 0.0120 - val_accuracy: 0.9948\n",
      "Epoch 4/5\n",
      "4178/4178 [==============================] - 444s 106ms/step - loss: 0.0142 - accuracy: 0.9942 - val_loss: 0.0107 - val_accuracy: 0.9955\n",
      "Epoch 5/5\n",
      "4178/4178 [==============================] - 444s 106ms/step - loss: 0.0138 - accuracy: 0.9942 - val_loss: 0.0099 - val_accuracy: 0.9960\n",
      "465/465 [==============================] - 25s 53ms/step\n",
      "Validation score: 0.9959601400484783\n",
      "Epoch 1/5\n",
      "4178/4178 [==============================] - 451s 108ms/step - loss: 0.0136 - accuracy: 0.9947 - val_loss: 0.0116 - val_accuracy: 0.9952\n",
      "Epoch 2/5\n",
      "4178/4178 [==============================] - 460s 110ms/step - loss: 0.0132 - accuracy: 0.9946 - val_loss: 0.0130 - val_accuracy: 0.9941\n",
      "Epoch 3/5\n",
      "4178/4178 [==============================] - 469s 112ms/step - loss: 0.0133 - accuracy: 0.9948 - val_loss: 0.0134 - val_accuracy: 0.9945\n",
      "Epoch 4/5\n",
      "4178/4178 [==============================] - 478s 114ms/step - loss: 0.0134 - accuracy: 0.9944 - val_loss: 0.0121 - val_accuracy: 0.9948\n",
      "Epoch 5/5\n",
      "4178/4178 [==============================] - 473s 113ms/step - loss: 0.0133 - accuracy: 0.9947 - val_loss: 0.0139 - val_accuracy: 0.9941\n",
      "465/465 [==============================] - 26s 56ms/step\n",
      "Validation score: 0.9940748720711016\n",
      "Epoch 1/5\n",
      "4178/4178 [==============================] - 486s 116ms/step - loss: 0.0133 - accuracy: 0.9945 - val_loss: 0.0203 - val_accuracy: 0.9928\n",
      "Epoch 2/5\n",
      "4178/4178 [==============================] - 490s 117ms/step - loss: 0.0132 - accuracy: 0.9948 - val_loss: 0.0134 - val_accuracy: 0.9943\n",
      "Epoch 3/5\n",
      "4178/4178 [==============================] - 503s 120ms/step - loss: 0.0132 - accuracy: 0.9946 - val_loss: 0.0129 - val_accuracy: 0.9956\n",
      "Epoch 4/5\n",
      "4178/4178 [==============================] - 509s 122ms/step - loss: 0.0131 - accuracy: 0.9948 - val_loss: 0.0172 - val_accuracy: 0.9934\n",
      "Epoch 5/5\n",
      "4178/4178 [==============================] - 515s 123ms/step - loss: 0.0132 - accuracy: 0.9947 - val_loss: 0.0140 - val_accuracy: 0.9951\n",
      "465/465 [==============================] - 28s 61ms/step\n",
      "Validation score: 0.995084837058982\n",
      "Epoch 1/5\n",
      "4178/4178 [==============================] - 518s 124ms/step - loss: 0.0128 - accuracy: 0.9947 - val_loss: 0.0128 - val_accuracy: 0.9939\n",
      "Epoch 2/5\n",
      "4178/4178 [==============================] - 541s 130ms/step - loss: 0.0133 - accuracy: 0.9946 - val_loss: 0.0117 - val_accuracy: 0.9952\n",
      "Epoch 3/5\n",
      "4178/4178 [==============================] - 552s 132ms/step - loss: 0.0127 - accuracy: 0.9948 - val_loss: 0.0123 - val_accuracy: 0.9947\n",
      "Epoch 4/5\n",
      "4178/4178 [==============================] - 537s 128ms/step - loss: 0.0132 - accuracy: 0.9947 - val_loss: 0.0131 - val_accuracy: 0.9952\n",
      "Epoch 5/5\n",
      "4178/4178 [==============================] - 542s 130ms/step - loss: 0.0130 - accuracy: 0.9947 - val_loss: 0.0129 - val_accuracy: 0.9952\n",
      "465/465 [==============================] - 26s 57ms/step\n",
      "Validation score: 0.9952194990573661\n",
      "Epoch 1/5\n",
      "4178/4178 [==============================] - 554s 133ms/step - loss: 0.0128 - accuracy: 0.9949 - val_loss: 0.0118 - val_accuracy: 0.9945\n",
      "Epoch 2/5\n",
      "4178/4178 [==============================] - 559s 134ms/step - loss: 0.0128 - accuracy: 0.9949 - val_loss: 0.0119 - val_accuracy: 0.9944\n",
      "Epoch 3/5\n",
      "4178/4178 [==============================] - 538s 129ms/step - loss: 0.0137 - accuracy: 0.9947 - val_loss: 0.0138 - val_accuracy: 0.9942\n",
      "Epoch 4/5\n",
      "4178/4178 [==============================] - 537s 128ms/step - loss: 0.0130 - accuracy: 0.9947 - val_loss: 0.0129 - val_accuracy: 0.9946\n",
      "Epoch 5/5\n",
      "4178/4178 [==============================] - 552s 132ms/step - loss: 0.0125 - accuracy: 0.9950 - val_loss: 0.0145 - val_accuracy: 0.9940\n",
      "465/465 [==============================] - 28s 60ms/step\n",
      "Validation score: 0.9940071375664938\n",
      "Epoch 1/5\n",
      "4178/4178 [==============================] - 563s 135ms/step - loss: 0.0133 - accuracy: 0.9950 - val_loss: 0.0133 - val_accuracy: 0.9952\n",
      "Epoch 2/5\n",
      "4178/4178 [==============================] - 553s 132ms/step - loss: 0.0125 - accuracy: 0.9950 - val_loss: 0.0132 - val_accuracy: 0.9949\n",
      "Epoch 3/5\n",
      "4178/4178 [==============================] - 556s 133ms/step - loss: 0.0121 - accuracy: 0.9951 - val_loss: 0.0131 - val_accuracy: 0.9952\n",
      "Epoch 4/5\n",
      "4178/4178 [==============================] - 574s 137ms/step - loss: 0.0127 - accuracy: 0.9949 - val_loss: 0.0137 - val_accuracy: 0.9953\n",
      "Epoch 5/5\n",
      "4178/4178 [==============================] - 582s 139ms/step - loss: 0.0129 - accuracy: 0.9951 - val_loss: 0.0148 - val_accuracy: 0.9941\n",
      "465/465 [==============================] - 28s 60ms/step\n",
      "Validation score: 0.9940744730994546\n",
      "Epoch 1/5\n",
      "4178/4178 [==============================] - 588s 141ms/step - loss: 0.0128 - accuracy: 0.9949 - val_loss: 0.0115 - val_accuracy: 0.9955\n",
      "Epoch 2/5\n",
      "4178/4178 [==============================] - 587s 140ms/step - loss: 0.0127 - accuracy: 0.9951 - val_loss: 0.0149 - val_accuracy: 0.9941\n",
      "Epoch 3/5\n",
      "4178/4178 [==============================] - 608s 145ms/step - loss: 0.0119 - accuracy: 0.9951 - val_loss: 0.0139 - val_accuracy: 0.9945\n",
      "Epoch 4/5\n",
      "4178/4178 [==============================] - 602s 144ms/step - loss: 0.0133 - accuracy: 0.9950 - val_loss: 0.0142 - val_accuracy: 0.9946\n",
      "Epoch 5/5\n",
      "4178/4178 [==============================] - 591s 141ms/step - loss: 0.0123 - accuracy: 0.9953 - val_loss: 0.0169 - val_accuracy: 0.9939\n",
      "465/465 [==============================] - 30s 65ms/step\n",
      "Validation score: 0.993939802033533\n"
     ]
    }
   ],
   "source": [
    "for k in range(2,11,2):\n",
    "    k_dict['accuracy'].append([])\n",
    "    k_dict['confusionmatrix'].append([])\n",
    "    kfold = StratifiedKFold(n_splits=k,shuffle=True,random_state=42)\n",
    "    kfold.get_n_splits(combined_data_X,y_train)\n",
    "    for train_index, test_index in kfold.split(combined_data_X,y_train):\n",
    "        train_X, test_X = combined_data_X.iloc[train_index], combined_data_X.iloc[test_index]\n",
    "        train_y, test_y = y_train.iloc[train_index], y_train.iloc[test_index]\n",
    "    \n",
    "    \n",
    "        x_columns_train = new_train_df.columns.drop('Class')\n",
    "        x_train_array = train_X[x_columns_train].values\n",
    "        x_train_1=np.reshape(x_train_array, (x_train_array.shape[0], x_train_array.shape[1], 1))\n",
    "    \n",
    "        dummies = pd.get_dummies(train_y)\n",
    "        outcomes = dummies.columns\n",
    "        num_classes = len(outcomes)\n",
    "        y_train_1 = dummies.values\n",
    "    \n",
    "        x_columns_test = new_train_df.columns.drop('Class')\n",
    "        x_test_array = test_X[x_columns_test].values\n",
    "        x_test_2=np.reshape(x_test_array, (x_test_array.shape[0], x_test_array.shape[1], 1))\n",
    "    \n",
    "        dummies_test = pd.get_dummies(test_y)\n",
    "        outcomes_test = dummies_test.columns\n",
    "        num_classes = len(outcomes_test)\n",
    "        y_test_2 = dummies_test.values\n",
    "    \n",
    "   \n",
    "        model.fit(x_train_1, y_train_1,validation_data=(x_test_2,y_test_2), epochs=5)\n",
    "    \n",
    "        pred = model.predict(x_test_2)\n",
    "        pred = np.argmax(pred,axis=1)\n",
    "        y_eval = np.argmax(y_test_2,axis=1)\n",
    "        score = metrics.accuracy_score(y_eval, pred)\n",
    "        k_dict['accuracy'][-1].append(score)\n",
    "        cm = confusion_matrix(y_eval, pred, labels=[0,1,2,3,4])\n",
    "        k_dict['confusionmatrix'][-1].append(cm)\n",
    "        print(\"Validation score: {}\".format(score))"
   ]
  },
  {
   "cell_type": "code",
   "execution_count": 40,
   "metadata": {
    "id": "ClHU8DVHggkM"
   },
   "outputs": [],
   "source": [
    "accuracy = []\n",
    "for k_acc in k_dict['accuracy']:\n",
    "    accuracy.append(max(k_acc))"
   ]
  },
  {
   "cell_type": "code",
   "execution_count": 41,
   "metadata": {
    "id": "z0K81yDmggkN"
   },
   "outputs": [],
   "source": [
    "f1_scores = []\n",
    "for k_mat in k_dict['confusionmatrix']:\n",
    "    f1_scores.append([])\n",
    "    for i in range(len(k_mat)):\n",
    "        f1 = []\n",
    "        for j in range(5):\n",
    "            pr = (k_mat[i][j][j])/sum(k_mat[i][j])\n",
    "            s = 0\n",
    "            for m in range(5):\n",
    "                s+=k_mat[i][m][j]\n",
    "            re = (k_mat[i][j][j])/s\n",
    "            score = (2 * pr * re)/ (pr + re)\n",
    "            f1.append(score)\n",
    "        f1_scores[-1].extend(f1)\n",
    "class_f1_scores = []\n",
    "k = 2\n",
    "for i in range(5):\n",
    "    class_f1_scores.append([])\n",
    "    for j in range(5):\n",
    "        s = sum(f1_scores[i][j::5])\n",
    "        class_f1_scores[-1].append(s/k)\n",
    "    k+=2     "
   ]
  },
  {
   "cell_type": "code",
   "execution_count": 42,
   "metadata": {
    "id": "4wkeEs5nggkO"
   },
   "outputs": [],
   "source": [
    "false_positive_rate = []\n",
    "detection_rate = []\n",
    "for k_mat in k_dict['confusionmatrix']:\n",
    "    false_positive_rate.append([])\n",
    "    detection_rate.append([])\n",
    "    for i in range(len(k_mat)):\n",
    "        FP = k_mat[i].sum(axis=0) - np.diag(k_mat[i])  \n",
    "        FN = k_mat[i].sum(axis=1) - np.diag(k_mat[i])\n",
    "        TP = np.diag(k_mat[i])\n",
    "        TN = k_mat[i].sum() - (FP + FN + TP)\n",
    "        \n",
    "        FPR = sum(FP)/sum(FP+TN)\n",
    "        DR = sum(TP)/sum(TP + FP)\n",
    "        false_positive_rate[-1].append(FPR)\n",
    "        detection_rate[-1].append(DR)\n",
    "        \n",
    "    false_positive_rate[-1] = np.mean(false_positive_rate[-1])*100\n",
    "    detection_rate[-1] = np.mean(detection_rate[-1])\n"
   ]
  },
  {
   "cell_type": "markdown",
   "metadata": {},
   "source": [
    "# Detection Rate Plot"
   ]
  },
  {
   "cell_type": "code",
   "execution_count": 43,
   "metadata": {
    "id": "tphnrtH0ggkP",
    "outputId": "88b9df5a-e8fa-43ff-d5fa-e528926900c9",
    "scrolled": false
   },
   "outputs": [
    {
     "data": {
      "image/png": "[encoded data removed]",
      "text/plain": [
       "<Figure size 640x480 with 1 Axes>"
      ]
     },
     "metadata": {},
     "output_type": "display_data"
    }
   ],
   "source": [
    "k_vals = [2,4,6,8,10]\n",
    "plt.figure()\n",
    "plt.plot(k_vals, detection_rate, marker='o', label = 'Detection Rate')\n",
    "plt.title('Detection Rate for Binary Classification')\n",
    "plt.xlabel('K-value')\n",
    "plt.ylabel('Detection Rate')\n",
    "plt.legend()\n",
    "plt.savefig('Detection Rate Plot')\n",
    "plt.show()"
   ]
  },
  {
   "cell_type": "markdown",
   "metadata": {},
   "source": [
    "# False Positive Rate Plot"
   ]
  },
  {
   "cell_type": "code",
   "execution_count": 44,
   "metadata": {
    "id": "v20OSJZrggkQ",
    "outputId": "86c40f12-8f57-4489-f5ea-d53d1aee1085"
   },
   "outputs": [
    {
     "data": {
      "image/png": "[encoded data removed]",
      "text/plain": [
       "<Figure size 640x480 with 1 Axes>"
      ]
     },
     "metadata": {},
     "output_type": "display_data"
    }
   ],
   "source": [
    "plt.figure()\n",
    "plt.plot(k_vals, false_positive_rate, marker='o', label = 'False Positive Rate')\n",
    "plt.title('False Positive Rate for Binary Classification')\n",
    "plt.xlabel('K-value')\n",
    "plt.ylabel('False Positive Rate')\n",
    "plt.legend()\n",
    "plt.savefig('False Positive Rate Plot')\n",
    "plt.show()"
   ]
  },
  {
   "cell_type": "markdown",
   "metadata": {},
   "source": [
    "# F1 Score plot of all classes"
   ]
  },
  {
   "cell_type": "code",
   "execution_count": 45,
   "metadata": {
    "id": "iMYAt4tOggkR",
    "outputId": "ed38a9f9-1ee7-4cfa-8652-cdffa694b13a"
   },
   "outputs": [
    {
     "data": {
      "image/png": "[encoded data removed]",
      "text/plain": [
       "<Figure size 640x480 with 1 Axes>"
      ]
     },
     "metadata": {},
     "output_type": "display_data"
    }
   ],
   "source": [
    "DoS_F1, Normal_F1, Probe_F1, R2L_F1, U2R_F1 = [], [], [], [], []\n",
    "for i in range(5):\n",
    "    DoS_F1.append(class_f1_scores[i][0])\n",
    "    Normal_F1.append(class_f1_scores[i][1])\n",
    "    Probe_F1.append(class_f1_scores[i][2])\n",
    "    R2L_F1.append(class_f1_scores[i][3])\n",
    "    U2R_F1.append(class_f1_scores[i][4])\n",
    "\n",
    "plt.figure()\n",
    "plt.plot(k_vals, DoS_F1, marker='o', label = 'DoS')\n",
    "plt.plot(k_vals, Normal_F1, marker='o', label = 'Normal')\n",
    "plt.plot(k_vals, Probe_F1, marker='o', label = 'Probe')\n",
    "plt.plot(k_vals, R2L_F1, marker='o', label = 'R2L')\n",
    "plt.plot(k_vals, U2R_F1, marker='o', label = 'U2R')\n",
    "plt.title('F1-score plot of all classes')\n",
    "plt.xlabel('k-Value')\n",
    "plt.ylabel('F1-score')\n",
    "plt.legend()\n",
    "plt.savefig('F1-score Plot')\n",
    "plt.show()"
   ]
  },
  {
   "cell_type": "markdown",
   "metadata": {},
   "source": [
    "# Confusion Matrix Plot"
   ]
  },
  {
   "cell_type": "code",
   "execution_count": 46,
   "metadata": {
    "id": "Be2ICNwWggkT",
    "outputId": "01fdefd8-42b6-444d-c9cd-15614743adc7",
    "scrolled": false
   },
   "outputs": [
    {
     "data": {
      "image/png": "[encoded data removed]",
      "text/plain": [
       "<Figure size 640x480 with 2 Axes>"
      ]
     },
     "metadata": {},
     "output_type": "display_data"
    }
   ],
   "source": [
    "class_names = [\"DoS\",\"Normal\",\"Probe\",\"R2L\",\"U2R\"]\n",
    "cmap=plt.cm.Blues\n",
    "cm = k_dict['confusionmatrix'][4][7]\n",
    "fig, ax = plt.subplots()\n",
    "im = ax.imshow(cm, interpolation='nearest', cmap=cmap)\n",
    "ax.figure.colorbar(im, ax=ax)\n",
    "ax.set(xticks=np.arange(cm.shape[1]), yticks=np.arange(cm.shape[0]),\n",
    "           xticklabels=class_names, yticklabels=class_names,\n",
    "           title='Confusion Matrix',\n",
    "           ylabel='True label',\n",
    "           xlabel='Predicted label')\n",
    "\n",
    "plt.setp(ax.get_xticklabels(), rotation=45, ha=\"right\", rotation_mode=\"anchor\")\n",
    "\n",
    "thresh = cm.max() / 2.\n",
    "for i in range(cm.shape[0]):\n",
    "    for j in range(cm.shape[1]):\n",
    "        ax.text(j, i, format(cm[i, j]), ha=\"center\", va=\"center\", \n",
    "                color=\"white\" if cm[i, j] > thresh else \"black\")\n",
    "fig.tight_layout()\n",
    "plt.savefig('Confusion Matrix')\n",
    "plt.show()\n",
    "\n",
    "np.set_printoptions(precision=2)"
   ]
  },
  {
   "cell_type": "markdown",
   "metadata": {},
   "source": [
    "# Table of Multiclass Classification Results"
   ]
  },
  {
   "cell_type": "code",
   "execution_count": 47,
   "metadata": {
    "id": "L0M554JUggkV",
    "outputId": "fc5631b4-8fc2-4712-90f3-a345a0ade07f"
   },
   "outputs": [
    {
     "data": {
      "text/html": [
       "<div>\n",
       "<style scoped>\n",
       "    .dataframe tbody tr th:only-of-type {\n",
       "        vertical-align: middle;\n",
       "    }\n",
       "\n",
       "    .dataframe tbody tr th {\n",
       "        vertical-align: top;\n",
       "    }\n",
       "\n",
       "    .dataframe thead th {\n",
       "        text-align: right;\n",
       "    }\n",
       "</style>\n",
       "<table border=\"1\" class=\"dataframe\">\n",
       "  <thead>\n",
       "    <tr style=\"text-align: right;\">\n",
       "      <th></th>\n",
       "      <th>K-value</th>\n",
       "      <th>Accuracy%</th>\n",
       "      <th>Detection Rate%</th>\n",
       "      <th>False Positive Rate%</th>\n",
       "    </tr>\n",
       "  </thead>\n",
       "  <tbody>\n",
       "    <tr>\n",
       "      <th>0</th>\n",
       "      <td>2</td>\n",
       "      <td>0.987086</td>\n",
       "      <td>0.985833</td>\n",
       "      <td>0.354168</td>\n",
       "    </tr>\n",
       "    <tr>\n",
       "      <th>1</th>\n",
       "      <td>4</td>\n",
       "      <td>0.991705</td>\n",
       "      <td>0.990493</td>\n",
       "      <td>0.237683</td>\n",
       "    </tr>\n",
       "    <tr>\n",
       "      <th>2</th>\n",
       "      <td>6</td>\n",
       "      <td>0.993132</td>\n",
       "      <td>0.992553</td>\n",
       "      <td>0.186174</td>\n",
       "    </tr>\n",
       "    <tr>\n",
       "      <th>3</th>\n",
       "      <td>8</td>\n",
       "      <td>0.994667</td>\n",
       "      <td>0.993752</td>\n",
       "      <td>0.156211</td>\n",
       "    </tr>\n",
       "    <tr>\n",
       "      <th>4</th>\n",
       "      <td>10</td>\n",
       "      <td>0.995960</td>\n",
       "      <td>0.994384</td>\n",
       "      <td>0.140388</td>\n",
       "    </tr>\n",
       "    <tr>\n",
       "      <th>5</th>\n",
       "      <td>Average</td>\n",
       "      <td>0.992510</td>\n",
       "      <td>0.991403</td>\n",
       "      <td>0.214925</td>\n",
       "    </tr>\n",
       "  </tbody>\n",
       "</table>\n",
       "</div>"
      ],
      "text/plain": [
       "   K-value  Accuracy%  Detection Rate%  False Positive Rate%\n",
       "0        2   0.987086         0.985833              0.354168\n",
       "1        4   0.991705         0.990493              0.237683\n",
       "2        6   0.993132         0.992553              0.186174\n",
       "3        8   0.994667         0.993752              0.156211\n",
       "4       10   0.995960         0.994384              0.140388\n",
       "5  Average   0.992510         0.991403              0.214925"
      ]
     },
     "execution_count": 47,
     "metadata": {},
     "output_type": "execute_result"
    }
   ],
   "source": [
    "d = [['2', accuracy[0], detection_rate[0], false_positive_rate[0]], ['4', accuracy[1], detection_rate[1], false_positive_rate[1]], ['6', accuracy[2], detection_rate[2], false_positive_rate[2]], ['8', accuracy[3], detection_rate[3], false_positive_rate[3]], ['10', accuracy[4], detection_rate[4], false_positive_rate[4]], ['Average', np.mean(accuracy), np.mean(detection_rate), np.mean(false_positive_rate)]]\n",
    "tab = pd.DataFrame(d,columns = ['K-value','Accuracy%','Detection Rate%','False Positive Rate%'])\n",
    "tab"
   ]
  },
  {
   "cell_type": "code",
   "execution_count": 48,
   "metadata": {
    "id": "36r6yjL2Wp0N"
   },
   "outputs": [],
   "source": [
    "trainingdata = new_train_df.values\n",
    "X_train = trainingdata[:125973,:-1]\n",
    "Y_train = trainingdata[:125973,-1]"
   ]
  },
  {
   "cell_type": "code",
   "execution_count": 49,
   "metadata": {
    "id": "lJDA8bCKWp0P"
   },
   "outputs": [],
   "source": [
    "X_test = trainingdata[125973:,:-1]\n",
    "Y_test = trainingdata[125973:,-1]"
   ]
  },
  {
   "cell_type": "markdown",
   "metadata": {},
   "source": [
    "# PLA"
   ]
  },
  {
   "cell_type": "code",
   "execution_count": 50,
   "metadata": {
    "id": "ftRQr46wWp0S",
    "outputId": "aed31a15-2078-428e-94e7-2e57a25bf2af"
   },
   "outputs": [
    {
     "name": "stdout",
     "output_type": "stream",
     "text": [
      "Training accuracy is: 0.9744310288712661\n",
      "Testing accuracy is: 0.7697835344215755\n"
     ]
    }
   ],
   "source": [
    "clf = Perceptron (tol=1e-3)\n",
    "clf.fit(X_train, Y_train)\n",
    "train_acc = clf.score(X_train, Y_train)\n",
    "test_acc = clf.score(X_test, Y_test)\n",
    "y_pred = clf.predict(X_test) \n",
    "print(\"Training accuracy is:\", train_acc )\n",
    "print(\"Testing accuracy is:\", test_acc)"
   ]
  },
  {
   "cell_type": "code",
   "execution_count": 51,
   "metadata": {
    "id": "WIkfLlEVWp0U"
   },
   "outputs": [],
   "source": [
    "PLA_f1score = f1_score(Y_test, y_pred, average=\"macro\")\n",
    "PLA_precision = precision_score(Y_test, y_pred, average=\"macro\")\n",
    "PLA_recall = recall_score(Y_test, y_pred, average=\"macro\")\n",
    "PLA_accuracy = accuracy_score(Y_test, y_pred)"
   ]
  },
  {
   "cell_type": "markdown",
   "metadata": {},
   "source": [
    "# Logistic Regression"
   ]
  },
  {
   "cell_type": "code",
   "execution_count": 52,
   "metadata": {
    "id": "2wfryLm0Wp0W",
    "outputId": "6180b0ed-91ca-4a71-ee5c-e52eaad062bb"
   },
   "outputs": [
    {
     "name": "stdout",
     "output_type": "stream",
     "text": [
      "Training accuracy is: 0.9762726933549253\n",
      "Testing accuracy is: 0.7499556422995032\n"
     ]
    }
   ],
   "source": [
    "clf = LogisticRegression (solver='liblinear', multi_class='auto')\n",
    "clf.fit(X_train, Y_train)\n",
    "train_acc = clf.score(X_train, Y_train)\n",
    "test_acc = clf.score(X_test, Y_test) \n",
    "y_pred = clf.predict(X_test)\n",
    "print(\"Training accuracy is:\", train_acc )\n",
    "print(\"Testing accuracy is:\", test_acc)"
   ]
  },
  {
   "cell_type": "code",
   "execution_count": 53,
   "metadata": {
    "id": "boSk8ctHWp0Y"
   },
   "outputs": [],
   "source": [
    "Logistic_f1 = f1_score(Y_test, y_pred, average=\"macro\")\n",
    "Logistic_precision = precision_score(Y_test, y_pred, average=\"macro\")\n",
    "Logistic_recall = recall_score(Y_test, y_pred, average=\"macro\")\n",
    "Logistic_accuracy = accuracy_score(Y_test, y_pred)"
   ]
  },
  {
   "cell_type": "markdown",
   "metadata": {},
   "source": [
    "# Neural Network"
   ]
  },
  {
   "cell_type": "code",
   "execution_count": 54,
   "metadata": {
    "id": "HNHVzinDWp0Z",
    "outputId": "f37529ad-f213-4565-fc98-e667e6258cd8"
   },
   "outputs": [
    {
     "name": "stdout",
     "output_type": "stream",
     "text": [
      "Training accuracy is: 0.9982774086510602\n",
      "Testing accuracy is: 0.7864176721078779\n"
     ]
    }
   ],
   "source": [
    "clf = MLPClassifier (hidden_layer_sizes =(4,6,8))\n",
    "clf = MLPClassifier (hidden_layer_sizes =(200,))\n",
    "clf.fit(X_train, Y_train) \n",
    "train_acc = clf.score(X_train, Y_train) \n",
    "test_acc = clf.score(X_test, Y_test) \n",
    "y_pred = clf.predict(X_test)\n",
    "print(\"Training accuracy is:\", train_acc )\n",
    "print(\"Testing accuracy is:\", test_acc)"
   ]
  },
  {
   "cell_type": "code",
   "execution_count": 55,
   "metadata": {
    "id": "FHyqPdkqWp0a"
   },
   "outputs": [],
   "source": [
    "Neural_f1 = f1_score(Y_test, y_pred, average=\"macro\")\n",
    "Neural_precision = precision_score(Y_test, y_pred, average=\"macro\")\n",
    "Neural_recall = recall_score(Y_test, y_pred, average=\"macro\")\n",
    "Neural_accuracy = accuracy_score(Y_test, y_pred)"
   ]
  },
  {
   "cell_type": "markdown",
   "metadata": {},
   "source": [
    "# Decision Tree"
   ]
  },
  {
   "cell_type": "code",
   "execution_count": 56,
   "metadata": {
    "id": "rI8zJr3eWp0c",
    "outputId": "47ee56ec-ab70-4550-bfae-25edd01e610b"
   },
   "outputs": [
    {
     "name": "stdout",
     "output_type": "stream",
     "text": [
      "Training accuracy is: 0.999833297611393\n",
      "Testing accuracy is: 0.7649485450674237\n"
     ]
    }
   ],
   "source": [
    "clf = DecisionTreeClassifier()\n",
    "clf = clf.fit(X_train, Y_train)\n",
    "train_acc = clf.score(X_train, Y_train) \n",
    "test_acc = clf.score(X_test, Y_test)\n",
    "y_pred = clf.predict(X_test) \n",
    "print(\"Training accuracy is:\", train_acc )\n",
    "print(\"Testing accuracy is:\", test_acc)"
   ]
  },
  {
   "cell_type": "code",
   "execution_count": 57,
   "metadata": {
    "id": "aRUQwdMBWp0d"
   },
   "outputs": [],
   "source": [
    "Tree_f1 = f1_score(Y_test, y_pred, average=\"macro\")\n",
    "Tree_precision = precision_score(Y_test, y_pred, average=\"macro\")\n",
    "Tree_recall = recall_score(Y_test, y_pred, average=\"macro\")\n",
    "Tree_accuracy = accuracy_score(Y_test, y_pred)"
   ]
  },
  {
   "cell_type": "markdown",
   "metadata": {},
   "source": [
    "# Uniform Aggregation for PLA, logistic regression, NN and decision trees"
   ]
  },
  {
   "cell_type": "code",
   "execution_count": 58,
   "metadata": {
    "id": "6y6ZKoEnWp0g",
    "outputId": "7be18680-347a-4dda-96c6-f7bef2a75c35"
   },
   "outputs": [
    {
     "name": "stdout",
     "output_type": "stream",
     "text": [
      "Training accuracy is: 0.9908948742984608\n",
      "Testing accuracy is: 0.7741305890702626\n"
     ]
    }
   ],
   "source": [
    "clf1 = Perceptron (tol=1e-3)\n",
    "clf2 = LogisticRegression (solver='liblinear', multi_class='auto')\n",
    "clf3 = MLPClassifier (hidden_layer_sizes =(4,6,8))\n",
    "clf4 = DecisionTreeClassifier()\n",
    "\n",
    "eclf1 = VotingClassifier(estimators=[('PLA', clf1), ('LR', clf2), ('NN', clf3),('Tree',clf4)], voting='hard')\n",
    "eclf1 = eclf1.fit(X_train,Y_train)\n",
    "train_acc = eclf1.score(X_train, Y_train) \n",
    "test_acc = eclf1.score(X_test, Y_test)\n",
    "y_pred = eclf1.predict(X_test) \n",
    "print(\"Training accuracy is:\", train_acc )\n",
    "print(\"Testing accuracy is:\", test_acc)"
   ]
  },
  {
   "cell_type": "code",
   "execution_count": 59,
   "metadata": {
    "id": "kAA6cCsEWp0i"
   },
   "outputs": [],
   "source": [
    "Uniform_f1 = f1_score(Y_test, y_pred, average=\"macro\")\n",
    "Uniform_precision = precision_score(Y_test, y_pred, average=\"macro\")\n",
    "Uniform_recall = recall_score(Y_test, y_pred, average=\"macro\")\n",
    "Uniform_accuracy = accuracy_score(Y_test, y_pred)"
   ]
  },
  {
   "cell_type": "markdown",
   "metadata": {},
   "source": [
    "# Bagging with PLA"
   ]
  },
  {
   "cell_type": "code",
   "execution_count": 60,
   "metadata": {
    "id": "2YncMw8tWp0j",
    "outputId": "361b92e0-1ca0-4ccc-dc9b-837830d0d201"
   },
   "outputs": [
    {
     "name": "stdout",
     "output_type": "stream",
     "text": [
      "Training accuracy is: 0.9782334309733038\n",
      "Testing accuracy is: 0.7517299503193754\n"
     ]
    }
   ],
   "source": [
    "PLA_clf = Perceptron (tol=1e-3)\n",
    "clf = BaggingClassifier(base_estimator = PLA_clf)\n",
    "clf = clf.fit(X_train,Y_train)\n",
    "train_acc = clf.score(X_train, Y_train)\n",
    "test_acc = clf.score(X_test, Y_test)\n",
    "y_pred = clf.predict(X_test) \n",
    "print(\"Training accuracy is:\", train_acc )\n",
    "print(\"Testing accuracy is:\", test_acc)"
   ]
  },
  {
   "cell_type": "code",
   "execution_count": 61,
   "metadata": {
    "id": "BTuskMUfWp0l"
   },
   "outputs": [],
   "source": [
    "Bagging_f1 = f1_score(Y_test, y_pred, average=\"macro\")\n",
    "Bagging_precision = precision_score(Y_test, y_pred, average=\"macro\")\n",
    "Bagging_recall = recall_score(Y_test, y_pred, average=\"macro\")\n",
    "Bagging_accuracy = accuracy_score(Y_test, y_pred)"
   ]
  },
  {
   "cell_type": "markdown",
   "metadata": {},
   "source": [
    "# AdaBoost with decision tree"
   ]
  },
  {
   "cell_type": "code",
   "execution_count": 62,
   "metadata": {
    "id": "B2mB8qZ4Wp0n",
    "outputId": "79f94460-d3c2-4523-98cf-c1c4fe3af132"
   },
   "outputs": [
    {
     "name": "stdout",
     "output_type": "stream",
     "text": [
      "Training accuracy is: 0.999833297611393\n",
      "Testing accuracy is: 0.7558108587650816\n"
     ]
    }
   ],
   "source": [
    "decision_clf = DecisionTreeClassifier()\n",
    "clf = AdaBoostClassifier(decision_clf)\n",
    "clf.fit(X_train,Y_train)\n",
    "train_acc = clf.score(X_train, Y_train) \n",
    "test_acc = clf.score(X_test, Y_test)\n",
    "y_pred = clf.predict(X_test) \n",
    "print(\"Training accuracy is:\", train_acc )\n",
    "print(\"Testing accuracy is:\", test_acc)"
   ]
  },
  {
   "cell_type": "code",
   "execution_count": 63,
   "metadata": {
    "id": "WL8njrTJWp0p"
   },
   "outputs": [],
   "source": [
    "Ada_f1 = f1_score(Y_test, y_pred, average=\"macro\")\n",
    "Ada_precision = precision_score(Y_test, y_pred, average=\"macro\")\n",
    "Ada_recall = recall_score(Y_test, y_pred, average=\"macro\")\n",
    "Ada_accuracy = accuracy_score(Y_test, y_pred)"
   ]
  },
  {
   "cell_type": "markdown",
   "metadata": {},
   "source": [
    "# Random Forest"
   ]
  },
  {
   "cell_type": "code",
   "execution_count": 64,
   "metadata": {
    "id": "zE1keuRxWp0r",
    "outputId": "937b9147-7b04-450b-9233-6bb5cac124b6"
   },
   "outputs": [
    {
     "name": "stdout",
     "output_type": "stream",
     "text": [
      "Training accuracy is: 0.999833297611393\n",
      "Testing accuracy is: 0.7699609652235628\n"
     ]
    }
   ],
   "source": [
    "clf = RandomForestClassifier()\n",
    "clf.fit(X_train,Y_train)\n",
    "train_acc = clf.score(X_train, Y_train) \n",
    "test_acc = clf.score(X_test, Y_test)\n",
    "y_pred = clf.predict(X_test)\n",
    "print(\"Training accuracy is:\", train_acc )\n",
    "print(\"Testing accuracy is:\", test_acc)"
   ]
  },
  {
   "cell_type": "code",
   "execution_count": 65,
   "metadata": {
    "id": "CiZFmEhnWp0s"
   },
   "outputs": [],
   "source": [
    "RandomForest_f1 = f1_score(Y_test, y_pred, average=\"macro\")\n",
    "RandomForest_precision = precision_score(Y_test, y_pred, average=\"macro\")\n",
    "RandomForest_recall = recall_score(Y_test, y_pred, average=\"macro\")\n",
    "RandomForest_accuracy = accuracy_score(Y_test, y_pred)"
   ]
  },
  {
   "cell_type": "code",
   "execution_count": 66,
   "metadata": {
    "id": "vglhp67gWp0u",
    "outputId": "77c87cb4-b1c7-46fe-faf6-17b2379053fe"
   },
   "outputs": [
    {
     "data": {
      "text/html": [
       "<div>\n",
       "<style scoped>\n",
       "    .dataframe tbody tr th:only-of-type {\n",
       "        vertical-align: middle;\n",
       "    }\n",
       "\n",
       "    .dataframe tbody tr th {\n",
       "        vertical-align: top;\n",
       "    }\n",
       "\n",
       "    .dataframe thead th {\n",
       "        text-align: right;\n",
       "    }\n",
       "</style>\n",
       "<table border=\"1\" class=\"dataframe\">\n",
       "  <thead>\n",
       "    <tr style=\"text-align: right;\">\n",
       "      <th></th>\n",
       "      <th></th>\n",
       "      <th>Mean Acc</th>\n",
       "      <th>Mean Precision</th>\n",
       "      <th>Mean Recall</th>\n",
       "      <th>Mean F1</th>\n",
       "    </tr>\n",
       "  </thead>\n",
       "  <tbody>\n",
       "    <tr>\n",
       "      <th>0</th>\n",
       "      <td>PLA</td>\n",
       "      <td>0.769784</td>\n",
       "      <td>0.750920</td>\n",
       "      <td>0.577282</td>\n",
       "      <td>0.593128</td>\n",
       "    </tr>\n",
       "    <tr>\n",
       "      <th>1</th>\n",
       "      <td>Logistic Regression</td>\n",
       "      <td>0.749956</td>\n",
       "      <td>0.665510</td>\n",
       "      <td>0.490445</td>\n",
       "      <td>0.483541</td>\n",
       "    </tr>\n",
       "    <tr>\n",
       "      <th>2</th>\n",
       "      <td>NN</td>\n",
       "      <td>0.786418</td>\n",
       "      <td>0.721348</td>\n",
       "      <td>0.613802</td>\n",
       "      <td>0.640057</td>\n",
       "    </tr>\n",
       "    <tr>\n",
       "      <th>3</th>\n",
       "      <td>DTree</td>\n",
       "      <td>0.764949</td>\n",
       "      <td>0.752835</td>\n",
       "      <td>0.558905</td>\n",
       "      <td>0.574106</td>\n",
       "    </tr>\n",
       "    <tr>\n",
       "      <th>4</th>\n",
       "      <td>Voting</td>\n",
       "      <td>0.774131</td>\n",
       "      <td>0.813935</td>\n",
       "      <td>0.523942</td>\n",
       "      <td>0.534570</td>\n",
       "    </tr>\n",
       "    <tr>\n",
       "      <th>5</th>\n",
       "      <td>Bagging of PLA</td>\n",
       "      <td>0.751730</td>\n",
       "      <td>0.722136</td>\n",
       "      <td>0.505950</td>\n",
       "      <td>0.516317</td>\n",
       "    </tr>\n",
       "    <tr>\n",
       "      <th>6</th>\n",
       "      <td>AdaBoost</td>\n",
       "      <td>0.755811</td>\n",
       "      <td>0.764114</td>\n",
       "      <td>0.502440</td>\n",
       "      <td>0.524373</td>\n",
       "    </tr>\n",
       "    <tr>\n",
       "      <th>7</th>\n",
       "      <td>Random Forest</td>\n",
       "      <td>0.769961</td>\n",
       "      <td>0.773032</td>\n",
       "      <td>0.497661</td>\n",
       "      <td>0.511670</td>\n",
       "    </tr>\n",
       "  </tbody>\n",
       "</table>\n",
       "</div>"
      ],
      "text/plain": [
       "                        Mean Acc  Mean Precision  Mean Recall   Mean F1\n",
       "0                  PLA  0.769784        0.750920     0.577282  0.593128\n",
       "1  Logistic Regression  0.749956        0.665510     0.490445  0.483541\n",
       "2                   NN  0.786418        0.721348     0.613802  0.640057\n",
       "3                DTree  0.764949        0.752835     0.558905  0.574106\n",
       "4               Voting  0.774131        0.813935     0.523942  0.534570\n",
       "5       Bagging of PLA  0.751730        0.722136     0.505950  0.516317\n",
       "6             AdaBoost  0.755811        0.764114     0.502440  0.524373\n",
       "7        Random Forest  0.769961        0.773032     0.497661  0.511670"
      ]
     },
     "execution_count": 66,
     "metadata": {},
     "output_type": "execute_result"
    }
   ],
   "source": [
    "data = [[\"PLA\",PLA_accuracy,PLA_precision,PLA_recall,PLA_f1score],[\"Logistic Regression\",Logistic_accuracy,Logistic_precision,Logistic_recall,Logistic_f1],[\"NN\",Neural_accuracy,Neural_precision,Neural_recall,Neural_f1],[\"DTree\",Tree_accuracy,Tree_precision,Tree_recall,Tree_f1],[\"Voting\",Uniform_accuracy,Uniform_precision,Uniform_recall,Uniform_f1],[\"Bagging of PLA\",Bagging_accuracy,Bagging_precision,Bagging_recall,Bagging_f1],[\"AdaBoost\",Ada_accuracy,Ada_precision,Ada_recall,Ada_f1],[\"Random Forest\",RandomForest_accuracy,RandomForest_precision,RandomForest_recall,RandomForest_f1]]\n",
    "rt = pd.DataFrame(data,columns = ['','Mean Acc','Mean Precision','Mean Recall','Mean F1'])\n",
    "rt"
   ]
  },
  {
   "cell_type": "code",
   "execution_count": 67,
   "metadata": {
    "id": "II_e2DIRWp0v"
   },
   "outputs": [],
   "source": [
    "class_names = [\"DoS\",\"Normal\",\"Probe\",\"R2L\",\"U2R\"]"
   ]
  },
  {
   "cell_type": "code",
   "execution_count": 68,
   "metadata": {
    "id": "OgAQtO03Wp0x"
   },
   "outputs": [],
   "source": [
    "classifier = Perceptron (tol=1e-3)\n",
    "y_pred = classifier.fit(X_train, Y_train).predict(X_test)\n",
    "def plot_confusion_matrix(y_true, y_pred, classes, normalize=False, title=None,cmap=plt.cm.Blues):\n",
    "  \n",
    "    if not title:\n",
    "        if normalize:\n",
    "            title = 'Normalized confusion matrix'\n",
    "        else:\n",
    "            title = 'Confusion matrix, without normalization'\n",
    "\n",
    " \n",
    "    cm = confusion_matrix(y_true, y_pred)\n",
    "\n",
    "   \n",
    "    if normalize:\n",
    "        cm = cm.astype('float') / cm.sum(axis=1)[:, np.newaxis]\n",
    "        print(\"Normalized confusion matrix\")\n",
    "    else:\n",
    "        print('Confusion matrix, without normalization')\n",
    "\n",
    "    print(cm)\n",
    "\n",
    "    fig, ax = plt.subplots()\n",
    "    im = ax.imshow(cm, interpolation='nearest', cmap=cmap)\n",
    "    ax.figure.colorbar(im, ax=ax)\n",
    "    ax.set(xticks=np.arange(cm.shape[1]),\n",
    "           yticks=np.arange(cm.shape[0]),\n",
    "           xticklabels=classes, yticklabels=classes,\n",
    "           title=title,\n",
    "           ylabel='True label',\n",
    "           xlabel='Predicted label')\n",
    "    plt.setp(ax.get_xticklabels(), rotation=45, ha=\"right\",\n",
    "             rotation_mode=\"anchor\")\n",
    "\n",
    "    fmt = '.2f' if normalize else 'd'\n",
    "    thresh = cm.max() / 2.\n",
    "    for i in range(cm.shape[0]):\n",
    "        for j in range(cm.shape[1]):\n",
    "            ax.text(j, i, format(cm[i, j], fmt),\n",
    "                    ha=\"center\", va=\"center\",\n",
    "                    color=\"white\" if cm[i, j] > thresh else \"black\")\n",
    "    fig.tight_layout()\n",
    "    return ax\n",
    "np.set_printoptions(precision=2)"
   ]
  },
  {
   "cell_type": "markdown",
   "metadata": {},
   "source": [
    "# PLA confusion matrix"
   ]
  },
  {
   "cell_type": "code",
   "execution_count": 69,
   "metadata": {
    "id": "XiRBZGkJWp0y",
    "outputId": "13a82aa7-a447-4a71-a6a1-da6f9d9cfdbf"
   },
   "outputs": [
    {
     "name": "stdout",
     "output_type": "stream",
     "text": [
      "Confusion matrix, without normalization\n",
      "[[6161 1254   45    0    0]\n",
      " [ 103 9069  706    7    4]\n",
      " [ 123  336 1885   77    0]\n",
      " [   4 2466   12  220    5]\n",
      " [   1   40    2    5   19]]\n"
     ]
    },
    {
     "data": {
      "image/png": "[encoded data removed]",
      "text/plain": [
       "<Figure size 640x480 with 2 Axes>"
      ]
     },
     "metadata": {},
     "output_type": "display_data"
    }
   ],
   "source": [
    "plot_confusion_matrix(Y_test, y_pred, classes=class_names,title='PLA matrix, without normalization')\n",
    "plt.show()"
   ]
  },
  {
   "cell_type": "markdown",
   "metadata": {},
   "source": [
    "# Logistic Regression Matrix"
   ]
  },
  {
   "cell_type": "code",
   "execution_count": 70,
   "metadata": {
    "id": "P7mMx_K_Wp0z",
    "outputId": "6976d7cc-cf89-479a-dd5d-52aab4c428e0"
   },
   "outputs": [
    {
     "name": "stdout",
     "output_type": "stream",
     "text": [
      "Confusion matrix, without normalization\n",
      "[[6067 1378   15    0    0]\n",
      " [  87 9191  608    2    1]\n",
      " [ 167  593 1633   28    0]\n",
      " [   4 2686    3   14    0]\n",
      " [   0   65    0    0    2]]\n"
     ]
    },
    {
     "data": {
      "image/png": "[encoded data removed]",
      "text/plain": [
       "<Figure size 640x480 with 2 Axes>"
      ]
     },
     "metadata": {},
     "output_type": "display_data"
    }
   ],
   "source": [
    "classifier = LogisticRegression (solver='liblinear', multi_class='auto')\n",
    "y_pred = classifier.fit(X_train, Y_train).predict(X_test)\n",
    "plot_confusion_matrix(Y_test, y_pred, classes=class_names,title='Logistic Regression matrix, without normalization')\n",
    "plt.show()"
   ]
  },
  {
   "cell_type": "markdown",
   "metadata": {},
   "source": [
    "# NN confusion matrix"
   ]
  },
  {
   "cell_type": "code",
   "execution_count": 71,
   "metadata": {
    "id": "Ea9lGXrAWp00",
    "outputId": "01d54c25-69c7-48a2-ecd1-1d8e196f02a8"
   },
   "outputs": [
    {
     "name": "stdout",
     "output_type": "stream",
     "text": [
      "Confusion matrix, without normalization\n",
      "[[6277 1120   57    6    0]\n",
      " [  80 9614  189    6    0]\n",
      " [ 191  556 1671    3    0]\n",
      " [   0 2409   75  223    0]\n",
      " [   0   54    7    6    0]]\n"
     ]
    },
    {
     "data": {
      "image/png": "[encoded data removed]",
      "text/plain": [
       "<Figure size 640x480 with 2 Axes>"
      ]
     },
     "metadata": {},
     "output_type": "display_data"
    }
   ],
   "source": [
    "classifier = MLPClassifier (hidden_layer_sizes =(4,6,8))\n",
    "y_pred = classifier.fit(X_train, Y_train).predict(X_test)\n",
    "plot_confusion_matrix(Y_test, y_pred, classes=class_names,title='Neural Network matrix, without normalization')\n",
    "plt.show()"
   ]
  },
  {
   "cell_type": "markdown",
   "metadata": {},
   "source": [
    "# Confusion Matrix for decision tree"
   ]
  },
  {
   "cell_type": "code",
   "execution_count": 72,
   "metadata": {
    "id": "u5lxJd-EWp02",
    "outputId": "571c3dbc-c6bd-4ea7-ed2e-23104bfbde98"
   },
   "outputs": [
    {
     "name": "stdout",
     "output_type": "stream",
     "text": [
      "Confusion matrix, without normalization\n",
      "[[6012 1268   46  134    0]\n",
      " [  71 9202  611    5    0]\n",
      " [ 393  196 1832    0    0]\n",
      " [   0 1824  556  313   14]\n",
      " [   0   44    1    6   16]]\n"
     ]
    },
    {
     "data": {
      "image/png": "[encoded data removed]",
      "text/plain": [
       "<Figure size 640x480 with 2 Axes>"
      ]
     },
     "metadata": {},
     "output_type": "display_data"
    }
   ],
   "source": [
    "classifier = DecisionTreeClassifier()\n",
    "y_pred = classifier.fit(X_train, Y_train).predict(X_test)\n",
    "plot_confusion_matrix(Y_test, y_pred, classes=class_names,title='Decision Tree, without normalization')\n",
    "plt.show()"
   ]
  },
  {
   "cell_type": "code",
   "execution_count": 73,
   "metadata": {
    "id": "mIzZ6NKKWp03",
    "outputId": "38c4f59a-7023-4922-a7b1-ec5fddea1fc7"
   },
   "outputs": [
    {
     "name": "stdout",
     "output_type": "stream",
     "text": [
      "Confusion matrix, without normalization\n",
      "[[6225 1227    8    0    0]\n",
      " [  88 9200  601    0    0]\n",
      " [ 170  554 1674   23    0]\n",
      " [   4 2635    2   66    0]\n",
      " [   0   65    0    0    2]]\n"
     ]
    },
    {
     "data": {
      "image/png": "[encoded data removed]",
      "text/plain": [
       "<Figure size 640x480 with 2 Axes>"
      ]
     },
     "metadata": {},
     "output_type": "display_data"
    }
   ],
   "source": [
    "classifier = VotingClassifier(estimators=[('PLA', clf1), ('LR', clf2), ('NN', clf3),('Tree',clf4)], voting='hard')\n",
    "y_pred = classifier.fit(X_train, Y_train).predict(X_test)\n",
    "plot_confusion_matrix(Y_test, y_pred, classes=class_names,title='Uniform Aggregation, without normalization')\n",
    "plt.show()"
   ]
  },
  {
   "cell_type": "markdown",
   "metadata": {},
   "source": [
    "# Bagging with PLA confusion matrix"
   ]
  },
  {
   "cell_type": "code",
   "execution_count": 74,
   "metadata": {
    "id": "pFump0V9Wp04",
    "outputId": "a66a9d77-13f5-4689-d3b4-0932a441f8a7",
    "scrolled": true
   },
   "outputs": [
    {
     "name": "stdout",
     "output_type": "stream",
     "text": [
      "Confusion matrix, without normalization\n",
      "[[6078 1368   14    0    0]\n",
      " [ 413 9197  275    2    2]\n",
      " [ 161  610 1563   87    0]\n",
      " [   4 2652    2   47    2]\n",
      " [   1   60    0    1    5]]\n"
     ]
    },
    {
     "data": {
      "image/png": "[encoded data removed]",
      "text/plain": [
       "<Figure size 640x480 with 2 Axes>"
      ]
     },
     "metadata": {},
     "output_type": "display_data"
    }
   ],
   "source": [
    "classifier = BaggingClassifier(base_estimator = PLA_clf)\n",
    "y_pred = classifier.fit(X_train, Y_train).predict(X_test)\n",
    "plot_confusion_matrix(Y_test, y_pred, classes=class_names,title='Bagging with PLA, without normalization')\n",
    "plt.show()"
   ]
  },
  {
   "cell_type": "markdown",
   "metadata": {},
   "source": [
    "# Adaboost Confusion matrix"
   ]
  },
  {
   "cell_type": "code",
   "execution_count": 75,
   "metadata": {
    "id": "g65AqvUBWp06",
    "outputId": "66a6d17d-d39c-4dbd-a9d5-d82faa065434"
   },
   "outputs": [
    {
     "name": "stdout",
     "output_type": "stream",
     "text": [
      "Confusion matrix, without normalization\n",
      "[[6083 1333   44    0    0]\n",
      " [  70 9334  482    1    2]\n",
      " [ 161  922 1338    0    0]\n",
      " [   0 2356    3  346    2]\n",
      " [   0   58    0    4    5]]\n"
     ]
    },
    {
     "data": {
      "image/png": "[encoded data removed]",
      "text/plain": [
       "<Figure size 640x480 with 2 Axes>"
      ]
     },
     "metadata": {},
     "output_type": "display_data"
    }
   ],
   "source": [
    "classifier = AdaBoostClassifier(decision_clf)\n",
    "y_pred = classifier.fit(X_train, Y_train).predict(X_test)\n",
    "plot_confusion_matrix(Y_test, y_pred, classes=class_names,title='Adaboost , without normalization')\n",
    "plt.show()"
   ]
  },
  {
   "cell_type": "markdown",
   "metadata": {},
   "source": [
    "# Random Forest Confusion matrix"
   ]
  },
  {
   "cell_type": "code",
   "execution_count": 76,
   "metadata": {
    "id": "-41xWHoOWp08",
    "outputId": "e05c313a-0b06-492a-c9e3-64975319b2a1"
   },
   "outputs": [
    {
     "name": "stdout",
     "output_type": "stream",
     "text": [
      "Confusion matrix, without normalization\n",
      "[[6051 1307  102    0    0]\n",
      " [  67 9629  189    2    2]\n",
      " [ 164  809 1448    0    0]\n",
      " [   0 2523    1  182    1]\n",
      " [   0   62    0    3    2]]\n"
     ]
    },
    {
     "data": {
      "image/png": "[encoded data removed]",
      "text/plain": [
       "<Figure size 640x480 with 2 Axes>"
      ]
     },
     "metadata": {},
     "output_type": "display_data"
    }
   ],
   "source": [
    "classifier = RandomForestClassifier()\n",
    "y_pred = classifier.fit(X_train, Y_train).predict(X_test)\n",
    "plot_confusion_matrix(Y_test, y_pred, classes=class_names,title='Random Forest, without normalization')\n",
    "plt.savefig('RFCM')\n",
    "plt.show()"
   ]
  },
  {
   "cell_type": "code",
   "execution_count": null,
   "metadata": {},
   "outputs": [],
   "source": []
  }
 ],
 "metadata": {
  "accelerator": "GPU",
  "colab": {
   "collapsed_sections": [],
   "provenance": []
  },
  "kernelspec": {
   "display_name": "Python 3 (ipykernel)",
   "language": "python",
   "name": "python3"
  },
  "language_info": {
   "codemirror_mode": {
    "name": "ipython",
    "version": 3
   },
   "file_extension": ".py",
   "mimetype": "text/x-python",
   "name": "python",
   "nbconvert_exporter": "python",
   "pygments_lexer": "ipython3",
   "version": "3.9.7"
  }
 },
 "nbformat": 4,
 "nbformat_minor": 1
}
