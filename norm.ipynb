{
 "cells": [
  {
   "cell_type": "code",
   "execution_count": 5,
   "id": "92199e61",
   "metadata": {},
   "outputs": [
    {
     "name": "stdout",
     "output_type": "stream",
     "text": [
      "[1 2 3]\n",
      "3.7416573867739413\n"
     ]
    }
   ],
   "source": [
    "# l1 norm of a vector\n",
    "from numpy import array\n",
    "from numpy.linalg import norm\n",
    "a = array([1, 2, 3])\n",
    "print(a)\n",
    "l1 = norm(a,2)\n",
    "print(l1)"
   ]
  },
  {
   "cell_type": "code",
   "execution_count": 2,
   "id": "6196138e",
   "metadata": {},
   "outputs": [
    {
     "name": "stdout",
     "output_type": "stream",
     "text": [
      "[1 2 3]\n",
      "3.7416573867739413\n"
     ]
    }
   ],
   "source": [
    "# l2 norm of a vector\n",
    "from numpy import array\n",
    "from numpy.linalg import norm\n",
    "a = array([1, 2, 3])\n",
    "print(a)\n",
    "l2 = norm(a)\n",
    "print(l2)"
   ]
  },
  {
   "cell_type": "code",
   "execution_count": 7,
   "id": "a5abf513",
   "metadata": {},
   "outputs": [
    {
     "name": "stdout",
     "output_type": "stream",
     "text": [
      "[1 9 3]\n",
      "9.0\n"
     ]
    }
   ],
   "source": [
    "# max norm of a vector\n",
    "from numpy import inf\n",
    "from numpy import array\n",
    "from numpy.linalg import norm\n",
    "a = array([1, 9, 3])\n",
    "print(a)\n",
    "maxnorm = norm(a, inf)\n",
    "print(maxnorm)"
   ]
  },
  {
   "cell_type": "code",
   "execution_count": 8,
   "id": "4933e0dc",
   "metadata": {},
   "outputs": [],
   "source": [
    "def frobenius_norm(A):\n",
    "    total = 0\n",
    "    for row in A:\n",
    "        for i in row:\n",
    "            total += i**2\n",
    "            \n",
    "    return total **0.5\n",
    "\n",
    "def inf_norm(A):\n",
    "    max_row = 0\n",
    "    for i in A:\n",
    "        sum_ = 0\n",
    "        for j in i:\n",
    "            sum_ += abs(j)\n",
    "        if sum_ > max_row:\n",
    "            max_row = sum_\n",
    "    \n",
    "    return max_row\n",
    "\n",
    "\n",
    "def l1_norm(A):\n",
    "    max_column = 0 \n",
    "    for i in zip(*b):\n",
    "        sum_ = 0 \n",
    "        for j in i:\n",
    "            sum_ += abs(j)\n",
    "        if sum_ > max_column:\n",
    "            max_column = sum_\n",
    "    return max_column"
   ]
  },
  {
   "cell_type": "code",
   "execution_count": 11,
   "id": "f2b08a32",
   "metadata": {},
   "outputs": [
    {
     "name": "stdout",
     "output_type": "stream",
     "text": [
      "<function l1_norm at 0x000001D5CA5713A0>\n",
      "<function frobenius_norm at 0x000001D5CA571670>\n",
      "<function inf_norm at 0x000001D5CA571700>\n"
     ]
    }
   ],
   "source": [
    "print(l1_norm)\n",
    "print(frobenius_norm)\n",
    "print(inf_norm)"
   ]
  },
  {
   "cell_type": "code",
   "execution_count": 12,
   "id": "9999ecdd",
   "metadata": {},
   "outputs": [
    {
     "ename": "ModuleNotFoundError",
     "evalue": "No module named 'gurobipy'",
     "output_type": "error",
     "traceback": [
      "\u001b[1;31m---------------------------------------------------------------------------\u001b[0m",
      "\u001b[1;31mModuleNotFoundError\u001b[0m                       Traceback (most recent call last)",
      "\u001b[1;32m<ipython-input-12-4e0918754281>\u001b[0m in \u001b[0;36m<module>\u001b[1;34m\u001b[0m\n\u001b[1;32m----> 1\u001b[1;33m \u001b[1;32mimport\u001b[0m \u001b[0mgurobipy\u001b[0m \u001b[1;32mas\u001b[0m \u001b[0mgp\u001b[0m\u001b[1;33m\u001b[0m\u001b[1;33m\u001b[0m\u001b[0m\n\u001b[0m\u001b[0;32m      2\u001b[0m \u001b[1;32mfrom\u001b[0m \u001b[0mgurobipy\u001b[0m \u001b[1;32mimport\u001b[0m \u001b[0mGRB\u001b[0m\u001b[1;33m\u001b[0m\u001b[1;33m\u001b[0m\u001b[0m\n\u001b[0;32m      3\u001b[0m \u001b[1;33m\u001b[0m\u001b[0m\n\u001b[0;32m      4\u001b[0m \u001b[1;31m# Create a new model\u001b[0m\u001b[1;33m\u001b[0m\u001b[1;33m\u001b[0m\u001b[1;33m\u001b[0m\u001b[0m\n\u001b[0;32m      5\u001b[0m \u001b[0mm\u001b[0m \u001b[1;33m=\u001b[0m \u001b[0mgp\u001b[0m\u001b[1;33m.\u001b[0m \u001b[0mModel\u001b[0m \u001b[1;33m(\u001b[0m\u001b[1;34m\" mip1 \"\u001b[0m\u001b[1;33m)\u001b[0m\u001b[1;33m\u001b[0m\u001b[1;33m\u001b[0m\u001b[0m\n",
      "\u001b[1;31mModuleNotFoundError\u001b[0m: No module named 'gurobipy'"
     ]
    }
   ],
   "source": [
    "import gurobipy as gp\n",
    "from gurobipy import GRB\n",
    "\n",
    "# Create a new model\n",
    "m = gp. Model (\" mip1 \")\n",
    "# Create variables\n",
    "x = m. addVar ( vtype =GRB.BINARY , name =\"x\")\n",
    "y = m. addVar ( vtype =GRB.BINARY , name =\"y\")\n",
    "z = m. addVar ( vtype =GRB.BINARY , name =\"z\")\n",
    "# Set objective\n",
    "m. setObjective (x + y + 2 * z, GRB. MAXIMIZE )\n",
    "# Add constraint : x + 2 y + 3 z <= 4\n",
    "m. addConstr (x + 2 * y + 3 * z <= 4, \"c0\")\n",
    "# Add constraint : x + y >= 1\n",
    "m. addConstr (x + y >= 1, \"c1\")\n",
    "# Optimize model\n",
    "m. optimize ()\n",
    "\n",
    "model_fingerprint = m.fingerprint\n",
    "print(\"query_finger_print\")\n",
    "print(model_fingerprint)"
   ]
  },
  {
   "cell_type": "code",
   "execution_count": null,
   "id": "945b6d36",
   "metadata": {},
   "outputs": [],
   "source": []
  }
 ],
 "metadata": {
  "kernelspec": {
   "display_name": "Python 3",
   "language": "python",
   "name": "python3"
  },
  "language_info": {
   "codemirror_mode": {
    "name": "ipython",
    "version": 3
   },
   "file_extension": ".py",
   "mimetype": "text/x-python",
   "name": "python",
   "nbconvert_exporter": "python",
   "pygments_lexer": "ipython3",
   "version": "3.8.8"
  }
 },
 "nbformat": 4,
 "nbformat_minor": 5
}
