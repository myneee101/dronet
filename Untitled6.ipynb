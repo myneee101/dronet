{
 "cells": [
  {
   "cell_type": "code",
   "execution_count": 7,
   "id": "80844ad1",
   "metadata": {},
   "outputs": [
    {
     "name": "stdout",
     "output_type": "stream",
     "text": [
      "it n\n"
     ]
    }
   ],
   "source": [
    "x=5;\n",
    "if x>0:\n",
    "    print('it n')"
   ]
  },
  {
   "cell_type": "code",
   "execution_count": null,
   "id": "3b86534c",
   "metadata": {},
   "outputs": [],
   "source": []
  }
 ],
 "metadata": {
  "kernelspec": {
   "display_name": "Python 3 (ipykernel)",
   "language": "python",
   "name": "python3"
  },
  "language_info": {
   "codemirror_mode": {
    "name": "ipython",
    "version": 3
   },
   "file_extension": ".py",
   "mimetype": "text/x-python",
   "name": "python",
   "nbconvert_exporter": "python",
   "pygments_lexer": "ipython3",
   "version": "3.9.7"
  }
 },
 "nbformat": 4,
 "nbformat_minor": 5
}
