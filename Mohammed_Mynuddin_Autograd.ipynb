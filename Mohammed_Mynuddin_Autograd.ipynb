{
 "cells": [
  {
   "cell_type": "markdown",
   "metadata": {
    "id": "_tFgZtF7FtBO"
   },
   "source": [
    "\n",
    "\n",
    "# Mohammed Mynuddin\n",
    "# 950446781\n",
    "\n"
   ]
  },
  {
   "cell_type": "markdown",
   "metadata": {},
   "source": [
    "# Simple automatic differentiation illustration"
   ]
  },
  {
   "cell_type": "markdown",
   "metadata": {
    "id": "53TDQRrNGBiL"
   },
   "source": [
    "# Modify the attached python notebook for the automatic diffrentiation to include two more oprearators:\n",
    "\n",
    "# Subtraction (x - y)\n",
    "# Division (x / y)"
   ]
  },
  {
   "cell_type": "code",
   "execution_count": 180,
   "metadata": {
    "id": "AiDN_TipFtBS"
   },
   "outputs": [],
   "source": [
    "from typing import Union, List\n",
    "\n",
    "import numpy as np\n",
    "\n",
    "np.set_printoptions(precision=4)"
   ]
  },
  {
   "cell_type": "code",
   "execution_count": 181,
   "metadata": {
    "id": "DVmkIqV6FtBY"
   },
   "outputs": [],
   "source": [
    "Numberable = Union[float, int]\n",
    "\n",
    "def ensure_number(num: Numberable):\n",
    "    if isinstance(num, NumberWithGrad):\n",
    "        return num\n",
    "    else:\n",
    "        return NumberWithGrad(num)        \n",
    "\n",
    "class NumberWithGrad(object):\n",
    "    \n",
    "    def __init__(self, \n",
    "                 num: Numberable,\n",
    "                 depends_on: List[Numberable] = None,\n",
    "                 creation_op: str = ''):\n",
    "        self.num = num\n",
    "        self.grad = None\n",
    "        self.depends_on = depends_on or []\n",
    "        self.creation_op = creation_op\n",
    "\n",
    "    def __add__(self, \n",
    "                other: Numberable):\n",
    "        return NumberWithGrad(self.num + ensure_number(other).num,\n",
    "                              depends_on = [self, ensure_number(other)],\n",
    "                              creation_op = 'add')\n",
    "    \n",
    "    def __mul__(self,\n",
    "                other: Numberable = None):\n",
    "\n",
    "        return NumberWithGrad(self.num * ensure_number(other).num,\n",
    "                              depends_on = [self, ensure_number(other)],\n",
    "                              creation_op = 'mul')\n",
    "    def __sub__(self, \n",
    "                other: Numberable):\n",
    "        return NumberWithGrad(self.num - ensure_number(other).num,\n",
    "                              depends_on = [self, ensure_number(other)],\n",
    "                              creation_op = 'sub')\n",
    "    \n",
    "    def __truediv__(self,\n",
    "                other: Numberable = None):\n",
    "\n",
    "        return NumberWithGrad(self.num / ensure_number(other).num,\n",
    "                              depends_on = [self, ensure_number(other)],\n",
    "                              creation_op = 'truediv')\n",
    "    \n",
    "    def backward(self, backward_grad: Numberable = None):\n",
    "        if backward_grad is None: # first time calling backward\n",
    "            self.grad = 1\n",
    "        else: \n",
    "            # These lines allow gradients to accumulate.\n",
    "            # If the gradient doesn't exist yet, simply set it equal\n",
    "            # to backward_grad\n",
    "            if self.grad is None:\n",
    "                self.grad = backward_grad\n",
    "            # Otherwise, simply add backward_grad to the existing gradient\n",
    "            else:\n",
    "                self.grad += backward_grad\n",
    "        \n",
    "        if self.creation_op == \"add\":\n",
    "            # Simply send backward self.grad, since increasing either of these \n",
    "            # elements will increase the output by that same amount\n",
    "            self.depends_on[0].backward(self.grad)\n",
    "            self.depends_on[1].backward(self.grad)    \n",
    "\n",
    "        if self.creation_op == \"mul\":\n",
    "\n",
    "            # Calculate the derivative with respect to the first element\n",
    "            new = self.depends_on[1] * self.grad\n",
    "            # Send backward the derivative with respect to that element\n",
    "            self.depends_on[0].backward(new.num)\n",
    "\n",
    "            # Calculate the derivative with respect to the second element\n",
    "            new = self.depends_on[0] * self.grad\n",
    "            # Send backward the derivative with respect to that element\n",
    "            self.depends_on[1].backward(new.num)\n",
    "        if self.creation_op == \"sub\":\n",
    "            # Simply send backward self.grad, since increasing either of these \n",
    "            # elements will increase the output by that same amount\n",
    "            self.depends_on[0].backward(self.grad)\n",
    "            self.depends_on[1].backward(self.grad*-1)    \n",
    "\n",
    "        if self.creation_op == \"truediv\":\n",
    "\n",
    "            # Calculate the derivative with respect to the first element\n",
    "            new = self.depends_on[1]/(self.depends_on[1]*self.depends_on[1]) * self.grad\n",
    "            # Send backward the derivative with respect to that element\n",
    "            self.depends_on[0].backward(new.num)\n",
    "\n",
    "            # Calculate the derivative with respect to the second element\n",
    "            new = self.depends_on[0] /(self.depends_on[1]*self.depends_on[1])* self.grad\n",
    "            # Send backward the derivative with respect to that element\n",
    "            self.depends_on[1].backward(new.num*-1)"
   ]
  },
  {
   "cell_type": "code",
   "execution_count": 182,
   "metadata": {
    "id": "g2TpkVLrFtBb"
   },
   "outputs": [],
   "source": [
    "a = NumberWithGrad(3)"
   ]
  },
  {
   "cell_type": "markdown",
   "metadata": {},
   "source": [
    "# Verifification\n",
    "# Division \n",
    "# c= (4a+3)\n",
    "# d= (a+2)\n",
    "# subtraction s=c/d\n",
    "# = (4a+3)/(a+2)\n",
    "# derivative ds/da = 5 /( (a+2)*(a+2)) = 5/((3+2)*(3+2))=0.2"
   ]
  },
  {
   "cell_type": "code",
   "execution_count": 183,
   "metadata": {
    "id": "Iy8891McFtBc"
   },
   "outputs": [],
   "source": [
    "b = a * 4\n",
    "c = b + 3\n",
    "d = a + 2\n",
    "e = c / d \n",
    "e.backward()"
   ]
  },
  {
   "cell_type": "code",
   "execution_count": 184,
   "metadata": {},
   "outputs": [
    {
     "data": {
      "text/plain": [
       "0.20000000000000007"
      ]
     },
     "execution_count": 184,
     "metadata": {},
     "output_type": "execute_result"
    }
   ],
   "source": [
    "a.grad  # as expected  5/((3+2)*(3+2))=0.2"
   ]
  },
  {
   "cell_type": "markdown",
   "metadata": {},
   "source": [
    "# Verifification\n",
    "# Subtraction\n",
    "# c= (4a+3)\n",
    "# d= (a+2)\n",
    "# subtraction s=c-d\n",
    "# = (4a+3)-(a+2)\n",
    "# =4a+3-a-2\n",
    "# =3a+1\n",
    "# derivative ds/da = 3"
   ]
  },
  {
   "cell_type": "code",
   "execution_count": 185,
   "metadata": {},
   "outputs": [],
   "source": [
    "x = NumberWithGrad(3)\n",
    "y = x * 4\n",
    "z = y + 3\n",
    "m = x + 2\n",
    "p = z-m \n",
    "p.backward()"
   ]
  },
  {
   "cell_type": "code",
   "execution_count": 186,
   "metadata": {},
   "outputs": [
    {
     "data": {
      "text/plain": [
       "3"
      ]
     },
     "execution_count": 186,
     "metadata": {},
     "output_type": "execute_result"
    }
   ],
   "source": [
    "x.grad  # as expected 3"
   ]
  }
 ],
 "metadata": {
  "accelerator": "GPU",
  "colab": {
   "name": "Autograd_Simple.ipynb",
   "provenance": []
  },
  "kernelspec": {
   "display_name": "Python 3 (ipykernel)",
   "language": "python",
   "name": "python3"
  },
  "language_info": {
   "codemirror_mode": {
    "name": "ipython",
    "version": 3
   },
   "file_extension": ".py",
   "mimetype": "text/x-python",
   "name": "python",
   "nbconvert_exporter": "python",
   "pygments_lexer": "ipython3",
   "version": "3.9.7"
  }
 },
 "nbformat": 4,
 "nbformat_minor": 1
}
