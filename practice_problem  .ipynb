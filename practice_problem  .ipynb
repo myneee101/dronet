{
 "cells": [
  {
   "cell_type": "markdown",
   "id": "b15f76e9",
   "metadata": {},
   "source": [
    "# Load libraries"
   ]
  },
  {
   "cell_type": "code",
   "execution_count": 3,
   "id": "23b0112e",
   "metadata": {},
   "outputs": [],
   "source": [
    "import numpy as np\n",
    "from pandas import read_csv\n",
    "from pandas.plotting import scatter_matrix\n",
    "from matplotlib import pyplot\n",
    "from sklearn.model_selection import train_test_split\n",
    "from sklearn.model_selection import cross_val_score\n",
    "from sklearn.model_selection import StratifiedKFold\n",
    "from sklearn.metrics import classification_report\n",
    "from sklearn.metrics import confusion_matrix\n",
    "from sklearn.metrics import accuracy_score\n",
    "from sklearn.linear_model import LogisticRegression\n",
    "from sklearn.tree import DecisionTreeClassifier\n",
    "from sklearn.neighbors import KNeighborsClassifier\n",
    "from sklearn.discriminant_analysis import LinearDiscriminantAnalysis\n",
    "from sklearn.naive_bayes import GaussianNB\n",
    "from sklearn.svm import SVC"
   ]
  },
  {
   "cell_type": "markdown",
   "id": "8e84c800",
   "metadata": {},
   "source": [
    "# a.\tCompare the SVM classification performance before and after PCA transformation"
   ]
  },
  {
   "cell_type": "code",
   "execution_count": 10,
   "id": "5050af86",
   "metadata": {},
   "outputs": [],
   "source": [
    "# Load dataset\n",
    "load_data = \"seeds_dataset.csv\"\n",
    "names = ['area A', 'perimeter P', 'C', 'length', 'width','asymmetry','groove','class']\n",
    "df = read_csv(load_data, names=names)"
   ]
  },
  {
   "cell_type": "code",
   "execution_count": 11,
   "id": "3e927cf7",
   "metadata": {
    "scrolled": false
   },
   "outputs": [
    {
     "data": {
      "text/html": [
       "<div>\n",
       "<style scoped>\n",
       "    .dataframe tbody tr th:only-of-type {\n",
       "        vertical-align: middle;\n",
       "    }\n",
       "\n",
       "    .dataframe tbody tr th {\n",
       "        vertical-align: top;\n",
       "    }\n",
       "\n",
       "    .dataframe thead th {\n",
       "        text-align: right;\n",
       "    }\n",
       "</style>\n",
       "<table border=\"1\" class=\"dataframe\">\n",
       "  <thead>\n",
       "    <tr style=\"text-align: right;\">\n",
       "      <th></th>\n",
       "      <th>area A</th>\n",
       "      <th>perimeter P</th>\n",
       "      <th>C</th>\n",
       "      <th>length</th>\n",
       "      <th>width</th>\n",
       "      <th>asymmetry</th>\n",
       "      <th>groove</th>\n",
       "      <th>class</th>\n",
       "    </tr>\n",
       "  </thead>\n",
       "  <tbody>\n",
       "    <tr>\n",
       "      <th>0</th>\n",
       "      <td>15.26</td>\n",
       "      <td>14.84</td>\n",
       "      <td>0.8710</td>\n",
       "      <td>5.763</td>\n",
       "      <td>3.312</td>\n",
       "      <td>2.221</td>\n",
       "      <td>5.220</td>\n",
       "      <td>1</td>\n",
       "    </tr>\n",
       "    <tr>\n",
       "      <th>1</th>\n",
       "      <td>14.88</td>\n",
       "      <td>14.57</td>\n",
       "      <td>0.8811</td>\n",
       "      <td>5.554</td>\n",
       "      <td>3.333</td>\n",
       "      <td>1.018</td>\n",
       "      <td>4.956</td>\n",
       "      <td>1</td>\n",
       "    </tr>\n",
       "    <tr>\n",
       "      <th>2</th>\n",
       "      <td>14.29</td>\n",
       "      <td>14.09</td>\n",
       "      <td>0.9050</td>\n",
       "      <td>5.291</td>\n",
       "      <td>3.337</td>\n",
       "      <td>2.699</td>\n",
       "      <td>4.825</td>\n",
       "      <td>1</td>\n",
       "    </tr>\n",
       "    <tr>\n",
       "      <th>3</th>\n",
       "      <td>13.84</td>\n",
       "      <td>13.94</td>\n",
       "      <td>0.8955</td>\n",
       "      <td>5.324</td>\n",
       "      <td>3.379</td>\n",
       "      <td>2.259</td>\n",
       "      <td>4.805</td>\n",
       "      <td>1</td>\n",
       "    </tr>\n",
       "    <tr>\n",
       "      <th>4</th>\n",
       "      <td>16.14</td>\n",
       "      <td>14.99</td>\n",
       "      <td>0.9034</td>\n",
       "      <td>5.658</td>\n",
       "      <td>3.562</td>\n",
       "      <td>1.355</td>\n",
       "      <td>5.175</td>\n",
       "      <td>1</td>\n",
       "    </tr>\n",
       "    <tr>\n",
       "      <th>...</th>\n",
       "      <td>...</td>\n",
       "      <td>...</td>\n",
       "      <td>...</td>\n",
       "      <td>...</td>\n",
       "      <td>...</td>\n",
       "      <td>...</td>\n",
       "      <td>...</td>\n",
       "      <td>...</td>\n",
       "    </tr>\n",
       "    <tr>\n",
       "      <th>205</th>\n",
       "      <td>12.19</td>\n",
       "      <td>13.20</td>\n",
       "      <td>0.8783</td>\n",
       "      <td>5.137</td>\n",
       "      <td>2.981</td>\n",
       "      <td>3.631</td>\n",
       "      <td>4.870</td>\n",
       "      <td>3</td>\n",
       "    </tr>\n",
       "    <tr>\n",
       "      <th>206</th>\n",
       "      <td>11.23</td>\n",
       "      <td>12.88</td>\n",
       "      <td>0.8511</td>\n",
       "      <td>5.140</td>\n",
       "      <td>2.795</td>\n",
       "      <td>4.325</td>\n",
       "      <td>5.003</td>\n",
       "      <td>3</td>\n",
       "    </tr>\n",
       "    <tr>\n",
       "      <th>207</th>\n",
       "      <td>13.20</td>\n",
       "      <td>13.66</td>\n",
       "      <td>0.8883</td>\n",
       "      <td>5.236</td>\n",
       "      <td>3.232</td>\n",
       "      <td>8.315</td>\n",
       "      <td>5.056</td>\n",
       "      <td>3</td>\n",
       "    </tr>\n",
       "    <tr>\n",
       "      <th>208</th>\n",
       "      <td>11.84</td>\n",
       "      <td>13.21</td>\n",
       "      <td>0.8521</td>\n",
       "      <td>5.175</td>\n",
       "      <td>2.836</td>\n",
       "      <td>3.598</td>\n",
       "      <td>5.044</td>\n",
       "      <td>3</td>\n",
       "    </tr>\n",
       "    <tr>\n",
       "      <th>209</th>\n",
       "      <td>12.30</td>\n",
       "      <td>13.34</td>\n",
       "      <td>0.8684</td>\n",
       "      <td>5.243</td>\n",
       "      <td>2.974</td>\n",
       "      <td>5.637</td>\n",
       "      <td>5.063</td>\n",
       "      <td>3</td>\n",
       "    </tr>\n",
       "  </tbody>\n",
       "</table>\n",
       "<p>210 rows × 8 columns</p>\n",
       "</div>"
      ],
      "text/plain": [
       "     area A  perimeter P       C  length  width  asymmetry  groove  class\n",
       "0     15.26        14.84  0.8710   5.763  3.312      2.221   5.220      1\n",
       "1     14.88        14.57  0.8811   5.554  3.333      1.018   4.956      1\n",
       "2     14.29        14.09  0.9050   5.291  3.337      2.699   4.825      1\n",
       "3     13.84        13.94  0.8955   5.324  3.379      2.259   4.805      1\n",
       "4     16.14        14.99  0.9034   5.658  3.562      1.355   5.175      1\n",
       "..      ...          ...     ...     ...    ...        ...     ...    ...\n",
       "205   12.19        13.20  0.8783   5.137  2.981      3.631   4.870      3\n",
       "206   11.23        12.88  0.8511   5.140  2.795      4.325   5.003      3\n",
       "207   13.20        13.66  0.8883   5.236  3.232      8.315   5.056      3\n",
       "208   11.84        13.21  0.8521   5.175  2.836      3.598   5.044      3\n",
       "209   12.30        13.34  0.8684   5.243  2.974      5.637   5.063      3\n",
       "\n",
       "[210 rows x 8 columns]"
      ]
     },
     "execution_count": 11,
     "metadata": {},
     "output_type": "execute_result"
    }
   ],
   "source": [
    "df"
   ]
  },
  {
   "cell_type": "markdown",
   "id": "9638560f",
   "metadata": {},
   "source": [
    "# a.\tCompare the SVM classification performance before PCA"
   ]
  },
  {
   "cell_type": "code",
   "execution_count": 14,
   "id": "112f58d8",
   "metadata": {},
   "outputs": [
    {
     "name": "stdout",
     "output_type": "stream",
     "text": [
      "SVM: 0.893015 (0.068514)\n"
     ]
    }
   ],
   "source": [
    "import pandas as pd \n",
    "import numpy as np \n",
    "from sklearn.svm import SVC \n",
    "from sklearn.model_selection import cross_val_score \n",
    "from sklearn.model_selection import StratifiedKFold \n",
    "from sklearn.model_selection import train_test_split \n",
    "load_data = \"seeds_dataset.csv\"\n",
    "names = ['area A', 'perimeter P', 'C', 'length', 'width','asymmetry','groove','class']\n",
    "df = read_csv(load_data, names=names)\n",
    "array = df.values\n",
    "X = array[:,0:7]\n",
    "Y = array[:,7] \n",
    "X_train, X_validation, Y_train, Y_validation = train_test_split(X, Y, test_size=0.20, random_state=1) \n",
    "models = [] \n",
    "models.append(('SVM', SVC(gamma='auto'))) \n",
    "results = [] \n",
    "names = [] \n",
    "for name, model in models:\n",
    "    kfold = StratifiedKFold(n_splits=10, random_state=1, shuffle=True) \n",
    "    cv_results = cross_val_score(model, X_train, Y_train, cv=kfold, scoring='accuracy') \n",
    "    results.append(cv_results) \n",
    "    names.append(name) \n",
    "    print('%s: %f (%f)' % (name, cv_results.mean(), cv_results.std()))"
   ]
  },
  {
   "cell_type": "markdown",
   "id": "1eedc21e",
   "metadata": {},
   "source": [
    "# Feature Extraction with PCA"
   ]
  },
  {
   "cell_type": "code",
   "execution_count": 13,
   "id": "baf48804",
   "metadata": {},
   "outputs": [
    {
     "name": "stdout",
     "output_type": "stream",
     "text": [
      "Explained Variance:[0.8293852  0.16363245 0.00565791]\n",
      "[[ 0.8842285   0.39540542  0.00431132  0.12854448  0.11105914 -0.12761562\n",
      "   0.1289665 ]\n",
      " [ 0.10080577  0.05648963 -0.00289474  0.03062173  0.00237229  0.98941048\n",
      "   0.08223339]\n",
      " [ 0.26453354 -0.28251995  0.05903584 -0.40014946  0.31923869  0.06429754\n",
      "  -0.76193973]]\n"
     ]
    }
   ],
   "source": [
    "# Feature Extraction with PCA\n",
    "from pandas import read_csv\n",
    "from sklearn.decomposition import PCA\n",
    "# load data\n",
    "load_data = \"seeds_dataset.csv\"\n",
    "names = ['area A', 'perimeter P', 'C', 'length', 'width','asymmetry','groove','class']\n",
    "df = read_csv(load_data, names=names)\n",
    "array = df.values\n",
    "X = array[:,0:7]\n",
    "Y = array[:,7]\n",
    "# feature extraction\n",
    "pca = PCA(n_components=3)\n",
    "fit = pca.fit(X)"
   ]
  },
  {
   "cell_type": "markdown",
   "id": "eb827e58",
   "metadata": {},
   "source": [
    "# explained_variance_ratio "
   ]
  },
  {
   "cell_type": "code",
   "execution_count": 15,
   "id": "32f04c3f",
   "metadata": {},
   "outputs": [
    {
     "name": "stdout",
     "output_type": "stream",
     "text": [
      "Explained Variance:[0.8293852  0.16363245 0.00565791]\n"
     ]
    }
   ],
   "source": [
    "# summarize components\n",
    "print(\"Explained Variance:%s\" % fit.explained_variance_ratio_)"
   ]
  },
  {
   "cell_type": "markdown",
   "id": "2573e663",
   "metadata": {},
   "source": [
    "# PCA_Components "
   ]
  },
  {
   "cell_type": "code",
   "execution_count": 16,
   "id": "8ba1645b",
   "metadata": {
    "scrolled": true
   },
   "outputs": [
    {
     "name": "stdout",
     "output_type": "stream",
     "text": [
      "[[ 0.8842285   0.39540542  0.00431132  0.12854448  0.11105914 -0.12761562\n",
      "   0.1289665 ]\n",
      " [ 0.10080577  0.05648963 -0.00289474  0.03062173  0.00237229  0.98941048\n",
      "   0.08223339]\n",
      " [ 0.26453354 -0.28251995  0.05903584 -0.40014946  0.31923869  0.06429754\n",
      "  -0.76193973]]\n"
     ]
    }
   ],
   "source": [
    "print(fit.components_)"
   ]
  },
  {
   "cell_type": "markdown",
   "id": "2c0847ce",
   "metadata": {},
   "source": [
    "# Print the PCA Transform "
   ]
  },
  {
   "cell_type": "code",
   "execution_count": 19,
   "id": "f8bc575e",
   "metadata": {},
   "outputs": [],
   "source": [
    "from sklearn.preprocessing import StandardScaler\n",
    "features = ['area A', 'perimeter P', 'C', 'length', 'width','asymmetry','groove']\n",
    "# Separating out the features\n",
    "x = df.loc[:, features].values\n",
    "# Separating out the target\n",
    "y = df.loc[:,['class']].values\n",
    "# Standardizing the features\n",
    "x = StandardScaler().fit_transform(x)\n",
    "from sklearn.decomposition import PCA\n",
    "pca = PCA(n_components=2)\n",
    "principalComponents = pca.fit_transform(x)\n",
    "principalDf = pd.DataFrame(data = principalComponents\n",
    "             , columns = ['principal component 1', 'principal component 2'])"
   ]
  },
  {
   "cell_type": "code",
   "execution_count": 20,
   "id": "e6d7bf4b",
   "metadata": {},
   "outputs": [
    {
     "data": {
      "text/html": [
       "<div>\n",
       "<style scoped>\n",
       "    .dataframe tbody tr th:only-of-type {\n",
       "        vertical-align: middle;\n",
       "    }\n",
       "\n",
       "    .dataframe tbody tr th {\n",
       "        vertical-align: top;\n",
       "    }\n",
       "\n",
       "    .dataframe thead th {\n",
       "        text-align: right;\n",
       "    }\n",
       "</style>\n",
       "<table border=\"1\" class=\"dataframe\">\n",
       "  <thead>\n",
       "    <tr style=\"text-align: right;\">\n",
       "      <th></th>\n",
       "      <th>principal component 1</th>\n",
       "      <th>principal component 2</th>\n",
       "    </tr>\n",
       "  </thead>\n",
       "  <tbody>\n",
       "    <tr>\n",
       "      <th>0</th>\n",
       "      <td>0.317047</td>\n",
       "      <td>0.783669</td>\n",
       "    </tr>\n",
       "    <tr>\n",
       "      <th>1</th>\n",
       "      <td>-0.003386</td>\n",
       "      <td>1.913214</td>\n",
       "    </tr>\n",
       "    <tr>\n",
       "      <th>2</th>\n",
       "      <td>-0.459443</td>\n",
       "      <td>1.907225</td>\n",
       "    </tr>\n",
       "    <tr>\n",
       "      <th>3</th>\n",
       "      <td>-0.591936</td>\n",
       "      <td>1.931069</td>\n",
       "    </tr>\n",
       "    <tr>\n",
       "      <th>4</th>\n",
       "      <td>1.102910</td>\n",
       "      <td>2.068090</td>\n",
       "    </tr>\n",
       "    <tr>\n",
       "      <th>...</th>\n",
       "      <td>...</td>\n",
       "      <td>...</td>\n",
       "    </tr>\n",
       "    <tr>\n",
       "      <th>205</th>\n",
       "      <td>-1.991107</td>\n",
       "      <td>0.865956</td>\n",
       "    </tr>\n",
       "    <tr>\n",
       "      <th>206</th>\n",
       "      <td>-2.726865</td>\n",
       "      <td>-0.208190</td>\n",
       "    </tr>\n",
       "    <tr>\n",
       "      <th>207</th>\n",
       "      <td>-1.403633</td>\n",
       "      <td>-1.298593</td>\n",
       "    </tr>\n",
       "    <tr>\n",
       "      <th>208</th>\n",
       "      <td>-2.339328</td>\n",
       "      <td>0.099699</td>\n",
       "    </tr>\n",
       "    <tr>\n",
       "      <th>209</th>\n",
       "      <td>-1.955953</td>\n",
       "      <td>-0.525071</td>\n",
       "    </tr>\n",
       "  </tbody>\n",
       "</table>\n",
       "<p>210 rows × 2 columns</p>\n",
       "</div>"
      ],
      "text/plain": [
       "     principal component 1  principal component 2\n",
       "0                 0.317047               0.783669\n",
       "1                -0.003386               1.913214\n",
       "2                -0.459443               1.907225\n",
       "3                -0.591936               1.931069\n",
       "4                 1.102910               2.068090\n",
       "..                     ...                    ...\n",
       "205              -1.991107               0.865956\n",
       "206              -2.726865              -0.208190\n",
       "207              -1.403633              -1.298593\n",
       "208              -2.339328               0.099699\n",
       "209              -1.955953              -0.525071\n",
       "\n",
       "[210 rows x 2 columns]"
      ]
     },
     "execution_count": 20,
     "metadata": {},
     "output_type": "execute_result"
    }
   ],
   "source": [
    "principalDf"
   ]
  },
  {
   "cell_type": "markdown",
   "id": "d2ae2dd1",
   "metadata": {},
   "source": [
    "# b.\tCompare the SVM classification performance after PCA transformation. "
   ]
  },
  {
   "cell_type": "code",
   "execution_count": 28,
   "id": "bc921b3c",
   "metadata": {},
   "outputs": [
    {
     "name": "stdout",
     "output_type": "stream",
     "text": [
      "SVM: 0.851103 (0.062028)\n"
     ]
    }
   ],
   "source": [
    "import pandas as pd \n",
    "import numpy as np \n",
    "from sklearn.svm import SVC \n",
    "from sklearn.model_selection import cross_val_score \n",
    "from sklearn.model_selection import StratifiedKFold \n",
    "from sklearn.model_selection import train_test_split \n",
    "from numpy import set_printoptions \n",
    "from sklearn.feature_selection import SelectKBest \n",
    "from sklearn.feature_selection import chi2 \n",
    "load_data = \"seeds_dataset.csv\"\n",
    "names = ['area A', 'perimeter P', 'C', 'length', 'width','asymmetry','groove','class']\n",
    "daf = read_csv(load_data, names=names)\n",
    "#remove least significant values\n",
    "daf.drop(['C','asymmetry','groove'],axis=1,inplace=True)\n",
    "array = daf.values\n",
    "X = array[:,0:4] \n",
    "Y = array[:,4] \n",
    "X_train, X_validation, Y_train, Y_validation = train_test_split(X, Y, test_size=0.20, random_state=1) \n",
    "models = [] \n",
    "models.append(('SVM', SVC(gamma='auto'))) \n",
    "results = [] \n",
    "names = [] \n",
    "for name, model in models:\n",
    "    kfold = StratifiedKFold(n_splits=10, random_state=1, shuffle=True) \n",
    "    cv_results = cross_val_score(model, X_train, Y_train, cv=kfold, scoring='accuracy') \n",
    "    results.append(cv_results) \n",
    "    names.append(name) \n",
    "    print('%s: %f (%f)' % (name, cv_results.mean(), cv_results.std())) "
   ]
  },
  {
   "cell_type": "markdown",
   "id": "18658338",
   "metadata": {},
   "source": [
    "# c.\tHow did PCA help in this study case ?"
   ]
  },
  {
   "cell_type": "markdown",
   "id": "9cf13bdc",
   "metadata": {},
   "source": [
    "# Explain your opinion \n",
    "# Ans. due to remove others three column which affect the total accuracy, that's why fall the accuracy of the model."
   ]
  },
  {
   "cell_type": "markdown",
   "id": "77cdce3f",
   "metadata": {},
   "source": [
    "# 2)\tFor given Simple Regression Problem, the x-axis represents age of a CAr, and the y-axis represents speed of that Car:"
   ]
  },
  {
   "cell_type": "code",
   "execution_count": 29,
   "id": "c17c217e",
   "metadata": {},
   "outputs": [
    {
     "data": {
      "image/png": "[encoded data removed]",
      "text/plain": [
       "<Figure size 432x288 with 1 Axes>"
      ]
     },
     "metadata": {
      "needs_background": "light"
     },
     "output_type": "display_data"
    }
   ],
   "source": [
    "import matplotlib.pyplot as plt\n",
    "\n",
    "x = [5,7,8,7,2,17,2,9,4,11,12,9,6]\n",
    "y = [99,90,87,88,111,91,103,87,94,78,77,85,86]\n",
    "\n",
    "plt.scatter(x, y)\n",
    "plt.show()"
   ]
  },
  {
   "cell_type": "code",
   "execution_count": 30,
   "id": "87be7241",
   "metadata": {},
   "outputs": [
    {
     "data": {
      "image/png": "[encoded data removed]",
      "text/plain": [
       "<Figure size 432x288 with 1 Axes>"
      ]
     },
     "metadata": {
      "needs_background": "light"
     },
     "output_type": "display_data"
    }
   ],
   "source": [
    "import matplotlib.pyplot as plt\n",
    "from scipy import stats\n",
    "\n",
    "x = [5,7,8,7,2,17,2,9,4,11,12,9,6]\n",
    "y = [99,86,87,88,111,86,103,87,94,78,77,85,86]\n",
    "\n",
    "slope, intercept, r, p, std_err = stats.linregress(x, y)\n",
    "\n",
    "def myfunc(x):\n",
    "    return slope * x + intercept\n",
    "\n",
    "mymodel = list(map(myfunc, x))\n",
    "\n",
    "plt.scatter(x, y)\n",
    "plt.plot(x, mymodel)\n",
    "plt.show()"
   ]
  },
  {
   "cell_type": "markdown",
   "id": "2e4b0dc0",
   "metadata": {},
   "source": [
    "# POly"
   ]
  },
  {
   "cell_type": "code",
   "execution_count": 32,
   "id": "44e923fb",
   "metadata": {
    "scrolled": true
   },
   "outputs": [
    {
     "data": {
      "image/png": "[encoded data removed]",
      "text/plain": [
       "<Figure size 432x288 with 1 Axes>"
      ]
     },
     "metadata": {
      "needs_background": "light"
     },
     "output_type": "display_data"
    }
   ],
   "source": [
    "import numpy\n",
    "import matplotlib.pyplot as plt\n",
    "\n",
    "\n",
    "mymodel = numpy.poly1d(numpy.polyfit(x, y, 3))\n",
    "\n",
    "myline = numpy.linspace(1, 22, 100)\n",
    "\n",
    "plt.scatter(x, y)\n",
    "plt.plot(myline, mymodel(myline))\n",
    "plt.show()"
   ]
  },
  {
   "cell_type": "markdown",
   "id": "201f4a86",
   "metadata": {},
   "source": [
    "# Find the r2-coefficient "
   ]
  },
  {
   "cell_type": "code",
   "execution_count": 39,
   "id": "2e598cab",
   "metadata": {},
   "outputs": [
    {
     "name": "stdout",
     "output_type": "stream",
     "text": [
      "0.8816766587791962\n"
     ]
    }
   ],
   "source": [
    "import numpy\n",
    "from sklearn.metrics import r2_score\n",
    "\n",
    "\n",
    "mymodel = numpy.poly1d(numpy.polyfit(x, y, 3))\n",
    "\n",
    "print(r2_score(y, mymodel(x)))"
   ]
  },
  {
   "cell_type": "markdown",
   "id": "3f580da6",
   "metadata": {},
   "source": [
    "# Solve and Print the Pearson Correlation Coefficient (r)"
   ]
  },
  {
   "cell_type": "code",
   "execution_count": 34,
   "id": "c091c24b",
   "metadata": {},
   "outputs": [
    {
     "name": "stdout",
     "output_type": "stream",
     "text": [
      "[[ 1.    -0.759]\n",
      " [-0.759  1.   ]]\n"
     ]
    }
   ],
   "source": [
    "r = np.corrcoef(x, y)\n",
    "print(r)"
   ]
  },
  {
   "cell_type": "markdown",
   "id": "3711edf5",
   "metadata": {},
   "source": [
    "# Solve and Print the RMSE or std_error ?"
   ]
  },
  {
   "cell_type": "code",
   "execution_count": 36,
   "id": "6e2424a5",
   "metadata": {},
   "outputs": [
    {
     "name": "stdout",
     "output_type": "stream",
     "text": [
      "Root Mean Square Error:\n",
      "\n",
      "83.1106769036603\n"
     ]
    }
   ],
   "source": [
    "import math\n",
    "MSE = np.square(np.subtract(x,y)).mean() \n",
    "RMSE = math.sqrt(MSE)\n",
    "print(\"Root Mean Square Error:\\n\")\n",
    "print(RMSE)"
   ]
  },
  {
   "cell_type": "code",
   "execution_count": null,
   "id": "5d3be3c5",
   "metadata": {},
   "outputs": [],
   "source": [
    "# "
   ]
  },
  {
   "cell_type": "code",
   "execution_count": 37,
   "id": "7d714f0f",
   "metadata": {},
   "outputs": [
    {
     "name": "stdout",
     "output_type": "stream",
     "text": [
      "-0.758591524376155\n"
     ]
    }
   ],
   "source": [
    "from scipy import stats\n",
    "\n",
    "x = [5,7,8,7,2,17,2,9,4,11,12,9,6]\n",
    "y = [99,86,87,88,111,86,103,87,94,78,77,85,86]\n",
    "\n",
    "slope, intercept, r, p, std_err = stats.linregress(x, y)\n",
    "\n",
    "print(r)"
   ]
  },
  {
   "cell_type": "markdown",
   "id": "e8f2abfa",
   "metadata": {},
   "source": [
    "# Predict the speed of a 10 years old car:"
   ]
  },
  {
   "cell_type": "code",
   "execution_count": 38,
   "id": "679348ae",
   "metadata": {},
   "outputs": [
    {
     "name": "stdout",
     "output_type": "stream",
     "text": [
      "85.59308314937454\n"
     ]
    }
   ],
   "source": [
    "from scipy import stats\n",
    "\n",
    "x = [5,7,8,7,2,17,2,9,4,11,12,9,6]\n",
    "y = [99,86,87,88,111,86,103,87,94,78,77,85,86]\n",
    "\n",
    "slope, intercept, r, p, std_err = stats.linregress(x, y)\n",
    "\n",
    "def myfunc(x):\n",
    "    return slope * x + intercept\n",
    "\n",
    "speed = myfunc(10)\n",
    "\n",
    "print(speed)"
   ]
  },
  {
   "cell_type": "markdown",
   "id": "f1f8ec7c",
   "metadata": {},
   "source": [
    "# 4)\tFind the 10-fold Cross Validation Regression Performance of the above regression model ?"
   ]
  },
  {
   "cell_type": "code",
   "execution_count": null,
   "id": "e2fe6f99",
   "metadata": {},
   "outputs": [],
   "source": [
    "# compare algorithms\n",
    "from pandas import read_csv\n",
    "from matplotlib import pyplot\n",
    "from sklearn.model_selection import train_test_split\n",
    "from sklearn.model_selection import cross_val_score\n",
    "from sklearn.model_selection import StratifiedKFold\n",
    "from sklearn.linear_model import LogisticRegression\n",
    "from sklearn.tree import DecisionTreeClassifier\n",
    "from sklearn.neighbors import KNeighborsClassifier\n",
    "from sklearn.discriminant_analysis import LinearDiscriminantAnalysis\n",
    "from sklearn.naive_bayes import GaussianNB\n",
    "from sklearn.svm import SVC\n",
    "# Load dataset\n",
    "#url ='qsar_fish_toxicity.csv'\n",
    "url = \"https://archive.ics.uci.edu/ml/machine-learning-databases/00504/qsar_fish_toxicity.csv\"\n",
    "names = ['a', 'b', 'c', 'd', 'e','f','g']\n",
    "dataset = read_csv(url, names=names)\n",
    "# Split-out validation dataset\n",
    "array = dataset.values\n",
    "X = array[:,0:6]\n",
    "y = array[:,6]\n",
    "X_train, X_validation, Y_train, Y_validation = train_test_split(X, y, test_size=0.20, random_state=1, shuffle=True)\n",
    "# Spot Check Algorithms\n",
    "models = []\n",
    "models.append(('LR', LogisticRegression(solver='liblinear', multi_class='ovr')))\n",
    "models.append(('LDA', LinearDiscriminantAnalysis()))\n",
    "models.append(('KNN', KNeighborsClassifier()))\n",
    "models.append(('CART', DecisionTreeClassifier()))\n",
    "models.append(('NB', GaussianNB()))\n",
    "models.append(('SVM', SVC(gamma='auto')))\n",
    "# evaluate each model in turn\n",
    "results = []\n",
    "names = []\n",
    "for name, model in models:\n",
    "\tkfold = StratifiedKFold(n_splits=10, random_state=1, shuffle=True)\n",
    "\tcv_results = cross_val_score(model, X_train, Y_train, cv=kfold, scoring='accuracy')\n",
    "\tresults.append(cv_results)\n",
    "\tnames.append(name)\n",
    "\tprint('%s: %f (%f)' % (name, cv_results.mean(), cv_results.std()))\n",
    "# Compare Algorithms\n",
    "pyplot.boxplot(results, labels=names)\n",
    "pyplot.title('Algorithm Comparison')\n",
    "pyplot.show()"
   ]
  },
  {
   "cell_type": "code",
   "execution_count": 42,
   "id": "8cde6001",
   "metadata": {},
   "outputs": [],
   "source": []
  },
  {
   "cell_type": "code",
   "execution_count": null,
   "id": "68c08fd9",
   "metadata": {},
   "outputs": [],
   "source": []
  },
  {
   "cell_type": "code",
   "execution_count": null,
   "id": "e1918444",
   "metadata": {},
   "outputs": [],
   "source": []
  }
 ],
 "metadata": {
  "kernelspec": {
   "display_name": "Python 3 (ipykernel)",
   "language": "python",
   "name": "python3"
  },
  "language_info": {
   "codemirror_mode": {
    "name": "ipython",
    "version": 3
   },
   "file_extension": ".py",
   "mimetype": "text/x-python",
   "name": "python",
   "nbconvert_exporter": "python",
   "pygments_lexer": "ipython3",
   "version": "3.9.7"
  }
 },
 "nbformat": 4,
 "nbformat_minor": 5
}
