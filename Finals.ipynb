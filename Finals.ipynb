{
 "cells": [
  {
   "cell_type": "code",
   "execution_count": 36,
   "metadata": {
    "colab": {
     "base_uri": "https://localhost:8080/"
    },
    "id": "5zy1ChKz1_AR",
    "outputId": "25493a85-7d2d-46c1-9154-37f980157708"
   },
   "outputs": [],
   "source": [
    "#Question 1\n",
    "\n",
    "#Imports\n",
    "import numpy as np\n",
    "import pandas as pd\n",
    "import matplotlib.pyplot as plt\n",
    "from scipy.linalg import svd\n",
    "from sklearn.decomposition import PCA\n",
    "from sklearn import *\n",
    "import numpy as np\n",
    "import pandas as pd\n",
    "from pandas import read_csv\n",
    "from numpy import zeros\n",
    "from numpy import diag\n",
    "from sklearn.decomposition import TruncatedSVD\n",
    "from scipy.sparse import csr_matrix\n",
    "from scipy.sparse.linalg import svds\n",
    "from scipy.linalg import svd\n",
    "import matplotlib.pyplot as plt\n",
    "from pandas.plotting import scatter_matrix\n",
    "from matplotlib import pyplot\n",
    "from sklearn.model_selection import train_test_split\n",
    "from sklearn.model_selection import cross_val_score\n",
    "from sklearn.model_selection import StratifiedKFold\n",
    "from sklearn.metrics import classification_report\n",
    "from sklearn.metrics import confusion_matrix\n",
    "from sklearn.metrics import accuracy_score\n",
    "from sklearn.linear_model import LogisticRegression\n",
    "from sklearn.tree import DecisionTreeClassifier\n",
    "from sklearn.neighbors import KNeighborsClassifier\n",
    "from sklearn.discriminant_analysis import LinearDiscriminantAnalysis\n",
    "from sklearn.naive_bayes import GaussianNB\n",
    "from sklearn.svm import SVC\n",
    "from scipy.linalg import svd\n",
    "from sklearn.decomposition import PCA\n",
    "\n",
    "from numpy import set_printoptions\n",
    "from sklearn.feature_selection import SelectKBest\n",
    "from sklearn.feature_selection import chi2\n",
    "\n",
    "import numpy as np  \n",
    "from numpy import array\n",
    "from numpy import diag\n",
    "from numpy import dot\n",
    "from numpy import zeros\n",
    "from scipy.linalg import svd\n",
    "\n"
   ]
  },
  {
   "cell_type": "code",
   "execution_count": 16,
   "metadata": {},
   "outputs": [
    {
     "data": {
      "text/html": [
       "<div>\n",
       "<style scoped>\n",
       "    .dataframe tbody tr th:only-of-type {\n",
       "        vertical-align: middle;\n",
       "    }\n",
       "\n",
       "    .dataframe tbody tr th {\n",
       "        vertical-align: top;\n",
       "    }\n",
       "\n",
       "    .dataframe thead th {\n",
       "        text-align: right;\n",
       "    }\n",
       "</style>\n",
       "<table border=\"1\" class=\"dataframe\">\n",
       "  <thead>\n",
       "    <tr style=\"text-align: right;\">\n",
       "      <th></th>\n",
       "      <th>model</th>\n",
       "      <th>year</th>\n",
       "      <th>price</th>\n",
       "      <th>transmission</th>\n",
       "      <th>mileage</th>\n",
       "      <th>fuelType</th>\n",
       "      <th>tax</th>\n",
       "      <th>mpg</th>\n",
       "      <th>engineSize</th>\n",
       "    </tr>\n",
       "  </thead>\n",
       "  <tbody>\n",
       "    <tr>\n",
       "      <th>0</th>\n",
       "      <td>A1</td>\n",
       "      <td>2017</td>\n",
       "      <td>12500</td>\n",
       "      <td>Manual</td>\n",
       "      <td>15735</td>\n",
       "      <td>Petrol</td>\n",
       "      <td>150</td>\n",
       "      <td>55.4</td>\n",
       "      <td>1.4</td>\n",
       "    </tr>\n",
       "    <tr>\n",
       "      <th>1</th>\n",
       "      <td>A6</td>\n",
       "      <td>2016</td>\n",
       "      <td>16500</td>\n",
       "      <td>Automatic</td>\n",
       "      <td>36203</td>\n",
       "      <td>Diesel</td>\n",
       "      <td>20</td>\n",
       "      <td>64.2</td>\n",
       "      <td>2.0</td>\n",
       "    </tr>\n",
       "    <tr>\n",
       "      <th>2</th>\n",
       "      <td>A1</td>\n",
       "      <td>2016</td>\n",
       "      <td>11000</td>\n",
       "      <td>Manual</td>\n",
       "      <td>29946</td>\n",
       "      <td>Petrol</td>\n",
       "      <td>30</td>\n",
       "      <td>55.4</td>\n",
       "      <td>1.4</td>\n",
       "    </tr>\n",
       "    <tr>\n",
       "      <th>3</th>\n",
       "      <td>A4</td>\n",
       "      <td>2017</td>\n",
       "      <td>16800</td>\n",
       "      <td>Automatic</td>\n",
       "      <td>25952</td>\n",
       "      <td>Diesel</td>\n",
       "      <td>145</td>\n",
       "      <td>67.3</td>\n",
       "      <td>2.0</td>\n",
       "    </tr>\n",
       "    <tr>\n",
       "      <th>4</th>\n",
       "      <td>A3</td>\n",
       "      <td>2019</td>\n",
       "      <td>17300</td>\n",
       "      <td>Manual</td>\n",
       "      <td>1998</td>\n",
       "      <td>Petrol</td>\n",
       "      <td>145</td>\n",
       "      <td>49.6</td>\n",
       "      <td>1.0</td>\n",
       "    </tr>\n",
       "    <tr>\n",
       "      <th>5</th>\n",
       "      <td>A1</td>\n",
       "      <td>2016</td>\n",
       "      <td>13900</td>\n",
       "      <td>Automatic</td>\n",
       "      <td>32260</td>\n",
       "      <td>Petrol</td>\n",
       "      <td>30</td>\n",
       "      <td>58.9</td>\n",
       "      <td>1.4</td>\n",
       "    </tr>\n",
       "    <tr>\n",
       "      <th>6</th>\n",
       "      <td>A6</td>\n",
       "      <td>2016</td>\n",
       "      <td>13250</td>\n",
       "      <td>Automatic</td>\n",
       "      <td>76788</td>\n",
       "      <td>Diesel</td>\n",
       "      <td>30</td>\n",
       "      <td>61.4</td>\n",
       "      <td>2.0</td>\n",
       "    </tr>\n",
       "    <tr>\n",
       "      <th>7</th>\n",
       "      <td>A4</td>\n",
       "      <td>2016</td>\n",
       "      <td>11750</td>\n",
       "      <td>Manual</td>\n",
       "      <td>75185</td>\n",
       "      <td>Diesel</td>\n",
       "      <td>20</td>\n",
       "      <td>70.6</td>\n",
       "      <td>2.0</td>\n",
       "    </tr>\n",
       "    <tr>\n",
       "      <th>8</th>\n",
       "      <td>A3</td>\n",
       "      <td>2015</td>\n",
       "      <td>10200</td>\n",
       "      <td>Manual</td>\n",
       "      <td>46112</td>\n",
       "      <td>Petrol</td>\n",
       "      <td>20</td>\n",
       "      <td>60.1</td>\n",
       "      <td>1.4</td>\n",
       "    </tr>\n",
       "    <tr>\n",
       "      <th>9</th>\n",
       "      <td>A1</td>\n",
       "      <td>2016</td>\n",
       "      <td>12000</td>\n",
       "      <td>Manual</td>\n",
       "      <td>22451</td>\n",
       "      <td>Petrol</td>\n",
       "      <td>30</td>\n",
       "      <td>55.4</td>\n",
       "      <td>1.4</td>\n",
       "    </tr>\n",
       "  </tbody>\n",
       "</table>\n",
       "</div>"
      ],
      "text/plain": [
       "  model  year  price transmission  mileage fuelType  tax   mpg  engineSize\n",
       "0    A1  2017  12500       Manual    15735   Petrol  150  55.4         1.4\n",
       "1    A6  2016  16500    Automatic    36203   Diesel   20  64.2         2.0\n",
       "2    A1  2016  11000       Manual    29946   Petrol   30  55.4         1.4\n",
       "3    A4  2017  16800    Automatic    25952   Diesel  145  67.3         2.0\n",
       "4    A3  2019  17300       Manual     1998   Petrol  145  49.6         1.0\n",
       "5    A1  2016  13900    Automatic    32260   Petrol   30  58.9         1.4\n",
       "6    A6  2016  13250    Automatic    76788   Diesel   30  61.4         2.0\n",
       "7    A4  2016  11750       Manual    75185   Diesel   20  70.6         2.0\n",
       "8    A3  2015  10200       Manual    46112   Petrol   20  60.1         1.4\n",
       "9    A1  2016  12000       Manual    22451   Petrol   30  55.4         1.4"
      ]
     },
     "execution_count": 16,
     "metadata": {},
     "output_type": "execute_result"
    }
   ],
   "source": [
    "#File Upload\n",
    "data = pd.read_csv(\"audi_2022.csv\")\n",
    "Matrix_A = data.head(10)\n",
    "Matrix_A\n"
   ]
  },
  {
   "cell_type": "code",
   "execution_count": 17,
   "metadata": {},
   "outputs": [
    {
     "data": {
      "text/plain": [
       "model           0\n",
       "year            0\n",
       "price           0\n",
       "transmission    0\n",
       "mileage         0\n",
       "fuelType        0\n",
       "tax             0\n",
       "mpg             0\n",
       "engineSize      0\n",
       "dtype: int64"
      ]
     },
     "execution_count": 17,
     "metadata": {},
     "output_type": "execute_result"
    }
   ],
   "source": [
    "#Checking for missng values\n",
    "Matrix_A.isnull().sum()"
   ]
  },
  {
   "cell_type": "code",
   "execution_count": 9,
   "metadata": {
    "colab": {
     "base_uri": "https://localhost:8080/",
     "height": 415
    },
    "id": "_MVNdz1F2F9h",
    "outputId": "f32d1330-9a14-4b52-e7f7-514b858ae9dc",
    "scrolled": true
   },
   "outputs": [
    {
     "name": "stdout",
     "output_type": "stream",
     "text": [
      "Num Feature Index(['year', 'price', 'mileage', 'tax', 'mpg', 'engineSize'], dtype='object')\n",
      "Cat Feature Index(['model', 'transmission', 'fuelType'], dtype='object')\n"
     ]
    },
    {
     "data": {
      "text/html": [
       "<div>\n",
       "<style scoped>\n",
       "    .dataframe tbody tr th:only-of-type {\n",
       "        vertical-align: middle;\n",
       "    }\n",
       "\n",
       "    .dataframe tbody tr th {\n",
       "        vertical-align: top;\n",
       "    }\n",
       "\n",
       "    .dataframe thead th {\n",
       "        text-align: right;\n",
       "    }\n",
       "</style>\n",
       "<table border=\"1\" class=\"dataframe\">\n",
       "  <thead>\n",
       "    <tr style=\"text-align: right;\">\n",
       "      <th></th>\n",
       "      <th>year</th>\n",
       "      <th>mileage</th>\n",
       "      <th>tax</th>\n",
       "      <th>mpg</th>\n",
       "      <th>engineSize</th>\n",
       "      <th>model_ A1</th>\n",
       "      <th>model_ A3</th>\n",
       "      <th>model_ A4</th>\n",
       "      <th>model_ A6</th>\n",
       "      <th>transmission_Automatic</th>\n",
       "      <th>transmission_Manual</th>\n",
       "      <th>fuelType_Diesel</th>\n",
       "      <th>fuelType_Petrol</th>\n",
       "    </tr>\n",
       "  </thead>\n",
       "  <tbody>\n",
       "    <tr>\n",
       "      <th>0</th>\n",
       "      <td>2017.0</td>\n",
       "      <td>15735.0</td>\n",
       "      <td>150.0</td>\n",
       "      <td>55.4</td>\n",
       "      <td>1.4</td>\n",
       "      <td>1</td>\n",
       "      <td>0</td>\n",
       "      <td>0</td>\n",
       "      <td>0</td>\n",
       "      <td>0</td>\n",
       "      <td>1</td>\n",
       "      <td>0</td>\n",
       "      <td>1</td>\n",
       "    </tr>\n",
       "    <tr>\n",
       "      <th>1</th>\n",
       "      <td>2016.0</td>\n",
       "      <td>36203.0</td>\n",
       "      <td>20.0</td>\n",
       "      <td>64.2</td>\n",
       "      <td>2.0</td>\n",
       "      <td>0</td>\n",
       "      <td>0</td>\n",
       "      <td>0</td>\n",
       "      <td>1</td>\n",
       "      <td>1</td>\n",
       "      <td>0</td>\n",
       "      <td>1</td>\n",
       "      <td>0</td>\n",
       "    </tr>\n",
       "    <tr>\n",
       "      <th>2</th>\n",
       "      <td>2016.0</td>\n",
       "      <td>29946.0</td>\n",
       "      <td>30.0</td>\n",
       "      <td>55.4</td>\n",
       "      <td>1.4</td>\n",
       "      <td>1</td>\n",
       "      <td>0</td>\n",
       "      <td>0</td>\n",
       "      <td>0</td>\n",
       "      <td>0</td>\n",
       "      <td>1</td>\n",
       "      <td>0</td>\n",
       "      <td>1</td>\n",
       "    </tr>\n",
       "    <tr>\n",
       "      <th>3</th>\n",
       "      <td>2017.0</td>\n",
       "      <td>25952.0</td>\n",
       "      <td>145.0</td>\n",
       "      <td>67.3</td>\n",
       "      <td>2.0</td>\n",
       "      <td>0</td>\n",
       "      <td>0</td>\n",
       "      <td>1</td>\n",
       "      <td>0</td>\n",
       "      <td>1</td>\n",
       "      <td>0</td>\n",
       "      <td>1</td>\n",
       "      <td>0</td>\n",
       "    </tr>\n",
       "    <tr>\n",
       "      <th>4</th>\n",
       "      <td>2019.0</td>\n",
       "      <td>1998.0</td>\n",
       "      <td>145.0</td>\n",
       "      <td>49.6</td>\n",
       "      <td>1.0</td>\n",
       "      <td>0</td>\n",
       "      <td>1</td>\n",
       "      <td>0</td>\n",
       "      <td>0</td>\n",
       "      <td>0</td>\n",
       "      <td>1</td>\n",
       "      <td>0</td>\n",
       "      <td>1</td>\n",
       "    </tr>\n",
       "    <tr>\n",
       "      <th>5</th>\n",
       "      <td>2016.0</td>\n",
       "      <td>32260.0</td>\n",
       "      <td>30.0</td>\n",
       "      <td>58.9</td>\n",
       "      <td>1.4</td>\n",
       "      <td>1</td>\n",
       "      <td>0</td>\n",
       "      <td>0</td>\n",
       "      <td>0</td>\n",
       "      <td>1</td>\n",
       "      <td>0</td>\n",
       "      <td>0</td>\n",
       "      <td>1</td>\n",
       "    </tr>\n",
       "    <tr>\n",
       "      <th>6</th>\n",
       "      <td>2016.0</td>\n",
       "      <td>76788.0</td>\n",
       "      <td>30.0</td>\n",
       "      <td>61.4</td>\n",
       "      <td>2.0</td>\n",
       "      <td>0</td>\n",
       "      <td>0</td>\n",
       "      <td>0</td>\n",
       "      <td>1</td>\n",
       "      <td>1</td>\n",
       "      <td>0</td>\n",
       "      <td>1</td>\n",
       "      <td>0</td>\n",
       "    </tr>\n",
       "    <tr>\n",
       "      <th>7</th>\n",
       "      <td>2016.0</td>\n",
       "      <td>75185.0</td>\n",
       "      <td>20.0</td>\n",
       "      <td>70.6</td>\n",
       "      <td>2.0</td>\n",
       "      <td>0</td>\n",
       "      <td>0</td>\n",
       "      <td>1</td>\n",
       "      <td>0</td>\n",
       "      <td>0</td>\n",
       "      <td>1</td>\n",
       "      <td>1</td>\n",
       "      <td>0</td>\n",
       "    </tr>\n",
       "    <tr>\n",
       "      <th>8</th>\n",
       "      <td>2015.0</td>\n",
       "      <td>46112.0</td>\n",
       "      <td>20.0</td>\n",
       "      <td>60.1</td>\n",
       "      <td>1.4</td>\n",
       "      <td>0</td>\n",
       "      <td>1</td>\n",
       "      <td>0</td>\n",
       "      <td>0</td>\n",
       "      <td>0</td>\n",
       "      <td>1</td>\n",
       "      <td>0</td>\n",
       "      <td>1</td>\n",
       "    </tr>\n",
       "    <tr>\n",
       "      <th>9</th>\n",
       "      <td>2016.0</td>\n",
       "      <td>22451.0</td>\n",
       "      <td>30.0</td>\n",
       "      <td>55.4</td>\n",
       "      <td>1.4</td>\n",
       "      <td>1</td>\n",
       "      <td>0</td>\n",
       "      <td>0</td>\n",
       "      <td>0</td>\n",
       "      <td>0</td>\n",
       "      <td>1</td>\n",
       "      <td>0</td>\n",
       "      <td>1</td>\n",
       "    </tr>\n",
       "  </tbody>\n",
       "</table>\n",
       "</div>"
      ],
      "text/plain": [
       "     year  mileage    tax   mpg  engineSize  model_ A1  model_ A3  model_ A4  \\\n",
       "0  2017.0  15735.0  150.0  55.4         1.4          1          0          0   \n",
       "1  2016.0  36203.0   20.0  64.2         2.0          0          0          0   \n",
       "2  2016.0  29946.0   30.0  55.4         1.4          1          0          0   \n",
       "3  2017.0  25952.0  145.0  67.3         2.0          0          0          1   \n",
       "4  2019.0   1998.0  145.0  49.6         1.0          0          1          0   \n",
       "5  2016.0  32260.0   30.0  58.9         1.4          1          0          0   \n",
       "6  2016.0  76788.0   30.0  61.4         2.0          0          0          0   \n",
       "7  2016.0  75185.0   20.0  70.6         2.0          0          0          1   \n",
       "8  2015.0  46112.0   20.0  60.1         1.4          0          1          0   \n",
       "9  2016.0  22451.0   30.0  55.4         1.4          1          0          0   \n",
       "\n",
       "   model_ A6  transmission_Automatic  transmission_Manual  fuelType_Diesel  \\\n",
       "0          0                       0                    1                0   \n",
       "1          1                       1                    0                1   \n",
       "2          0                       0                    1                0   \n",
       "3          0                       1                    0                1   \n",
       "4          0                       0                    1                0   \n",
       "5          0                       1                    0                0   \n",
       "6          1                       1                    0                1   \n",
       "7          0                       0                    1                1   \n",
       "8          0                       0                    1                0   \n",
       "9          0                       0                    1                0   \n",
       "\n",
       "   fuelType_Petrol  \n",
       "0                1  \n",
       "1                0  \n",
       "2                1  \n",
       "3                0  \n",
       "4                1  \n",
       "5                1  \n",
       "6                0  \n",
       "7                0  \n",
       "8                1  \n",
       "9                1  "
      ]
     },
     "execution_count": 9,
     "metadata": {},
     "output_type": "execute_result"
    }
   ],
   "source": [
    "#Encoding categorical datasets\n",
    "le = preprocessing.LabelEncoder()\n",
    "A = Matrix_A.iloc[:10]\n",
    "num = A.select_dtypes('number').columns.to_list()\n",
    "cat = A.select_dtypes('object').columns.to_list()\n",
    "num_feature = A[num]\n",
    "cat_feature = A[cat]\n",
    "print('Num Feature',num_feature.columns)\n",
    "print('Cat Feature',cat_feature.columns)\n",
    "\n",
    "A['model'] = preprocessing.LabelEncoder().fit_transform(A['model'])\n",
    "A['transmission'] = A['transmission'].map({'Manual':0,'Automatic':1})\n",
    "A['fuelType'] = A['fuelType'].map({'Petrol':0,'Diesel':1})\n",
    "\n",
    "A = pd.concat([A, pd.get_dummies(data['model'], prefix='model')], axis=1)\n",
    "A = pd.concat([A, pd.get_dummies(data['transmission'], prefix='transmission')], axis=1)\n",
    "A = pd.concat([A, pd.get_dummies(data['fuelType'], prefix='fuelType')], axis=1)\n",
    "\n",
    "A = A.dropna()\n",
    "A = A.loc[:, A.any()]\n",
    "y = A['price']\n",
    "A = A.drop(columns = 'price')\n",
    "A = A.drop(columns = [\"model\", \"transmission\", \"fuelType\"])\n",
    "A"
   ]
  },
  {
   "cell_type": "code",
   "execution_count": 5,
   "metadata": {},
   "outputs": [
    {
     "data": {
      "text/plain": [
       "(10, 13)"
      ]
     },
     "execution_count": 5,
     "metadata": {},
     "output_type": "execute_result"
    }
   ],
   "source": [
    "A.shape"
   ]
  },
  {
   "cell_type": "code",
   "execution_count": 10,
   "metadata": {
    "colab": {
     "base_uri": "https://localhost:8080/"
    },
    "id": "cgWrmbfu2Qyh",
    "outputId": "bc78921d-97f0-433f-bc96-59e0204aa586"
   },
   "outputs": [
    {
     "data": {
      "text/plain": [
       "array([[ 2.01700000e+03,  1.57350000e+04,  1.50000000e+02,\n",
       "         5.54000000e+01,  1.40000000e+00,  1.00000000e+00,\n",
       "         1.62332818e-15,  3.19140385e-15, -4.29881307e-15,\n",
       "        -5.32295964e-15,  1.00000000e+00, -1.14076836e-15,\n",
       "         1.00000000e+00],\n",
       "       [ 2.01600000e+03,  3.62030000e+04,  2.00000000e+01,\n",
       "         6.42000000e+01,  2.00000000e+00, -6.48704969e-15,\n",
       "        -3.56023336e-15, -1.28395476e-15,  1.00000000e+00,\n",
       "         1.00000000e+00, -1.59632149e-14,  1.00000000e+00,\n",
       "        -9.60223189e-15],\n",
       "       [ 2.01600000e+03,  2.99460000e+04,  3.00000000e+01,\n",
       "         5.54000000e+01,  1.40000000e+00,  1.00000000e+00,\n",
       "         6.74139222e-16,  3.76616782e-15, -4.27959670e-15,\n",
       "        -4.52035037e-15,  1.00000000e+00, -3.83501691e-16,\n",
       "         1.00000000e+00],\n",
       "       [ 2.01700000e+03,  2.59520000e+04,  1.45000000e+02,\n",
       "         6.73000000e+01,  2.00000000e+00, -8.42194597e-15,\n",
       "        -2.63101704e-15,  1.00000000e+00,  1.42656018e-14,\n",
       "         1.00000000e+00, -2.03568970e-14,  1.00000000e+00,\n",
       "        -1.08325175e-14],\n",
       "       [ 2.01900000e+03,  1.99800000e+03,  1.45000000e+02,\n",
       "         4.96000000e+01,  1.00000000e+00,  1.09301572e-15,\n",
       "         1.00000000e+00,  5.97028131e-15, -9.57111127e-15,\n",
       "        -1.27825489e-14,  1.00000000e+00, -3.50819165e-15,\n",
       "         1.00000000e+00],\n",
       "       [ 2.01600000e+03,  3.22600000e+04,  3.00000000e+01,\n",
       "         5.89000000e+01,  1.40000000e+00,  1.00000000e+00,\n",
       "        -8.55462033e-16,  1.55348737e-15,  1.44655748e-15,\n",
       "         1.00000000e+00, -3.42118500e-15,  3.21037925e-15,\n",
       "         1.00000000e+00],\n",
       "       [ 2.01600000e+03,  7.67880000e+04,  3.00000000e+01,\n",
       "         6.14000000e+01,  2.00000000e+00,  4.52659819e-15,\n",
       "         3.38401218e-15,  1.82008839e-15,  1.00000000e+00,\n",
       "         1.00000000e+00,  1.63564408e-14,  1.00000000e+00,\n",
       "         9.10283779e-15],\n",
       "       [ 2.01600000e+03,  7.51850000e+04,  2.00000000e+01,\n",
       "         7.06000000e+01,  2.00000000e+00, -2.02193401e-15,\n",
       "        -8.56988485e-16,  1.00000000e+00,  6.55453931e-15,\n",
       "         8.01626370e-15,  1.00000000e+00,  1.00000000e+00,\n",
       "        -3.07455516e-15],\n",
       "       [ 2.01500000e+03,  4.61120000e+04,  2.00000000e+01,\n",
       "         6.01000000e+01,  1.40000000e+00, -7.95640108e-16,\n",
       "         1.00000000e+00,  1.68556513e-15, -2.44816706e-15,\n",
       "        -1.76222726e-15,  1.00000000e+00, -5.92099294e-16,\n",
       "         1.00000000e+00],\n",
       "       [ 2.01600000e+03,  2.24510000e+04,  3.00000000e+01,\n",
       "         5.54000000e+01,  1.40000000e+00,  1.00000000e+00,\n",
       "        -3.64951025e-16,  3.30867388e-15, -1.29801063e-15,\n",
       "        -2.24142889e-16,  1.00000000e+00,  2.15112917e-15,\n",
       "         1.00000000e+00]])"
      ]
     },
     "execution_count": 10,
     "metadata": {},
     "output_type": "execute_result"
    }
   ],
   "source": [
    "#SVD/PCA\n",
    "U, s, VT = svd(A)\n",
    "Sigma = np.zeros((A.shape[0], A.shape[1]))\n",
    "Sigma[:A.shape[0], :A.shape[0]] = np.diag(s)\n",
    "\n",
    "A_original = U.dot(Sigma.dot(VT))\n",
    "#A_orig = pd.DataFrame(A_original, columns = [\"model\", \"year\",\"transmission\", \"mileage\",\"fuelType\", \"tax\",\"mpg\",\"engineSize\"])\n",
    "A_original"
   ]
  },
  {
   "cell_type": "code",
   "execution_count": null,
   "metadata": {
    "colab": {
     "base_uri": "https://localhost:8080/",
     "height": 400
    },
    "id": "BvaKs8xp2cEW",
    "outputId": "44082342-2700-481c-dfcb-32226aece9f7"
   },
   "outputs": [
    {
     "data": {
      "text/html": [
       "<div>\n",
       "<style scoped>\n",
       "    .dataframe tbody tr th:only-of-type {\n",
       "        vertical-align: middle;\n",
       "    }\n",
       "\n",
       "    .dataframe tbody tr th {\n",
       "        vertical-align: top;\n",
       "    }\n",
       "\n",
       "    .dataframe thead th {\n",
       "        text-align: right;\n",
       "    }\n",
       "</style>\n",
       "<table border=\"1\" class=\"dataframe\">\n",
       "  <thead>\n",
       "    <tr style=\"text-align: right;\">\n",
       "      <th></th>\n",
       "      <th>year</th>\n",
       "      <th>mileage</th>\n",
       "      <th>tax</th>\n",
       "      <th>mpg</th>\n",
       "      <th>engineSize</th>\n",
       "      <th>model_ A1</th>\n",
       "      <th>model_ A3</th>\n",
       "      <th>model_ A4</th>\n",
       "      <th>model_ A6</th>\n",
       "      <th>transmission_Automatic</th>\n",
       "      <th>transmission_Manual</th>\n",
       "      <th>fuelType_Diesel</th>\n",
       "      <th>fuelType_Petrol</th>\n",
       "    </tr>\n",
       "  </thead>\n",
       "  <tbody>\n",
       "    <tr>\n",
       "      <th>0</th>\n",
       "      <td>2016.948275</td>\n",
       "      <td>15734.999502</td>\n",
       "      <td>149.939096</td>\n",
       "      <td>57.510845</td>\n",
       "      <td>1.482202</td>\n",
       "      <td>0.339440</td>\n",
       "      <td>0.305199</td>\n",
       "      <td>0.348864</td>\n",
       "      <td>0.006126</td>\n",
       "      <td>0.351081</td>\n",
       "      <td>0.648548</td>\n",
       "      <td>0.354990</td>\n",
       "      <td>0.644639</td>\n",
       "    </tr>\n",
       "    <tr>\n",
       "      <th>1</th>\n",
       "      <td>2016.134329</td>\n",
       "      <td>36203.001259</td>\n",
       "      <td>20.146050</td>\n",
       "      <td>58.764410</td>\n",
       "      <td>1.524540</td>\n",
       "      <td>0.577347</td>\n",
       "      <td>0.193651</td>\n",
       "      <td>0.003949</td>\n",
       "      <td>0.225191</td>\n",
       "      <td>0.359099</td>\n",
       "      <td>0.641039</td>\n",
       "      <td>0.229140</td>\n",
       "      <td>0.770998</td>\n",
       "    </tr>\n",
       "    <tr>\n",
       "      <th>2</th>\n",
       "      <td>2015.944979</td>\n",
       "      <td>29945.999493</td>\n",
       "      <td>29.941171</td>\n",
       "      <td>57.623794</td>\n",
       "      <td>1.458175</td>\n",
       "      <td>0.630475</td>\n",
       "      <td>0.222972</td>\n",
       "      <td>-0.029976</td>\n",
       "      <td>0.176487</td>\n",
       "      <td>0.327711</td>\n",
       "      <td>0.672247</td>\n",
       "      <td>0.146511</td>\n",
       "      <td>0.853447</td>\n",
       "    </tr>\n",
       "    <tr>\n",
       "      <th>3</th>\n",
       "      <td>2017.189843</td>\n",
       "      <td>25952.001729</td>\n",
       "      <td>145.200044</td>\n",
       "      <td>59.652828</td>\n",
       "      <td>1.610575</td>\n",
       "      <td>0.205144</td>\n",
       "      <td>0.259080</td>\n",
       "      <td>0.456817</td>\n",
       "      <td>0.078776</td>\n",
       "      <td>0.413222</td>\n",
       "      <td>0.586595</td>\n",
       "      <td>0.535593</td>\n",
       "      <td>0.464224</td>\n",
       "    </tr>\n",
       "    <tr>\n",
       "      <th>4</th>\n",
       "      <td>2018.880103</td>\n",
       "      <td>1997.998935</td>\n",
       "      <td>144.880263</td>\n",
       "      <td>54.401623</td>\n",
       "      <td>1.290374</td>\n",
       "      <td>0.569601</td>\n",
       "      <td>0.365801</td>\n",
       "      <td>0.149747</td>\n",
       "      <td>-0.084579</td>\n",
       "      <td>0.256586</td>\n",
       "      <td>0.743984</td>\n",
       "      <td>0.065168</td>\n",
       "      <td>0.935402</td>\n",
       "    </tr>\n",
       "    <tr>\n",
       "      <th>5</th>\n",
       "      <td>2016.019104</td>\n",
       "      <td>32260.000161</td>\n",
       "      <td>30.016966</td>\n",
       "      <td>58.138111</td>\n",
       "      <td>1.489305</td>\n",
       "      <td>0.595220</td>\n",
       "      <td>0.212711</td>\n",
       "      <td>-0.000168</td>\n",
       "      <td>0.192239</td>\n",
       "      <td>0.342898</td>\n",
       "      <td>0.657105</td>\n",
       "      <td>0.192071</td>\n",
       "      <td>0.807932</td>\n",
       "    </tr>\n",
       "    <tr>\n",
       "      <th>6</th>\n",
       "      <td>2015.836651</td>\n",
       "      <td>76787.998550</td>\n",
       "      <td>29.833053</td>\n",
       "      <td>67.953908</td>\n",
       "      <td>2.084613</td>\n",
       "      <td>-0.077206</td>\n",
       "      <td>0.014722</td>\n",
       "      <td>0.566201</td>\n",
       "      <td>0.496360</td>\n",
       "      <td>0.633467</td>\n",
       "      <td>0.366610</td>\n",
       "      <td>1.062561</td>\n",
       "      <td>-0.062484</td>\n",
       "    </tr>\n",
       "    <tr>\n",
       "      <th>7</th>\n",
       "      <td>2016.080802</td>\n",
       "      <td>75185.000709</td>\n",
       "      <td>20.082247</td>\n",
       "      <td>67.362718</td>\n",
       "      <td>2.045928</td>\n",
       "      <td>-0.011675</td>\n",
       "      <td>0.020355</td>\n",
       "      <td>0.500201</td>\n",
       "      <td>0.491374</td>\n",
       "      <td>0.613577</td>\n",
       "      <td>0.386678</td>\n",
       "      <td>0.991575</td>\n",
       "      <td>0.008680</td>\n",
       "    </tr>\n",
       "    <tr>\n",
       "      <th>8</th>\n",
       "      <td>2014.980022</td>\n",
       "      <td>46111.999793</td>\n",
       "      <td>19.976371</td>\n",
       "      <td>60.917773</td>\n",
       "      <td>1.656232</td>\n",
       "      <td>0.427584</td>\n",
       "      <td>0.149378</td>\n",
       "      <td>0.129689</td>\n",
       "      <td>0.292952</td>\n",
       "      <td>0.423579</td>\n",
       "      <td>0.576024</td>\n",
       "      <td>0.422641</td>\n",
       "      <td>0.576962</td>\n",
       "    </tr>\n",
       "    <tr>\n",
       "      <th>9</th>\n",
       "      <td>2015.985939</td>\n",
       "      <td>22450.999869</td>\n",
       "      <td>29.984779</td>\n",
       "      <td>55.972160</td>\n",
       "      <td>1.357999</td>\n",
       "      <td>0.743611</td>\n",
       "      <td>0.256302</td>\n",
       "      <td>-0.125252</td>\n",
       "      <td>0.125289</td>\n",
       "      <td>0.278815</td>\n",
       "      <td>0.721135</td>\n",
       "      <td>0.000037</td>\n",
       "      <td>0.999913</td>\n",
       "    </tr>\n",
       "  </tbody>\n",
       "</table>\n",
       "</div>"
      ],
      "text/plain": [
       "          year       mileage  ...  fuelType_Diesel  fuelType_Petrol\n",
       "0  2016.948275  15734.999502  ...         0.354990         0.644639\n",
       "1  2016.134329  36203.001259  ...         0.229140         0.770998\n",
       "2  2015.944979  29945.999493  ...         0.146511         0.853447\n",
       "3  2017.189843  25952.001729  ...         0.535593         0.464224\n",
       "4  2018.880103   1997.998935  ...         0.065168         0.935402\n",
       "5  2016.019104  32260.000161  ...         0.192071         0.807932\n",
       "6  2015.836651  76787.998550  ...         1.062561        -0.062484\n",
       "7  2016.080802  75185.000709  ...         0.991575         0.008680\n",
       "8  2014.980022  46111.999793  ...         0.422641         0.576962\n",
       "9  2015.985939  22450.999869  ...         0.000037         0.999913\n",
       "\n",
       "[10 rows x 13 columns]"
      ]
     },
     "execution_count": 108,
     "metadata": {},
     "output_type": "execute_result"
    }
   ],
   "source": [
    "\n",
    "T = U.dot(Sigma)\n",
    "T\n",
    "\n",
    "n_elements = 3\n",
    "Sigma = Sigma[:, :n_elements]\n",
    "VT = VT[:n_elements, :]\n",
    "\n",
    "A_original2 = U.dot(Sigma.dot(VT))\n",
    "A_orig2 = pd.DataFrame(A_original2, columns = [\"year\", \"mileage\",\"tax\", \"mpg\", \n",
    "                                               \"engineSize\",\"model_ A1\",\"model_ A3\",\n",
    "                                               \"model_ A4\",\"model_ A6\",\"transmission_Automatic\",\n",
    "                                               \"transmission_Manual\",\"fuelType_Diesel\",\"fuelType_Petrol\"])\n",
    "A_orig2"
   ]
  },
  {
   "cell_type": "code",
   "execution_count": null,
   "metadata": {
    "colab": {
     "base_uri": "https://localhost:8080/",
     "height": 300
    },
    "id": "c4TTASi53ilq",
    "outputId": "77fbf104-0e2c-46e7-9548-801ce38132a1"
   },
   "outputs": [
    {
     "name": "stdout",
     "output_type": "stream",
     "text": [
      "[9.99996429e-01 3.53425471e-06 3.43716003e-08]\n"
     ]
    },
    {
     "data": {
      "image/png": "[encoded data removed]",
      "text/plain": [
       "<Figure size 432x288 with 1 Axes>"
      ]
     },
     "metadata": {
      "needs_background": "light"
     },
     "output_type": "display_data"
    },
    {
     "name": "stdout",
     "output_type": "stream",
     "text": [
      "PCA(n_components=3)\n"
     ]
    }
   ],
   "source": [
    "#PCA\n",
    "\n",
    "pca = PCA(n_components=3)\n",
    "pc = pca.fit_transform(A)\n",
    "print(pca.explained_variance_ratio_)\n",
    "ddd = pca.fit(A)\n",
    "\n",
    "correlations = A.corr(method = 'pearson')\n",
    "correlations\n",
    "\n",
    "fig, ax = plt.subplots()\n",
    "plt.scatter(A['fuelType_Diesel'], A['engineSize'])\n",
    "plt.scatter(pc[:, 0], pc[:, 1])\n",
    "plt.show()"
   ]
  },
  {
   "cell_type": "code",
   "execution_count": 11,
   "metadata": {
    "colab": {
     "base_uri": "https://localhost:8080/"
    },
    "id": "Mf8sqLBu4Bbd",
    "outputId": "3d3b9722-c90c-49b3-bfc2-3d934237147c"
   },
   "outputs": [
    {
     "name": "stdout",
     "output_type": "stream",
     "text": [
      "Num Feature Index(['year', 'price', 'mileage', 'tax', 'mpg', 'engineSize'], dtype='object')\n",
      "Cat Feature Index(['model', 'transmission', 'fuelType'], dtype='object')\n"
     ]
    }
   ],
   "source": [
    "#Encoding categorical datasets\n",
    "le = preprocessing.LabelEncoder()\n",
    "Aa = data\n",
    "num = Aa.select_dtypes('number').columns.to_list()\n",
    "cat = Aa.select_dtypes('object').columns.to_list()\n",
    "num_feature = Aa[num]\n",
    "cat_feature = Aa[cat]\n",
    "print('Num Feature',num_feature.columns)\n",
    "print('Cat Feature',cat_feature.columns)\n",
    "\n",
    "Aa['model'] = preprocessing.LabelEncoder().fit_transform(Aa['model'])\n",
    "Aa['transmission'] = Aa['transmission'].map({'Manual':0,'Automatic':1, 'Semi-Auto':2})\n",
    "Aa['fuelType'] = Aa['fuelType'].map({'Petrol':0,'Diesel':1, 'Hybrid':2})\n",
    "\n",
    "Aa = pd.concat([Aa, pd.get_dummies(data['model'], prefix='model')], axis=1)\n",
    "Aa = pd.concat([Aa, pd.get_dummies(data['transmission'], prefix='transmission')], axis=1)\n",
    "Aa = pd.concat([Aa, pd.get_dummies(data['fuelType'], prefix='fuelType')], axis=1)\n",
    "\n",
    "Aa = Aa.dropna()\n",
    "Aa = Aa.loc[:, Aa.any()]\n",
    "Aa = Aa.drop(columns = [\"model\", \"transmission\", \"fuelType\"])\n",
    "\n",
    "y = Aa['price']\n",
    "Aa = Aa.drop(columns = 'price')"
   ]
  },
  {
   "cell_type": "code",
   "execution_count": 12,
   "metadata": {
    "colab": {
     "base_uri": "https://localhost:8080/"
    },
    "id": "zKGEcFMkJ6mE",
    "outputId": "6772f7d6-bc74-4615-eaaa-3f14685b1eea"
   },
   "outputs": [
    {
     "name": "stdout",
     "output_type": "stream",
     "text": [
      "[9.99991797e-01 8.04339239e-06 1.52858376e-07]\n",
      "0.4754501756783591\n"
     ]
    }
   ],
   "source": [
    "Aa\n",
    "pca = PCA(n_components=3)\n",
    "pc = pca.fit_transform(Aa)\n",
    "print(pca.explained_variance_ratio_)\n",
    "\n",
    "X = pc\n",
    "\n",
    "from sklearn.linear_model import LinearRegression\n",
    "from sklearn.model_selection import train_test_split\n",
    "X_train, X_test, y_train, y_test = train_test_split(X, y, test_size = 0.2)\n",
    "\n",
    "regr = LinearRegression()\n",
    "  \n",
    "regr.fit(X_train, y_train)\n",
    "print(regr.score(X_test, y_test))"
   ]
  },
  {
   "cell_type": "code",
   "execution_count": 13,
   "metadata": {
    "colab": {
     "base_uri": "https://localhost:8080/",
     "height": 444
    },
    "id": "b5j2FhiPRnXh",
    "outputId": "cf93f265-8b17-4ab9-c8d6-10b30e635602"
   },
   "outputs": [
    {
     "data": {
      "text/html": [
       "<div>\n",
       "<style scoped>\n",
       "    .dataframe tbody tr th:only-of-type {\n",
       "        vertical-align: middle;\n",
       "    }\n",
       "\n",
       "    .dataframe tbody tr th {\n",
       "        vertical-align: top;\n",
       "    }\n",
       "\n",
       "    .dataframe thead th {\n",
       "        text-align: right;\n",
       "    }\n",
       "</style>\n",
       "<table border=\"1\" class=\"dataframe\">\n",
       "  <thead>\n",
       "    <tr style=\"text-align: right;\">\n",
       "      <th></th>\n",
       "      <th>year</th>\n",
       "      <th>mileage</th>\n",
       "      <th>tax</th>\n",
       "      <th>mpg</th>\n",
       "      <th>engineSize</th>\n",
       "      <th>model_0</th>\n",
       "      <th>model_1</th>\n",
       "      <th>model_2</th>\n",
       "      <th>model_3</th>\n",
       "      <th>model_4</th>\n",
       "      <th>...</th>\n",
       "      <th>model_22</th>\n",
       "      <th>model_23</th>\n",
       "      <th>model_24</th>\n",
       "      <th>model_25</th>\n",
       "      <th>transmission_0</th>\n",
       "      <th>transmission_1</th>\n",
       "      <th>transmission_2</th>\n",
       "      <th>fuelType_0</th>\n",
       "      <th>fuelType_1</th>\n",
       "      <th>fuelType_2</th>\n",
       "    </tr>\n",
       "  </thead>\n",
       "  <tbody>\n",
       "    <tr>\n",
       "      <th>0</th>\n",
       "      <td>2017</td>\n",
       "      <td>15735</td>\n",
       "      <td>150</td>\n",
       "      <td>55.4</td>\n",
       "      <td>1.4</td>\n",
       "      <td>1</td>\n",
       "      <td>0</td>\n",
       "      <td>0</td>\n",
       "      <td>0</td>\n",
       "      <td>0</td>\n",
       "      <td>...</td>\n",
       "      <td>0</td>\n",
       "      <td>0</td>\n",
       "      <td>0</td>\n",
       "      <td>0</td>\n",
       "      <td>1</td>\n",
       "      <td>0</td>\n",
       "      <td>0</td>\n",
       "      <td>1</td>\n",
       "      <td>0</td>\n",
       "      <td>0</td>\n",
       "    </tr>\n",
       "    <tr>\n",
       "      <th>1</th>\n",
       "      <td>2016</td>\n",
       "      <td>36203</td>\n",
       "      <td>20</td>\n",
       "      <td>64.2</td>\n",
       "      <td>2.0</td>\n",
       "      <td>0</td>\n",
       "      <td>0</td>\n",
       "      <td>0</td>\n",
       "      <td>0</td>\n",
       "      <td>0</td>\n",
       "      <td>...</td>\n",
       "      <td>0</td>\n",
       "      <td>0</td>\n",
       "      <td>0</td>\n",
       "      <td>0</td>\n",
       "      <td>0</td>\n",
       "      <td>1</td>\n",
       "      <td>0</td>\n",
       "      <td>0</td>\n",
       "      <td>1</td>\n",
       "      <td>0</td>\n",
       "    </tr>\n",
       "    <tr>\n",
       "      <th>2</th>\n",
       "      <td>2016</td>\n",
       "      <td>29946</td>\n",
       "      <td>30</td>\n",
       "      <td>55.4</td>\n",
       "      <td>1.4</td>\n",
       "      <td>1</td>\n",
       "      <td>0</td>\n",
       "      <td>0</td>\n",
       "      <td>0</td>\n",
       "      <td>0</td>\n",
       "      <td>...</td>\n",
       "      <td>0</td>\n",
       "      <td>0</td>\n",
       "      <td>0</td>\n",
       "      <td>0</td>\n",
       "      <td>1</td>\n",
       "      <td>0</td>\n",
       "      <td>0</td>\n",
       "      <td>1</td>\n",
       "      <td>0</td>\n",
       "      <td>0</td>\n",
       "    </tr>\n",
       "    <tr>\n",
       "      <th>3</th>\n",
       "      <td>2017</td>\n",
       "      <td>25952</td>\n",
       "      <td>145</td>\n",
       "      <td>67.3</td>\n",
       "      <td>2.0</td>\n",
       "      <td>0</td>\n",
       "      <td>0</td>\n",
       "      <td>0</td>\n",
       "      <td>1</td>\n",
       "      <td>0</td>\n",
       "      <td>...</td>\n",
       "      <td>0</td>\n",
       "      <td>0</td>\n",
       "      <td>0</td>\n",
       "      <td>0</td>\n",
       "      <td>0</td>\n",
       "      <td>1</td>\n",
       "      <td>0</td>\n",
       "      <td>0</td>\n",
       "      <td>1</td>\n",
       "      <td>0</td>\n",
       "    </tr>\n",
       "    <tr>\n",
       "      <th>4</th>\n",
       "      <td>2019</td>\n",
       "      <td>1998</td>\n",
       "      <td>145</td>\n",
       "      <td>49.6</td>\n",
       "      <td>1.0</td>\n",
       "      <td>0</td>\n",
       "      <td>0</td>\n",
       "      <td>1</td>\n",
       "      <td>0</td>\n",
       "      <td>0</td>\n",
       "      <td>...</td>\n",
       "      <td>0</td>\n",
       "      <td>0</td>\n",
       "      <td>0</td>\n",
       "      <td>0</td>\n",
       "      <td>1</td>\n",
       "      <td>0</td>\n",
       "      <td>0</td>\n",
       "      <td>1</td>\n",
       "      <td>0</td>\n",
       "      <td>0</td>\n",
       "    </tr>\n",
       "    <tr>\n",
       "      <th>...</th>\n",
       "      <td>...</td>\n",
       "      <td>...</td>\n",
       "      <td>...</td>\n",
       "      <td>...</td>\n",
       "      <td>...</td>\n",
       "      <td>...</td>\n",
       "      <td>...</td>\n",
       "      <td>...</td>\n",
       "      <td>...</td>\n",
       "      <td>...</td>\n",
       "      <td>...</td>\n",
       "      <td>...</td>\n",
       "      <td>...</td>\n",
       "      <td>...</td>\n",
       "      <td>...</td>\n",
       "      <td>...</td>\n",
       "      <td>...</td>\n",
       "      <td>...</td>\n",
       "      <td>...</td>\n",
       "      <td>...</td>\n",
       "      <td>...</td>\n",
       "    </tr>\n",
       "    <tr>\n",
       "      <th>10663</th>\n",
       "      <td>2020</td>\n",
       "      <td>4018</td>\n",
       "      <td>145</td>\n",
       "      <td>49.6</td>\n",
       "      <td>1.0</td>\n",
       "      <td>0</td>\n",
       "      <td>0</td>\n",
       "      <td>1</td>\n",
       "      <td>0</td>\n",
       "      <td>0</td>\n",
       "      <td>...</td>\n",
       "      <td>0</td>\n",
       "      <td>0</td>\n",
       "      <td>0</td>\n",
       "      <td>0</td>\n",
       "      <td>1</td>\n",
       "      <td>0</td>\n",
       "      <td>0</td>\n",
       "      <td>1</td>\n",
       "      <td>0</td>\n",
       "      <td>0</td>\n",
       "    </tr>\n",
       "    <tr>\n",
       "      <th>10664</th>\n",
       "      <td>2020</td>\n",
       "      <td>1978</td>\n",
       "      <td>150</td>\n",
       "      <td>49.6</td>\n",
       "      <td>1.0</td>\n",
       "      <td>0</td>\n",
       "      <td>0</td>\n",
       "      <td>1</td>\n",
       "      <td>0</td>\n",
       "      <td>0</td>\n",
       "      <td>...</td>\n",
       "      <td>0</td>\n",
       "      <td>0</td>\n",
       "      <td>0</td>\n",
       "      <td>0</td>\n",
       "      <td>1</td>\n",
       "      <td>0</td>\n",
       "      <td>0</td>\n",
       "      <td>1</td>\n",
       "      <td>0</td>\n",
       "      <td>0</td>\n",
       "    </tr>\n",
       "    <tr>\n",
       "      <th>10665</th>\n",
       "      <td>2020</td>\n",
       "      <td>609</td>\n",
       "      <td>150</td>\n",
       "      <td>49.6</td>\n",
       "      <td>1.0</td>\n",
       "      <td>0</td>\n",
       "      <td>0</td>\n",
       "      <td>1</td>\n",
       "      <td>0</td>\n",
       "      <td>0</td>\n",
       "      <td>...</td>\n",
       "      <td>0</td>\n",
       "      <td>0</td>\n",
       "      <td>0</td>\n",
       "      <td>0</td>\n",
       "      <td>1</td>\n",
       "      <td>0</td>\n",
       "      <td>0</td>\n",
       "      <td>1</td>\n",
       "      <td>0</td>\n",
       "      <td>0</td>\n",
       "    </tr>\n",
       "    <tr>\n",
       "      <th>10666</th>\n",
       "      <td>2017</td>\n",
       "      <td>8646</td>\n",
       "      <td>150</td>\n",
       "      <td>47.9</td>\n",
       "      <td>1.4</td>\n",
       "      <td>0</td>\n",
       "      <td>0</td>\n",
       "      <td>0</td>\n",
       "      <td>0</td>\n",
       "      <td>0</td>\n",
       "      <td>...</td>\n",
       "      <td>0</td>\n",
       "      <td>0</td>\n",
       "      <td>0</td>\n",
       "      <td>0</td>\n",
       "      <td>0</td>\n",
       "      <td>1</td>\n",
       "      <td>0</td>\n",
       "      <td>1</td>\n",
       "      <td>0</td>\n",
       "      <td>0</td>\n",
       "    </tr>\n",
       "    <tr>\n",
       "      <th>10667</th>\n",
       "      <td>2016</td>\n",
       "      <td>11855</td>\n",
       "      <td>150</td>\n",
       "      <td>47.9</td>\n",
       "      <td>1.4</td>\n",
       "      <td>0</td>\n",
       "      <td>0</td>\n",
       "      <td>0</td>\n",
       "      <td>0</td>\n",
       "      <td>0</td>\n",
       "      <td>...</td>\n",
       "      <td>0</td>\n",
       "      <td>0</td>\n",
       "      <td>0</td>\n",
       "      <td>0</td>\n",
       "      <td>1</td>\n",
       "      <td>0</td>\n",
       "      <td>0</td>\n",
       "      <td>1</td>\n",
       "      <td>0</td>\n",
       "      <td>0</td>\n",
       "    </tr>\n",
       "  </tbody>\n",
       "</table>\n",
       "<p>10668 rows × 37 columns</p>\n",
       "</div>"
      ],
      "text/plain": [
       "       year  mileage  tax   mpg  engineSize  model_0  model_1  model_2  \\\n",
       "0      2017    15735  150  55.4         1.4        1        0        0   \n",
       "1      2016    36203   20  64.2         2.0        0        0        0   \n",
       "2      2016    29946   30  55.4         1.4        1        0        0   \n",
       "3      2017    25952  145  67.3         2.0        0        0        0   \n",
       "4      2019     1998  145  49.6         1.0        0        0        1   \n",
       "...     ...      ...  ...   ...         ...      ...      ...      ...   \n",
       "10663  2020     4018  145  49.6         1.0        0        0        1   \n",
       "10664  2020     1978  150  49.6         1.0        0        0        1   \n",
       "10665  2020      609  150  49.6         1.0        0        0        1   \n",
       "10666  2017     8646  150  47.9         1.4        0        0        0   \n",
       "10667  2016    11855  150  47.9         1.4        0        0        0   \n",
       "\n",
       "       model_3  model_4  ...  model_22  model_23  model_24  model_25  \\\n",
       "0            0        0  ...         0         0         0         0   \n",
       "1            0        0  ...         0         0         0         0   \n",
       "2            0        0  ...         0         0         0         0   \n",
       "3            1        0  ...         0         0         0         0   \n",
       "4            0        0  ...         0         0         0         0   \n",
       "...        ...      ...  ...       ...       ...       ...       ...   \n",
       "10663        0        0  ...         0         0         0         0   \n",
       "10664        0        0  ...         0         0         0         0   \n",
       "10665        0        0  ...         0         0         0         0   \n",
       "10666        0        0  ...         0         0         0         0   \n",
       "10667        0        0  ...         0         0         0         0   \n",
       "\n",
       "       transmission_0  transmission_1  transmission_2  fuelType_0  fuelType_1  \\\n",
       "0                   1               0               0           1           0   \n",
       "1                   0               1               0           0           1   \n",
       "2                   1               0               0           1           0   \n",
       "3                   0               1               0           0           1   \n",
       "4                   1               0               0           1           0   \n",
       "...               ...             ...             ...         ...         ...   \n",
       "10663               1               0               0           1           0   \n",
       "10664               1               0               0           1           0   \n",
       "10665               1               0               0           1           0   \n",
       "10666               0               1               0           1           0   \n",
       "10667               1               0               0           1           0   \n",
       "\n",
       "       fuelType_2  \n",
       "0               0  \n",
       "1               0  \n",
       "2               0  \n",
       "3               0  \n",
       "4               0  \n",
       "...           ...  \n",
       "10663           0  \n",
       "10664           0  \n",
       "10665           0  \n",
       "10666           0  \n",
       "10667           0  \n",
       "\n",
       "[10668 rows x 37 columns]"
      ]
     },
     "execution_count": 13,
     "metadata": {},
     "output_type": "execute_result"
    }
   ],
   "source": [
    "U, s, VT = svd(Aa)\n",
    "Sigma = np.zeros((Aa.shape[0], Aa.shape[1]))\n",
    "Sigma[:Aa.shape[1], :Aa.shape[1]] = np.diag(s)\n",
    "\n",
    "n_elements = 3\n",
    "Sigma = Sigma[:, :n_elements]\n",
    "VT = VT[:n_elements, :]\n",
    "T = U.dot(Sigma)\n",
    "\n",
    "Aa"
   ]
  },
  {
   "cell_type": "code",
   "execution_count": null,
   "metadata": {
    "colab": {
     "base_uri": "https://localhost:8080/"
    },
    "id": "rXzdhYbDRntZ",
    "outputId": "457f9be6-8f3e-47f2-ff6d-d5e61970a2d7"
   },
   "outputs": [
    {
     "name": "stdout",
     "output_type": "stream",
     "text": [
      "0.42556461232243337\n"
     ]
    }
   ],
   "source": [
    "X_train, X_test, y_train, y_test = train_test_split(T, y, test_size = 0.2)\n",
    "\n",
    "regr = LinearRegression()\n",
    "  \n",
    "regr.fit(X_train, y_train)\n",
    "print(regr.score(X_test, y_test))"
   ]
  },
  {
   "cell_type": "markdown",
   "metadata": {
    "id": "G7LecHrg4SNx"
   },
   "source": [
    "# 1f"
   ]
  },
  {
   "cell_type": "code",
   "execution_count": 19,
   "metadata": {
    "id": "GquQ505IX0_t",
    "scrolled": true
   },
   "outputs": [
    {
     "name": "stdout",
     "output_type": "stream",
     "text": [
      "[[' A1' 2017 'Manual' ... 150 55.4 1.4]\n",
      " [' A6' 2016 'Automatic' ... 20 64.2 2.0]\n",
      " [' A1' 2016 'Manual' ... 30 55.4 1.4]\n",
      " ...\n",
      " [' A3' 2020 'Manual' ... 150 49.6 1.0]\n",
      " [' Q3' 2017 'Automatic' ... 150 47.9 1.4]\n",
      " [' Q3' 2016 'Manual' ... 150 47.9 1.4]]\n"
     ]
    }
   ],
   "source": [
    "X = data.iloc[:,[0,1,3,4,5,6,7,8]].values\n",
    "Y = data.iloc[:,[2]].values\n",
    "print(X)"
   ]
  },
  {
   "cell_type": "code",
   "execution_count": 21,
   "metadata": {},
   "outputs": [],
   "source": [
    "from sklearn.preprocessing import LabelEncoder\n",
    "le1 = LabelEncoder()\n",
    "X[:,0] = le1.fit_transform(X[:,0])\n",
    "le2 = LabelEncoder()\n",
    "X[:,2] = le2.fit_transform(X[:,2])\n",
    "le2 = LabelEncoder()\n",
    "X[:,4] = le1.fit_transform(X[:,4])\n",
    "le3 = LabelEncoder()"
   ]
  },
  {
   "cell_type": "code",
   "execution_count": 22,
   "metadata": {},
   "outputs": [
    {
     "name": "stdout",
     "output_type": "stream",
     "text": [
      "[[0 2017 1 ... 150 55.4 1.4]\n",
      " [5 2016 0 ... 20 64.2 2.0]\n",
      " [0 2016 1 ... 30 55.4 1.4]\n",
      " ...\n",
      " [2 2020 1 ... 150 49.6 1.0]\n",
      " [9 2017 0 ... 150 47.9 1.4]\n",
      " [9 2016 1 ... 150 47.9 1.4]]\n"
     ]
    }
   ],
   "source": [
    "from sklearn.preprocessing import OneHotEncoder\n",
    "from sklearn.compose import ColumnTransformer\n",
    "\n",
    "ct = ColumnTransformer(transformers =[('encoder',OneHotEncoder(),[])], remainder = 'passthrough')\n",
    "X = ct.fit_transform(X)\n",
    "print(X)"
   ]
  },
  {
   "cell_type": "code",
   "execution_count": 23,
   "metadata": {},
   "outputs": [],
   "source": [
    "# Importing standardscalar module\n",
    "from sklearn.preprocessing import StandardScaler\n",
    "from sklearn.decomposition import PCA\n",
    "scalar = StandardScaler()\n",
    " \n",
    "# fitting\n",
    "scalar.fit(X)\n",
    "scaled_data = scalar.transform(X)"
   ]
  },
  {
   "cell_type": "code",
   "execution_count": 24,
   "metadata": {},
   "outputs": [],
   "source": [
    "# Importing PCA\n",
    "from sklearn.decomposition import PCA\n",
    " \n",
    "# components = 2\n",
    "pca = PCA(n_components = 2)\n",
    "pca.fit(scaled_data)\n",
    "x_pca = pca.transform(scaled_data)"
   ]
  },
  {
   "cell_type": "code",
   "execution_count": 25,
   "metadata": {},
   "outputs": [],
   "source": [
    "from sklearn.model_selection import train_test_split\n",
    "\n",
    "X_train, X_test, Y_train,  Y_test = train_test_split(X, Y, test_size = 0.3, random_state = 2)"
   ]
  },
  {
   "cell_type": "code",
   "execution_count": 26,
   "metadata": {},
   "outputs": [
    {
     "name": "stderr",
     "output_type": "stream",
     "text": [
      "C:\\Users\\myneee101\\AppData\\Local\\Temp/ipykernel_12728/846190753.py:3: DataConversionWarning: A column-vector y was passed when a 1d array was expected. Please change the shape of y to (n_samples,), for example using ravel().\n",
      "  regression.fit(X_train,Y_train)\n"
     ]
    },
    {
     "name": "stdout",
     "output_type": "stream",
     "text": [
      "[31800.83   21295.04   19838.72   ... 23269.2685 25886.11   19585.09  ]\n",
      "[[33888]\n",
      " [20000]\n",
      " [18000]\n",
      " ...\n",
      " [24443]\n",
      " [33410]\n",
      " [20890]]\n",
      "[[31800.83   33888.    ]\n",
      " [21295.04   20000.    ]\n",
      " [19838.72   18000.    ]\n",
      " ...\n",
      " [23269.2685 24443.    ]\n",
      " [25886.11   33410.    ]\n",
      " [19585.09   20890.    ]]\n"
     ]
    }
   ],
   "source": [
    "from sklearn.ensemble import RandomForestRegressor\n",
    "regression = RandomForestRegressor(random_state=0)\n",
    "regression.fit(X_train,Y_train)\n",
    "y_pred = regression.predict(X_test)\n",
    "\n",
    "print(y_pred)\n",
    "print(Y_test)\n",
    "print(np.concatenate((y_pred.reshape(len(y_pred),1),Y_test.reshape(len(Y_test),1)),1))"
   ]
  },
  {
   "cell_type": "code",
   "execution_count": 27,
   "metadata": {},
   "outputs": [
    {
     "name": "stdout",
     "output_type": "stream",
     "text": [
      "R2 score: 0.9570761974561195\n"
     ]
    }
   ],
   "source": [
    "from sklearn import metrics\n",
    "error_score = metrics.r2_score(Y_test, y_pred)\n",
    "print(\"R2 score:\", error_score)"
   ]
  },
  {
   "cell_type": "code",
   "execution_count": 28,
   "metadata": {
    "scrolled": true
   },
   "outputs": [
    {
     "name": "stdout",
     "output_type": "stream",
     "text": [
      "      Predicted value  Actual value\n",
      "0          31800.8300       33888.0\n",
      "1          21295.0400       20000.0\n",
      "2          19838.7200       18000.0\n",
      "3          27578.7000       27444.0\n",
      "4          13960.2100       14490.0\n",
      "...               ...           ...\n",
      "3196       25027.8600       24000.0\n",
      "3197       18973.3600       18990.0\n",
      "3198       23269.2685       24443.0\n",
      "3199       25886.1100       33410.0\n",
      "3200       19585.0900       20890.0\n",
      "\n",
      "[3201 rows x 2 columns]\n"
     ]
    }
   ],
   "source": [
    "mydata = (np.concatenate((y_pred.reshape(len(y_pred),1),Y_test.reshape(len(Y_test),1)),1))\n",
    "dataframe = pd.DataFrame(mydata,columns=['Predicted value','Actual value'])\n",
    "print(dataframe)"
   ]
  },
  {
   "cell_type": "code",
   "execution_count": 34,
   "metadata": {},
   "outputs": [
    {
     "name": "stdout",
     "output_type": "stream",
     "text": [
      "[[-1.12354352 -0.04644979 -0.10834719 ...  0.35714729  0.35755001\n",
      "  -0.87875347]\n",
      " [-0.16083109 -0.50783377 -1.41734817 ... -1.57832278  1.03713001\n",
      "   0.1154358 ]\n",
      " [-1.12354352 -0.50783377 -0.10834719 ... -1.42944047  0.35755001\n",
      "  -0.87875347]\n",
      " ...\n",
      " [-0.73845855  1.33770214 -0.10834719 ...  0.35714729 -0.09035499\n",
      "  -1.54154632]\n",
      " [ 0.60933885 -0.04644979 -1.41734817 ...  0.35714729 -0.22163749\n",
      "  -0.87875347]\n",
      " [ 0.60933885 -0.50783377 -0.10834719 ...  0.35714729 -0.22163749\n",
      "  -0.87875347]]\n"
     ]
    }
   ],
   "source": [
    "from sklearn.preprocessing import StandardScaler\n",
    "from numpy import zeros\n",
    "\n",
    "sc = StandardScaler()\n",
    "X = sc.fit_transform(X)\n",
    "print(X)"
   ]
  },
  {
   "cell_type": "markdown",
   "metadata": {},
   "source": [
    "# SVD"
   ]
  },
  {
   "cell_type": "code",
   "execution_count": 37,
   "metadata": {},
   "outputs": [],
   "source": [
    "#U, s, VT = svd(X)\n",
    "# Singular-value decomposition\n",
    "U, s, VT = svd(X)\n",
    "# create m x n Sigma matrix\n",
    "Sigma = zeros((X.shape[0], X.shape[1]))\n",
    "# populate Sigma with n x n diagonal matrix\n",
    "Sigma[:X.shape[1], :X.shape[1]] = diag(s)\n",
    "# select\n",
    "n_elements = 3\n",
    "Sigma = Sigma[:, :n_elements]\n",
    "VT = VT[:n_elements, :]\n",
    "# reconstruct matrix\n",
    "B = U.dot(Sigma.dot(VT))\n",
    "X = B;"
   ]
  },
  {
   "cell_type": "code",
   "execution_count": 41,
   "metadata": {},
   "outputs": [
    {
     "name": "stderr",
     "output_type": "stream",
     "text": [
      "C:\\Users\\myneee101\\AppData\\Local\\Temp/ipykernel_12728/4119068169.py:6: DataConversionWarning: A column-vector y was passed when a 1d array was expected. Please change the shape of y to (n_samples,), for example using ravel().\n",
      "  regression.fit(X_train,Y_train)\n"
     ]
    }
   ],
   "source": [
    "from sklearn.model_selection import train_test_split\n",
    "X_train, X_test, Y_train,  Y_test = train_test_split(X, Y, test_size = 0.3, random_state = 2)\n",
    "\n",
    "from sklearn.ensemble import RandomForestRegressor\n",
    "regression = RandomForestRegressor(random_state=0)\n",
    "regression.fit(X_train,Y_train)\n",
    "\n",
    "y_pred = regression.predict(X_test)\n",
    "#print(y_pred)\n",
    "\n",
    "#print(Y_test)\n",
    "\n",
    "#print(np.concatenate((y_pred.reshape(len(y_pred),1),Y_test.reshape(len(Y_test),1)),1))"
   ]
  },
  {
   "cell_type": "code",
   "execution_count": 42,
   "metadata": {},
   "outputs": [
    {
     "name": "stdout",
     "output_type": "stream",
     "text": [
      "R2 score: 0.9358828692364838\n"
     ]
    }
   ],
   "source": [
    "from sklearn import metrics\n",
    "error_score = metrics.r2_score(Y_test, y_pred)\n",
    "print(\"R2 score:\", error_score)"
   ]
  },
  {
   "cell_type": "code",
   "execution_count": 43,
   "metadata": {},
   "outputs": [],
   "source": [
    "#mydata = (np.concatenate((y_pred.reshape(len(y_pred),1),Y_test.reshape(len(Y_test),1)),1))\n",
    "#dataframe = pd.DataFrame(mydata,columns=['Predicted value','Actual value'])\n",
    "#print(dataframe)"
   ]
  },
  {
   "cell_type": "code",
   "execution_count": null,
   "metadata": {},
   "outputs": [],
   "source": []
  },
  {
   "cell_type": "code",
   "execution_count": null,
   "metadata": {},
   "outputs": [],
   "source": []
  },
  {
   "cell_type": "code",
   "execution_count": null,
   "metadata": {
    "id": "KdjzQpK0X1Rb"
   },
   "outputs": [],
   "source": [
    "#Question 2\n",
    "\n",
    "#Imports\n",
    "import numpy as np\n",
    "import pandas as pd\n",
    "import matplotlib.pyplot as plt\n",
    "from sklearn import *\n",
    "\n",
    "#File Upload\n",
    "data = pd.read_csv(\"/audi.csv\")"
   ]
  },
  {
   "cell_type": "code",
   "execution_count": null,
   "metadata": {
    "colab": {
     "base_uri": "https://localhost:8080/"
    },
    "id": "ZMVjjLhBX1hb",
    "outputId": "cf4ba23c-c5c7-4e58-bc6d-317b7cc82cfe"
   },
   "outputs": [
    {
     "name": "stdout",
     "output_type": "stream",
     "text": [
      "engineSize      262\n",
      "fuelType          0\n",
      "mileage         147\n",
      "model             0\n",
      "mpg              33\n",
      "price           136\n",
      "tax              46\n",
      "transmission      0\n",
      "year            123\n",
      "dtype: int64\n"
     ]
    }
   ],
   "source": [
    "lower, upper = np.mean(data) - 3*np.std(data), np.mean(data) + 3*np.std(data)\n",
    "mask = (data < lower) | (data > upper)\n",
    "outlier = mask.sum(axis = 0)\n",
    "print(outlier)\n",
    "data[mask] = np.nan\n",
    "data.dropna(inplace = True)\n"
   ]
  },
  {
   "cell_type": "code",
   "execution_count": null,
   "metadata": {
    "colab": {
     "base_uri": "https://localhost:8080/"
    },
    "id": "H9RsjzQkYCDx",
    "outputId": "ae2169ef-aff2-4ad0-c6d3-7ee07715704e"
   },
   "outputs": [
    {
     "name": "stdout",
     "output_type": "stream",
     "text": [
      "Num Feature Index(['year', 'price', 'mileage', 'tax', 'mpg', 'engineSize'], dtype='object')\n",
      "Cat Feature Index(['model', 'transmission', 'fuelType'], dtype='object')\n"
     ]
    }
   ],
   "source": [
    "num = data.select_dtypes('number').columns.to_list()\n",
    "cat = data.select_dtypes('object').columns.to_list()\n",
    "\n",
    "num_feature = data[num]\n",
    "cat_feature = data[cat]\n",
    "\n",
    "print('Num Feature',num_feature.columns)\n",
    "print('Cat Feature',cat_feature.columns)\n",
    "from sklearn.preprocessing import LabelEncoder\n",
    "\n",
    "le = LabelEncoder()\n",
    "data['model'] = le.fit_transform(data['model'])\n",
    "data['transmission'] = data['transmission'].map({'Manual':0,'Automatic':1,'Semi_Auto':2})\n",
    "data['fuelType'] = data['fuelType'].map({'Petrol':0,'Diesel':1,'Hybrid':2})\n",
    "data = pd.concat([data, pd.get_dummies(data['model'], prefix='model')], axis=1)\n",
    "data = pd.concat([data, pd.get_dummies(data['transmission'], prefix='transmission')], axis=1)\n",
    "data = pd.concat([data, pd.get_dummies(data['fuelType'], prefix='fuelType')], axis=1)\n",
    "data = data.drop(['model','transmission','fuelType'],axis=1)\n",
    "\n"
   ]
  },
  {
   "cell_type": "code",
   "execution_count": null,
   "metadata": {
    "colab": {
     "base_uri": "https://localhost:8080/"
    },
    "id": "i6zwYyzQYCIk",
    "outputId": "b46956e6-c2c2-4d00-9889-c986a62827e1"
   },
   "outputs": [
    {
     "name": "stdout",
     "output_type": "stream",
     "text": [
      "1.0\n"
     ]
    },
    {
     "data": {
      "text/plain": [
       "2161.595256973512"
      ]
     },
     "execution_count": 265,
     "metadata": {},
     "output_type": "execute_result"
    }
   ],
   "source": [
    "#2.1\n",
    "\n",
    "y_21 = data['price']\n",
    "X_21 = data.drop('price',axis=1)\n",
    "#X = np.array(data['mileage']).reshape((-1,1))\n",
    "\n",
    "X_train, X_test, y_train, y_test=train_test_split(X_21, y_21, test_size=0.3)\n",
    "LR=LinearRegression()\n",
    "LR.fit(X_train, y_train)\n",
    "y_pred = LR.predict(X_test)\n",
    "\n",
    "#plt.plot(X_test, y_test, 'o', color='tab:blue')\n",
    "#plt.plot(X_test, y_pred, '-', color='tab:orange')\n",
    "#plt.show()\n",
    "print(LR.score(X_test, y_pred))\n",
    "mean_absolute_error(y_test, y_pred)"
   ]
  },
  {
   "cell_type": "code",
   "execution_count": null,
   "metadata": {
    "id": "jVxzDLJGYCMm"
   },
   "outputs": [],
   "source": [
    "X_t = pd.DataFrame([{'model': 'A4',\t'year': 2018,\t'transmission':'Semi-auto' , 'fuelType':'petrol', 'mileage':\t15207\t,'tax':\t143,\t'mpg':50,\t'engineSize':1.4}])\n",
    "\n",
    "X_t\n",
    "X_t['model'] = le.fit_transform(X_t['model'])\n",
    "X_t['transmission'] = X_t['transmission'].map({'Manual':0,'Automatic':1,'Semi_Auto':2})\n",
    "X_t['fuelType'] = X_t['fuelType'].map({'Petrol':0,'Diesel':1,'Hybrid':2})\n",
    "X_t = pd.concat([X_t, pd.get_dummies(X_t['model'], prefix='model')], axis=1)\n",
    "X_t = pd.concat([X_t, pd.get_dummies(X_t['transmission'], prefix='transmission')], axis=1)\n",
    "X_t = pd.concat([X_t, pd.get_dummies(X_t['fuelType'], prefix='fuelType')], axis=1)\n",
    "X_t = X_t.drop(['model','transmission','fuelType'],axis=1)"
   ]
  },
  {
   "cell_type": "code",
   "execution_count": null,
   "metadata": {
    "colab": {
     "base_uri": "https://localhost:8080/"
    },
    "id": "YxlyZOy7blxl",
    "outputId": "0f6b53ad-c393-4105-fc14-3b4d46b1975c"
   },
   "outputs": [
    {
     "name": "stdout",
     "output_type": "stream",
     "text": [
      "1.0\n"
     ]
    },
    {
     "data": {
      "text/plain": [
       "3.5851326158384462"
      ]
     },
     "execution_count": 266,
     "metadata": {},
     "output_type": "execute_result"
    }
   ],
   "source": [
    "#2.3\n",
    "y_23 = data['mpg']\n",
    "X_23 = data.drop('mpg',axis=1)\n",
    "#X = np.array(data['mileage']).reshape((-1,1))\n",
    "\n",
    "\n",
    "X_train, X_test, y_train, y_test=train_test_split(X_23, y_23, test_size=0.3)\n",
    "LR=LinearRegression()\n",
    "LR.fit(X_train, y_train)\n",
    "y_pred = LR.predict(X_test)\n",
    "\n",
    "#plt.plot(X_test, y_test, 'o', color='tab:blue')\n",
    "#plt.plot(X_test, y_pred, '-', color='tab:orange')\n",
    "#plt.show()\n",
    "print(LR.score(X_test, y_pred))\n",
    "mean_absolute_error(y_test, y_pred)"
   ]
  },
  {
   "cell_type": "code",
   "execution_count": null,
   "metadata": {
    "colab": {
     "base_uri": "https://localhost:8080/",
     "height": 373
    },
    "id": "w9Smg8bAgRxa",
    "outputId": "db5aba73-cdba-4ccd-8a9b-acb3a551475a"
   },
   "outputs": [
    {
     "ename": "TypeError",
     "evalue": "ignored",
     "output_type": "error",
     "traceback": [
      "\u001b[0;31m---------------------------------------------------------------------------\u001b[0m",
      "\u001b[0;31mTypeError\u001b[0m                                 Traceback (most recent call last)",
      "\u001b[0;32m<ipython-input-274-b5e893bc4d11>\u001b[0m in \u001b[0;36m<module>\u001b[0;34m()\u001b[0m\n\u001b[1;32m      6\u001b[0m \u001b[0;34m\u001b[0m\u001b[0m\n\u001b[1;32m      7\u001b[0m \u001b[0mX_train\u001b[0m\u001b[0;34m,\u001b[0m \u001b[0mX_test\u001b[0m\u001b[0;34m,\u001b[0m \u001b[0my_train\u001b[0m\u001b[0;34m,\u001b[0m \u001b[0my_test\u001b[0m\u001b[0;34m=\u001b[0m\u001b[0mtrain_test_split\u001b[0m\u001b[0;34m(\u001b[0m\u001b[0mX\u001b[0m\u001b[0;34m,\u001b[0m \u001b[0my_23\u001b[0m\u001b[0;34m,\u001b[0m \u001b[0mtest_size\u001b[0m\u001b[0;34m=\u001b[0m\u001b[0;36m0.3\u001b[0m\u001b[0;34m)\u001b[0m\u001b[0;34m\u001b[0m\u001b[0;34m\u001b[0m\u001b[0m\n\u001b[0;32m----> 8\u001b[0;31m \u001b[0mmymodel\u001b[0m \u001b[0;34m=\u001b[0m \u001b[0mnp\u001b[0m\u001b[0;34m.\u001b[0m\u001b[0mpoly1d\u001b[0m\u001b[0;34m(\u001b[0m\u001b[0mnp\u001b[0m\u001b[0;34m.\u001b[0m\u001b[0mpolyfit\u001b[0m\u001b[0;34m(\u001b[0m\u001b[0mX_train\u001b[0m\u001b[0;34m,\u001b[0m \u001b[0my_train\u001b[0m\u001b[0;34m,\u001b[0m \u001b[0;36m3\u001b[0m\u001b[0;34m)\u001b[0m\u001b[0;34m)\u001b[0m\u001b[0;34m\u001b[0m\u001b[0;34m\u001b[0m\u001b[0m\n\u001b[0m\u001b[1;32m      9\u001b[0m \u001b[0mprint\u001b[0m\u001b[0;34m(\u001b[0m\u001b[0mr2_score\u001b[0m\u001b[0;34m,\u001b[0m \u001b[0mmymodel\u001b[0m\u001b[0;34m(\u001b[0m\u001b[0mX\u001b[0m\u001b[0;34m)\u001b[0m\u001b[0;34m)\u001b[0m\u001b[0;34m\u001b[0m\u001b[0;34m\u001b[0m\u001b[0m\n",
      "\u001b[0;32m<__array_function__ internals>\u001b[0m in \u001b[0;36mpolyfit\u001b[0;34m(*args, **kwargs)\u001b[0m\n",
      "\u001b[0;32m/usr/local/lib/python3.7/dist-packages/numpy/lib/polynomial.py\u001b[0m in \u001b[0;36mpolyfit\u001b[0;34m(x, y, deg, rcond, full, w, cov)\u001b[0m\n\u001b[1;32m    595\u001b[0m         \u001b[0;32mraise\u001b[0m \u001b[0mValueError\u001b[0m\u001b[0;34m(\u001b[0m\u001b[0;34m\"expected deg >= 0\"\u001b[0m\u001b[0;34m)\u001b[0m\u001b[0;34m\u001b[0m\u001b[0;34m\u001b[0m\u001b[0m\n\u001b[1;32m    596\u001b[0m     \u001b[0;32mif\u001b[0m \u001b[0mx\u001b[0m\u001b[0;34m.\u001b[0m\u001b[0mndim\u001b[0m \u001b[0;34m!=\u001b[0m \u001b[0;36m1\u001b[0m\u001b[0;34m:\u001b[0m\u001b[0;34m\u001b[0m\u001b[0;34m\u001b[0m\u001b[0m\n\u001b[0;32m--> 597\u001b[0;31m         \u001b[0;32mraise\u001b[0m \u001b[0mTypeError\u001b[0m\u001b[0;34m(\u001b[0m\u001b[0;34m\"expected 1D vector for x\"\u001b[0m\u001b[0;34m)\u001b[0m\u001b[0;34m\u001b[0m\u001b[0;34m\u001b[0m\u001b[0m\n\u001b[0m\u001b[1;32m    598\u001b[0m     \u001b[0;32mif\u001b[0m \u001b[0mx\u001b[0m\u001b[0;34m.\u001b[0m\u001b[0msize\u001b[0m \u001b[0;34m==\u001b[0m \u001b[0;36m0\u001b[0m\u001b[0;34m:\u001b[0m\u001b[0;34m\u001b[0m\u001b[0;34m\u001b[0m\u001b[0m\n\u001b[1;32m    599\u001b[0m         \u001b[0;32mraise\u001b[0m \u001b[0mTypeError\u001b[0m\u001b[0;34m(\u001b[0m\u001b[0;34m\"expected non-empty vector for x\"\u001b[0m\u001b[0;34m)\u001b[0m\u001b[0;34m\u001b[0m\u001b[0;34m\u001b[0m\u001b[0m\n",
      "\u001b[0;31mTypeError\u001b[0m: expected 1D vector for x"
     ]
    }
   ],
   "source": [
    "#2.2\n",
    "y_22 = data['mpg']\n",
    "X_22 = data.drop('mpg',axis=1)\n",
    "X = np.array(data['mileage']).reshape((-1,1))\n",
    "\n",
    "\n",
    "X_train, X_test, y_train, y_test=train_test_split(X, y_23, test_size=0.3)\n",
    "mymodel = np.poly1d(np.polyfit(X_train, y_train, 3))\n",
    "print(r2_score, mymodel(X))"
   ]
  },
  {
   "cell_type": "code",
   "execution_count": null,
   "metadata": {
    "id": "058bVhtvgR1_"
   },
   "outputs": [],
   "source": []
  },
  {
   "cell_type": "code",
   "execution_count": null,
   "metadata": {
    "id": "vMOrZkcjgR8o"
   },
   "outputs": [],
   "source": []
  },
  {
   "cell_type": "code",
   "execution_count": null,
   "metadata": {
    "id": "oEMdQbBjgSF8"
   },
   "outputs": [],
   "source": []
  },
  {
   "cell_type": "code",
   "execution_count": null,
   "metadata": {
    "id": "XzOqBuEvgSPZ"
   },
   "outputs": [],
   "source": []
  },
  {
   "cell_type": "code",
   "execution_count": null,
   "metadata": {
    "id": "FFKPJ1slgSU3"
   },
   "outputs": [],
   "source": []
  },
  {
   "cell_type": "code",
   "execution_count": null,
   "metadata": {
    "id": "4ZV7hpZM4ndl"
   },
   "outputs": [],
   "source": [
    "#Question 4\n",
    "\n",
    "#Imports\n",
    "import numpy as np\n",
    "import matplotlib.pyplot as plt\n",
    "import pandas as pd\n",
    "from pandas import read_csv\n",
    "from pandas.plotting import scatter_matrix\n",
    "from sklearn.model_selection import train_test_split\n",
    "from sklearn.model_selection import cross_val_score\n",
    "from sklearn.model_selection import StratifiedKFold\n",
    "from sklearn.metrics import classification_report\n",
    "from sklearn.metrics import confusion_matrix\n",
    "from sklearn.metrics import accuracy_score\n",
    "from sklearn.linear_model import LogisticRegression\n",
    "from sklearn.tree import DecisionTreeClassifier\n",
    "from sklearn.neighbors import KNeighborsClassifier\n",
    "from sklearn.discriminant_analysis import LinearDiscriminantAnalysis\n",
    "from sklearn.naive_bayes import GaussianNB\n",
    "from sklearn.svm import SVC\n",
    "from sklearn.ensemble import RandomForestClassifier\n",
    "from sklearn.datasets import make_classification\n",
    "from sklearn.metrics import cohen_kappa_score\n",
    "\n",
    "#File upload\n",
    "data2 = pd.read_csv(\"/sat(1).txt\", names = ['1', '2', '3', '4', '5', '6' ,'7' ,\n",
    "                                            '8' ,'9' ,'10', '11', '12', '13', '14',\n",
    "                                            '15', '16', '17' ,'18' ,'19' ,'20', \n",
    "                                            '21' ,'22' ,'23' ,'24' ,'25' ,'26' ,\n",
    "                                            '27' ,'28', '29', '30' ,'31', '32',\n",
    "                                            '33' ,'34' ,'35' ,'36'], sep = ' ')\n",
    "\n",
    "#Spot Check algorithms\n",
    "models = []\n",
    "models.append(('LR', LogisticRegression(solver='liblinear', multi_class='ovr', penalty = 'l2', C = 0.01)))\n",
    "models.append(('KNN', KNeighborsClassifier(metric = 'manhattan', weights = 'uniform')))\n",
    "models.append(('SVM', SVC(gamma='scale', kernel = 'poly')))\n",
    "models.append(('NB', GaussianNB()))\n",
    "models.append(('RF', RandomForestClassifier(max_features = 'log2', n_estimators = 1000, criterion = 'entropy')))\n",
    "\n",
    "X = data2.iloc[:, :-1]\n",
    "y = data2.iloc[:,-1]\n",
    "\n",
    "\n",
    "X_train, X_test, y_train, y_test = train_test_split(X, y, test_size = 0.2)\n"
   ]
  },
  {
   "cell_type": "code",
   "execution_count": null,
   "metadata": {
    "colab": {
     "base_uri": "https://localhost:8080/"
    },
    "id": "EF3cLH3wegHm",
    "outputId": "939e676d-438a-4280-c537-03532285cb67"
   },
   "outputs": [
    {
     "name": "stdout",
     "output_type": "stream",
     "text": [
      "LR: 0.783262 (0.016484)\n",
      "KNN: 0.901354 (0.014414)\n",
      "SVM: 0.885288 (0.012409)\n",
      "NB: 0.788615 (0.017072)\n",
      "RF: 0.912060 (0.017912)\n"
     ]
    }
   ],
   "source": [
    "#Evaluate each algorithm in turn\n",
    "results=[]\n",
    "names2=[]\n",
    "for name, model in models:\n",
    "    kfold = StratifiedKFold(n_splits=10, random_state=1, shuffle=True)\n",
    "    cv_results = cross_val_score(model, X_train, y_train, cv=kfold, scoring='accuracy')\n",
    "    results.append(cv_results)\n",
    "    names2.append(name)\n",
    "    print('%s: %f (%f)' % (name, cv_results.mean(), cv_results.std()))\n"
   ]
  },
  {
   "cell_type": "code",
   "execution_count": null,
   "metadata": {
    "colab": {
     "base_uri": "https://localhost:8080/"
    },
    "id": "Ax9kSB_Lftxu",
    "outputId": "f4fccefd-3fec-46cb-9634-6983cb7d174f"
   },
   "outputs": [
    {
     "data": {
      "text/plain": [
       "array([0.24845985, 0.10088095, 0.1218952 , 0.22831744, 0.10242087])"
      ]
     },
     "execution_count": 282,
     "metadata": {},
     "output_type": "execute_result"
    }
   ],
   "source": [
    "\n",
    "kappa = []\n",
    "far = []\n",
    "names3 = []\n",
    "\n",
    "for name, model in models:\n",
    "  model.fit(X_train, y_train)\n",
    "  predictions = model.predict(X_test)\n",
    "  # Evaluate predictions\n",
    "  conf = confusion_matrix(y_test, predictions)\n",
    "  kappa.append(cohen_kappa_score(y_test, predictions))\n",
    "  #print(\"Kappa\", cohen_kappa_score(y_test, predictions))\n",
    "  #print(confusion_matrix(y_test, predictions))\n",
    "  #print(classification_report(y_test, predictions))\n",
    "  FP = conf.sum(axis=0) - np.diag(conf)\n",
    "  FN = conf.sum(axis=1) - np.diag(conf)\n",
    "  TP = np.diag(conf)\n",
    "  TN = conf.sum() - (FP + FN + TP)\n",
    "  FAR = FP/(TP+FP)\n",
    "  far.append(FAR)\n",
    "  names3.append(name)\n",
    "  #print('%s: %f (%f)' % (name, fdr, kappa))\n",
    "\n",
    "kappa\n",
    "far = np.array(fdr)\n",
    "far.mean(axis = 1)"
   ]
  },
  {
   "cell_type": "code",
   "execution_count": null,
   "metadata": {
    "colab": {
     "base_uri": "https://localhost:8080/"
    },
    "id": "_-wOukg1H2bp",
    "outputId": "4c5ef50b-7961-432f-e6f5-967d373a22df"
   },
   "outputs": [
    {
     "data": {
      "text/plain": [
       "[0.7229035106454194,\n",
       " 0.8937761376063231,\n",
       " 0.8751802496932592,\n",
       " 0.7471946598471528,\n",
       " 0.8921105259333445]"
      ]
     },
     "execution_count": 76,
     "metadata": {},
     "output_type": "execute_result"
    }
   ],
   "source": [
    "kappa"
   ]
  },
  {
   "cell_type": "code",
   "execution_count": null,
   "metadata": {
    "id": "DirQpeKRJ34p"
   },
   "outputs": [],
   "source": []
  },
  {
   "cell_type": "code",
   "execution_count": null,
   "metadata": {
    "id": "QNQjgIGTJ4K-"
   },
   "outputs": [],
   "source": []
  },
  {
   "cell_type": "code",
   "execution_count": null,
   "metadata": {
    "id": "LzZ7MEfPJ4Ww"
   },
   "outputs": [],
   "source": []
  },
  {
   "cell_type": "code",
   "execution_count": null,
   "metadata": {
    "colab": {
     "base_uri": "https://localhost:8080/",
     "height": 281,
     "resources": {
      "http://localhost:8080/nbextensions/google.colab/files.js": {
       "data": "Ly8gQ29weXJpZ2h0IDIwMTcgR29vZ2xlIExMQwovLwovLyBMaWNlbnNlZCB1bmRlciB0aGUgQXBhY2hlIExpY2Vuc2UsIFZlcnNpb24gMi4wICh0aGUgIkxpY2Vuc2UiKTsKLy8geW91IG1heSBub3QgdXNlIHRoaXMgZmlsZSBleGNlcHQgaW4gY29tcGxpYW5jZSB3aXRoIHRoZSBMaWNlbnNlLgovLyBZb3UgbWF5IG9idGFpbiBhIGNvcHkgb2YgdGhlIExpY2Vuc2UgYXQKLy8KLy8gICAgICBodHRwOi8vd3d3LmFwYWNoZS5vcmcvbGljZW5zZXMvTElDRU5TRS0yLjAKLy8KLy8gVW5sZXNzIHJlcXVpcmVkIGJ5IGFwcGxpY2FibGUgbGF3IG9yIGFncmVlZCB0byBpbiB3cml0aW5nLCBzb2Z0d2FyZQovLyBkaXN0cmlidXRlZCB1bmRlciB0aGUgTGljZW5zZSBpcyBkaXN0cmlidXRlZCBvbiBhbiAiQVMgSVMiIEJBU0lTLAovLyBXSVRIT1VUIFdBUlJBTlRJRVMgT1IgQ09ORElUSU9OUyBPRiBBTlkgS0lORCwgZWl0aGVyIGV4cHJlc3Mgb3IgaW1wbGllZC4KLy8gU2VlIHRoZSBMaWNlbnNlIGZvciB0aGUgc3BlY2lmaWMgbGFuZ3VhZ2UgZ292ZXJuaW5nIHBlcm1pc3Npb25zIGFuZAovLyBsaW1pdGF0aW9ucyB1bmRlciB0aGUgTGljZW5zZS4KCi8qKgogKiBAZmlsZW92ZXJ2aWV3IEhlbHBlcnMgZm9yIGdvb2dsZS5jb2xhYiBQeXRob24gbW9kdWxlLgogKi8KKGZ1bmN0aW9uKHNjb3BlKSB7CmZ1bmN0aW9uIHNwYW4odGV4dCwgc3R5bGVBdHRyaWJ1dGVzID0ge30pIHsKICBjb25zdCBlbGVtZW50ID0gZG9jdW1lbnQuY3JlYXRlRWxlbWVudCgnc3BhbicpOwogIGVsZW1lbnQudGV4dENvbnRlbnQgPSB0ZXh0OwogIGZvciAoY29uc3Qga2V5IG9mIE9iamVjdC5rZXlzKHN0eWxlQXR0cmlidXRlcykpIHsKICAgIGVsZW1lbnQuc3R5bGVba2V5XSA9IHN0eWxlQXR0cmlidXRlc1trZXldOwogIH0KICByZXR1cm4gZWxlbWVudDsKfQoKLy8gTWF4IG51bWJlciBvZiBieXRlcyB3aGljaCB3aWxsIGJlIHVwbG9hZGVkIGF0IGEgdGltZS4KY29uc3QgTUFYX1BBWUxPQURfU0laRSA9IDEwMCAqIDEwMjQ7CgpmdW5jdGlvbiBfdXBsb2FkRmlsZXMoaW5wdXRJZCwgb3V0cHV0SWQpIHsKICBjb25zdCBzdGVwcyA9IHVwbG9hZEZpbGVzU3RlcChpbnB1dElkLCBvdXRwdXRJZCk7CiAgY29uc3Qgb3V0cHV0RWxlbWVudCA9IGRvY3VtZW50LmdldEVsZW1lbnRCeUlkKG91dHB1dElkKTsKICAvLyBDYWNoZSBzdGVwcyBvbiB0aGUgb3V0cHV0RWxlbWVudCB0byBtYWtlIGl0IGF2YWlsYWJsZSBmb3IgdGhlIG5leHQgY2FsbAogIC8vIHRvIHVwbG9hZEZpbGVzQ29udGludWUgZnJvbSBQeXRob24uCiAgb3V0cHV0RWxlbWVudC5zdGVwcyA9IHN0ZXBzOwoKICByZXR1cm4gX3VwbG9hZEZpbGVzQ29udGludWUob3V0cHV0SWQpOwp9CgovLyBUaGlzIGlzIHJvdWdobHkgYW4gYXN5bmMgZ2VuZXJhdG9yIChub3Qgc3VwcG9ydGVkIGluIHRoZSBicm93c2VyIHlldCksCi8vIHdoZXJlIHRoZXJlIGFyZSBtdWx0aXBsZSBhc3luY2hyb25vdXMgc3RlcHMgYW5kIHRoZSBQeXRob24gc2lkZSBpcyBnb2luZwovLyB0byBwb2xsIGZvciBjb21wbGV0aW9uIG9mIGVhY2ggc3RlcC4KLy8gVGhpcyB1c2VzIGEgUHJvbWlzZSB0byBibG9jayB0aGUgcHl0aG9uIHNpZGUgb24gY29tcGxldGlvbiBvZiBlYWNoIHN0ZXAsCi8vIHRoZW4gcGFzc2VzIHRoZSByZXN1bHQgb2YgdGhlIHByZXZpb3VzIHN0ZXAgYXMgdGhlIGlucHV0IHRvIHRoZSBuZXh0IHN0ZXAuCmZ1bmN0aW9uIF91cGxvYWRGaWxlc0NvbnRpbnVlKG91dHB1dElkKSB7CiAgY29uc3Qgb3V0cHV0RWxlbWVudCA9IGRvY3VtZW50LmdldEVsZW1lbnRCeUlkKG91dHB1dElkKTsKICBjb25zdCBzdGVwcyA9IG91dHB1dEVsZW1lbnQuc3RlcHM7CgogIGNvbnN0IG5leHQgPSBzdGVwcy5uZXh0KG91dHB1dEVsZW1lbnQubGFzdFByb21pc2VWYWx1ZSk7CiAgcmV0dXJuIFByb21pc2UucmVzb2x2ZShuZXh0LnZhbHVlLnByb21pc2UpLnRoZW4oKHZhbHVlKSA9PiB7CiAgICAvLyBDYWNoZSB0aGUgbGFzdCBwcm9taXNlIHZhbHVlIHRvIG1ha2UgaXQgYXZhaWxhYmxlIHRvIHRoZSBuZXh0CiAgICAvLyBzdGVwIG9mIHRoZSBnZW5lcmF0b3IuCiAgICBvdXRwdXRFbGVtZW50Lmxhc3RQcm9taXNlVmFsdWUgPSB2YWx1ZTsKICAgIHJldHVybiBuZXh0LnZhbHVlLnJlc3BvbnNlOwogIH0pOwp9CgovKioKICogR2VuZXJhdG9yIGZ1bmN0aW9uIHdoaWNoIGlzIGNhbGxlZCBiZXR3ZWVuIGVhY2ggYXN5bmMgc3RlcCBvZiB0aGUgdXBsb2FkCiAqIHByb2Nlc3MuCiAqIEBwYXJhbSB7c3RyaW5nfSBpbnB1dElkIEVsZW1lbnQgSUQgb2YgdGhlIGlucHV0IGZpbGUgcGlja2VyIGVsZW1lbnQuCiAqIEBwYXJhbSB7c3RyaW5nfSBvdXRwdXRJZCBFbGVtZW50IElEIG9mIHRoZSBvdXRwdXQgZGlzcGxheS4KICogQHJldHVybiB7IUl0ZXJhYmxlPCFPYmplY3Q+fSBJdGVyYWJsZSBvZiBuZXh0IHN0ZXBzLgogKi8KZnVuY3Rpb24qIHVwbG9hZEZpbGVzU3RlcChpbnB1dElkLCBvdXRwdXRJZCkgewogIGNvbnN0IGlucHV0RWxlbWVudCA9IGRvY3VtZW50LmdldEVsZW1lbnRCeUlkKGlucHV0SWQpOwogIGlucHV0RWxlbWVudC5kaXNhYmxlZCA9IGZhbHNlOwoKICBjb25zdCBvdXRwdXRFbGVtZW50ID0gZG9jdW1lbnQuZ2V0RWxlbWVudEJ5SWQob3V0cHV0SWQpOwogIG91dHB1dEVsZW1lbnQuaW5uZXJIVE1MID0gJyc7CgogIGNvbnN0IHBpY2tlZFByb21pc2UgPSBuZXcgUHJvbWlzZSgocmVzb2x2ZSkgPT4gewogICAgaW5wdXRFbGVtZW50LmFkZEV2ZW50TGlzdGVuZXIoJ2NoYW5nZScsIChlKSA9PiB7CiAgICAgIHJlc29sdmUoZS50YXJnZXQuZmlsZXMpOwogICAgfSk7CiAgfSk7CgogIGNvbnN0IGNhbmNlbCA9IGRvY3VtZW50LmNyZWF0ZUVsZW1lbnQoJ2J1dHRvbicpOwogIGlucHV0RWxlbWVudC5wYXJlbnRFbGVtZW50LmFwcGVuZENoaWxkKGNhbmNlbCk7CiAgY2FuY2VsLnRleHRDb250ZW50ID0gJ0NhbmNlbCB1cGxvYWQnOwogIGNvbnN0IGNhbmNlbFByb21pc2UgPSBuZXcgUHJvbWlzZSgocmVzb2x2ZSkgPT4gewogICAgY2FuY2VsLm9uY2xpY2sgPSAoKSA9PiB7CiAgICAgIHJlc29sdmUobnVsbCk7CiAgICB9OwogIH0pOwoKICAvLyBXYWl0IGZvciB0aGUgdXNlciB0byBwaWNrIHRoZSBmaWxlcy4KICBjb25zdCBmaWxlcyA9IHlpZWxkIHsKICAgIHByb21pc2U6IFByb21pc2UucmFjZShbcGlja2VkUHJvbWlzZSwgY2FuY2VsUHJvbWlzZV0pLAogICAgcmVzcG9uc2U6IHsKICAgICAgYWN0aW9uOiAnc3RhcnRpbmcnLAogICAgfQogIH07CgogIGNhbmNlbC5yZW1vdmUoKTsKCiAgLy8gRGlzYWJsZSB0aGUgaW5wdXQgZWxlbWVudCBzaW5jZSBmdXJ0aGVyIHBpY2tzIGFyZSBub3QgYWxsb3dlZC4KICBpbnB1dEVsZW1lbnQuZGlzYWJsZWQgPSB0cnVlOwoKICBpZiAoIWZpbGVzKSB7CiAgICByZXR1cm4gewogICAgICByZXNwb25zZTogewogICAgICAgIGFjdGlvbjogJ2NvbXBsZXRlJywKICAgICAgfQogICAgfTsKICB9CgogIGZvciAoY29uc3QgZmlsZSBvZiBmaWxlcykgewogICAgY29uc3QgbGkgPSBkb2N1bWVudC5jcmVhdGVFbGVtZW50KCdsaScpOwogICAgbGkuYXBwZW5kKHNwYW4oZmlsZS5uYW1lLCB7Zm9udFdlaWdodDogJ2JvbGQnfSkpOwogICAgbGkuYXBwZW5kKHNwYW4oCiAgICAgICAgYCgke2ZpbGUudHlwZSB8fCAnbi9hJ30pIC0gJHtmaWxlLnNpemV9IGJ5dGVzLCBgICsKICAgICAgICBgbGFzdCBtb2RpZmllZDogJHsKICAgICAgICAgICAgZmlsZS5sYXN0TW9kaWZpZWREYXRlID8gZmlsZS5sYXN0TW9kaWZpZWREYXRlLnRvTG9jYWxlRGF0ZVN0cmluZygpIDoKICAgICAgICAgICAgICAgICAgICAgICAgICAgICAgICAgICAgJ24vYSd9IC0gYCkpOwogICAgY29uc3QgcGVyY2VudCA9IHNwYW4oJzAlIGRvbmUnKTsKICAgIGxpLmFwcGVuZENoaWxkKHBlcmNlbnQpOwoKICAgIG91dHB1dEVsZW1lbnQuYXBwZW5kQ2hpbGQobGkpOwoKICAgIGNvbnN0IGZpbGVEYXRhUHJvbWlzZSA9IG5ldyBQcm9taXNlKChyZXNvbHZlKSA9PiB7CiAgICAgIGNvbnN0IHJlYWRlciA9IG5ldyBGaWxlUmVhZGVyKCk7CiAgICAgIHJlYWRlci5vbmxvYWQgPSAoZSkgPT4gewogICAgICAgIHJlc29sdmUoZS50YXJnZXQucmVzdWx0KTsKICAgICAgfTsKICAgICAgcmVhZGVyLnJlYWRBc0FycmF5QnVmZmVyKGZpbGUpOwogICAgfSk7CiAgICAvLyBXYWl0IGZvciB0aGUgZGF0YSB0byBiZSByZWFkeS4KICAgIGxldCBmaWxlRGF0YSA9IHlpZWxkIHsKICAgICAgcHJvbWlzZTogZmlsZURhdGFQcm9taXNlLAogICAgICByZXNwb25zZTogewogICAgICAgIGFjdGlvbjogJ2NvbnRpbnVlJywKICAgICAgfQogICAgfTsKCiAgICAvLyBVc2UgYSBjaHVua2VkIHNlbmRpbmcgdG8gYXZvaWQgbWVzc2FnZSBzaXplIGxpbWl0cy4gU2VlIGIvNjIxMTU2NjAuCiAgICBsZXQgcG9zaXRpb24gPSAwOwogICAgZG8gewogICAgICBjb25zdCBsZW5ndGggPSBNYXRoLm1pbihmaWxlRGF0YS5ieXRlTGVuZ3RoIC0gcG9zaXRpb24sIE1BWF9QQVlMT0FEX1NJWkUpOwogICAgICBjb25zdCBjaHVuayA9IG5ldyBVaW50OEFycmF5KGZpbGVEYXRhLCBwb3NpdGlvbiwgbGVuZ3RoKTsKICAgICAgcG9zaXRpb24gKz0gbGVuZ3RoOwoKICAgICAgY29uc3QgYmFzZTY0ID0gYnRvYShTdHJpbmcuZnJvbUNoYXJDb2RlLmFwcGx5KG51bGwsIGNodW5rKSk7CiAgICAgIHlpZWxkIHsKICAgICAgICByZXNwb25zZTogewogICAgICAgICAgYWN0aW9uOiAnYXBwZW5kJywKICAgICAgICAgIGZpbGU6IGZpbGUubmFtZSwKICAgICAgICAgIGRhdGE6IGJhc2U2NCwKICAgICAgICB9LAogICAgICB9OwoKICAgICAgbGV0IHBlcmNlbnREb25lID0gZmlsZURhdGEuYnl0ZUxlbmd0aCA9PT0gMCA/CiAgICAgICAgICAxMDAgOgogICAgICAgICAgTWF0aC5yb3VuZCgocG9zaXRpb24gLyBmaWxlRGF0YS5ieXRlTGVuZ3RoKSAqIDEwMCk7CiAgICAgIHBlcmNlbnQudGV4dENvbnRlbnQgPSBgJHtwZXJjZW50RG9uZX0lIGRvbmVgOwoKICAgIH0gd2hpbGUgKHBvc2l0aW9uIDwgZmlsZURhdGEuYnl0ZUxlbmd0aCk7CiAgfQoKICAvLyBBbGwgZG9uZS4KICB5aWVsZCB7CiAgICByZXNwb25zZTogewogICAgICBhY3Rpb246ICdjb21wbGV0ZScsCiAgICB9CiAgfTsKfQoKc2NvcGUuZ29vZ2xlID0gc2NvcGUuZ29vZ2xlIHx8IHt9OwpzY29wZS5nb29nbGUuY29sYWIgPSBzY29wZS5nb29nbGUuY29sYWIgfHwge307CnNjb3BlLmdvb2dsZS5jb2xhYi5fZmlsZXMgPSB7CiAgX3VwbG9hZEZpbGVzLAogIF91cGxvYWRGaWxlc0NvbnRpbnVlLAp9Owp9KShzZWxmKTsK",
       "headers": [
        [
         "content-type",
         "application/javascript"
        ]
       ],
       "ok": true,
       "status": 200,
       "status_text": ""
      }
     }
    },
    "id": "G_vuglI2nqLP",
    "outputId": "1db88105-ed2c-499f-e491-3ae8c273be71"
   },
   "outputs": [
    {
     "data": {
      "text/html": [
       "\n",
       "     <input type=\"file\" id=\"files-ae4c3c70-6a5d-4f9e-a0b7-15804c350992\" name=\"files[]\" multiple disabled\n",
       "        style=\"border:none\" />\n",
       "     <output id=\"result-ae4c3c70-6a5d-4f9e-a0b7-15804c350992\">\n",
       "      Upload widget is only available when the cell has been executed in the\n",
       "      current browser session. Please rerun this cell to enable.\n",
       "      </output>\n",
       "      <script src=\"/nbextensions/google.colab/files.js\"></script> "
      ],
      "text/plain": [
       "<IPython.core.display.HTML object>"
      ]
     },
     "metadata": {},
     "output_type": "display_data"
    },
    {
     "name": "stdout",
     "output_type": "stream",
     "text": [
      "Saving 00001.jpg to 00001.jpg\n",
      "Saving 00002.jpg to 00002.jpg\n",
      "Saving 00003.jpg to 00003.jpg\n",
      "Saving 00004.jpg to 00004.jpg\n",
      "Saving 00005.jpg to 00005.jpg\n",
      "Saving 00006.jpg to 00006.jpg\n",
      "Saving 00007.jpg to 00007.jpg\n",
      "Saving 00010.jpg to 00010.jpg\n",
      "Saving 00011.jpg to 00011.jpg\n",
      "Saving 00012.jpg to 00012.jpg\n",
      "Saving 00013.jpg to 00013.jpg\n",
      "Saving 00014.jpg to 00014.jpg\n",
      "00001.jpg  00003.jpg  00005.jpg  00007.jpg  00011.jpg  00013.jpg  data\n",
      "00002.jpg  00004.jpg  00006.jpg  00010.jpg  00012.jpg  00014.jpg  sample_data\n"
     ]
    }
   ],
   "source": [
    "#Question 5\n",
    "\n",
    "#imports\n",
    "import argparse\n",
    "import cv2\n",
    "\n",
    "#File upload\n",
    "def upload_files():\n",
    "  from google.colab import files\n",
    "  uploaded = files.upload()\n",
    "  for k, v in uploaded.items():\n",
    "    open(k, 'wb').write(v)\n",
    "  return list(uploaded.keys())\n",
    "\n",
    "upload_files()\n",
    "!ls"
   ]
  },
  {
   "cell_type": "code",
   "execution_count": null,
   "metadata": {
    "id": "zog79XHUyz7U"
   },
   "outputs": [],
   "source": []
  },
  {
   "cell_type": "code",
   "execution_count": null,
   "metadata": {
    "id": "OEOND5ARy1n4"
   },
   "outputs": [],
   "source": []
  },
  {
   "cell_type": "code",
   "execution_count": null,
   "metadata": {
    "id": "7PJCKIbpy8xs"
   },
   "outputs": [],
   "source": []
  },
  {
   "cell_type": "code",
   "execution_count": null,
   "metadata": {
    "id": "EHMGPoFkz6GR"
   },
   "outputs": [],
   "source": []
  },
  {
   "cell_type": "code",
   "execution_count": null,
   "metadata": {
    "id": "2Fd2LEyx0X4F"
   },
   "outputs": [],
   "source": []
  }
 ],
 "metadata": {
  "colab": {
   "provenance": []
  },
  "kernelspec": {
   "display_name": "Python 3 (ipykernel)",
   "language": "python",
   "name": "python3"
  },
  "language_info": {
   "codemirror_mode": {
    "name": "ipython",
    "version": 3
   },
   "file_extension": ".py",
   "mimetype": "text/x-python",
   "name": "python",
   "nbconvert_exporter": "python",
   "pygments_lexer": "ipython3",
   "version": "3.9.7"
  }
 },
 "nbformat": 4,
 "nbformat_minor": 1
}
