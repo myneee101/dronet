{
 "cells": [
  {
   "cell_type": "code",
   "execution_count": 1,
   "id": "29a93285",
   "metadata": {},
   "outputs": [],
   "source": [
    "import numpy as np \n",
    "import pandas as pd \n",
    "import matplotlib.pyplot as plt"
   ]
  },
  {
   "cell_type": "code",
   "execution_count": 2,
   "id": "2e480125",
   "metadata": {},
   "outputs": [],
   "source": [
    "data = pd.read_csv(\"pima-indians-diabetes_Gokaraju_edited.csv\")"
   ]
  },
  {
   "cell_type": "code",
   "execution_count": 3,
   "id": "77b5dd14",
   "metadata": {
    "scrolled": true
   },
   "outputs": [
    {
     "data": {
      "text/html": [
       "<div>\n",
       "<style scoped>\n",
       "    .dataframe tbody tr th:only-of-type {\n",
       "        vertical-align: middle;\n",
       "    }\n",
       "\n",
       "    .dataframe tbody tr th {\n",
       "        vertical-align: top;\n",
       "    }\n",
       "\n",
       "    .dataframe thead th {\n",
       "        text-align: right;\n",
       "    }\n",
       "</style>\n",
       "<table border=\"1\" class=\"dataframe\">\n",
       "  <thead>\n",
       "    <tr style=\"text-align: right;\">\n",
       "      <th></th>\n",
       "      <th>Pregnancies</th>\n",
       "      <th>Glucose</th>\n",
       "      <th>BloodPressure</th>\n",
       "      <th>SkinThickness</th>\n",
       "      <th>Insulin</th>\n",
       "      <th>BMI</th>\n",
       "      <th>DiabetesPedigreeFunction</th>\n",
       "      <th>Age</th>\n",
       "      <th>Outcome</th>\n",
       "    </tr>\n",
       "  </thead>\n",
       "  <tbody>\n",
       "    <tr>\n",
       "      <th>count</th>\n",
       "      <td>768.000000</td>\n",
       "      <td>768.000000</td>\n",
       "      <td>768.000000</td>\n",
       "      <td>768.000000</td>\n",
       "      <td>768.000000</td>\n",
       "      <td>768.000000</td>\n",
       "      <td>768.000000</td>\n",
       "      <td>768.000000</td>\n",
       "      <td>768.000000</td>\n",
       "    </tr>\n",
       "    <tr>\n",
       "      <th>mean</th>\n",
       "      <td>3.940104</td>\n",
       "      <td>380.910156</td>\n",
       "      <td>69.105469</td>\n",
       "      <td>20.536458</td>\n",
       "      <td>79.799479</td>\n",
       "      <td>32.831771</td>\n",
       "      <td>0.535888</td>\n",
       "      <td>33.319010</td>\n",
       "      <td>0.348958</td>\n",
       "    </tr>\n",
       "    <tr>\n",
       "      <th>std</th>\n",
       "      <td>4.324703</td>\n",
       "      <td>5093.663558</td>\n",
       "      <td>19.355807</td>\n",
       "      <td>15.952218</td>\n",
       "      <td>115.244002</td>\n",
       "      <td>18.190821</td>\n",
       "      <td>1.817614</td>\n",
       "      <td>11.995482</td>\n",
       "      <td>0.476951</td>\n",
       "    </tr>\n",
       "    <tr>\n",
       "      <th>min</th>\n",
       "      <td>0.000000</td>\n",
       "      <td>0.000000</td>\n",
       "      <td>0.000000</td>\n",
       "      <td>0.000000</td>\n",
       "      <td>0.000000</td>\n",
       "      <td>0.000000</td>\n",
       "      <td>0.078000</td>\n",
       "      <td>21.000000</td>\n",
       "      <td>0.000000</td>\n",
       "    </tr>\n",
       "    <tr>\n",
       "      <th>25%</th>\n",
       "      <td>1.000000</td>\n",
       "      <td>99.000000</td>\n",
       "      <td>62.000000</td>\n",
       "      <td>0.000000</td>\n",
       "      <td>0.000000</td>\n",
       "      <td>27.300000</td>\n",
       "      <td>0.243750</td>\n",
       "      <td>24.000000</td>\n",
       "      <td>0.000000</td>\n",
       "    </tr>\n",
       "    <tr>\n",
       "      <th>50%</th>\n",
       "      <td>3.000000</td>\n",
       "      <td>117.000000</td>\n",
       "      <td>72.000000</td>\n",
       "      <td>23.000000</td>\n",
       "      <td>30.500000</td>\n",
       "      <td>32.050000</td>\n",
       "      <td>0.372500</td>\n",
       "      <td>29.000000</td>\n",
       "      <td>0.000000</td>\n",
       "    </tr>\n",
       "    <tr>\n",
       "      <th>75%</th>\n",
       "      <td>6.000000</td>\n",
       "      <td>141.000000</td>\n",
       "      <td>80.000000</td>\n",
       "      <td>32.000000</td>\n",
       "      <td>127.250000</td>\n",
       "      <td>36.600000</td>\n",
       "      <td>0.626250</td>\n",
       "      <td>41.000000</td>\n",
       "      <td>1.000000</td>\n",
       "    </tr>\n",
       "    <tr>\n",
       "      <th>max</th>\n",
       "      <td>79.000000</td>\n",
       "      <td>99999.000000</td>\n",
       "      <td>122.000000</td>\n",
       "      <td>99.000000</td>\n",
       "      <td>846.000000</td>\n",
       "      <td>400.000000</td>\n",
       "      <td>50.000000</td>\n",
       "      <td>99.000000</td>\n",
       "      <td>1.000000</td>\n",
       "    </tr>\n",
       "  </tbody>\n",
       "</table>\n",
       "</div>"
      ],
      "text/plain": [
       "       Pregnancies       Glucose  BloodPressure  SkinThickness     Insulin  \\\n",
       "count   768.000000    768.000000     768.000000     768.000000  768.000000   \n",
       "mean      3.940104    380.910156      69.105469      20.536458   79.799479   \n",
       "std       4.324703   5093.663558      19.355807      15.952218  115.244002   \n",
       "min       0.000000      0.000000       0.000000       0.000000    0.000000   \n",
       "25%       1.000000     99.000000      62.000000       0.000000    0.000000   \n",
       "50%       3.000000    117.000000      72.000000      23.000000   30.500000   \n",
       "75%       6.000000    141.000000      80.000000      32.000000  127.250000   \n",
       "max      79.000000  99999.000000     122.000000      99.000000  846.000000   \n",
       "\n",
       "              BMI  DiabetesPedigreeFunction         Age     Outcome  \n",
       "count  768.000000                768.000000  768.000000  768.000000  \n",
       "mean    32.831771                  0.535888   33.319010    0.348958  \n",
       "std     18.190821                  1.817614   11.995482    0.476951  \n",
       "min      0.000000                  0.078000   21.000000    0.000000  \n",
       "25%     27.300000                  0.243750   24.000000    0.000000  \n",
       "50%     32.050000                  0.372500   29.000000    0.000000  \n",
       "75%     36.600000                  0.626250   41.000000    1.000000  \n",
       "max    400.000000                 50.000000   99.000000    1.000000  "
      ]
     },
     "execution_count": 3,
     "metadata": {},
     "output_type": "execute_result"
    }
   ],
   "source": [
    "data.describe()"
   ]
  },
  {
   "cell_type": "code",
   "execution_count": 4,
   "id": "96f5a4fe",
   "metadata": {},
   "outputs": [
    {
     "name": "stdout",
     "output_type": "stream",
     "text": [
      "Outcome\n",
      "0    500\n",
      "1    268\n",
      "dtype: int64\n"
     ]
    }
   ],
   "source": [
    "...\n",
    "# class distribution\n",
    "print(data.groupby('Outcome').size())"
   ]
  },
  {
   "cell_type": "code",
   "execution_count": 5,
   "id": "bfa7f70b",
   "metadata": {},
   "outputs": [
    {
     "data": {
      "text/plain": [
       "Glucose            7\n",
       "BloodPressure     35\n",
       "SkinThickness    227\n",
       "Insulin          374\n",
       "BMI               11\n",
       "dtype: int64"
      ]
     },
     "execution_count": 5,
     "metadata": {},
     "output_type": "execute_result"
    }
   ],
   "source": [
    "data = pd.read_csv(\"pima-indians-diabetes_Gokaraju_edited.csv\")\n",
    "No_of_missing_value = (data[['Glucose','BloodPressure','SkinThickness','Insulin','BMI']] == 0).sum() + (data[['Glucose','BloodPressure','SkinThickness','Insulin','BMI']] == 99999).sum()\n",
    "No_of_missing_value"
   ]
  },
  {
   "cell_type": "code",
   "execution_count": 6,
   "id": "7fafa7c7",
   "metadata": {},
   "outputs": [
    {
     "data": {
      "text/plain": [
       "Pregnancies      111\n",
       "Glucose            5\n",
       "BloodPressure     35\n",
       "SkinThickness    227\n",
       "Insulin          374\n",
       "BMI               11\n",
       "dtype: int64"
      ]
     },
     "execution_count": 6,
     "metadata": {},
     "output_type": "execute_result"
    }
   ],
   "source": [
    "data = pd.read_csv(\"pima-indians-diabetes_Gokaraju_edited.csv\")\n",
    "No_of_missing_value = (data[['Pregnancies','Glucose','BloodPressure','SkinThickness','Insulin','BMI']] == 0).sum() \n",
    "No_of_missing_value"
   ]
  },
  {
   "cell_type": "code",
   "execution_count": 8,
   "id": "cece19a6",
   "metadata": {},
   "outputs": [
    {
     "data": {
      "text/plain": [
       "Pregnancies      0\n",
       "Glucose          2\n",
       "BloodPressure    0\n",
       "SkinThickness    0\n",
       "Insulin          0\n",
       "BMI              0\n",
       "dtype: int64"
      ]
     },
     "execution_count": 8,
     "metadata": {},
     "output_type": "execute_result"
    }
   ],
   "source": [
    "import pandas as pd\n",
    "data = pd.read_csv(\"pima-indians-diabetes_Gokaraju_edited.csv\")\n",
    "No_of_missing_value1 = (data[['Pregnancies','Glucose','BloodPressure','SkinThickness','Insulin','BMI']] == 99999).sum()\n",
    "No_of_missing_value1"
   ]
  },
  {
   "cell_type": "code",
   "execution_count": 9,
   "id": "9bb73efb",
   "metadata": {},
   "outputs": [
    {
     "data": {
      "text/html": [
       "<div>\n",
       "<style scoped>\n",
       "    .dataframe tbody tr th:only-of-type {\n",
       "        vertical-align: middle;\n",
       "    }\n",
       "\n",
       "    .dataframe tbody tr th {\n",
       "        vertical-align: top;\n",
       "    }\n",
       "\n",
       "    .dataframe thead th {\n",
       "        text-align: right;\n",
       "    }\n",
       "</style>\n",
       "<table border=\"1\" class=\"dataframe\">\n",
       "  <thead>\n",
       "    <tr style=\"text-align: right;\">\n",
       "      <th></th>\n",
       "      <th>count</th>\n",
       "      <th>mean</th>\n",
       "      <th>std</th>\n",
       "      <th>min</th>\n",
       "      <th>25%</th>\n",
       "      <th>50%</th>\n",
       "      <th>75%</th>\n",
       "      <th>max</th>\n",
       "    </tr>\n",
       "  </thead>\n",
       "  <tbody>\n",
       "    <tr>\n",
       "      <th>Pregnancies</th>\n",
       "      <td>768.0</td>\n",
       "      <td>3.940104</td>\n",
       "      <td>4.324703</td>\n",
       "      <td>0.000</td>\n",
       "      <td>1.00000</td>\n",
       "      <td>3.0000</td>\n",
       "      <td>6.00000</td>\n",
       "      <td>79.0</td>\n",
       "    </tr>\n",
       "    <tr>\n",
       "      <th>Glucose</th>\n",
       "      <td>768.0</td>\n",
       "      <td>380.910156</td>\n",
       "      <td>5093.663558</td>\n",
       "      <td>0.000</td>\n",
       "      <td>99.00000</td>\n",
       "      <td>117.0000</td>\n",
       "      <td>141.00000</td>\n",
       "      <td>99999.0</td>\n",
       "    </tr>\n",
       "    <tr>\n",
       "      <th>BloodPressure</th>\n",
       "      <td>768.0</td>\n",
       "      <td>69.105469</td>\n",
       "      <td>19.355807</td>\n",
       "      <td>0.000</td>\n",
       "      <td>62.00000</td>\n",
       "      <td>72.0000</td>\n",
       "      <td>80.00000</td>\n",
       "      <td>122.0</td>\n",
       "    </tr>\n",
       "    <tr>\n",
       "      <th>SkinThickness</th>\n",
       "      <td>768.0</td>\n",
       "      <td>20.536458</td>\n",
       "      <td>15.952218</td>\n",
       "      <td>0.000</td>\n",
       "      <td>0.00000</td>\n",
       "      <td>23.0000</td>\n",
       "      <td>32.00000</td>\n",
       "      <td>99.0</td>\n",
       "    </tr>\n",
       "    <tr>\n",
       "      <th>Insulin</th>\n",
       "      <td>768.0</td>\n",
       "      <td>79.799479</td>\n",
       "      <td>115.244002</td>\n",
       "      <td>0.000</td>\n",
       "      <td>0.00000</td>\n",
       "      <td>30.5000</td>\n",
       "      <td>127.25000</td>\n",
       "      <td>846.0</td>\n",
       "    </tr>\n",
       "    <tr>\n",
       "      <th>BMI</th>\n",
       "      <td>768.0</td>\n",
       "      <td>32.831771</td>\n",
       "      <td>18.190821</td>\n",
       "      <td>0.000</td>\n",
       "      <td>27.30000</td>\n",
       "      <td>32.0500</td>\n",
       "      <td>36.60000</td>\n",
       "      <td>400.0</td>\n",
       "    </tr>\n",
       "    <tr>\n",
       "      <th>DiabetesPedigreeFunction</th>\n",
       "      <td>768.0</td>\n",
       "      <td>0.535888</td>\n",
       "      <td>1.817614</td>\n",
       "      <td>0.078</td>\n",
       "      <td>0.24375</td>\n",
       "      <td>0.3725</td>\n",
       "      <td>0.62625</td>\n",
       "      <td>50.0</td>\n",
       "    </tr>\n",
       "    <tr>\n",
       "      <th>Age</th>\n",
       "      <td>768.0</td>\n",
       "      <td>33.319010</td>\n",
       "      <td>11.995482</td>\n",
       "      <td>21.000</td>\n",
       "      <td>24.00000</td>\n",
       "      <td>29.0000</td>\n",
       "      <td>41.00000</td>\n",
       "      <td>99.0</td>\n",
       "    </tr>\n",
       "    <tr>\n",
       "      <th>Outcome</th>\n",
       "      <td>768.0</td>\n",
       "      <td>0.348958</td>\n",
       "      <td>0.476951</td>\n",
       "      <td>0.000</td>\n",
       "      <td>0.00000</td>\n",
       "      <td>0.0000</td>\n",
       "      <td>1.00000</td>\n",
       "      <td>1.0</td>\n",
       "    </tr>\n",
       "  </tbody>\n",
       "</table>\n",
       "</div>"
      ],
      "text/plain": [
       "                          count        mean          std     min       25%  \\\n",
       "Pregnancies               768.0    3.940104     4.324703   0.000   1.00000   \n",
       "Glucose                   768.0  380.910156  5093.663558   0.000  99.00000   \n",
       "BloodPressure             768.0   69.105469    19.355807   0.000  62.00000   \n",
       "SkinThickness             768.0   20.536458    15.952218   0.000   0.00000   \n",
       "Insulin                   768.0   79.799479   115.244002   0.000   0.00000   \n",
       "BMI                       768.0   32.831771    18.190821   0.000  27.30000   \n",
       "DiabetesPedigreeFunction  768.0    0.535888     1.817614   0.078   0.24375   \n",
       "Age                       768.0   33.319010    11.995482  21.000  24.00000   \n",
       "Outcome                   768.0    0.348958     0.476951   0.000   0.00000   \n",
       "\n",
       "                               50%        75%      max  \n",
       "Pregnancies                 3.0000    6.00000     79.0  \n",
       "Glucose                   117.0000  141.00000  99999.0  \n",
       "BloodPressure              72.0000   80.00000    122.0  \n",
       "SkinThickness              23.0000   32.00000     99.0  \n",
       "Insulin                    30.5000  127.25000    846.0  \n",
       "BMI                        32.0500   36.60000    400.0  \n",
       "DiabetesPedigreeFunction    0.3725    0.62625     50.0  \n",
       "Age                        29.0000   41.00000     99.0  \n",
       "Outcome                     0.0000    1.00000      1.0  "
      ]
     },
     "execution_count": 9,
     "metadata": {},
     "output_type": "execute_result"
    }
   ],
   "source": [
    "data.describe().T"
   ]
  },
  {
   "cell_type": "code",
   "execution_count": 10,
   "id": "546cff87",
   "metadata": {},
   "outputs": [
    {
     "data": {
      "text/html": [
       "<div>\n",
       "<style scoped>\n",
       "    .dataframe tbody tr th:only-of-type {\n",
       "        vertical-align: middle;\n",
       "    }\n",
       "\n",
       "    .dataframe tbody tr th {\n",
       "        vertical-align: top;\n",
       "    }\n",
       "\n",
       "    .dataframe thead th {\n",
       "        text-align: right;\n",
       "    }\n",
       "</style>\n",
       "<table border=\"1\" class=\"dataframe\">\n",
       "  <thead>\n",
       "    <tr style=\"text-align: right;\">\n",
       "      <th></th>\n",
       "      <th>Pregnancies</th>\n",
       "      <th>Glucose</th>\n",
       "      <th>BloodPressure</th>\n",
       "      <th>SkinThickness</th>\n",
       "      <th>Insulin</th>\n",
       "      <th>BMI</th>\n",
       "      <th>DiabetesPedigreeFunction</th>\n",
       "      <th>Age</th>\n",
       "      <th>Outcome</th>\n",
       "    </tr>\n",
       "  </thead>\n",
       "  <tbody>\n",
       "    <tr>\n",
       "      <th>0</th>\n",
       "      <td>6</td>\n",
       "      <td>148</td>\n",
       "      <td>72</td>\n",
       "      <td>35</td>\n",
       "      <td>0</td>\n",
       "      <td>33.6</td>\n",
       "      <td>0.627</td>\n",
       "      <td>50</td>\n",
       "      <td>1</td>\n",
       "    </tr>\n",
       "    <tr>\n",
       "      <th>1</th>\n",
       "      <td>1</td>\n",
       "      <td>85</td>\n",
       "      <td>66</td>\n",
       "      <td>29</td>\n",
       "      <td>0</td>\n",
       "      <td>26.6</td>\n",
       "      <td>0.351</td>\n",
       "      <td>31</td>\n",
       "      <td>0</td>\n",
       "    </tr>\n",
       "    <tr>\n",
       "      <th>2</th>\n",
       "      <td>8</td>\n",
       "      <td>183</td>\n",
       "      <td>64</td>\n",
       "      <td>0</td>\n",
       "      <td>0</td>\n",
       "      <td>23.3</td>\n",
       "      <td>0.672</td>\n",
       "      <td>32</td>\n",
       "      <td>1</td>\n",
       "    </tr>\n",
       "    <tr>\n",
       "      <th>3</th>\n",
       "      <td>1</td>\n",
       "      <td>89</td>\n",
       "      <td>66</td>\n",
       "      <td>23</td>\n",
       "      <td>94</td>\n",
       "      <td>28.1</td>\n",
       "      <td>0.167</td>\n",
       "      <td>21</td>\n",
       "      <td>0</td>\n",
       "    </tr>\n",
       "    <tr>\n",
       "      <th>4</th>\n",
       "      <td>0</td>\n",
       "      <td>137</td>\n",
       "      <td>40</td>\n",
       "      <td>35</td>\n",
       "      <td>168</td>\n",
       "      <td>43.1</td>\n",
       "      <td>2.288</td>\n",
       "      <td>33</td>\n",
       "      <td>1</td>\n",
       "    </tr>\n",
       "    <tr>\n",
       "      <th>5</th>\n",
       "      <td>5</td>\n",
       "      <td>116</td>\n",
       "      <td>74</td>\n",
       "      <td>0</td>\n",
       "      <td>0</td>\n",
       "      <td>25.6</td>\n",
       "      <td>0.201</td>\n",
       "      <td>30</td>\n",
       "      <td>0</td>\n",
       "    </tr>\n",
       "    <tr>\n",
       "      <th>6</th>\n",
       "      <td>3</td>\n",
       "      <td>78</td>\n",
       "      <td>50</td>\n",
       "      <td>32</td>\n",
       "      <td>88</td>\n",
       "      <td>31.0</td>\n",
       "      <td>0.248</td>\n",
       "      <td>26</td>\n",
       "      <td>1</td>\n",
       "    </tr>\n",
       "    <tr>\n",
       "      <th>7</th>\n",
       "      <td>10</td>\n",
       "      <td>115</td>\n",
       "      <td>0</td>\n",
       "      <td>0</td>\n",
       "      <td>0</td>\n",
       "      <td>35.3</td>\n",
       "      <td>0.134</td>\n",
       "      <td>29</td>\n",
       "      <td>0</td>\n",
       "    </tr>\n",
       "    <tr>\n",
       "      <th>8</th>\n",
       "      <td>2</td>\n",
       "      <td>197</td>\n",
       "      <td>70</td>\n",
       "      <td>45</td>\n",
       "      <td>543</td>\n",
       "      <td>30.5</td>\n",
       "      <td>0.158</td>\n",
       "      <td>53</td>\n",
       "      <td>1</td>\n",
       "    </tr>\n",
       "    <tr>\n",
       "      <th>9</th>\n",
       "      <td>8</td>\n",
       "      <td>125</td>\n",
       "      <td>96</td>\n",
       "      <td>0</td>\n",
       "      <td>0</td>\n",
       "      <td>0.0</td>\n",
       "      <td>0.232</td>\n",
       "      <td>54</td>\n",
       "      <td>1</td>\n",
       "    </tr>\n",
       "  </tbody>\n",
       "</table>\n",
       "</div>"
      ],
      "text/plain": [
       "   Pregnancies  Glucose  BloodPressure  SkinThickness  Insulin   BMI  \\\n",
       "0            6      148             72             35        0  33.6   \n",
       "1            1       85             66             29        0  26.6   \n",
       "2            8      183             64              0        0  23.3   \n",
       "3            1       89             66             23       94  28.1   \n",
       "4            0      137             40             35      168  43.1   \n",
       "5            5      116             74              0        0  25.6   \n",
       "6            3       78             50             32       88  31.0   \n",
       "7           10      115              0              0        0  35.3   \n",
       "8            2      197             70             45      543  30.5   \n",
       "9            8      125             96              0        0   0.0   \n",
       "\n",
       "   DiabetesPedigreeFunction  Age  Outcome  \n",
       "0                     0.627   50        1  \n",
       "1                     0.351   31        0  \n",
       "2                     0.672   32        1  \n",
       "3                     0.167   21        0  \n",
       "4                     2.288   33        1  \n",
       "5                     0.201   30        0  \n",
       "6                     0.248   26        1  \n",
       "7                     0.134   29        0  \n",
       "8                     0.158   53        1  \n",
       "9                     0.232   54        1  "
      ]
     },
     "metadata": {},
     "output_type": "display_data"
    }
   ],
   "source": [
    "# Overview of the database heads\n",
    "display(data.head(10))"
   ]
  },
  {
   "cell_type": "code",
   "execution_count": 11,
   "id": "f75edb01",
   "metadata": {},
   "outputs": [
    {
     "name": "stdout",
     "output_type": "stream",
     "text": [
      "[500, 549]\n"
     ]
    }
   ],
   "source": [
    "raw_indices=data.loc[(data.values==99999).any(axis=1)].index.tolist()\n",
    "print(raw_indices)"
   ]
  },
  {
   "cell_type": "code",
   "execution_count": 12,
   "id": "ad43f22b",
   "metadata": {},
   "outputs": [
    {
     "data": {
      "text/plain": [
       "Pregnancies                  2\n",
       "Glucose                      2\n",
       "BloodPressure               35\n",
       "SkinThickness                1\n",
       "Insulin                     18\n",
       "BMI                          2\n",
       "DiabetesPedigreeFunction     1\n",
       "Age                          4\n",
       "Outcome                      0\n",
       "dtype: int64"
      ]
     },
     "execution_count": 12,
     "metadata": {},
     "output_type": "execute_result"
    }
   ],
   "source": [
    "import pandas as pd \n",
    "data = pd.read_csv(\"pima-indians-diabetes_Gokaraju_edited.csv\")\n",
    "Data_outliers=(abs(data-data.mean())>3*data.std()).sum()\n",
    "Data_outliers"
   ]
  },
  {
   "cell_type": "code",
   "execution_count": 13,
   "id": "89e658d8",
   "metadata": {},
   "outputs": [
    {
     "data": {
      "image/png": "[encoded data removed]",
      "text/plain": [
       "<Figure size 432x288 with 9 Axes>"
      ]
     },
     "metadata": {
      "needs_background": "light"
     },
     "output_type": "display_data"
    },
    {
     "data": {
      "image/png": "[encoded data removed]",
      "text/plain": [
       "<Figure size 432x288 with 9 Axes>"
      ]
     },
     "metadata": {
      "needs_background": "light"
     },
     "output_type": "display_data"
    }
   ],
   "source": [
    "import pandas as pd \n",
    "import matplotlib.pyplot as plt\n",
    "data = pd.read_csv(\"pima-indians-diabetes_Gokaraju_edited.csv\")\n",
    "data.plot(kind='box', subplots=True, layout=(3,3), sharex=False, sharey=False)\n",
    "data.hist()\n",
    "plt.show()"
   ]
  },
  {
   "cell_type": "code",
   "execution_count": 14,
   "id": "4ac04e7b",
   "metadata": {},
   "outputs": [],
   "source": [
    "import pandas as pd \n",
    "import matplotlib.pyplot as plt\n",
    "data = pd.read_csv(\"pima-indians-diabetes_Gokaraju_edited.csv\")\n",
    "data[['Pregnancies','Glucose','BloodPressure','SkinThickness','Insulin','BMI']]=data[['Pregnancies','Glucose','BloodPressure','SkinThickness','Insulin','BMI']].replace(0,np.nan)"
   ]
  },
  {
   "cell_type": "code",
   "execution_count": 15,
   "id": "450c4029",
   "metadata": {},
   "outputs": [],
   "source": [
    "data[['Glucose','BloodPressure','SkinThickness','Insulin']]=data[['Glucose','BloodPressure','SkinThickness','Insulin']].replace(0,np.nan)"
   ]
  },
  {
   "cell_type": "code",
   "execution_count": 16,
   "id": "61e2872d",
   "metadata": {},
   "outputs": [
    {
     "data": {
      "image/png": "[encoded data removed]",
      "text/plain": [
       "<Figure size 432x288 with 81 Axes>"
      ]
     },
     "metadata": {
      "needs_background": "light"
     },
     "output_type": "display_data"
    }
   ],
   "source": [
    "from pandas.plotting import scatter_matrix\n",
    "scatter_matrix(data)\n",
    "plt.show()"
   ]
  },
  {
   "cell_type": "code",
   "execution_count": 82,
   "id": "bef10533",
   "metadata": {},
   "outputs": [
    {
     "data": {
      "text/html": [
       "<div>\n",
       "<style scoped>\n",
       "    .dataframe tbody tr th:only-of-type {\n",
       "        vertical-align: middle;\n",
       "    }\n",
       "\n",
       "    .dataframe tbody tr th {\n",
       "        vertical-align: top;\n",
       "    }\n",
       "\n",
       "    .dataframe thead th {\n",
       "        text-align: right;\n",
       "    }\n",
       "</style>\n",
       "<table border=\"1\" class=\"dataframe\">\n",
       "  <thead>\n",
       "    <tr style=\"text-align: right;\">\n",
       "      <th></th>\n",
       "      <th>Pregnancies</th>\n",
       "      <th>Glucose</th>\n",
       "      <th>BloodPressure</th>\n",
       "      <th>SkinThickness</th>\n",
       "      <th>Insulin</th>\n",
       "      <th>BMI</th>\n",
       "      <th>DiabetesPedigreeFunction</th>\n",
       "      <th>Age</th>\n",
       "      <th>Outcome</th>\n",
       "    </tr>\n",
       "  </thead>\n",
       "  <tbody>\n",
       "    <tr>\n",
       "      <th>0</th>\n",
       "      <td>6.0</td>\n",
       "      <td>148.0</td>\n",
       "      <td>72.0</td>\n",
       "      <td>35.0</td>\n",
       "      <td>NaN</td>\n",
       "      <td>33.6</td>\n",
       "      <td>0.627</td>\n",
       "      <td>50</td>\n",
       "      <td>1</td>\n",
       "    </tr>\n",
       "    <tr>\n",
       "      <th>1</th>\n",
       "      <td>1.0</td>\n",
       "      <td>85.0</td>\n",
       "      <td>66.0</td>\n",
       "      <td>29.0</td>\n",
       "      <td>NaN</td>\n",
       "      <td>26.6</td>\n",
       "      <td>0.351</td>\n",
       "      <td>31</td>\n",
       "      <td>0</td>\n",
       "    </tr>\n",
       "    <tr>\n",
       "      <th>2</th>\n",
       "      <td>8.0</td>\n",
       "      <td>183.0</td>\n",
       "      <td>64.0</td>\n",
       "      <td>NaN</td>\n",
       "      <td>NaN</td>\n",
       "      <td>23.3</td>\n",
       "      <td>0.672</td>\n",
       "      <td>32</td>\n",
       "      <td>1</td>\n",
       "    </tr>\n",
       "    <tr>\n",
       "      <th>3</th>\n",
       "      <td>1.0</td>\n",
       "      <td>89.0</td>\n",
       "      <td>66.0</td>\n",
       "      <td>23.0</td>\n",
       "      <td>94.0</td>\n",
       "      <td>28.1</td>\n",
       "      <td>0.167</td>\n",
       "      <td>21</td>\n",
       "      <td>0</td>\n",
       "    </tr>\n",
       "    <tr>\n",
       "      <th>4</th>\n",
       "      <td>NaN</td>\n",
       "      <td>137.0</td>\n",
       "      <td>40.0</td>\n",
       "      <td>35.0</td>\n",
       "      <td>168.0</td>\n",
       "      <td>43.1</td>\n",
       "      <td>2.288</td>\n",
       "      <td>33</td>\n",
       "      <td>1</td>\n",
       "    </tr>\n",
       "  </tbody>\n",
       "</table>\n",
       "</div>"
      ],
      "text/plain": [
       "   Pregnancies  Glucose  BloodPressure  SkinThickness  Insulin   BMI  \\\n",
       "0          6.0    148.0           72.0           35.0      NaN  33.6   \n",
       "1          1.0     85.0           66.0           29.0      NaN  26.6   \n",
       "2          8.0    183.0           64.0            NaN      NaN  23.3   \n",
       "3          1.0     89.0           66.0           23.0     94.0  28.1   \n",
       "4          NaN    137.0           40.0           35.0    168.0  43.1   \n",
       "\n",
       "   DiabetesPedigreeFunction  Age  Outcome  \n",
       "0                     0.627   50        1  \n",
       "1                     0.351   31        0  \n",
       "2                     0.672   32        1  \n",
       "3                     0.167   21        0  \n",
       "4                     2.288   33        1  "
      ]
     },
     "execution_count": 82,
     "metadata": {},
     "output_type": "execute_result"
    }
   ],
   "source": [
    "data.head()"
   ]
  },
  {
   "cell_type": "code",
   "execution_count": 84,
   "id": "98893229",
   "metadata": {
    "scrolled": true
   },
   "outputs": [
    {
     "name": "stdout",
     "output_type": "stream",
     "text": [
      "       Pregnancies     Glucose  BloodPressure  SkinThickness     Insulin  \\\n",
      "count   657.000000  761.000000     733.000000     541.000000  394.000000   \n",
      "mean      4.605784  121.604468      72.405184      29.153420  155.548223   \n",
      "std       4.335562   30.477557      12.382158      10.476982  118.775855   \n",
      "min       1.000000   44.000000      24.000000       7.000000   14.000000   \n",
      "25%       2.000000   99.000000      64.000000      22.000000   76.250000   \n",
      "50%       4.000000  117.000000      72.000000      29.000000  125.000000   \n",
      "75%       7.000000  141.000000      80.000000      36.000000  190.000000   \n",
      "max      79.000000  199.000000     122.000000      99.000000  846.000000   \n",
      "\n",
      "              BMI  DiabetesPedigreeFunction         Age     Outcome  \n",
      "count  757.000000                768.000000  768.000000  768.000000  \n",
      "mean    33.308851                  0.535888   33.319010    0.348958  \n",
      "std     17.883197                  1.817614   11.995482    0.476951  \n",
      "min     18.200000                  0.078000   21.000000    0.000000  \n",
      "25%     27.500000                  0.243750   24.000000    0.000000  \n",
      "50%     32.400000                  0.372500   29.000000    0.000000  \n",
      "75%     36.700000                  0.626250   41.000000    1.000000  \n",
      "max    400.000000                 50.000000   99.000000    1.000000  \n"
     ]
    }
   ],
   "source": [
    "data[['Pregnancies','Glucose','BloodPressure','SkinThickness','Insulin','BMI']]=data[['Pregnancies','Glucose','BloodPressure','SkinThickness','Insulin','BMI']].replace(99999,np.nan)     \n",
    "description=data.describe()\n",
    "print(description)"
   ]
  },
  {
   "cell_type": "code",
   "execution_count": null,
   "id": "c3920af2",
   "metadata": {},
   "outputs": [],
   "source": []
  },
  {
   "cell_type": "code",
   "execution_count": 85,
   "id": "d2d943f4",
   "metadata": {
    "collapsed": true
   },
   "outputs": [
    {
     "name": "stdout",
     "output_type": "stream",
     "text": [
      "                0           1           2           3           4           5  \\\n",
      "count  768.000000  761.000000  733.000000  541.000000  394.000000  757.000000   \n",
      "mean     3.940104  121.604468   72.405184   29.153420  155.548223   33.308851   \n",
      "std      4.324703   30.477557   12.382158   10.476982  118.775855   17.883197   \n",
      "min      0.000000   44.000000   24.000000    7.000000   14.000000   18.200000   \n",
      "25%      1.000000   99.000000   64.000000   22.000000   76.250000   27.500000   \n",
      "50%      3.000000  117.000000   72.000000   29.000000  125.000000   32.400000   \n",
      "75%      6.000000  141.000000   80.000000   36.000000  190.000000   36.700000   \n",
      "max     79.000000  199.000000  122.000000   99.000000  846.000000  400.000000   \n",
      "\n",
      "                6           7           8  \n",
      "count  768.000000  768.000000  768.000000  \n",
      "mean     0.535888   33.319010    0.348958  \n",
      "std      1.817614   11.995482    0.476951  \n",
      "min      0.078000   21.000000    0.000000  \n",
      "25%      0.243750   24.000000    0.000000  \n",
      "50%      0.372500   29.000000    0.000000  \n",
      "75%      0.626250   41.000000    1.000000  \n",
      "max     50.000000   99.000000    1.000000  \n"
     ]
    }
   ],
   "source": [
    "import pandas as pd\n",
    "dataset = pd.read_csv(r'pima-indians-diabetes_Gokaraju.csv',header=None)\n",
    "dataset[[1,2,3,4,5]]=dataset[[1,2,3,4,5]].replace(0,np.nan)\n",
    "dataset[[1,2,3,4,5]]=dataset[[1,2,3,4,5]].replace(99999,np.nan)     \n",
    "description=dataset.describe()\n",
    "print(description)"
   ]
  },
  {
   "cell_type": "code",
   "execution_count": 110,
   "id": "bf1093dc",
   "metadata": {
    "scrolled": true
   },
   "outputs": [
    {
     "name": "stdout",
     "output_type": "stream",
     "text": [
      "             preg         Gluco       BPres        skin     Insulin  \\\n",
      "count  768.000000    763.000000  733.000000  541.000000  394.000000   \n",
      "mean     3.940104    383.406291   72.405184   29.153420  155.548223   \n",
      "std      4.324703   5110.253968   12.382158   10.476982  118.775855   \n",
      "min      0.000000     44.000000   24.000000    7.000000   14.000000   \n",
      "25%      1.000000     99.000000   64.000000   22.000000   76.250000   \n",
      "50%      3.000000    117.000000   72.000000   29.000000  125.000000   \n",
      "75%      6.000000    141.000000   80.000000   36.000000  190.000000   \n",
      "max     79.000000  99999.000000  122.000000   99.000000  846.000000   \n",
      "\n",
      "              BMI        pedi         age     Outcome  \n",
      "count  757.000000  768.000000  768.000000  768.000000  \n",
      "mean    33.308851    0.535888   33.319010    0.348958  \n",
      "std     17.883197    1.817614   11.995482    0.476951  \n",
      "min     18.200000    0.078000   21.000000    0.000000  \n",
      "25%     27.500000    0.243750   24.000000    0.000000  \n",
      "50%     32.400000    0.372500   29.000000    0.000000  \n",
      "75%     36.700000    0.626250   41.000000    1.000000  \n",
      "max    400.000000   50.000000   99.000000    1.000000  \n"
     ]
    }
   ],
   "source": [
    "import pandas as pd\n",
    "filename = r\"pima-indians-diabetes_Gokaraju.csv\"\n",
    "names = ['preg', 'Gluco', 'BPres', 'skin', 'Insulin', 'BMI', 'pedi', 'age', 'Outcome']\n",
    "data = pd.read_csv(filename, names=names)\n",
    "data[['Gluco', 'BPres', 'skin', 'Insulin', 'BMI']] = data[['Gluco', 'BPres', 'skin', 'Insulin', 'BMI']].replace(0, np.NaN)\n",
    "description=data.describe()\n",
    "print(description)"
   ]
  },
  {
   "cell_type": "code",
   "execution_count": 109,
   "id": "1ef123f0",
   "metadata": {},
   "outputs": [
    {
     "data": {
      "image/png": "[encoded data removed]",
      "text/plain": [
       "<Figure size 432x288 with 9 Axes>"
      ]
     },
     "metadata": {
      "needs_background": "light"
     },
     "output_type": "display_data"
    },
    {
     "data": {
      "image/png": "[encoded data removed]",
      "text/plain": [
       "<Figure size 432x288 with 9 Axes>"
      ]
     },
     "metadata": {
      "needs_background": "light"
     },
     "output_type": "display_data"
    }
   ],
   "source": [
    "import pandas as pd\n",
    "filename = r\"pima-indians-diabetes_Gokaraju.csv\"\n",
    "names = ['preg', 'Gluco', 'BPres', 'skin', 'Insulin', 'BMI', 'pedi', 'age', 'Outcome']\n",
    "data = read_csv(filename, names=names)\n",
    "data[['Gluco', 'BPres', 'skin', 'Insulin', 'BMI']] = data[['Gluco', 'BPres', 'skin', 'Insulin', 'BMI']].replace(0, np.NaN)\n",
    "data[['Gluco', 'BPres', 'skin', 'Insulin', 'BMI']] = data[['Gluco', 'BPres', 'skin', 'Insulin', 'BMI']].replace(99999, np.NaN)\n",
    "data.dropna(inplace=True)\n",
    "data.plot(kind='box', subplots=True, layout=(3,3), sharex=False, sharey=False)\n",
    "data.hist()\n",
    "plt.show()"
   ]
  },
  {
   "cell_type": "code",
   "execution_count": null,
   "id": "06b1c835",
   "metadata": {},
   "outputs": [],
   "source": []
  },
  {
   "cell_type": "code",
   "execution_count": 112,
   "id": "ffce7842",
   "metadata": {},
   "outputs": [
    {
     "name": "stdout",
     "output_type": "stream",
     "text": [
      "[5.338e+01 8.075e+02 3.308e+01 9.591e+01 3.187e+03 2.263e+01 1.689e-01\n",
      " 1.503e+02]\n"
     ]
    }
   ],
   "source": [
    "import pandas as pd\n",
    "import numpy as np\n",
    "from numpy import set_printoptions\n",
    "from sklearn.feature_selection import SelectKBest\n",
    "from sklearn.feature_selection import chi2\n",
    "filename = r\"pima-indians-diabetes_Gokaraju_edited.csv\"\n",
    "names = ['preg', 'Gluco', 'BPres', 'skin', 'Insulin', 'BMI', 'pedi', 'age', 'Outcome']\n",
    "data = pd.read_csv(filename, names=names)\n",
    "data[['Gluco', 'BPres', 'skin', 'Insulin', 'BMI']] = data[['Gluco', 'BPres', 'skin', 'Insulin', 'BMI']].replace(0, np.NaN)\n",
    "data[['Gluco', 'BPres', 'skin', 'Insulin', 'BMI']] = data[['Gluco', 'BPres', 'skin', 'Insulin', 'BMI']].replace(99999, np.NaN)\n",
    "data.dropna(inplace=True) \n",
    "array = data.values\n",
    "X = array[:,0:8]\n",
    "Y = array[:,8]\n",
    "# feature extraction\n",
    "test = SelectKBest(score_func=chi2, k=4)\n",
    "fit = test.fit(X, Y)\n",
    "# summarize scores\n",
    "set_printoptions(precision=3)\n",
    "print(fit.scores_)"
   ]
  },
  {
   "cell_type": "code",
   "execution_count": 2,
   "id": "33e045b7",
   "metadata": {},
   "outputs": [
    {
     "name": "stdout",
     "output_type": "stream",
     "text": [
      "SVM: 0.653120 (0.005458)\n"
     ]
    }
   ],
   "source": [
    "import pandas as pd\n",
    "import numpy as np\n",
    "from sklearn.svm import SVC \n",
    "from sklearn.model_selection import cross_val_score\n",
    "from sklearn.model_selection import StratifiedKFold\n",
    "from sklearn.model_selection import train_test_split\n",
    "filename = r\"pima-indians-diabetes_Gokaraju.csv\"\n",
    "names = ['preg', 'Gluco', 'BPres', 'skin', 'Insulin', 'BMI', 'pedi', 'age', 'Outcome']\n",
    "data = pd.read_csv(filename, names=names)\n",
    "array = data.values\n",
    "X = array[:,0:8]\n",
    "Y = array[:,8]\n",
    "X_train, X_validation, Y_train, Y_validation = train_test_split(X, Y, test_size=0.20, random_state=1)\n",
    "models = []\n",
    "\n",
    "models.append(('SVM', SVC(gamma='auto')))\n",
    "results = []\n",
    "names = []\n",
    "for name, model in models:\n",
    "      kfold = StratifiedKFold(n_splits=10, random_state=1, shuffle=True) \n",
    "      cv_results = cross_val_score(model, X_train, Y_train, cv=kfold, scoring='accuracy')\n",
    "      results.append(cv_results)\n",
    "      names.append(name)\n",
    "      print('%s: %f (%f)' % (name, cv_results.mean(), cv_results.std()))"
   ]
  },
  {
   "cell_type": "code",
   "execution_count": 115,
   "id": "44425ead",
   "metadata": {},
   "outputs": [
    {
     "name": "stdout",
     "output_type": "stream",
     "text": [
      "SVM: 0.663508 (0.014432)\n"
     ]
    }
   ],
   "source": [
    "data[['Gluco', 'BPres', 'skin', 'Insulin', 'BMI']] = data[['Gluco', 'BPres', 'skin', 'Insulin', 'BMI']].replace(0, np.NaN)\n",
    "data[['Gluco', 'BPres', 'skin', 'Insulin', 'BMI']] = data[['Gluco', 'BPres', 'skin', 'Insulin', 'BMI']].replace(99999, np.NaN)\n",
    "data.dropna(inplace=True) \n",
    "array = data.values\n",
    "X = array[:,0:8]\n",
    "Y = array[:,8]\n",
    "X_train, X_validation, Y_train, Y_validation = train_test_split(X, Y, test_size=0.20, random_state=1)\n",
    "models = []\n",
    "models.append(('SVM', SVC(gamma='auto')))\n",
    "results = []\n",
    "names = []\n",
    "for name, model in models:\n",
    "      kfold = StratifiedKFold(n_splits=10, random_state=1, shuffle=True)\n",
    "    cv_results = cross_val_score(model, X_train, Y_train, cv=kfold, scoring='accuracy')\n",
    "      results.append(cv_results)\n",
    "      names.append(name)\n",
    "      print('%s: %f (%f)' % (name, cv_results.mean(), cv_results.std()))"
   ]
  },
  {
   "cell_type": "code",
   "execution_count": 23,
   "id": "364173f2",
   "metadata": {},
   "outputs": [
    {
     "name": "stdout",
     "output_type": "stream",
     "text": [
      "[5.338e+01 8.075e+02 3.308e+01 9.591e+01 3.187e+03 2.263e+01 1.689e-01\n",
      " 1.503e+02]\n"
     ]
    }
   ],
   "source": [
    "import pandas as pd\n",
    "import numpy as np\n",
    "from numpy import set_printoptions\n",
    "from sklearn.feature_selection import SelectKBest\n",
    "from sklearn.feature_selection import chi2\n",
    "from sklearn.svm import SVC \n",
    "from sklearn.model_selection import cross_val_score\n",
    "from sklearn.model_selection import StratifiedKFold\n",
    "from sklearn.model_selection import train_test_split\n",
    "filename = r\"pima-indians-diabetes_Gokaraju.csv\"\n",
    "names = ['preg', 'Gluco', 'BPres', 'skin', 'Insulin', 'BMI', 'pedi', 'age', 'Outcome']\n",
    "data = pd.read_csv(filename, names=names)\n",
    "data[['Gluco', 'BPres', 'skin', 'Insulin', 'BMI']] = data[['Gluco', 'BPres', 'skin', 'Insulin', 'BMI']].replace(0, np.NaN)\n",
    "data[['Gluco', 'BPres', 'skin', 'Insulin', 'BMI']] = data[['Gluco', 'BPres', 'skin', 'Insulin', 'BMI']].replace(99999, np.NaN)\n",
    "data.dropna(inplace=True) \n",
    "array = data.values\n",
    "X = array[:,0:8]\n",
    "Y = array[:,8]\n",
    "# feature extraction\n",
    "test = SelectKBest(score_func=chi2, k=4)\n",
    "fit = test.fit(X, Y)\n",
    "# summarize scores\n",
    "set_printoptions(precision=3)\n",
    "print(fit.scores_)"
   ]
  },
  {
   "cell_type": "code",
   "execution_count": 24,
   "id": "ae69ba03",
   "metadata": {},
   "outputs": [
    {
     "data": {
      "text/plain": [
       "array([[  1.   ,  89.   ,  66.   , ...,  28.1  ,   0.167,  21.   ],\n",
       "       [  0.   , 137.   ,  40.   , ...,  43.1  ,   2.288,  33.   ],\n",
       "       [  3.   ,  78.   ,  50.   , ...,  31.   ,   0.248,  26.   ],\n",
       "       ...,\n",
       "       [  2.   ,  88.   ,  58.   , ...,  28.4  ,   0.766,  22.   ],\n",
       "       [ 10.   , 101.   ,  76.   , ...,  32.9  ,   0.171,  63.   ],\n",
       "       [  5.   , 121.   ,  72.   , ...,  26.2  ,   0.245,  30.   ]])"
      ]
     },
     "execution_count": 24,
     "metadata": {},
     "output_type": "execute_result"
    }
   ],
   "source": [
    "X"
   ]
  },
  {
   "cell_type": "code",
   "execution_count": 25,
   "id": "300c3e53",
   "metadata": {},
   "outputs": [
    {
     "data": {
      "text/plain": [
       "391"
      ]
     },
     "execution_count": 25,
     "metadata": {},
     "output_type": "execute_result"
    }
   ],
   "source": [
    "len(X)"
   ]
  },
  {
   "cell_type": "code",
   "execution_count": 35,
   "id": "4efb3a7e",
   "metadata": {},
   "outputs": [
    {
     "name": "stdout",
     "output_type": "stream",
     "text": [
      "SVM: 0.652823 (0.009724)\n"
     ]
    }
   ],
   "source": [
    "import pandas as pd\n",
    "import numpy as np\n",
    "from sklearn.svm import SVC \n",
    "from sklearn.model_selection import cross_val_score\n",
    "from sklearn.model_selection import StratifiedKFold\n",
    "from sklearn.model_selection import train_test_split\n",
    "from numpy import set_printoptions\n",
    "from sklearn.feature_selection import SelectKBest\n",
    "from sklearn.feature_selection import chi2\n",
    "names=[\"Pregnancies\",\"Glucose\", \"BloodPressure\",\"SkinThickness\", \"Insulin\", \"Age\", \"Outcome\"]\n",
    "data = pd.read_csv(r'pima-indians-diabetes_Gokaraju.csv',names=names)\n",
    "data[[\"Glucose\", \"BloodPressure\",\"SkinThickness\", \"Insulin\"]] = data[[\"Glucose\", \"BloodPressure\",\"SkinThickness\", \"Insulin\"]].replace(0, np.NaN)\n",
    "data[[\"Glucose\",\"BloodPressure\",\"SkinThickness\",\"Insulin\"]]=data[[\"Glucose\",\"BloodPressure\",\"SkinThickness\",\"Insulin\"]].replace(99999, np.NaN)\n",
    "data.dropna(inplace=True) \n",
    "array = data.values\n",
    "X = array[:,0:6]\n",
    "Y = array[:,6]\n",
    "# feature extraction\n",
    "test = SelectKBest(score_func=chi2, k=4)\n",
    "fit = test.fit(X, Y)\n",
    "# summarize scores\n",
    "set_printoptions(precision=3)\n",
    "X_train, X_validation, Y_train, Y_validation = train_test_split(X, Y, test_size=0.20, random_state=1)\n",
    "models = []\n",
    "models.append(('SVM', SVC(gamma='auto')))\n",
    "results = []\n",
    "names = []\n",
    "for name, model in models:\n",
    "      kfold = StratifiedKFold(n_splits=10, random_state=1, shuffle=True) \n",
    "      cv_results = cross_val_score(model, X_train, Y_train, cv=kfold, scoring='accuracy')\n",
    "      results.append(cv_results)\n",
    "      names.append(name)\n",
    "      print('%s: %f (%f)' % (name, cv_results.mean(), cv_results.std()))"
   ]
  },
  {
   "cell_type": "code",
   "execution_count": 8,
   "id": "8c77bef3",
   "metadata": {},
   "outputs": [
    {
     "name": "stdout",
     "output_type": "stream",
     "text": [
      "             preg       Gluco       BPres        skin     Insulin         BMI  \\\n",
      "count  768.000000  761.000000  733.000000  541.000000  394.000000  757.000000   \n",
      "mean     3.940104  121.604468   72.405184   29.153420  155.548223   33.308851   \n",
      "std      4.324703   30.477557   12.382158   10.476982  118.775855   17.883197   \n",
      "min      0.000000   44.000000   24.000000    7.000000   14.000000   18.200000   \n",
      "25%      1.000000   99.000000   64.000000   22.000000   76.250000   27.500000   \n",
      "50%      3.000000  117.000000   72.000000   29.000000  125.000000   32.400000   \n",
      "75%      6.000000  141.000000   80.000000   36.000000  190.000000   36.700000   \n",
      "max     79.000000  199.000000  122.000000   99.000000  846.000000  400.000000   \n",
      "\n",
      "             pedi         age     Outcome  \n",
      "count  768.000000  768.000000  768.000000  \n",
      "mean     0.535888   33.319010    0.348958  \n",
      "std      1.817614   11.995482    0.476951  \n",
      "min      0.078000   21.000000    0.000000  \n",
      "25%      0.243750   24.000000    0.000000  \n",
      "50%      0.372500   29.000000    0.000000  \n",
      "75%      0.626250   41.000000    1.000000  \n",
      "max     50.000000   99.000000    1.000000  \n"
     ]
    }
   ],
   "source": [
    "import pandas as pd\n",
    "filename = r\"pima-indians-diabetes_Gokaraju.csv\"\n",
    "names = ['preg', 'Gluco', 'BPres', 'skin', 'Insulin', 'BMI', 'pedi', 'age', 'Outcome']\n",
    "data = pd.read_csv(filename, names=names)\n",
    "data[['Gluco', 'BPres', 'skin', 'Insulin', 'BMI']] = data[['Gluco', 'BPres', 'skin', 'Insulin', 'BMI']].replace(0, np.NaN)\n",
    "data[['Gluco', 'BPres', 'skin', 'Insulin', 'BMI']] = data[['Gluco', 'BPres', 'skin', 'Insulin', 'BMI']].replace(99999, np.NaN)\n",
    "description=data.describe()\n",
    "print(description)"
   ]
  },
  {
   "cell_type": "code",
   "execution_count": 19,
   "id": "cf57b63f",
   "metadata": {},
   "outputs": [
    {
     "data": {
      "text/plain": [
       "393"
      ]
     },
     "execution_count": 19,
     "metadata": {},
     "output_type": "execute_result"
    }
   ],
   "source": []
  },
  {
   "cell_type": "code",
   "execution_count": null,
   "id": "0148dfd8",
   "metadata": {},
   "outputs": [],
   "source": []
  },
  {
   "cell_type": "code",
   "execution_count": null,
   "id": "b604c9f4",
   "metadata": {},
   "outputs": [],
   "source": []
  }
 ],
 "metadata": {
  "kernelspec": {
   "display_name": "Python 3 (ipykernel)",
   "language": "python",
   "name": "python3"
  },
  "language_info": {
   "codemirror_mode": {
    "name": "ipython",
    "version": 3
   },
   "file_extension": ".py",
   "mimetype": "text/x-python",
   "name": "python",
   "nbconvert_exporter": "python",
   "pygments_lexer": "ipython3",
   "version": "3.9.7"
  }
 },
 "nbformat": 4,
 "nbformat_minor": 5
}
