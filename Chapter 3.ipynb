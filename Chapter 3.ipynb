{
 "cells": [
  {
   "cell_type": "code",
   "execution_count": 60,
   "metadata": {
    "id": "mpLFLCAg-HLm"
   },
   "outputs": [],
   "source": [
    "import numpy as np\n",
    "from numpy import ndarray\n",
    "\n",
    "from typing import Callable, Dict, Tuple, List\n",
    "\n",
    "np.set_printoptions(precision=4)\n",
    "# GRAPHS_IMG_FILEPATH = \"/Users/seth/development/01_deep-learning-from-scratch/images/02_fundamentals/graphs/\""
   ]
  },
  {
   "cell_type": "code",
   "execution_count": 61,
   "metadata": {
    "id": "efWcV99P-HLq"
   },
   "outputs": [
    {
     "name": "stdout",
     "output_type": "stream",
     "text": [
      "The autoreload extension is already loaded. To reload it, use:\n",
      "  %reload_ext autoreload\n"
     ]
    }
   ],
   "source": [
    "%load_ext autoreload\n",
    "%autoreload 2"
   ]
  },
  {
   "cell_type": "code",
   "execution_count": 62,
   "metadata": {
    "id": "dKR6gPBX-HLq"
   },
   "outputs": [],
   "source": [
    "TEST_ALL = False"
   ]
  },
  {
   "cell_type": "markdown",
   "metadata": {
    "id": "oIPQxEvg-HLr"
   },
   "source": [
    "# Boston data"
   ]
  },
  {
   "cell_type": "code",
   "execution_count": 63,
   "metadata": {
    "id": "r9BuoDqN-HLs"
   },
   "outputs": [],
   "source": [
    "from sklearn.datasets import load_boston"
   ]
  },
  {
   "cell_type": "code",
   "execution_count": 64,
   "metadata": {
    "colab": {
     "base_uri": "https://localhost:8080/"
    },
    "id": "F7ymEMsc-HLs",
    "outputId": "696d71ad-fec2-4e0f-c496-560435bceb9e"
   },
   "outputs": [],
   "source": [
    "boston = load_boston()"
   ]
  },
  {
   "cell_type": "code",
   "execution_count": 65,
   "metadata": {
    "id": "3tJaOubr-HLt"
   },
   "outputs": [],
   "source": [
    "data = boston.data\n",
    "target = boston.target\n",
    "features = boston.feature_names"
   ]
  },
  {
   "cell_type": "code",
   "execution_count": 66,
   "metadata": {
    "colab": {
     "base_uri": "https://localhost:8080/"
    },
    "id": "cnRoMRnr-OoX",
    "outputId": "dda9bd93-6880-48f3-b51b-468106c51443"
   },
   "outputs": [
    {
     "data": {
      "text/plain": [
       "array(['CRIM', 'ZN', 'INDUS', 'CHAS', 'NOX', 'RM', 'AGE', 'DIS', 'RAD',\n",
       "       'TAX', 'PTRATIO', 'B', 'LSTAT'], dtype='<U7')"
      ]
     },
     "execution_count": 66,
     "metadata": {},
     "output_type": "execute_result"
    }
   ],
   "source": [
    "features"
   ]
  },
  {
   "cell_type": "markdown",
   "metadata": {
    "id": "mODOFTpJ-HLu"
   },
   "source": [
    "# SciKit Learn Linear Regression"
   ]
  },
  {
   "cell_type": "markdown",
   "metadata": {
    "id": "IGsqJwPV-HLv"
   },
   "source": [
    "## Data prep"
   ]
  },
  {
   "cell_type": "code",
   "execution_count": 48,
   "metadata": {
    "id": "ZgwOF5Jv-HLv"
   },
   "outputs": [],
   "source": [
    "from sklearn.preprocessing import StandardScaler\n",
    "s = StandardScaler()\n",
    "data = s.fit_transform(data)"
   ]
  },
  {
   "cell_type": "code",
   "execution_count": 67,
   "metadata": {
    "id": "003QCgeC-HLw"
   },
   "outputs": [],
   "source": [
    "from sklearn.model_selection import train_test_split\n",
    "X_train, X_test, y_train, y_test = train_test_split(data, target, test_size=0.3, random_state=80718)\n",
    "\n",
    "y_train, y_test = y_train.reshape(-1, 1), y_test.reshape(-1, 1)"
   ]
  },
  {
   "cell_type": "code",
   "execution_count": 70,
   "metadata": {},
   "outputs": [
    {
     "data": {
      "text/plain": [
       "354"
      ]
     },
     "execution_count": 70,
     "metadata": {},
     "output_type": "execute_result"
    }
   ],
   "source": [
    "len(y_train)"
   ]
  },
  {
   "cell_type": "code",
   "execution_count": 72,
   "metadata": {},
   "outputs": [
    {
     "data": {
      "text/plain": [
       "152"
      ]
     },
     "execution_count": 72,
     "metadata": {},
     "output_type": "execute_result"
    }
   ],
   "source": [
    "len(X_test)"
   ]
  },
  {
   "cell_type": "code",
   "execution_count": null,
   "metadata": {},
   "outputs": [],
   "source": []
  },
  {
   "cell_type": "markdown",
   "metadata": {
    "id": "ADQx7CKV-HLx"
   },
   "source": [
    "## Regression"
   ]
  },
  {
   "cell_type": "code",
   "execution_count": 81,
   "metadata": {
    "id": "6VdrAMh0-HLx",
    "scrolled": true
   },
   "outputs": [],
   "source": [
    "from sklearn.linear_model import LinearRegression\n",
    "lr = LinearRegression(fit_intercept=True)\n",
    "lr.fit(X_train, y_train)\n",
    "preds = lr.predict(X_test)"
   ]
  },
  {
   "cell_type": "code",
   "execution_count": 82,
   "metadata": {
    "id": "PixddIDT-HLy"
   },
   "outputs": [],
   "source": [
    "import matplotlib.pyplot as plt"
   ]
  },
  {
   "cell_type": "code",
   "execution_count": 83,
   "metadata": {
    "colab": {
     "base_uri": "https://localhost:8080/",
     "height": 310
    },
    "id": "F8sPnwIo-HLz",
    "outputId": "a92e30e0-3db6-4421-d74f-d6f0f7e70f0c"
   },
   "outputs": [
    {
     "data": {
      "image/png": "[encoded data removed]",
      "text/plain": [
       "<Figure size 432x288 with 1 Axes>"
      ]
     },
     "metadata": {
      "needs_background": "light"
     },
     "output_type": "display_data"
    }
   ],
   "source": [
    "plt.xlabel(\"Predicted value\")\n",
    "plt.ylabel(\"Actual value\")\n",
    "plt.title(\"Predicted vs. Actual values for\\nnLinear Regression model\")\n",
    "plt.xlim([0, 51])\n",
    "plt.ylim([0, 51])\n",
    "plt.scatter(preds, y_test)\n",
    "plt.plot([0, 51], [0, 51]);\n",
    "#plt.savefig(IMG_FILEPATH + \"00_linear_real_pred_vs_actual.png\");"
   ]
  },
  {
   "cell_type": "markdown",
   "metadata": {
    "id": "33iE0_Hn-HL0"
   },
   "source": [
    "## Testing changing feature"
   ]
  },
  {
   "cell_type": "code",
   "execution_count": 84,
   "metadata": {
    "colab": {
     "base_uri": "https://localhost:8080/",
     "height": 310
    },
    "id": "WqKbeNh1-HL0",
    "outputId": "db5cbad0-ed54-4919-8cf4-5be87cdcd929",
    "scrolled": true
   },
   "outputs": [
    {
     "data": {
      "image/png": "[encoded data removed]",
      "text/plain": [
       "<Figure size 432x288 with 1 Axes>"
      ]
     },
     "metadata": {
      "needs_background": "light"
     },
     "output_type": "display_data"
    }
   ],
   "source": [
    "plt.scatter(X_test[:, 12], y_test)\n",
    "plt.xlabel(\"Most important feature from our data\")\n",
    "plt.ylabel(\"Target\")\n",
    "plt.title(\"Relationship between most \\n important feature and target\");\n",
    "# plt.savefig(IMG_FILEPATH + \"02_most_important_feature_vs_target.png\")"
   ]
  },
  {
   "cell_type": "markdown",
   "metadata": {
    "id": "BaJQQO0M-HL0"
   },
   "source": [
    "Non linear relationship"
   ]
  },
  {
   "cell_type": "markdown",
   "metadata": {
    "id": "jI1PTFyY-HL1"
   },
   "source": [
    "## Model error"
   ]
  },
  {
   "cell_type": "code",
   "execution_count": 85,
   "metadata": {
    "id": "AdclE1DI-HL1"
   },
   "outputs": [],
   "source": [
    "def mae(preds: ndarray, actuals: ndarray):\n",
    "    '''\n",
    "    Compute mean absolute error.\n",
    "    '''\n",
    "    return np.mean(np.abs(preds - actuals))\n",
    "\n",
    "def rmse(preds: ndarray, actuals: ndarray):\n",
    "    '''\n",
    "    Compute root mean squared error.\n",
    "    '''\n",
    "    return np.sqrt(np.mean(np.power(preds - actuals, 2)))"
   ]
  },
  {
   "cell_type": "code",
   "execution_count": 86,
   "metadata": {},
   "outputs": [],
   "source": [
    "#np.mean(np.abs(preds - actuals))"
   ]
  },
  {
   "cell_type": "code",
   "execution_count": 94,
   "metadata": {},
   "outputs": [],
   "source": [
    "#round(mae(preds,y_test),0)"
   ]
  },
  {
   "cell_type": "code",
   "execution_count": 95,
   "metadata": {
    "colab": {
     "base_uri": "https://localhost:8080/"
    },
    "id": "JxZHxfGJ-HL1",
    "outputId": "dff80112-d519-409b-cd59-54c864da9716"
   },
   "outputs": [
    {
     "name": "stdout",
     "output_type": "stream",
     "text": [
      "Mean absolute error: 3.5671 \n",
      "Root mean squared error: 5.0476\n"
     ]
    }
   ],
   "source": [
    "print(\"Mean absolute error:\", round(mae(preds, y_test), 4), \"\\n\"\n",
    "      \"Root mean squared error:\", round(rmse(preds, y_test), 4))"
   ]
  },
  {
   "cell_type": "code",
   "execution_count": 96,
   "metadata": {
    "colab": {
     "base_uri": "https://localhost:8080/"
    },
    "id": "1wMKe03P-HL2",
    "outputId": "b4856a30-f5f3-46c4-e75e-7da8cf253345",
    "scrolled": true
   },
   "outputs": [
    {
     "data": {
      "text/plain": [
       "array([[-1.200e-01,  3.000e-02,  4.000e-02,  2.790e+00, -1.906e+01,\n",
       "         3.390e+00,  3.000e-02, -1.270e+00,  3.000e-01, -1.000e-02,\n",
       "        -1.080e+00,  1.000e-02, -5.900e-01]])"
      ]
     },
     "execution_count": 96,
     "metadata": {},
     "output_type": "execute_result"
    }
   ],
   "source": [
    "import numpy as np\n",
    "np.round(lr.coef_, 2)"
   ]
  },
  {
   "cell_type": "markdown",
   "metadata": {
    "id": "YiWqv-CH-HL2"
   },
   "source": [
    "## Manual linear regression"
   ]
  },
  {
   "cell_type": "code",
   "execution_count": 32,
   "metadata": {
    "id": "TYDP2dp5-HL2"
   },
   "outputs": [],
   "source": [
    "def forward_linear_regression(X_batch: ndarray,\n",
    "                              y_batch: ndarray,\n",
    "                              weights: Dict[str, ndarray]\n",
    "                              )-> Tuple[float, Dict[str, ndarray]]:\n",
    "    '''\n",
    "    Forward pass for the step-by-step linear regression.\n",
    "    '''\n",
    "    # assert batch sizes of X and y are equal\n",
    "    assert X_batch.shape[0] == y_batch.shape[0]\n",
    "\n",
    "    # assert that matrix multiplication can work\n",
    "    assert X_batch.shape[1] == weights['W'].shape[0]\n",
    "\n",
    "    # assert that B is simply a 1x1 ndarray\n",
    "    assert weights['B'].shape[0] == weights['B'].shape[1] == 1\n",
    "\n",
    "    # compute the operations on the forward pass\n",
    "    N = np.dot(X_batch, weights['W'])\n",
    "\n",
    "    P = N + weights['B']\n",
    "\n",
    "    loss = np.mean(np.power(y_batch - P, 2))\n",
    "\n",
    "    # save the information computed on the forward pass\n",
    "    forward_info: Dict[str, ndarray] = {}\n",
    "    forward_info['X'] = X_batch\n",
    "    forward_info['N'] = N\n",
    "    forward_info['P'] = P\n",
    "    forward_info['y'] = y_batch\n",
    "\n",
    "    return loss, forward_info"
   ]
  },
  {
   "cell_type": "code",
   "execution_count": 39,
   "metadata": {
    "id": "gNp2sWD0-HL3"
   },
   "outputs": [],
   "source": [
    "def permute_data(X: ndarray, y: ndarray):\n",
    "    '''\n",
    "    Permute X and y, using the same permutation, along axis=0\n",
    "    '''\n",
    "    perm = np.random.permutation(X.shape[0])\n",
    "    return X[perm], y[perm]"
   ]
  },
  {
   "cell_type": "code",
   "execution_count": 40,
   "metadata": {
    "id": "8WR_AWiK-HL3"
   },
   "outputs": [],
   "source": [
    "def loss_gradients(forward_info: Dict[str, ndarray],\n",
    "                   weights: Dict[str, ndarray]) -> Dict[str, ndarray]:\n",
    "    '''\n",
    "    Compute dLdW and dLdB for the step-by-step linear regression model.\n",
    "    '''\n",
    "    batch_size = forward_info['X'].shape[0]\n",
    "\n",
    "    dLdP = -2 * (forward_info['y'] - forward_info['P'])\n",
    "\n",
    "    dPdN = np.ones_like(forward_info['N'])\n",
    "\n",
    "    dPdB = np.ones_like(weights['B'])\n",
    "\n",
    "    dLdN = dLdP * dPdN\n",
    "\n",
    "    dNdW = np.transpose(forward_info['X'], (1, 0))\n",
    "    \n",
    "    # need to use matrix multiplication here,\n",
    "    # with dNdW on the left (see note at the end of last chapter)    \n",
    "    dLdW = np.dot(dNdW, dLdN)\n",
    "\n",
    "    # need to sum along dimension representing the batch size:\n",
    "    # see note near the end of the chapter    \n",
    "    dLdB = (dLdP * dPdB).sum(axis=0)\n",
    "\n",
    "    loss_gradients: Dict[str, ndarray] = {}\n",
    "    loss_gradients['W'] = dLdW\n",
    "    loss_gradients['B'] = dLdB\n",
    "\n",
    "    return loss_gradients"
   ]
  },
  {
   "cell_type": "code",
   "execution_count": 21,
   "metadata": {
    "id": "wVEcafK5-HL4"
   },
   "outputs": [],
   "source": [
    "Batch = Tuple[ndarray, ndarray]\n",
    "\n",
    "def generate_batch(X: ndarray, \n",
    "                   y: ndarray,\n",
    "                   start: int = 0,\n",
    "                   batch_size: int = 10) -> Batch:\n",
    "    '''\n",
    "    Generate batch from X and y, given a start position\n",
    "    '''\n",
    "    assert X.ndim == y.ndim == 2, \\\n",
    "    \"X and Y must be 2 dimensional\"\n",
    "\n",
    "    if start+batch_size > X.shape[0]:\n",
    "        batch_size = X.shape[0] - start\n",
    "    \n",
    "    X_batch, y_batch = X[start:start+batch_size], y[start:start+batch_size]\n",
    "    \n",
    "    return X_batch, y_batch"
   ]
  },
  {
   "cell_type": "code",
   "execution_count": 22,
   "metadata": {
    "id": "BpRtpF_R-HL4"
   },
   "outputs": [],
   "source": [
    "def forward_loss(X: ndarray,\n",
    "                 y: ndarray,\n",
    "                 weights: Dict[str, ndarray]) -> Tuple[Dict[str, ndarray], float]:\n",
    "    '''\n",
    "    Generate predictions and calculate loss for a step-by-step linear regression\n",
    "    (used mostly during inference).\n",
    "    '''\n",
    "    N = np.dot(X, weights['W'])\n",
    "\n",
    "    P = N + weights['B']\n",
    "\n",
    "    loss = np.mean(np.power(y - P, 2))\n",
    "\n",
    "    forward_info: Dict[str, ndarray] = {}\n",
    "    forward_info['X'] = X\n",
    "    forward_info['N'] = N\n",
    "    forward_info['P'] = P\n",
    "    forward_info['y'] = y\n",
    "\n",
    "    return forward_info, loss"
   ]
  },
  {
   "cell_type": "code",
   "execution_count": 23,
   "metadata": {
    "id": "OZU4AUE7-HL4"
   },
   "outputs": [],
   "source": [
    "def init_weights(n_in: int) -> Dict[str, ndarray]:\n",
    "    '''\n",
    "    Initialize weights on first forward pass of model.\n",
    "    '''\n",
    "    \n",
    "    weights: Dict[str, ndarray] = {}\n",
    "    W = np.random.randn(n_in, 1)\n",
    "    B = np.random.randn(1, 1)\n",
    "    \n",
    "    weights['W'] = W\n",
    "    weights['B'] = B\n",
    "\n",
    "    return weights"
   ]
  },
  {
   "cell_type": "code",
   "execution_count": 24,
   "metadata": {
    "id": "oYQamGBs-HL4"
   },
   "outputs": [],
   "source": [
    "def train(X: ndarray, \n",
    "          y: ndarray, \n",
    "          n_iter: int = 1000,\n",
    "          learning_rate: float = 0.01,\n",
    "          batch_size: int = 100,\n",
    "          return_losses: bool = False, \n",
    "          return_weights: bool = False, \n",
    "          seed: int = 1) -> None:\n",
    "    '''\n",
    "    Train model for a certain number of epochs.\n",
    "    '''\n",
    "    if seed:\n",
    "        np.random.seed(seed)\n",
    "    start = 0\n",
    "\n",
    "    # Initialize weights\n",
    "    weights = init_weights(X.shape[1])\n",
    "\n",
    "    # Permute data\n",
    "    X, y = permute_data(X, y)\n",
    "    \n",
    "    if return_losses:\n",
    "        losses = []\n",
    "\n",
    "    for i in range(n_iter):\n",
    "\n",
    "        # Generate batch\n",
    "        if start >= X.shape[0]:\n",
    "            X, y = permute_data(X, y)\n",
    "            start = 0\n",
    "        \n",
    "        X_batch, y_batch = generate_batch(X, y, start, batch_size)\n",
    "        start += batch_size\n",
    "    \n",
    "        # Train net using generated batch\n",
    "        forward_info, loss = forward_loss(X_batch, y_batch, weights)\n",
    "\n",
    "        if return_losses:\n",
    "            losses.append(loss)\n",
    "\n",
    "        loss_grads = loss_gradients(forward_info, weights)\n",
    "        for key in weights.keys():\n",
    "            weights[key] -= learning_rate * loss_grads[key]\n",
    "\n",
    "    if return_weights:\n",
    "        return losses, weights\n",
    "    \n",
    "    return None"
   ]
  },
  {
   "cell_type": "code",
   "execution_count": 25,
   "metadata": {
    "id": "RTrCh6Ia-HL5"
   },
   "outputs": [],
   "source": [
    "train_info = train(X_train, y_train,\n",
    "                   n_iter = 1000,\n",
    "                   learning_rate = 0.001,\n",
    "                   batch_size=23, \n",
    "                   return_losses=True, \n",
    "                   return_weights=True, \n",
    "                   seed=180708)\n",
    "losses = train_info[0]\n",
    "weights = train_info[1]"
   ]
  },
  {
   "cell_type": "code",
   "execution_count": 26,
   "metadata": {
    "colab": {
     "base_uri": "https://localhost:8080/",
     "height": 265
    },
    "id": "XXjZ5a4B-HL5",
    "outputId": "ed0607dd-aaa0-43fa-c860-c991dfa6d5d4",
    "scrolled": true
   },
   "outputs": [
    {
     "data": {
      "image/png": "[encoded data removed]",
      "text/plain": [
       "<Figure size 432x288 with 1 Axes>"
      ]
     },
     "metadata": {
      "needs_background": "light"
     },
     "output_type": "display_data"
    }
   ],
   "source": [
    "plt.plot(list(range(1000)), losses);"
   ]
  },
  {
   "cell_type": "code",
   "execution_count": 27,
   "metadata": {
    "id": "VFldSqcD-HL5"
   },
   "outputs": [],
   "source": [
    "def predict(X: ndarray,\n",
    "            weights: Dict[str, ndarray]):\n",
    "    '''\n",
    "    Generate predictions from the step-by-step linear regression model.\n",
    "    '''\n",
    "\n",
    "    N = np.dot(X, weights['W'])\n",
    "\n",
    "    return N + weights['B']"
   ]
  },
  {
   "cell_type": "code",
   "execution_count": 28,
   "metadata": {
    "id": "0kzWFNzi-HL5"
   },
   "outputs": [],
   "source": [
    "preds = predict(X_test, weights)"
   ]
  },
  {
   "cell_type": "code",
   "execution_count": 29,
   "metadata": {
    "colab": {
     "base_uri": "https://localhost:8080/"
    },
    "id": "Vyq3WryS-HL6",
    "outputId": "776ac766-dbf2-45c4-e04b-1bca19ca4e24"
   },
   "outputs": [
    {
     "name": "stdout",
     "output_type": "stream",
     "text": [
      "Mean absolute error: 3.5644 \n",
      "Root mean squared error: 5.0497\n"
     ]
    }
   ],
   "source": [
    "print(\"Mean absolute error:\", round(mae(preds, y_test), 4), \"\\n\"\n",
    "      \"Root mean squared error:\", round(rmse(preds, y_test), 4))"
   ]
  },
  {
   "cell_type": "code",
   "execution_count": 30,
   "metadata": {
    "colab": {
     "base_uri": "https://localhost:8080/"
    },
    "id": "810MBcxA-HL6",
    "outputId": "02819783-4dca-4a2a-cfb2-5561e4eec9ed"
   },
   "outputs": [
    {
     "data": {
      "text/plain": [
       "22.0776"
      ]
     },
     "execution_count": 30,
     "metadata": {},
     "output_type": "execute_result"
    }
   ],
   "source": [
    "np.round(y_test.mean(), 4)"
   ]
  },
  {
   "cell_type": "code",
   "execution_count": 31,
   "metadata": {
    "colab": {
     "base_uri": "https://localhost:8080/"
    },
    "id": "DSxf61cv-HL6",
    "outputId": "4c729cfe-266b-437c-fb3a-a302a677daaf",
    "scrolled": true
   },
   "outputs": [
    {
     "data": {
      "text/plain": [
       "0.2287"
      ]
     },
     "execution_count": 31,
     "metadata": {},
     "output_type": "execute_result"
    }
   ],
   "source": [
    "np.round(rmse(preds, y_test) / y_test.mean(), 4)"
   ]
  },
  {
   "cell_type": "markdown",
   "metadata": {
    "id": "_FJKZe_L-HL6"
   },
   "source": [
    "RMSE is 23% on average of y."
   ]
  },
  {
   "cell_type": "code",
   "execution_count": 32,
   "metadata": {
    "colab": {
     "base_uri": "https://localhost:8080/",
     "height": 310
    },
    "id": "qzFuh4V5-HL6",
    "outputId": "670f97f1-4fac-449a-b1d9-ef3fd76f8802"
   },
   "outputs": [
    {
     "data": {
      "image/png": "[encoded data removed]",
      "text/plain": [
       "<Figure size 432x288 with 1 Axes>"
      ]
     },
     "metadata": {
      "needs_background": "light"
     },
     "output_type": "display_data"
    }
   ],
   "source": [
    "plt.xlabel(\"Predicted value\")\n",
    "plt.ylabel(\"Actual value\")\n",
    "plt.title(\"Predicted vs. Actual values for\\ncustom linear regression model\");\n",
    "plt.xlim([0, 51])\n",
    "plt.ylim([0, 51])\n",
    "plt.scatter(preds, y_test)\n",
    "plt.plot([0, 51], [0, 51]);\n",
    "# plt.savefig(GRAPHS_IMG_FILEPATH + \"01_linear_custom_pred_vs_actual.png\");"
   ]
  },
  {
   "cell_type": "code",
   "execution_count": 33,
   "metadata": {
    "id": "oYzvPNjD-HL7"
   },
   "outputs": [],
   "source": [
    "NUM = 40\n",
    "a = np.repeat(X_test[:,:-1].mean(axis=0, keepdims=True), NUM, axis=0)\n",
    "b = np.linspace(-1.5, 3.5, NUM).reshape(NUM, 1)\n",
    "\n",
    "test_feature = np.concatenate([a, b], axis=1)\n",
    "test_preds = predict(test_feature, weights)[:, 0]"
   ]
  },
  {
   "cell_type": "code",
   "execution_count": 34,
   "metadata": {
    "colab": {
     "base_uri": "https://localhost:8080/",
     "height": 310
    },
    "id": "zIWpvH12-HL7",
    "outputId": "2993a4a2-b07c-4e7f-9c20-1a2b10d4fb7e"
   },
   "outputs": [
    {
     "data": {
      "image/png": "[encoded data removed]",
      "text/plain": [
       "<Figure size 432x288 with 1 Axes>"
      ]
     },
     "metadata": {
      "needs_background": "light"
     },
     "output_type": "display_data"
    }
   ],
   "source": [
    "plt.scatter(X_test[:, 12], y_test)\n",
    "plt.plot(np.array(test_feature[:, -1]), test_preds, linewidth=2, c='orange')\n",
    "plt.ylim([6, 51])\n",
    "plt.xlabel(\"Most important feature (normalized)\")\n",
    "plt.ylabel(\"Target/Predictions\")\n",
    "plt.title(\"Most important feature vs. target and predictions,\\n custom linear regression\");\n",
    "# plt.savefig(GRAPHS_IMG_FILEPATH + \"03_most_important_feature_vs_predictions.png\")"
   ]
  },
  {
   "cell_type": "markdown",
   "metadata": {
    "id": "wmHFqYWG-HL7"
   },
   "source": [
    "## Coefficients"
   ]
  },
  {
   "cell_type": "code",
   "execution_count": 35,
   "metadata": {
    "colab": {
     "base_uri": "https://localhost:8080/"
    },
    "id": "U6vTJQt8-HL7",
    "outputId": "8445fad5-3dc9-4fd2-c370-3be866642a8b"
   },
   "outputs": [
    {
     "data": {
      "text/plain": [
       "array([-1.0954,  0.7353,  0.1977,  0.7475, -2.2849,  2.2006,  0.7195,\n",
       "       -2.6384,  2.5358, -1.6892, -2.3162,  0.8435, -4.2553])"
      ]
     },
     "execution_count": 35,
     "metadata": {},
     "output_type": "execute_result"
    }
   ],
   "source": [
    "np.round(weights['W'].reshape(-1), 4)"
   ]
  },
  {
   "cell_type": "code",
   "execution_count": 36,
   "metadata": {
    "colab": {
     "base_uri": "https://localhost:8080/"
    },
    "id": "tTPVdMcD-HL7",
    "outputId": "4872ea81-eae2-4d6f-c5f1-2ffc6be3f511"
   },
   "outputs": [
    {
     "data": {
      "text/plain": [
       "array([[-1.0148,  0.7065,  0.276 ,  0.7092, -2.206 ,  2.3793,  0.7133,\n",
       "        -2.6625,  2.6325, -1.8172, -2.3266,  0.8465, -4.1889]])"
      ]
     },
     "execution_count": 36,
     "metadata": {},
     "output_type": "execute_result"
    }
   ],
   "source": [
    "np.round(lr.coef_, 4)"
   ]
  },
  {
   "cell_type": "code",
   "execution_count": 37,
   "metadata": {
    "colab": {
     "base_uri": "https://localhost:8080/"
    },
    "id": "_xDM7X-v-HL8",
    "outputId": "f0bc95bb-3622-45fd-c0cc-bd95af965eb0"
   },
   "outputs": [
    {
     "data": {
      "text/plain": [
       "array([[22.6312]])"
      ]
     },
     "execution_count": 37,
     "metadata": {},
     "output_type": "execute_result"
    }
   ],
   "source": [
    "np.round(weights['B'], 4)"
   ]
  },
  {
   "cell_type": "code",
   "execution_count": 38,
   "metadata": {
    "colab": {
     "base_uri": "https://localhost:8080/"
    },
    "id": "RTBJwKyZ-HL8",
    "outputId": "61a38123-4de9-40fd-9b61-3855391b1c5e",
    "scrolled": true
   },
   "outputs": [
    {
     "data": {
      "text/plain": [
       "array([22.6195])"
      ]
     },
     "execution_count": 38,
     "metadata": {},
     "output_type": "execute_result"
    }
   ],
   "source": [
    "np.round(lr.intercept_, 4)"
   ]
  },
  {
   "cell_type": "markdown",
   "metadata": {
    "id": "dVO0iDcr-HL8"
   },
   "source": [
    "Coefficients are the same in the SciKit Learn linear regression as in the \"custom\" linear regression."
   ]
  },
  {
   "cell_type": "markdown",
   "metadata": {
    "id": "Z54qDFTY-HL8"
   },
   "source": [
    "## Theoretical relationship between most important feature and target"
   ]
  },
  {
   "cell_type": "code",
   "execution_count": 39,
   "metadata": {
    "id": "kJUmGsEw-HL8"
   },
   "outputs": [],
   "source": [
    "NUM = 40\n",
    "a = np.repeat(X_test[:,:-1].mean(axis=0, keepdims=True), NUM, axis=0)\n",
    "b = np.linspace(-1.5, 3.5, NUM).reshape(NUM, 1)"
   ]
  },
  {
   "cell_type": "code",
   "execution_count": 40,
   "metadata": {
    "id": "t9hx-x4T-HL8"
   },
   "outputs": [],
   "source": [
    "test_feature = np.concatenate([a, b], axis=1)\n",
    "preds = predict(test_feature, weights)[:, 0]"
   ]
  },
  {
   "cell_type": "code",
   "execution_count": 41,
   "metadata": {
    "colab": {
     "base_uri": "https://localhost:8080/",
     "height": 0
    },
    "id": "FqMmbp7k-HL9",
    "outputId": "54abb067-ca2e-4643-c4ee-fc6d3fcc283d",
    "scrolled": false
   },
   "outputs": [
    {
     "data": {
      "text/plain": [
       "(6.0, 51.0)"
      ]
     },
     "execution_count": 41,
     "metadata": {},
     "output_type": "execute_result"
    },
    {
     "data": {
      "image/png": "[encoded data removed]",
      "text/plain": [
       "<Figure size 432x288 with 1 Axes>"
      ]
     },
     "metadata": {
      "needs_background": "light"
     },
     "output_type": "display_data"
    }
   ],
   "source": [
    "plt.scatter(np.array(test_feature[:, -1]), np.array(preds))\n",
    "plt.ylim([6, 51])\n",
    "# plt.savefig(GRAPHS_IMG_FILEPATH + \"/04_relationship_most_impt_feat_preds.png\")"
   ]
  },
  {
   "cell_type": "markdown",
   "metadata": {
    "id": "IdmePoWs-HL9"
   },
   "source": [
    "# Neural network regression"
   ]
  },
  {
   "cell_type": "code",
   "execution_count": 42,
   "metadata": {
    "id": "GArdHpCL-HL9"
   },
   "outputs": [],
   "source": [
    "def sigmoid(x: ndarray) -> ndarray:\n",
    "    return 1 / (1 + np.exp(-1.0 * x))"
   ]
  },
  {
   "cell_type": "code",
   "execution_count": 43,
   "metadata": {
    "colab": {
     "base_uri": "https://localhost:8080/",
     "height": 295
    },
    "id": "djj4raEN-HL9",
    "outputId": "db212393-2665-476d-b705-e8290da89d68"
   },
   "outputs": [
    {
     "data": {
      "image/png": "[encoded data removed]",
      "text/plain": [
       "<Figure size 432x288 with 1 Axes>"
      ]
     },
     "metadata": {
      "needs_background": "light"
     },
     "output_type": "display_data"
    }
   ],
   "source": [
    "plt.plot(np.arange(-5, 5, 0.01),\n",
    "         sigmoid(np.arange(-5, 5, 0.01)));\n",
    "plt.title(\"Sigmoid function plotted from x=-5 to x=5\")\n",
    "plt.xlabel(\"X\")\n",
    "plt.ylabel(\"$sigmoid(x)$\");\n",
    "# plt.savefig(GRAPHS_IMG_FILEPATH + \"05_sigmoid_function.png\")"
   ]
  },
  {
   "cell_type": "code",
   "execution_count": 44,
   "metadata": {
    "id": "sL28slQj-HL9"
   },
   "outputs": [],
   "source": [
    "def init_weights(input_size: int, \n",
    "                 hidden_size: int) -> Dict[str, ndarray]:\n",
    "    '''\n",
    "    Initialize weights during the forward pass for step-by-step neural network model.\n",
    "    '''\n",
    "    weights: Dict[str, ndarray] = {}\n",
    "    weights['W1'] = np.random.randn(input_size, hidden_size)\n",
    "    weights['B1'] = np.random.randn(1, hidden_size)\n",
    "    weights['W2'] = np.random.randn(hidden_size, 1)\n",
    "    weights['B2'] = np.random.randn(1, 1)\n",
    "    return weights"
   ]
  },
  {
   "cell_type": "code",
   "execution_count": 45,
   "metadata": {
    "id": "njcCoG2X-HL-"
   },
   "outputs": [],
   "source": [
    "def forward_loss(X: ndarray,\n",
    "                 y: ndarray,\n",
    "                 weights: Dict[str, ndarray]\n",
    "                 ) -> Tuple[Dict[str, ndarray], float]:\n",
    "    '''\n",
    "    Compute the forward pass and the loss for the step-by-step \n",
    "    neural network model.     \n",
    "    '''\n",
    "    M1 = np.dot(X, weights['W1'])\n",
    "\n",
    "    N1 = M1 + weights['B1']\n",
    "\n",
    "    O1 = sigmoid(N1)\n",
    "    \n",
    "    M2 = np.dot(O1, weights['W2'])\n",
    "\n",
    "    P = M2 + weights['B2']    \n",
    "\n",
    "    loss = np.mean(np.power(y - P, 2))\n",
    "\n",
    "    forward_info: Dict[str, ndarray] = {}\n",
    "    forward_info['X'] = X\n",
    "    forward_info['M1'] = M1\n",
    "    forward_info['N1'] = N1\n",
    "    forward_info['O1'] = O1\n",
    "    forward_info['M2'] = M2\n",
    "    forward_info['P'] = P\n",
    "    forward_info['y'] = y\n",
    "\n",
    "    return forward_info, loss"
   ]
  },
  {
   "cell_type": "code",
   "execution_count": null,
   "metadata": {
    "id": "jrUXqPNR-HL-"
   },
   "outputs": [],
   "source": [
    "def loss_gradients(forward_info: Dict[str, ndarray], \n",
    "                   weights: Dict[str, ndarray]) -> Dict[str, ndarray]:\n",
    "    '''\n",
    "    Compute the partial derivatives of the loss with respect to each of the parameters in the neural network.\n",
    "    '''    \n",
    "    dLdP = -(forward_info['y'] - forward_info['P'])\n",
    "    \n",
    "    dPdM2 = np.ones_like(forward_info['M2'])\n",
    "\n",
    "    dLdM2 = dLdP * dPdM2\n",
    "  \n",
    "    dPdB2 = np.ones_like(weights['B2'])\n",
    "\n",
    "    dLdB2 = (dLdP * dPdB2).sum(axis=0)\n",
    "    \n",
    "    dM2dW2 = np.transpose(forward_info['O1'], (1, 0))\n",
    "    \n",
    "    dLdW2 = np.dot(dM2dW2, dLdP)\n",
    "\n",
    "    dM2dO1 = np.transpose(weights['W2'], (1, 0)) \n",
    "\n",
    "    dLdO1 = np.dot(dLdM2, dM2dO1)\n",
    "    \n",
    "    dO1dN1 = sigmoid(forward_info['N1']) * (1- sigmoid(forward_info['N1']))\n",
    "    \n",
    "    dLdN1 = dLdO1 * dO1dN1\n",
    "    \n",
    "    dN1dB1 = np.ones_like(weights['B1'])\n",
    "    \n",
    "    dN1dM1 = np.ones_like(forward_info['M1'])\n",
    "    \n",
    "    dLdB1 = (dLdN1 * dN1dB1).sum(axis=0)\n",
    "    \n",
    "    dLdM1 = dLdN1 * dN1dM1\n",
    "    \n",
    "    dM1dW1 = np.transpose(forward_info['X'], (1, 0)) \n",
    "\n",
    "    dLdW1 = np.dot(dM1dW1, dLdM1)\n",
    "\n",
    "    loss_gradients: Dict[str, ndarray] = {}\n",
    "    loss_gradients['W2'] = dLdW2\n",
    "    loss_gradients['B2'] = dLdB2.sum(axis=0)\n",
    "    loss_gradients['W1'] = dLdW1\n",
    "    loss_gradients['B1'] = dLdB1.sum(axis=0)\n",
    "    \n",
    "    return loss_gradients"
   ]
  },
  {
   "cell_type": "code",
   "execution_count": null,
   "metadata": {
    "id": "x_NrVCf6-HL-"
   },
   "outputs": [],
   "source": [
    "def predict(X: ndarray, \n",
    "            weights: Dict[str, ndarray]) -> ndarray:\n",
    "    '''\n",
    "    Generate predictions from the step-by-step neural network model. \n",
    "    '''\n",
    "    M1 = np.dot(X, weights['W1'])\n",
    "\n",
    "    N1 = M1 + weights['B1']\n",
    "\n",
    "    O1 = sigmoid(N1)\n",
    "\n",
    "    M2 = np.dot(O1, weights['W2'])\n",
    "\n",
    "    P = M2 + weights['B2']    \n",
    "\n",
    "    return P"
   ]
  },
  {
   "cell_type": "code",
   "execution_count": null,
   "metadata": {
    "id": "m6PJ30XD-HL_"
   },
   "outputs": [],
   "source": [
    "def train(X_train: ndarray, y_train: ndarray,\n",
    "          X_test: ndarray, y_test: ndarray,\n",
    "          n_iter: int = 1000,\n",
    "          test_every: int = 1000,\n",
    "          learning_rate: float = 0.01,\n",
    "          hidden_size= 13,\n",
    "          batch_size: int = 100,\n",
    "          return_losses: bool = False, \n",
    "          return_weights: bool = False, \n",
    "          return_scores: bool = False,\n",
    "          seed: int = 1) -> None:\n",
    "\n",
    "    if seed:\n",
    "        np.random.seed(seed)\n",
    "\n",
    "    start = 0\n",
    "\n",
    "    # Initialize weights\n",
    "    weights = init_weights(X_train.shape[1], \n",
    "                           hidden_size=hidden_size)\n",
    "\n",
    "    # Permute data\n",
    "    X_train, y_train = permute_data(X_train, y_train)\n",
    "    \n",
    "\n",
    "    losses = []\n",
    "        \n",
    "    val_scores = []\n",
    "\n",
    "    for i in range(n_iter):\n",
    "\n",
    "        # Generate batch\n",
    "        if start >= X_train.shape[0]:\n",
    "            X_train, y_train = permute_data(X_train, y_train)\n",
    "            start = 0\n",
    "        \n",
    "        X_batch, y_batch = generate_batch(X_train, y_train, start, batch_size)\n",
    "        start += batch_size\n",
    "    \n",
    "        # Train net using generated batch\n",
    "        forward_info, loss = forward_loss(X_batch, y_batch, weights)\n",
    "\n",
    "        if return_losses:\n",
    "            losses.append(loss)\n",
    "\n",
    "        loss_grads = loss_gradients(forward_info, weights)\n",
    "        for key in weights.keys():\n",
    "            weights[key] -= learning_rate * loss_grads[key]\n",
    "        \n",
    "        if return_scores:\n",
    "            if i % test_every == 0 and i != 0:\n",
    "                preds = predict(X_test, weights)\n",
    "                val_scores.append(r2_score(preds, y_test))\n",
    "\n",
    "    if return_weights:\n",
    "        return losses, weights, val_scores\n",
    "    \n",
    "    return None"
   ]
  },
  {
   "cell_type": "code",
   "execution_count": null,
   "metadata": {
    "id": "8Fbcnym7-HL_"
   },
   "outputs": [],
   "source": [
    "if TEST_ALL:\n",
    "    num_iter = 10000\n",
    "    test_every = 1000\n",
    "    train_info = train(X_train, y_train, X_test, y_test,\n",
    "                       n_iter=num_iter,\n",
    "                       test_every = test_every,\n",
    "                       learning_rate = 0.001,\n",
    "                       batch_size=23, \n",
    "                       return_losses=False, \n",
    "                       return_weights=True, \n",
    "                       return_scores=False,\n",
    "                       seed=80718)\n",
    "    losses = train_info[0]\n",
    "    weights = train_info[1]\n",
    "    val_scores = train_info[2]"
   ]
  },
  {
   "cell_type": "code",
   "execution_count": null,
   "metadata": {
    "id": "X9xvNFCS-HL_",
    "scrolled": true
   },
   "outputs": [],
   "source": [
    "if TEST_ALL:\n",
    "    import matplotlib.pyplot as plt\n",
    "    %matplotlib inline\n",
    "    plt.ylim([-1,1])\n",
    "    plt.plot(list(range(int(num_iter / test_every - 1))), val_scores); \n",
    "    plt.xlabel(\"Batches (000s)\")\n",
    "    plt.title(\"Validation Scores\")"
   ]
  },
  {
   "cell_type": "markdown",
   "metadata": {
    "id": "0y_RUPfS-HL_"
   },
   "source": [
    "### Learning rate tuning"
   ]
  },
  {
   "cell_type": "code",
   "execution_count": null,
   "metadata": {
    "id": "IANQuY4P-HL_"
   },
   "outputs": [],
   "source": [
    "def r2_score_lr(learning_rate):\n",
    "    train_info = train(X_train, y_train, X_test, y_test,\n",
    "                   n_iter=100000,\n",
    "                   test_every = 100000,\n",
    "                   learning_rate = learning_rate,\n",
    "                   batch_size=23, \n",
    "                   return_losses=False, \n",
    "                   return_weights=True, \n",
    "                   return_scores=False,\n",
    "                   seed=80718)\n",
    "    weights = train_info[1]\n",
    "    preds = predict(X_test, weights)\n",
    "    return r2_score(y_test, preds)"
   ]
  },
  {
   "cell_type": "code",
   "execution_count": null,
   "metadata": {
    "id": "IaZvL7oR-HMA"
   },
   "outputs": [],
   "source": [
    "if TEST_ALL:\n",
    "    lrs = np.geomspace(1e-2, 1e-6, num=20)"
   ]
  },
  {
   "cell_type": "code",
   "execution_count": null,
   "metadata": {
    "id": "QDtRbkJK-HMA"
   },
   "outputs": [],
   "source": [
    "if TEST_ALL:\n",
    "    r2s = [r2_score_lr(lr) for lr in lrs]"
   ]
  },
  {
   "cell_type": "code",
   "execution_count": null,
   "metadata": {
    "id": "BcnwCaWT-HMA"
   },
   "outputs": [],
   "source": [
    "if TEST_ALL:\n",
    "    plt.semilogx(lrs, r2s)"
   ]
  },
  {
   "cell_type": "markdown",
   "metadata": {
    "id": "zQ4xpLym-HMA"
   },
   "source": [
    "## Evaluating best model"
   ]
  },
  {
   "cell_type": "code",
   "execution_count": null,
   "metadata": {
    "id": "_qxBoF57-HMA"
   },
   "outputs": [],
   "source": [
    "train_info = train(X_train, y_train, X_test, y_test,\n",
    "                   n_iter=10000,\n",
    "                   test_every = 1000,\n",
    "                   learning_rate = 0.001,\n",
    "                   batch_size=23, \n",
    "                   return_losses=True, \n",
    "                   return_weights=True, \n",
    "                   return_scores=False,\n",
    "                   seed=180807)\n",
    "losses = train_info[0]\n",
    "weights = train_info[1]"
   ]
  },
  {
   "cell_type": "code",
   "execution_count": null,
   "metadata": {
    "id": "0FJsslig-HMA",
    "outputId": "0ea338cf-b12a-439a-aa4d-90cf3c2fee4c"
   },
   "outputs": [
    {
     "data": {
      "image/png": "[encoded data removed]",
      "text/plain": [
       "<Figure size 432x288 with 1 Axes>"
      ]
     },
     "metadata": {
      "needs_background": "light"
     },
     "output_type": "display_data"
    }
   ],
   "source": [
    "plt.plot(list(range(10000)), losses);"
   ]
  },
  {
   "cell_type": "code",
   "execution_count": null,
   "metadata": {
    "id": "7Rb5GN1E-HMB"
   },
   "outputs": [],
   "source": [
    "preds = predict(X_test, weights)"
   ]
  },
  {
   "cell_type": "markdown",
   "metadata": {
    "id": "eHeHgG5E-HMB"
   },
   "source": [
    "## Investigation of most important features"
   ]
  },
  {
   "cell_type": "markdown",
   "metadata": {
    "id": "E46_V3CX-HMB"
   },
   "source": [
    "Most important combinations of features are the two with absolute values of greater than 9:"
   ]
  },
  {
   "cell_type": "code",
   "execution_count": null,
   "metadata": {
    "id": "59x43pCX-HMB",
    "outputId": "12ad4456-7043-47d9-ef65-285dc9287cb6"
   },
   "outputs": [
    {
     "data": {
      "text/plain": [
       "array([[  6.8818],\n",
       "       [  7.3908],\n",
       "       [  5.632 ],\n",
       "       [  7.2358],\n",
       "       [  7.6253],\n",
       "       [  6.754 ],\n",
       "       [  3.3251],\n",
       "       [  9.7287],\n",
       "       [  5.6011],\n",
       "       [-10.2469],\n",
       "       [  5.5645],\n",
       "       [  5.6762],\n",
       "       [ -4.4088]])"
      ]
     },
     "execution_count": 57,
     "metadata": {},
     "output_type": "execute_result"
    }
   ],
   "source": [
    "weights['W2']"
   ]
  },
  {
   "cell_type": "markdown",
   "metadata": {
    "id": "lBgCaY7O-HMB"
   },
   "source": [
    "These are at index 7 and index 9. Here are the combinations themselves:"
   ]
  },
  {
   "cell_type": "code",
   "execution_count": null,
   "metadata": {
    "id": "icTrDEo2-HMB",
    "outputId": "e56f454c-f19a-47ba-aa9b-b00492c869a3",
    "scrolled": true
   },
   "outputs": [
    {
     "data": {
      "text/plain": [
       "array([-3.3532e+00, -4.6775e-01,  5.4810e-01, -8.8043e-02,  1.7536e+00,\n",
       "       -5.3111e+00, -9.4313e-01, -5.8730e-01, -1.2341e-03,  1.1375e+00,\n",
       "       -5.2801e-01,  1.1592e+00,  1.6007e+00])"
      ]
     },
     "execution_count": 58,
     "metadata": {},
     "output_type": "execute_result"
    }
   ],
   "source": [
    "weights['W1'][7]"
   ]
  },
  {
   "cell_type": "code",
   "execution_count": null,
   "metadata": {
    "id": "3TADgNek-HMB",
    "outputId": "bffb446a-c9ca-46ba-eec1-cbef1aa7bfb5"
   },
   "outputs": [
    {
     "data": {
      "text/plain": [
       "array([-2.6785,  3.9213,  2.2398, -3.6323, -0.2241,  3.1889,  0.3231,\n",
       "        0.4316, -1.9733,  0.2403, -1.4463, -0.5084,  1.5561])"
      ]
     },
     "execution_count": 59,
     "metadata": {},
     "output_type": "execute_result"
    }
   ],
   "source": [
    "weights['W1'][9]"
   ]
  },
  {
   "cell_type": "code",
   "execution_count": null,
   "metadata": {
    "id": "PYDSDGgh-HMC",
    "outputId": "c5c0ed06-45f5-4503-921a-3f4420d1a07a"
   },
   "outputs": [
    {
     "name": "stdout",
     "output_type": "stream",
     "text": [
      "Mean absolute error: 2.5951 \n",
      "Root mean squared error: 3.8851\n"
     ]
    }
   ],
   "source": [
    "print(\"Mean absolute error:\", round(mae(preds, y_test), 4), \"\\n\"\n",
    "      \"Root mean squared error:\", round(rmse(preds, y_test), 4))"
   ]
  },
  {
   "cell_type": "code",
   "execution_count": null,
   "metadata": {
    "id": "4mzA93G9-HMC",
    "outputId": "57afbf50-e150-492a-cba0-db31bffd49fd"
   },
   "outputs": [
    {
     "data": {
      "image/png": "[encoded data removed]",
      "text/plain": [
       "<Figure size 432x288 with 1 Axes>"
      ]
     },
     "metadata": {
      "needs_background": "light"
     },
     "output_type": "display_data"
    }
   ],
   "source": [
    "plt.xlabel(\"Predicted value\")\n",
    "plt.ylabel(\"Target\")\n",
    "plt.title(\"Predicted value vs. target,\\n neural network regression\")\n",
    "plt.xlim([0, 51])\n",
    "plt.ylim([0, 51])\n",
    "plt.scatter(preds, y_test)\n",
    "plt.plot([0, 51], [0, 51]);\n",
    "# plt.savefig(GRAPHS_IMG_FILEPATH + \"07_neural_network_regression_preds_vs_target.png\");"
   ]
  },
  {
   "cell_type": "code",
   "execution_count": null,
   "metadata": {
    "id": "FXkbG1mk-HMC",
    "outputId": "8e3179c2-932a-4500-ba55-6aedec0af5f7"
   },
   "outputs": [
    {
     "data": {
      "text/plain": [
       "2.5951"
      ]
     },
     "execution_count": 62,
     "metadata": {},
     "output_type": "execute_result"
    }
   ],
   "source": [
    "np.round(np.mean(np.array(np.abs(preds - y_test))), 4)"
   ]
  },
  {
   "cell_type": "code",
   "execution_count": null,
   "metadata": {
    "id": "OPyQSLde-HMC",
    "outputId": "16fa708b-222a-4a3d-ff43-ecd54e938ade"
   },
   "outputs": [
    {
     "data": {
      "text/plain": [
       "15.0943"
      ]
     },
     "execution_count": 63,
     "metadata": {},
     "output_type": "execute_result"
    }
   ],
   "source": [
    "np.round(np.mean(np.array(np.power(preds - y_test, 2))), 4)"
   ]
  },
  {
   "cell_type": "markdown",
   "metadata": {
    "id": "psb7WpY2-HMC"
   },
   "source": [
    "## Theoretical relationship between most important feature and target"
   ]
  },
  {
   "cell_type": "code",
   "execution_count": null,
   "metadata": {
    "id": "erxDZNCq-HMC"
   },
   "outputs": [],
   "source": [
    "NUM = 40\n",
    "a = np.repeat(X_test[:,:-1].mean(axis=0, keepdims=True), NUM, axis=0)\n",
    "b = np.linspace(-1.5, 3.5, NUM).reshape(NUM, 1)\n",
    "test_feature = np.concatenate([a, b], axis=1)\n",
    "preds_test = predict(test_feature, weights)[:, 0]"
   ]
  },
  {
   "cell_type": "code",
   "execution_count": null,
   "metadata": {
    "id": "Vnr49vPK-HMD",
    "outputId": "89aac1c6-bc3c-4ecf-f196-8857190a4986",
    "scrolled": true
   },
   "outputs": [
    {
     "data": {
      "image/png": "[encoded data removed]",
      "text/plain": [
       "<Figure size 432x288 with 1 Axes>"
      ]
     },
     "metadata": {
      "needs_background": "light"
     },
     "output_type": "display_data"
    }
   ],
   "source": [
    "plt.scatter(X_test[:, 12], preds)\n",
    "plt.plot(np.array(test_feature[:, -1]), preds_test, linewidth=2, c='orange')\n",
    "plt.ylim([6, 51])\n",
    "plt.xlabel(\"Most important feature (normalized)\")\n",
    "plt.ylabel(\"Target/Predictions\")\n",
    "plt.title(\"Most important feature vs. target and predictions,\\n neural network regression\");\n",
    "# plt.savefig(GRAPHS_IMG_FILEPATH + \"08_neural_network_regression_impt_feat_vs_preds.png\")"
   ]
  }
 ],
 "metadata": {
  "colab": {
   "name": "Code.ipynb",
   "provenance": []
  },
  "kernelspec": {
   "display_name": "Python 3 (ipykernel)",
   "language": "python",
   "name": "python3"
  },
  "language_info": {
   "codemirror_mode": {
    "name": "ipython",
    "version": 3
   },
   "file_extension": ".py",
   "mimetype": "text/x-python",
   "name": "python",
   "nbconvert_exporter": "python",
   "pygments_lexer": "ipython3",
   "version": "3.9.7"
  }
 },
 "nbformat": 4,
 "nbformat_minor": 1
}
