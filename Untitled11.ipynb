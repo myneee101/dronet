{
 "cells": [
  {
   "cell_type": "code",
   "execution_count": 10,
   "id": "d67a39a3",
   "metadata": {},
   "outputs": [
    {
     "name": "stdout",
     "output_type": "stream",
     "text": [
      "[array([[131, 136, 148, ..., 126, 124,  95],\n",
      "       [136, 152, 150, ..., 118, 117,  90],\n",
      "       [139, 165, 169, ..., 115, 106,  80],\n",
      "       ...,\n",
      "       [124, 134, 155, ...,  32,  95,  95],\n",
      "       [119, 133, 161, ...,  52,  56,  68],\n",
      "       [115, 128, 158, ...,  47,  51,  71]], dtype=uint8), array([[ 88,  87,  88, ...,  84,  85,  85],\n",
      "       [ 86,  87,  86, ...,  87,  87,  85],\n",
      "       [ 86,  87,  87, ...,  87,  86,  86],\n",
      "       ...,\n",
      "       [141, 143, 141, ..., 123, 124, 123],\n",
      "       [144, 143, 144, ..., 126, 126, 129],\n",
      "       [143, 144, 144, ..., 124, 122, 128]], dtype=uint8), array([[186, 186, 186, ..., 172, 171, 171],\n",
      "       [183, 186, 185, ..., 172, 172, 171],\n",
      "       [186, 186, 186, ..., 172, 172, 171],\n",
      "       ...,\n",
      "       [193, 193, 194, ..., 195, 195, 195],\n",
      "       [194, 193, 194, ..., 195, 195, 194],\n",
      "       [194, 194, 194, ..., 194, 194, 193]], dtype=uint8)]\n"
     ]
    }
   ],
   "source": [
    "import cv2\n",
    "import glob\n",
    "from pathlib import Path\n",
    "\n",
    "#path=path(\".\")\n",
    "\n",
    "path=glob.glob(\"D:/collision/collision_dataset/testing/DSCN2571/images/*.jpg\")\n",
    "\n",
    "images=[]\n",
    "\n",
    "for imagepath in glob.glob(\"*.jpg\"):\n",
    "        img=cv2.imread(str(imagepath))\n",
    "        img=cv2.cvtColor(img,cv2.COLOR_BGR2GRAY)                         \n",
    "        img=cv2.resize(img,(200,200))\n",
    "        images.append(img)\n",
    "print(images)"
   ]
  },
  {
   "cell_type": "code",
   "execution_count": 11,
   "id": "203c12cf",
   "metadata": {},
   "outputs": [],
   "source": [
    "import glob\n",
    "import cv2 as cv\n",
    "\n",
    "path = glob.glob(\"D:/collision/collision_dataset/testing/DSCN2571/images/*.jpg\")\n",
    "cv_img = []\n",
    "for img in path:\n",
    "    n = cv.imread(img)\n",
    "    cv_img.append(n)"
   ]
  },
  {
   "cell_type": "code",
   "execution_count": 12,
   "id": "854ce9ba",
   "metadata": {},
   "outputs": [],
   "source": [
    "import glob\n",
    "import cv2\n",
    "\n",
    "images = [cv2.imread(file) for file in glob.glob(\"D:/collision/collision_dataset/testing/DSCN2571/images/*.jpg\")]"
   ]
  },
  {
   "cell_type": "code",
   "execution_count": 14,
   "id": "40094cdc",
   "metadata": {},
   "outputs": [],
   "source": [
    "from os import listdir\n",
    "from os.path import isfile, join\n",
    "import numpy\n",
    "import cv2\n",
    "\n",
    "mypath='D:/collision/collision_dataset/testing/DSCN2571/images/'\n",
    "onlyfiles = [ f for f in listdir(mypath) if isfile(join(mypath,f)) ]\n",
    "images = numpy.empty(len(onlyfiles), dtype=object)\n",
    "for n in range(0, len(onlyfiles)):\n",
    "    images[n] = cv2.imread( join(mypath,onlyfiles[n]) )"
   ]
  },
  {
   "cell_type": "code",
   "execution_count": 15,
   "id": "0ed65415",
   "metadata": {},
   "outputs": [],
   "source": [
    "import shutil\n",
    "import os\n",
    "    \n",
    "source_dir = 'D:/collision/collision_dataset/testing/DSCN2571/images/'\n",
    "target_dir = 'D:/collision/collision_dataset/testing/DSCN2571/Separate_images/'\n",
    "    \n",
    "file_names = os.listdir(source_dir)\n",
    "    \n",
    "for file_name in file_names:\n",
    "    shutil.move(os.path.join(source_dir, file_name), target_dir)"
   ]
  },
  {
   "cell_type": "code",
   "execution_count": 5,
   "id": "a404686b",
   "metadata": {},
   "outputs": [
    {
     "ename": "ValueError",
     "evalue": "The provided input folder \"input_folder\" does not exists. Your relative path cannot be found from the current working directory \"C:\\Users\\myneee101\".",
     "output_type": "error",
     "traceback": [
      "\u001b[1;31m---------------------------------------------------------------------------\u001b[0m",
      "\u001b[1;31mValueError\u001b[0m                                Traceback (most recent call last)",
      "\u001b[1;32m~\\AppData\\Local\\Temp/ipykernel_21440/28953786.py\u001b[0m in \u001b[0;36m<module>\u001b[1;34m\u001b[0m\n\u001b[0;32m      3\u001b[0m \u001b[1;31m# Split with a ratio.\u001b[0m\u001b[1;33m\u001b[0m\u001b[1;33m\u001b[0m\u001b[0m\n\u001b[0;32m      4\u001b[0m \u001b[1;31m# To only split into training and validation set, set a tuple to `ratio`, i.e, `(.8, .2)`.\u001b[0m\u001b[1;33m\u001b[0m\u001b[1;33m\u001b[0m\u001b[0m\n\u001b[1;32m----> 5\u001b[1;33m splitfolders.ratio(\"input_folder\", output=\"output\",\n\u001b[0m\u001b[0;32m      6\u001b[0m     seed=1337, ratio=(.8, .1, .1), group_prefix=None, move=False) # default values\n\u001b[0;32m      7\u001b[0m \u001b[1;33m\u001b[0m\u001b[0m\n",
      "\u001b[1;32m~\\anaconda3\\lib\\site-packages\\splitfolders\\split.py\u001b[0m in \u001b[0;36mratio\u001b[1;34m(input, output, seed, ratio, group_prefix, move)\u001b[0m\n\u001b[0;32m     79\u001b[0m         \u001b[1;32mraise\u001b[0m \u001b[0mValueError\u001b[0m\u001b[1;33m(\u001b[0m\u001b[1;34m\"`ratio` should\"\u001b[0m\u001b[1;33m)\u001b[0m\u001b[1;33m\u001b[0m\u001b[1;33m\u001b[0m\u001b[0m\n\u001b[0;32m     80\u001b[0m \u001b[1;33m\u001b[0m\u001b[0m\n\u001b[1;32m---> 81\u001b[1;33m     \u001b[0mcheck_input_format\u001b[0m\u001b[1;33m(\u001b[0m\u001b[0minput\u001b[0m\u001b[1;33m)\u001b[0m\u001b[1;33m\u001b[0m\u001b[1;33m\u001b[0m\u001b[0m\n\u001b[0m\u001b[0;32m     82\u001b[0m \u001b[1;33m\u001b[0m\u001b[0m\n\u001b[0;32m     83\u001b[0m     \u001b[1;32mif\u001b[0m \u001b[0muse_tqdm\u001b[0m\u001b[1;33m:\u001b[0m\u001b[1;33m\u001b[0m\u001b[1;33m\u001b[0m\u001b[0m\n",
      "\u001b[1;32m~\\anaconda3\\lib\\site-packages\\splitfolders\\split.py\u001b[0m in \u001b[0;36mcheck_input_format\u001b[1;34m(input)\u001b[0m\n\u001b[0;32m     54\u001b[0m         \u001b[1;32mif\u001b[0m \u001b[1;32mnot\u001b[0m \u001b[0mp_input\u001b[0m\u001b[1;33m.\u001b[0m\u001b[0mis_absolute\u001b[0m\u001b[1;33m(\u001b[0m\u001b[1;33m)\u001b[0m\u001b[1;33m:\u001b[0m\u001b[1;33m\u001b[0m\u001b[1;33m\u001b[0m\u001b[0m\n\u001b[0;32m     55\u001b[0m             \u001b[0merr_msg\u001b[0m \u001b[1;33m+=\u001b[0m \u001b[1;34mf' Your relative path cannot be found from the current working directory \"{Path.cwd()}\".'\u001b[0m\u001b[1;33m\u001b[0m\u001b[1;33m\u001b[0m\u001b[0m\n\u001b[1;32m---> 56\u001b[1;33m         \u001b[1;32mraise\u001b[0m \u001b[0mValueError\u001b[0m\u001b[1;33m(\u001b[0m\u001b[0merr_msg\u001b[0m\u001b[1;33m)\u001b[0m\u001b[1;33m\u001b[0m\u001b[1;33m\u001b[0m\u001b[0m\n\u001b[0m\u001b[0;32m     57\u001b[0m \u001b[1;33m\u001b[0m\u001b[0m\n\u001b[0;32m     58\u001b[0m     \u001b[1;32mif\u001b[0m \u001b[1;32mnot\u001b[0m \u001b[0mp_input\u001b[0m\u001b[1;33m.\u001b[0m\u001b[0mis_dir\u001b[0m\u001b[1;33m(\u001b[0m\u001b[1;33m)\u001b[0m\u001b[1;33m:\u001b[0m\u001b[1;33m\u001b[0m\u001b[1;33m\u001b[0m\u001b[0m\n",
      "\u001b[1;31mValueError\u001b[0m: The provided input folder \"input_folder\" does not exists. Your relative path cannot be found from the current working directory \"C:\\Users\\myneee101\"."
     ]
    }
   ],
   "source": [
    "import splitfolders\n",
    "\n",
    "# Split with a ratio.\n",
    "# To only split into training and validation set, set a tuple to `ratio`, i.e, `(.8, .2)`.\n",
    "splitfolders.ratio(\"input_folder\", output=\"output\",\n",
    "    seed=1337, ratio=(.8, .1, .1), group_prefix=None, move=False) # default values\n",
    "\n",
    "# Split val/test with a fixed number of items, e.g. `(100, 100)`, for each set.\n",
    "# To only split into training and validation set, use a single number to `fixed`, i.e., `10`.\n",
    "# Set 3 values, e.g. `(300, 100, 100)`, to limit the number of training values.\n",
    "splitfolders.fixed(\"input_folder\", output=\"output\",\n",
    "    seed=1337, fixed=(100, 100), oversample=False, group_prefix=None, move=False) # default values"
   ]
  },
  {
   "cell_type": "code",
   "execution_count": 17,
   "id": "2622802a",
   "metadata": {},
   "outputs": [
    {
     "name": "stdout",
     "output_type": "stream",
     "text": [
      "Collecting split-folders\n",
      "  Downloading split_folders-0.5.1-py3-none-any.whl (8.4 kB)\n",
      "Installing collected packages: split-folders\n",
      "Successfully installed split-folders-0.5.1\n",
      "\n",
      "[notice] A new release of pip available: 22.2.2 -> 22.3.1\n",
      "[notice] To update, run: python.exe -m pip install --upgrade pip\n",
      "Note: you may need to restart the kernel to use updated packages.\n"
     ]
    }
   ],
   "source": [
    "pip install split-folders"
   ]
  },
  {
   "cell_type": "code",
   "execution_count": null,
   "id": "a0523e83",
   "metadata": {},
   "outputs": [],
   "source": []
  }
 ],
 "metadata": {
  "kernelspec": {
   "display_name": "Python 3 (ipykernel)",
   "language": "python",
   "name": "python3"
  },
  "language_info": {
   "codemirror_mode": {
    "name": "ipython",
    "version": 3
   },
   "file_extension": ".py",
   "mimetype": "text/x-python",
   "name": "python",
   "nbconvert_exporter": "python",
   "pygments_lexer": "ipython3",
   "version": "3.9.7"
  }
 },
 "nbformat": 4,
 "nbformat_minor": 5
}
