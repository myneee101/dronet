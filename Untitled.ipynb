{
 "cells": [
  {
   "cell_type": "code",
   "execution_count": 5,
   "id": "15cb8ac6",
   "metadata": {},
   "outputs": [
    {
     "ename": "SyntaxError",
     "evalue": "Missing parentheses in call to 'print'. Did you mean print(' ',training_data[1][val] #class labels)? (Temp/ipykernel_49140/2017894186.py, line 36)",
     "output_type": "error",
     "traceback": [
      "\u001b[1;36m  File \u001b[1;32m\"C:\\Users\\myneee101\\AppData\\Local\\Temp/ipykernel_49140/2017894186.py\"\u001b[1;36m, line \u001b[1;32m36\u001b[0m\n\u001b[1;33m    print ' ',training_data[1][val] #class labels\u001b[0m\n\u001b[1;37m          ^\u001b[0m\n\u001b[1;31mSyntaxError\u001b[0m\u001b[1;31m:\u001b[0m Missing parentheses in call to 'print'. Did you mean print(' ',training_data[1][val] #class labels)?\n"
     ]
    }
   ],
   "source": [
    "import scipy.io\n",
    "import pickle\n",
    "import gzip\n",
    "import numpy\n",
    "numpy.set_printoptions(threshold=numpy.nan)\n",
    "#mat=scipy.io.loadmat('traffic_patches.mat')\n",
    "#print mat\n",
    "'''f=open('mattext1.txt','w+')\n",
    "pickle.dump(mat,f)\n",
    "f.close()\n",
    "'''\n",
    "dataset='mnist.pkl.gz'\n",
    "#unpickling..\n",
    "\n",
    "f = gzip.open(dataset, 'rb')\n",
    "training_data, validation_data, test_data = pickle.load(f)\n",
    "\n",
    "\n",
    "#print 'we will print'\n",
    "#print training_data[0], ' ', training_data[1]\n",
    "\n",
    "\n",
    "g=open(\"sup_data2.txt\",\"w\")\n",
    "for line in training_data[0]:\n",
    "    #print type(line) --->    <type 'numpy.ndarray'>\n",
    "\n",
    "    x=map(str,line.tolist())# makes space separated string frm a list of numbers\n",
    "    g.write(' '.join(x))\n",
    "\n",
    "#The above prints serially all the 784 pixel values of all the 60,000 images in mnist.\n",
    "\n",
    "\n",
    "for val in training_data[1]:\n",
    "    #y=map(str,val.tolist())\n",
    "    #g.write(' '.join(y))\n",
    "    print ' ',training_data[1][val] #class labels\n",
    "\n",
    "g.close\n",
    "\n",
    "#print('we printed')\n",
    "#print training_data\n",
    "\n",
    "#training_data[0]>file1.txt\n",
    "\n",
    "f.close()"
   ]
  },
  {
   "cell_type": "code",
   "execution_count": null,
   "id": "9fefedb8",
   "metadata": {},
   "outputs": [],
   "source": []
  },
  {
   "cell_type": "code",
   "execution_count": null,
   "id": "883fb59a",
   "metadata": {},
   "outputs": [],
   "source": []
  }
 ],
 "metadata": {
  "kernelspec": {
   "display_name": "Python 3 (ipykernel)",
   "language": "python",
   "name": "python3"
  },
  "language_info": {
   "codemirror_mode": {
    "name": "ipython",
    "version": 3
   },
   "file_extension": ".py",
   "mimetype": "text/x-python",
   "name": "python",
   "nbconvert_exporter": "python",
   "pygments_lexer": "ipython3",
   "version": "3.9.7"
  }
 },
 "nbformat": 4,
 "nbformat_minor": 5
}
